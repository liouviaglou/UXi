{
 "cells": [
  {
   "cell_type": "code",
   "execution_count": 1,
   "metadata": {},
   "outputs": [],
   "source": [
    "import os\n",
    "import sys"
   ]
  },
  {
   "cell_type": "code",
   "execution_count": 2,
   "metadata": {},
   "outputs": [],
   "source": [
    "import pandas as pd\n",
    "import glob\n",
    "import matplotlib\n",
    "import numpy as np\n",
    "import matplotlib.pyplot as plt\n",
    "import matplotlib.backends.backend_pdf\n",
    "from matplotlib.backends.backend_pdf import PdfPages\n",
    "\n",
    "%matplotlib inline \n",
    "\n",
    "\n",
    "# Seaborn visualization library\n",
    "import seaborn as sns\n",
    "\n",
    "from sklearn.preprocessing import StandardScaler\n",
    "from sklearn.datasets.samples_generator import make_blobs\n",
    "from sklearn.cluster import KMeans\n",
    "\n",
    "from sklearn.feature_selection import RFE\n",
    "from sklearn.linear_model import LogisticRegression\n",
    "\n",
    "\n",
    "from sklearn.feature_selection import SelectFromModel\n",
    "from sklearn.linear_model import LassoCV\n",
    "from sklearn.ensemble import RandomForestClassifier\n",
    "\n",
    "import scipy\n",
    "\n",
    "import seaborn as seabornInstance \n",
    "from sklearn.model_selection import train_test_split \n",
    "from sklearn.linear_model import LinearRegression\n",
    "\n",
    "from sklearn.preprocessing import PolynomialFeatures\n",
    "from sklearn import metrics\n",
    "\n",
    "import statsmodels.api as sm\n",
    "from scipy import stats\n",
    "\n",
    "import lxml\n",
    "from io import StringIO "
   ]
  },
  {
   "cell_type": "code",
   "execution_count": 3,
   "metadata": {},
   "outputs": [],
   "source": [
    "pd.set_option('display.max_columns', 1000)\n",
    "pd.options.display.max_rows=1000\n",
    "\n",
    "pd.set_option('display.width', 1000)\n",
    "pd.set_option('display.max_colwidth', 1000)\n",
    "\n",
    "plt.rcParams.update({'figure.max_open_warning': 0})\n"
   ]
  },
  {
   "cell_type": "code",
   "execution_count": 4,
   "metadata": {},
   "outputs": [],
   "source": [
    "module_path = os.path.abspath(os.path.join('..'))\n",
    "if module_path not in sys.path:\n",
    "    sys.path.append(module_path)\n",
    "\n",
    "# import scripts.supervised_prep\n",
    "from scripts.supervised_prep import test_print\n",
    "from scripts.supervised_prep import dataprep_X\n",
    "from scripts.supervised_prep import dataprep_Y\n",
    "from scripts.supervised_prep import results_summary_to_dataframe"
   ]
  },
  {
   "cell_type": "code",
   "execution_count": 5,
   "metadata": {},
   "outputs": [
    {
     "name": "stdout",
     "output_type": "stream",
     "text": [
      "1\n"
     ]
    }
   ],
   "source": [
    "test_print(2)"
   ]
  },
  {
   "cell_type": "markdown",
   "metadata": {},
   "source": [
    "# Load Data"
   ]
  },
  {
   "cell_type": "code",
   "execution_count": 6,
   "metadata": {},
   "outputs": [
    {
     "name": "stderr",
     "output_type": "stream",
     "text": [
      "/usr/local/lib/python3.7/site-packages/IPython/core/interactiveshell.py:3057: DtypeWarning: Columns (1218) have mixed types. Specify dtype option on import or set low_memory=False.\n",
      "  interactivity=interactivity, compiler=compiler, result=result)\n"
     ]
    }
   ],
   "source": [
    "inroot = r\"../data/input/07 Samsung UX Index - Web App Implementation/\"\n",
    "fname_data = inroot + r\"Samsung UX Index Survey_Data.csv\"\n",
    "df_data = pd.read_csv(fname_data)\n",
    "fname_vaxmap = inroot + r\"Samsung UX Index Survey_Datamap.xlsx\"\n",
    "df_varmap = pd.read_excel(fname_vaxmap, header=1, sheet_name=0)\n",
    "df_valmap = pd.read_excel(fname_vaxmap, header=1, sheet_name=1)\n",
    "\n"
   ]
  },
  {
   "cell_type": "code",
   "execution_count": 27,
   "metadata": {},
   "outputs": [
    {
     "data": {
      "text/html": [
       "<div>\n",
       "<style scoped>\n",
       "    .dataframe tbody tr th:only-of-type {\n",
       "        vertical-align: middle;\n",
       "    }\n",
       "\n",
       "    .dataframe tbody tr th {\n",
       "        vertical-align: top;\n",
       "    }\n",
       "\n",
       "    .dataframe thead th {\n",
       "        text-align: right;\n",
       "    }\n",
       "</style>\n",
       "<table border=\"1\" class=\"dataframe\">\n",
       "  <thead>\n",
       "    <tr style=\"text-align: right;\">\n",
       "      <th></th>\n",
       "      <th>qxbrandxtrustxdrivers</th>\n",
       "      <th>Tag</th>\n",
       "      <th>quality_indicator</th>\n",
       "      <th>qxoverallxqualityxindicators</th>\n",
       "      <th>driver_category</th>\n",
       "    </tr>\n",
       "  </thead>\n",
       "  <tbody>\n",
       "    <tr>\n",
       "      <th>0</th>\n",
       "      <td>qxbrandxtrustxdrivers_1</td>\n",
       "      <td>Transparent</td>\n",
       "      <td>Trust</td>\n",
       "      <td>qxoverallxqualityxindicators_1</td>\n",
       "      <td>Brand-Specific</td>\n",
       "    </tr>\n",
       "    <tr>\n",
       "      <th>1</th>\n",
       "      <td>qxbrandxtrustxdrivers_2</td>\n",
       "      <td>Ethical</td>\n",
       "      <td>Trust</td>\n",
       "      <td>qxoverallxqualityxindicators_1</td>\n",
       "      <td>Brand-Specific</td>\n",
       "    </tr>\n",
       "    <tr>\n",
       "      <th>2</th>\n",
       "      <td>qxbrandxtrustxdrivers_3</td>\n",
       "      <td>Respectful</td>\n",
       "      <td>Trust</td>\n",
       "      <td>qxoverallxqualityxindicators_1</td>\n",
       "      <td>Brand-Specific</td>\n",
       "    </tr>\n",
       "    <tr>\n",
       "      <th>3</th>\n",
       "      <td>qxbrandxtrustxdrivers_4</td>\n",
       "      <td>Integrity / honest</td>\n",
       "      <td>Trust</td>\n",
       "      <td>qxoverallxqualityxindicators_1</td>\n",
       "      <td>Brand-Specific</td>\n",
       "    </tr>\n",
       "    <tr>\n",
       "      <th>4</th>\n",
       "      <td>qxdrivers_1</td>\n",
       "      <td>Safe / secure</td>\n",
       "      <td>Trust</td>\n",
       "      <td>qxoverallxqualityxindicators_1</td>\n",
       "      <td>Core UX Principles</td>\n",
       "    </tr>\n",
       "  </tbody>\n",
       "</table>\n",
       "</div>"
      ],
      "text/plain": [
       "     qxbrandxtrustxdrivers                 Tag quality_indicator    qxoverallxqualityxindicators     driver_category\n",
       "0  qxbrandxtrustxdrivers_1         Transparent             Trust  qxoverallxqualityxindicators_1      Brand-Specific\n",
       "1  qxbrandxtrustxdrivers_2             Ethical             Trust  qxoverallxqualityxindicators_1      Brand-Specific\n",
       "2  qxbrandxtrustxdrivers_3          Respectful             Trust  qxoverallxqualityxindicators_1      Brand-Specific\n",
       "3  qxbrandxtrustxdrivers_4  Integrity / honest             Trust  qxoverallxqualityxindicators_1      Brand-Specific\n",
       "4              qxdrivers_1       Safe / secure             Trust  qxoverallxqualityxindicators_1  Core UX Principles"
      ]
     },
     "execution_count": 27,
     "metadata": {},
     "output_type": "execute_result"
    }
   ],
   "source": [
    "df_addmap1 = pd.read_csv(inroot+\"../additional_mapping/qxbrandxtrustxdrivers_quaitydrivers.csv\")\n",
    "df_addmap1.head()"
   ]
  },
  {
   "cell_type": "code",
   "execution_count": 43,
   "metadata": {},
   "outputs": [
    {
     "data": {
      "text/html": [
       "<div>\n",
       "<style scoped>\n",
       "    .dataframe tbody tr th:only-of-type {\n",
       "        vertical-align: middle;\n",
       "    }\n",
       "\n",
       "    .dataframe tbody tr th {\n",
       "        vertical-align: top;\n",
       "    }\n",
       "\n",
       "    .dataframe thead th {\n",
       "        text-align: right;\n",
       "    }\n",
       "</style>\n",
       "<table border=\"1\" class=\"dataframe\">\n",
       "  <thead>\n",
       "    <tr style=\"text-align: right;\">\n",
       "      <th></th>\n",
       "      <th>Variable</th>\n",
       "      <th>Label</th>\n",
       "      <th>Short Label</th>\n",
       "      <th>Type</th>\n",
       "      <th>Minimum</th>\n",
       "      <th>Maximum</th>\n",
       "      <th>Description</th>\n",
       "    </tr>\n",
       "  </thead>\n",
       "  <tbody>\n",
       "    <tr>\n",
       "      <th>1223</th>\n",
       "      <td>d7_4</td>\n",
       "      <td>D7. Asian or Asian American - What is your race?</td>\n",
       "      <td>NaN</td>\n",
       "      <td>integer</td>\n",
       "      <td>0</td>\n",
       "      <td>1</td>\n",
       "      <td>NaN</td>\n",
       "    </tr>\n",
       "  </tbody>\n",
       "</table>\n",
       "</div>"
      ],
      "text/plain": [
       "     Variable                                             Label Short Label     Type Minimum Maximum Description\n",
       "1223     d7_4  D7. Asian or Asian American - What is your race?         NaN  integer       0       1         NaN"
      ]
     },
     "execution_count": 43,
     "metadata": {},
     "output_type": "execute_result"
    }
   ],
   "source": [
    "df_varmap[df_varmap.Variable.str.contains('d7_4')]"
   ]
  },
  {
   "cell_type": "code",
   "execution_count": 84,
   "metadata": {},
   "outputs": [],
   "source": [
    "# SuperLabels = ['drivers', 'brandlovetrust', 'loyaltymetrics', 'overallquality',\n",
    "#           'usagemetrics', 'activitiesximportance','activitiexsquality',\n",
    "#           'activitiesxsatisfaction','activitiesxdrivers',\n",
    "#            'upgradetrans','ECGexpect']\n",
    "\n",
    "# SuperLabels = [x+\"xallATTR\" for x in SuperLabels]\n",
    "\n",
    "# SuperList = [['qxdrivers_'+str(i+1) for i in range(34)],\n",
    "#              [ x for x in df_data.columns if 'qxbrandx' in x ],\n",
    "#             ['qxadvocacy01_1',    'qxadvocacy02_1',    'qxretention_1',    'qxenrichment_1'],\n",
    "#             ['qxoverallxqualityxindicators_'+str(i+1) for i in range(4)],\n",
    "#             [ x for x in df_data.columns if 'qxactivitiesximportance' in x ],\n",
    "#             [ x for x in df_data.columns if 'qxactivitiesxqualityxindicators' in x ],\n",
    "#             [ x for x in df_data.columns if 'qxactivitiesxsatisfaction' in x ],\n",
    "#             [ x for x in df_data.columns if 'qxactivitiesxdrivers' in x ] ,\n",
    "#          ['qxupgrade01_1', 'qxupgrade01_2', 'qxupgrade01_3', 'qxupgrade01_4', \n",
    "#           'qxupgrade01_5', 'qxupgrade01_6', 'qxupgrade01_7', 'qxupgrade01_8', \n",
    "#           'qxtransition_1'],\n",
    "# [ 'att01_1','att01_2','att01_3','att02_1','att02_2','soc03','soc04_1',\n",
    "#           'soc04_2','soc04_3','ret06_1','qxexpectations' ]\n",
    "#             ]\n",
    "\n",
    "# varlist_Z  = ['d1',    'd3_1',    'd3_2',    'd3_3',    'd3_4',    'd4', 'd6',    'd7_1',    \n",
    "#             'd7_2',    'd7_3',    'd7_4',    'd7_5',    'd7_97',    'd7_99','qxcurrentxos',\n",
    "#               'qxactivitiesxrecency_1', 'qxactivitiesxrecency_2', 'qxactivitiesxrecency_3', \n",
    "#               'qxactivitiesxrecency_4', 'qxactivitiesxrecency_5', 'qxactivitiesxrecency_6', \n",
    "#               'qxactivitiesxrecency_7', 'qxactivitiesxrecency_8', 'qxactivitiesxrecency_9', \n",
    "#               'qxactivitiesxrecency_10', 'qxactivitiesxrecency_11', 'qxactivitiesxrecency_12', \n",
    "#               'qxactivitiesxrecency_13', 'qxactivitiesxrecency_14', 'qxactivitiesxrecency_15', \n",
    "#               'qxactivitiesxrecency_16', 'qxactivitiesxrecency_17', 'qxactivitiesxrecency_18', \n",
    "#               'qxactivitiesxrecency_19', 'qxactivitiesxrecency_20', 'qxactivitiesxrecency_21', \n",
    "#               'qxactivitiesxrecency_22', 'qxactivitiesxrecency_23', 'qxactivitiesxrecency_24'\n",
    "#               ]\n",
    "\n",
    "ohdict = {'qxcurrentxos' :  None,\n",
    "              'd4' :  None, \n",
    "              'd1' : None, \n",
    "              'hidagemodels' : None,\n",
    "            'qxcurrentxmodel': None,\n",
    "             'hbrand' : None,\n",
    "             'hmodelquota' : None,\n",
    "             'hmodelquota_reordered' : None,\n",
    "             'Empowered_Customer_Groups' : None}\n",
    "                 \n",
    "\n",
    "var_y = 'att01_1'\n",
    "# varlist_X  = ['d1',    'd3_1', 'd3_2',    'd3_3',    'd3_4',    'd4', 'd6',    'd7_1',    \n",
    "#             'd7_2',    'd7_3',    'd7_4',    'd7_5',    'd7_97',    'd7_99', ]\n",
    "varlist_X = ['qxactivitiesxrecency_1', 'qxactivitiesxrecency_2', 'qxactivitiesxrecency_3', \n",
    "              'qxactivitiesxrecency_4', 'qxactivitiesxrecency_5', 'qxactivitiesxrecency_6', \n",
    "              'qxactivitiesxrecency_7', 'qxactivitiesxrecency_8', 'qxactivitiesxrecency_9', \n",
    "              'qxactivitiesxrecency_10', 'qxactivitiesxrecency_11', 'qxactivitiesxrecency_12', \n",
    "              'qxactivitiesxrecency_13', 'qxactivitiesxrecency_14', 'qxactivitiesxrecency_15', \n",
    "              'qxactivitiesxrecency_16', 'qxactivitiesxrecency_17', 'qxactivitiesxrecency_18', \n",
    "              'qxactivitiesxrecency_19', 'qxactivitiesxrecency_20', 'qxactivitiesxrecency_21', \n",
    "              'qxactivitiesxrecency_22', 'qxactivitiesxrecency_23', 'qxactivitiesxrecency_24'\n",
    "              ]"
   ]
  },
  {
   "cell_type": "markdown",
   "metadata": {},
   "source": [
    "# Prep Data"
   ]
  },
  {
   "cell_type": "code",
   "execution_count": 85,
   "metadata": {},
   "outputs": [],
   "source": [
    "# X = dataprep_X (df_data, varlist=varlist, bystring='elbow')\n",
    "\n",
    "X, df_varmap = dataprep_X (df_data, df_varmap, df_valmap, varlist_X, ohdict=ohdict)\n",
    "\n",
    "Y = dataprep_Y (df_data, var_y)\n"
   ]
  },
  {
   "cell_type": "code",
   "execution_count": 86,
   "metadata": {},
   "outputs": [],
   "source": [
    "# X = X.values#.reshape(-1,1)\n",
    "# Y = Y.values#.reshape(-1,1)"
   ]
  },
  {
   "cell_type": "code",
   "execution_count": 87,
   "metadata": {},
   "outputs": [],
   "source": [
    "X_train, X_test, y_train, y_test = train_test_split(X, Y, test_size=0.2, random_state=0)"
   ]
  },
  {
   "cell_type": "markdown",
   "metadata": {},
   "source": [
    "# Linear Regression"
   ]
  },
  {
   "cell_type": "code",
   "execution_count": 88,
   "metadata": {},
   "outputs": [
    {
     "data": {
      "text/plain": [
       "LinearRegression(copy_X=True, fit_intercept=True, n_jobs=None, normalize=False)"
      ]
     },
     "execution_count": 88,
     "metadata": {},
     "output_type": "execute_result"
    }
   ],
   "source": [
    "regressor = LinearRegression()  \n",
    "regressor.fit(X_train, y_train)"
   ]
  },
  {
   "cell_type": "code",
   "execution_count": 89,
   "metadata": {},
   "outputs": [
    {
     "data": {
      "text/plain": [
       "Index(['qxactivitiesxrecency_1', 'qxactivitiesxrecency_2', 'qxactivitiesxrecency_3', 'qxactivitiesxrecency_4', 'qxactivitiesxrecency_5', 'qxactivitiesxrecency_6', 'qxactivitiesxrecency_7', 'qxactivitiesxrecency_8', 'qxactivitiesxrecency_9', 'qxactivitiesxrecency_10', 'qxactivitiesxrecency_11', 'qxactivitiesxrecency_12', 'qxactivitiesxrecency_13', 'qxactivitiesxrecency_14', 'qxactivitiesxrecency_15', 'qxactivitiesxrecency_16', 'qxactivitiesxrecency_17', 'qxactivitiesxrecency_18', 'qxactivitiesxrecency_19', 'qxactivitiesxrecency_20', 'qxactivitiesxrecency_21', 'qxactivitiesxrecency_22', 'qxactivitiesxrecency_23', 'qxactivitiesxrecency_24'], dtype='object')"
      ]
     },
     "execution_count": 89,
     "metadata": {},
     "output_type": "execute_result"
    }
   ],
   "source": [
    "X.columns"
   ]
  },
  {
   "cell_type": "code",
   "execution_count": 90,
   "metadata": {},
   "outputs": [
    {
     "name": "stderr",
     "output_type": "stream",
     "text": [
      "/usr/local/lib/python3.7/site-packages/numpy/core/fromnumeric.py:2389: FutureWarning: Method .ptp is deprecated and will be removed in a future version. Use numpy.ptp instead.\n",
      "  return ptp(axis=axis, out=out, **kwargs)\n"
     ]
    },
    {
     "data": {
      "text/html": [
       "<div>\n",
       "<style scoped>\n",
       "    .dataframe tbody tr th:only-of-type {\n",
       "        vertical-align: middle;\n",
       "    }\n",
       "\n",
       "    .dataframe tbody tr th {\n",
       "        vertical-align: top;\n",
       "    }\n",
       "\n",
       "    .dataframe thead th {\n",
       "        text-align: right;\n",
       "    }\n",
       "</style>\n",
       "<table border=\"1\" class=\"dataframe\">\n",
       "  <thead>\n",
       "    <tr style=\"text-align: right;\">\n",
       "      <th></th>\n",
       "      <th>coeff</th>\n",
       "      <th>pvals</th>\n",
       "      <th>tvals</th>\n",
       "      <th>conf_lower</th>\n",
       "      <th>conf_higher</th>\n",
       "    </tr>\n",
       "  </thead>\n",
       "  <tbody>\n",
       "    <tr>\n",
       "      <th>const</th>\n",
       "      <td>0.616510</td>\n",
       "      <td>2.190591e-22</td>\n",
       "      <td>9.823592</td>\n",
       "      <td>0.493448</td>\n",
       "      <td>0.739571</td>\n",
       "    </tr>\n",
       "    <tr>\n",
       "      <th>qxactivitiesxrecency_1</th>\n",
       "      <td>-0.062958</td>\n",
       "      <td>2.384081e-04</td>\n",
       "      <td>-3.679575</td>\n",
       "      <td>-0.096509</td>\n",
       "      <td>-0.029407</td>\n",
       "    </tr>\n",
       "    <tr>\n",
       "      <th>qxactivitiesxrecency_2</th>\n",
       "      <td>0.094313</td>\n",
       "      <td>2.306757e-06</td>\n",
       "      <td>4.735212</td>\n",
       "      <td>0.055258</td>\n",
       "      <td>0.133369</td>\n",
       "    </tr>\n",
       "    <tr>\n",
       "      <th>qxactivitiesxrecency_3</th>\n",
       "      <td>-0.049300</td>\n",
       "      <td>1.332428e-06</td>\n",
       "      <td>-4.846307</td>\n",
       "      <td>-0.069248</td>\n",
       "      <td>-0.029353</td>\n",
       "    </tr>\n",
       "    <tr>\n",
       "      <th>qxactivitiesxrecency_4</th>\n",
       "      <td>-0.005865</td>\n",
       "      <td>6.281431e-01</td>\n",
       "      <td>-0.484400</td>\n",
       "      <td>-0.029606</td>\n",
       "      <td>0.017877</td>\n",
       "    </tr>\n",
       "  </tbody>\n",
       "</table>\n",
       "</div>"
      ],
      "text/plain": [
       "                           coeff         pvals     tvals  conf_lower  conf_higher\n",
       "const                   0.616510  2.190591e-22  9.823592    0.493448     0.739571\n",
       "qxactivitiesxrecency_1 -0.062958  2.384081e-04 -3.679575   -0.096509    -0.029407\n",
       "qxactivitiesxrecency_2  0.094313  2.306757e-06  4.735212    0.055258     0.133369\n",
       "qxactivitiesxrecency_3 -0.049300  1.332428e-06 -4.846307   -0.069248    -0.029353\n",
       "qxactivitiesxrecency_4 -0.005865  6.281431e-01 -0.484400   -0.029606     0.017877"
      ]
     },
     "execution_count": 90,
     "metadata": {},
     "output_type": "execute_result"
    }
   ],
   "source": [
    "X_train2 = sm.add_constant(X_train)\n",
    "est = sm.OLS(y_train, X_train2)\n",
    "est2 = est.fit()\n",
    "\n",
    "\n",
    "df_est = results_summary_to_dataframe(est2)\n",
    "df_est.head()"
   ]
  },
  {
   "cell_type": "code",
   "execution_count": 91,
   "metadata": {},
   "outputs": [
    {
     "data": {
      "text/html": [
       "<div>\n",
       "<style scoped>\n",
       "    .dataframe tbody tr th:only-of-type {\n",
       "        vertical-align: middle;\n",
       "    }\n",
       "\n",
       "    .dataframe tbody tr th {\n",
       "        vertical-align: top;\n",
       "    }\n",
       "\n",
       "    .dataframe thead th {\n",
       "        text-align: right;\n",
       "    }\n",
       "</style>\n",
       "<table border=\"1\" class=\"dataframe\">\n",
       "  <thead>\n",
       "    <tr style=\"text-align: right;\">\n",
       "      <th></th>\n",
       "      <th>coeff</th>\n",
       "      <th>pvals</th>\n",
       "      <th>tvals</th>\n",
       "      <th>conf_lower</th>\n",
       "      <th>conf_higher</th>\n",
       "    </tr>\n",
       "  </thead>\n",
       "  <tbody>\n",
       "    <tr>\n",
       "      <th>qxactivitiesxrecency_16</th>\n",
       "      <td>-0.08315</td>\n",
       "      <td>0.00000</td>\n",
       "      <td>-5.07591</td>\n",
       "      <td>-0.11527</td>\n",
       "      <td>-0.05103</td>\n",
       "    </tr>\n",
       "    <tr>\n",
       "      <th>qxactivitiesxrecency_1</th>\n",
       "      <td>-0.06296</td>\n",
       "      <td>0.00024</td>\n",
       "      <td>-3.67957</td>\n",
       "      <td>-0.09651</td>\n",
       "      <td>-0.02941</td>\n",
       "    </tr>\n",
       "    <tr>\n",
       "      <th>qxactivitiesxrecency_9</th>\n",
       "      <td>-0.05315</td>\n",
       "      <td>0.00059</td>\n",
       "      <td>-3.43830</td>\n",
       "      <td>-0.08347</td>\n",
       "      <td>-0.02284</td>\n",
       "    </tr>\n",
       "    <tr>\n",
       "      <th>qxactivitiesxrecency_6</th>\n",
       "      <td>-0.05117</td>\n",
       "      <td>0.00000</td>\n",
       "      <td>-6.22805</td>\n",
       "      <td>-0.06728</td>\n",
       "      <td>-0.03506</td>\n",
       "    </tr>\n",
       "    <tr>\n",
       "      <th>qxactivitiesxrecency_3</th>\n",
       "      <td>-0.04930</td>\n",
       "      <td>0.00000</td>\n",
       "      <td>-4.84631</td>\n",
       "      <td>-0.06925</td>\n",
       "      <td>-0.02935</td>\n",
       "    </tr>\n",
       "    <tr>\n",
       "      <th>qxactivitiesxrecency_23</th>\n",
       "      <td>-0.04723</td>\n",
       "      <td>0.00000</td>\n",
       "      <td>-5.37781</td>\n",
       "      <td>-0.06445</td>\n",
       "      <td>-0.03001</td>\n",
       "    </tr>\n",
       "    <tr>\n",
       "      <th>qxactivitiesxrecency_17</th>\n",
       "      <td>-0.03752</td>\n",
       "      <td>0.03077</td>\n",
       "      <td>-2.16120</td>\n",
       "      <td>-0.07156</td>\n",
       "      <td>-0.00348</td>\n",
       "    </tr>\n",
       "    <tr>\n",
       "      <th>qxactivitiesxrecency_22</th>\n",
       "      <td>0.02913</td>\n",
       "      <td>0.00238</td>\n",
       "      <td>3.04119</td>\n",
       "      <td>0.01035</td>\n",
       "      <td>0.04791</td>\n",
       "    </tr>\n",
       "    <tr>\n",
       "      <th>qxactivitiesxrecency_19</th>\n",
       "      <td>0.06202</td>\n",
       "      <td>0.00003</td>\n",
       "      <td>4.14552</td>\n",
       "      <td>0.03268</td>\n",
       "      <td>0.09135</td>\n",
       "    </tr>\n",
       "    <tr>\n",
       "      <th>qxactivitiesxrecency_2</th>\n",
       "      <td>0.09431</td>\n",
       "      <td>0.00000</td>\n",
       "      <td>4.73521</td>\n",
       "      <td>0.05526</td>\n",
       "      <td>0.13337</td>\n",
       "    </tr>\n",
       "    <tr>\n",
       "      <th>qxactivitiesxrecency_14</th>\n",
       "      <td>0.09618</td>\n",
       "      <td>0.00015</td>\n",
       "      <td>3.79413</td>\n",
       "      <td>0.04647</td>\n",
       "      <td>0.14589</td>\n",
       "    </tr>\n",
       "    <tr>\n",
       "      <th>const</th>\n",
       "      <td>0.61651</td>\n",
       "      <td>0.00000</td>\n",
       "      <td>9.82359</td>\n",
       "      <td>0.49345</td>\n",
       "      <td>0.73957</td>\n",
       "    </tr>\n",
       "  </tbody>\n",
       "</table>\n",
       "</div>"
      ],
      "text/plain": [
       "                           coeff    pvals    tvals  conf_lower  conf_higher\n",
       "qxactivitiesxrecency_16 -0.08315  0.00000 -5.07591    -0.11527     -0.05103\n",
       "qxactivitiesxrecency_1  -0.06296  0.00024 -3.67957    -0.09651     -0.02941\n",
       "qxactivitiesxrecency_9  -0.05315  0.00059 -3.43830    -0.08347     -0.02284\n",
       "qxactivitiesxrecency_6  -0.05117  0.00000 -6.22805    -0.06728     -0.03506\n",
       "qxactivitiesxrecency_3  -0.04930  0.00000 -4.84631    -0.06925     -0.02935\n",
       "qxactivitiesxrecency_23 -0.04723  0.00000 -5.37781    -0.06445     -0.03001\n",
       "qxactivitiesxrecency_17 -0.03752  0.03077 -2.16120    -0.07156     -0.00348\n",
       "qxactivitiesxrecency_22  0.02913  0.00238  3.04119     0.01035      0.04791\n",
       "qxactivitiesxrecency_19  0.06202  0.00003  4.14552     0.03268      0.09135\n",
       "qxactivitiesxrecency_2   0.09431  0.00000  4.73521     0.05526      0.13337\n",
       "qxactivitiesxrecency_14  0.09618  0.00015  3.79413     0.04647      0.14589\n",
       "const                    0.61651  0.00000  9.82359     0.49345      0.73957"
      ]
     },
     "execution_count": 91,
     "metadata": {},
     "output_type": "execute_result"
    }
   ],
   "source": [
    "df_est[(df_est.pvals<.05)].sort_values('coeff').round(5)"
   ]
  },
  {
   "cell_type": "raw",
   "metadata": {},
   "source": [
    "The name of the term in the model\n",
    "coef\t   The estimated value of the coefficient\n",
    "std err\t   The basic standard error of the estimate of the coefficient. More sophisticated errors are also available.\n",
    "    t\t   The t-statistic value. This is a measure of how statistically significant the coefficient is.\n",
    "P > |t|\t   P-value that the null-hypothesis that the coefficient = 0 is true. \n",
    "           If it is less than the confidence level, often 0.05, it indicates that there \n",
    "           is a statistically significant relationship between the term and the response.\n",
    "           \n",
    "[95.0% \n",
    "Conf. Interval]\t\n",
    "The lower and upper values of the 95% confidence interval\n",
    "\n",
    " "
   ]
  },
  {
   "cell_type": "raw",
   "metadata": {},
   "source": [
    "When vars are standardized:\n",
    "\n",
    "                       coef    std err          t      P>|t|      [0.025      0.975]\n",
    "d3_2                0.1914      0.053      3.631      0.000       0.088       0.295\n",
    "d3_3                0.0871      0.024      3.602      0.000       0.040       0.135\n",
    "d3_4                0.2052      0.044      4.674      0.000       0.119       0.291\n",
    "\n",
    "There is a statistically significant relationship between qxadvocacy01_1 and the variables above which speak to employment status [employed,retired, off market] -- a proxy for income. All of these have a positive impact on qxadvocacy01_1. d1_2 (a binary variable indicating female was not found to be statistically significant.\n",
    "\n",
    "qxcurrentxos_2\t-0.45490\t0.00000\t-4.73408\t-0.64332\t-0.26648\n",
    "        d7_4\t-0.23336\t0.00935\t-2.60109\t-0.40928\t-0.05744\n",
    "qxcurrentxos_4\t-0.17830\t0.00598\t-2.75127\t-0.30538\t-0.05122\n",
    "qxcurrentxos_3\t-0.17369\t0.00670\t-2.71379\t-0.29919\t-0.04819\n",
    "qxcurrentxos_8\t0.14243\t    0.00479\t2.82322\t    0.04350\t0.24135\n",
    "qxcurrentxos_5\t0.31460  \t0.00000\t6.08572\t    0.21323\t0.41596\n",
    "        d3_2\t0.43646  \t0.00009\t3.92300\t    0.21830\t0.65462\n",
    "        d3_4\t0.58659 \t0.00000\t4.65909\t    0.33971\t0.83347\n",
    "        d3_3\t0.70233 \t0.00020\t3.72242\t    0.33236\t1.07230\n",
    "\n",
    "\n",
    "When vars aren't standardized:\n",
    "qxcurrentxos_[2,3,4,5,8] and d7_4 (Asian American) also have an impact\n",
    "\n",
    "Android 7.1\n",
    "Android 8.0\t\n",
    " Android 8.1\t\n",
    "Android 9.0\t\n",
    " iOS 12\n",
    "\n",
    "Not:\n",
    "Android 7.0\t\n",
    "Other (specify)\t\n",
    " iOS 10\n",
    " iOS 11"
   ]
  },
  {
   "cell_type": "raw",
   "metadata": {},
   "source": []
  },
  {
   "cell_type": "code",
   "execution_count": 71,
   "metadata": {},
   "outputs": [],
   "source": [
    "# coeff_df = pd.DataFrame(regressor.coef_[0], varlist_X, columns=['Coefficient'])  "
   ]
  },
  {
   "cell_type": "code",
   "execution_count": 72,
   "metadata": {},
   "outputs": [],
   "source": [
    "# y_pred = regressor.predict(X_test)"
   ]
  },
  {
   "cell_type": "code",
   "execution_count": 73,
   "metadata": {},
   "outputs": [],
   "source": [
    "# y_test_list = [item for sublist in y_test for item in sublist]\n",
    "# len(y_test_list)"
   ]
  },
  {
   "cell_type": "code",
   "execution_count": 74,
   "metadata": {},
   "outputs": [],
   "source": [
    "# y_pred_list = [item for sublist in y_pred for item in sublist]\n",
    "# len(y_pred_list)"
   ]
  },
  {
   "cell_type": "code",
   "execution_count": 75,
   "metadata": {},
   "outputs": [],
   "source": [
    "# df = pd.DataFrame({'Actual': y_test, 'Predicted': y_pred})\n",
    "# df1 = df.head(25)"
   ]
  },
  {
   "cell_type": "code",
   "execution_count": 76,
   "metadata": {},
   "outputs": [],
   "source": [
    "# df1.plot(kind='bar',figsize=(10,8))\n",
    "# plt.grid(which='major', linestyle='-', linewidth='0.5', color='green')\n",
    "# plt.grid(which='minor', linestyle=':', linewidth='0.5', color='black')\n",
    "# plt.show()\n"
   ]
  },
  {
   "cell_type": "code",
   "execution_count": 77,
   "metadata": {},
   "outputs": [],
   "source": [
    "# print('Mean Absolute Error:', metrics.mean_absolute_error(y_test, y_pred))  \n",
    "# print('Mean Squared Error:', metrics.mean_squared_error(y_test, y_pred))  \n",
    "# print('Root Mean Squared Error:', np.sqrt(metrics.mean_squared_error(y_test, y_pred)))"
   ]
  },
  {
   "cell_type": "code",
   "execution_count": 78,
   "metadata": {},
   "outputs": [],
   "source": [
    "# r_sq = regressor.score(X, Y)\n",
    "# print('coefficient of determination:', r_sq)"
   ]
  },
  {
   "cell_type": "code",
   "execution_count": 79,
   "metadata": {},
   "outputs": [
    {
     "name": "stdout",
     "output_type": "stream",
     "text": [
      "intercept: [0.38876612]\n",
      "slope: [[ 0.0626472  -0.24876733 -0.51585356 -0.44991679  0.00268308 -0.31046024\n",
      "  -0.12877546 -0.13586348 -0.22996411 -0.00843573 -0.40460502 -0.37156784\n",
      "  -0.0110592  -0.00476251 -0.06425489 -0.05993279  0.13134915  0.04705293\n",
      "  -0.03839268 -0.11004785  0.32888536  0.01767846 -0.23651597]]\n"
     ]
    }
   ],
   "source": [
    "print('intercept:', regressor.intercept_)\n",
    "print('slope:', regressor.coef_)"
   ]
  },
  {
   "cell_type": "markdown",
   "metadata": {},
   "source": [
    "# Poly regression"
   ]
  },
  {
   "cell_type": "code",
   "execution_count": 80,
   "metadata": {},
   "outputs": [],
   "source": [
    "# PolynomialFeatures (prepreprocessing)\n",
    "poly = PolynomialFeatures(degree=2)\n",
    "X_ = poly.fit_transform(X)\n",
    "X_train_ = poly.fit_transform(X_train)\n",
    "X_test_ = poly.fit_transform(X_test)"
   ]
  },
  {
   "cell_type": "code",
   "execution_count": 81,
   "metadata": {},
   "outputs": [
    {
     "data": {
      "text/plain": [
       "LinearRegression(copy_X=True, fit_intercept=True, n_jobs=None, normalize=False)"
      ]
     },
     "execution_count": 81,
     "metadata": {},
     "output_type": "execute_result"
    }
   ],
   "source": [
    "# Instantiate\n",
    "lg = LinearRegression()\n",
    "\n",
    "# Fit\n",
    "lg.fit(X_train_, y_train)\n",
    "\n",
    "# Obtain coefficients\n",
    "# lg.coef_"
   ]
  },
  {
   "cell_type": "code",
   "execution_count": 82,
   "metadata": {},
   "outputs": [
    {
     "name": "stderr",
     "output_type": "stream",
     "text": [
      "/usr/local/lib/python3.7/site-packages/statsmodels/base/model.py:1294: RuntimeWarning: invalid value encountered in true_divide\n",
      "  return self.params / self.bse\n",
      "/usr/local/lib/python3.7/site-packages/scipy/stats/_distn_infrastructure.py:901: RuntimeWarning: invalid value encountered in greater\n",
      "  return (a < x) & (x < b)\n",
      "/usr/local/lib/python3.7/site-packages/scipy/stats/_distn_infrastructure.py:901: RuntimeWarning: invalid value encountered in less\n",
      "  return (a < x) & (x < b)\n",
      "/usr/local/lib/python3.7/site-packages/scipy/stats/_distn_infrastructure.py:1892: RuntimeWarning: invalid value encountered in less_equal\n",
      "  cond2 = cond0 & (x <= _a)\n"
     ]
    }
   ],
   "source": [
    "X_train_2 = sm.add_constant(X_train_)\n",
    "est_poly = sm.OLS(y_train, X_train_2)\n",
    "est_poly2 = est_poly.fit()\n",
    "df_est_poly2 = results_summary_to_dataframe(est_poly2)\n",
    "df_est_poly2.index = poly.get_feature_names(X.columns)\n"
   ]
  },
  {
   "cell_type": "code",
   "execution_count": 83,
   "metadata": {},
   "outputs": [
    {
     "data": {
      "text/html": [
       "<div>\n",
       "<style scoped>\n",
       "    .dataframe tbody tr th:only-of-type {\n",
       "        vertical-align: middle;\n",
       "    }\n",
       "\n",
       "    .dataframe tbody tr th {\n",
       "        vertical-align: top;\n",
       "    }\n",
       "\n",
       "    .dataframe thead th {\n",
       "        text-align: right;\n",
       "    }\n",
       "</style>\n",
       "<table border=\"1\" class=\"dataframe\">\n",
       "  <thead>\n",
       "    <tr style=\"text-align: right;\">\n",
       "      <th></th>\n",
       "      <th>coeff</th>\n",
       "      <th>pvals</th>\n",
       "      <th>tvals</th>\n",
       "      <th>conf_lower</th>\n",
       "      <th>conf_higher</th>\n",
       "    </tr>\n",
       "  </thead>\n",
       "  <tbody>\n",
       "    <tr>\n",
       "      <th>d4_1 d1_2</th>\n",
       "      <td>-0.568891</td>\n",
       "      <td>0.023366</td>\n",
       "      <td>-2.268823</td>\n",
       "      <td>-1.060582</td>\n",
       "      <td>-0.077200</td>\n",
       "    </tr>\n",
       "    <tr>\n",
       "      <th>d6^2</th>\n",
       "      <td>-0.002808</td>\n",
       "      <td>0.000217</td>\n",
       "      <td>-3.704474</td>\n",
       "      <td>-0.004295</td>\n",
       "      <td>-0.001322</td>\n",
       "    </tr>\n",
       "    <tr>\n",
       "      <th>d6 d7_1</th>\n",
       "      <td>0.344772</td>\n",
       "      <td>0.049093</td>\n",
       "      <td>1.968769</td>\n",
       "      <td>0.001371</td>\n",
       "      <td>0.688173</td>\n",
       "    </tr>\n",
       "    <tr>\n",
       "      <th>d6 d7_99</th>\n",
       "      <td>0.347531</td>\n",
       "      <td>0.048040</td>\n",
       "      <td>1.978010</td>\n",
       "      <td>0.002999</td>\n",
       "      <td>0.692064</td>\n",
       "    </tr>\n",
       "    <tr>\n",
       "      <th>d6 d7_4</th>\n",
       "      <td>0.356518</td>\n",
       "      <td>0.043328</td>\n",
       "      <td>2.021592</td>\n",
       "      <td>0.010697</td>\n",
       "      <td>0.702339</td>\n",
       "    </tr>\n",
       "  </tbody>\n",
       "</table>\n",
       "</div>"
      ],
      "text/plain": [
       "              coeff     pvals     tvals  conf_lower  conf_higher\n",
       "d4_1 d1_2 -0.568891  0.023366 -2.268823   -1.060582    -0.077200\n",
       "d6^2      -0.002808  0.000217 -3.704474   -0.004295    -0.001322\n",
       "d6 d7_1    0.344772  0.049093  1.968769    0.001371     0.688173\n",
       "d6 d7_99   0.347531  0.048040  1.978010    0.002999     0.692064\n",
       "d6 d7_4    0.356518  0.043328  2.021592    0.010697     0.702339"
      ]
     },
     "execution_count": 83,
     "metadata": {},
     "output_type": "execute_result"
    }
   ],
   "source": [
    "df_est_poly2[(df_est_poly2.pvals<.05)].sort_values('coeff')"
   ]
  },
  {
   "cell_type": "raw",
   "metadata": {},
   "source": [
    "After addng interaction terms between the variables (up to 2nd order), we see that there is a statistically significant relationship between qxadvocacy01_1 and the variables above. "
   ]
  },
  {
   "cell_type": "code",
   "execution_count": null,
   "metadata": {},
   "outputs": [],
   "source": [
    "df_est_poly2[(df_est_poly2.index.str.contains('d1_2'))&(df_est_poly2.pvals<.05)]"
   ]
  },
  {
   "cell_type": "raw",
   "metadata": {},
   "source": [
    "When combined with qxcurrentxos_9 (Other (specify)) and d4_4 ( 2-year college/technical degree), d1_2 (female indicator) is statistically significant. has a small stat sig effect "
   ]
  },
  {
   "cell_type": "markdown",
   "metadata": {},
   "source": [
    "# Decision Trees"
   ]
  },
  {
   "cell_type": "code",
   "execution_count": 32,
   "metadata": {},
   "outputs": [],
   "source": [
    "from sklearn import tree\n",
    "\n",
    "clf = tree.DecisionTreeRegressor()\n",
    "clf = clf.fit(X_train,y_train)"
   ]
  },
  {
   "cell_type": "code",
   "execution_count": 33,
   "metadata": {},
   "outputs": [],
   "source": [
    "import graphviz \n",
    "dot_data = tree.export_graphviz(clf, out_file='../data/output/tree_unstd.dot',\n",
    "                                feature_names=X_train.columns,\n",
    "                               filled=True, rounded= True, max_depth = 5) "
   ]
  },
  {
   "cell_type": "code",
   "execution_count": 34,
   "metadata": {},
   "outputs": [],
   "source": [
    "!dot -Tpng ../data/output/tree_unstd.dot -o ../data/output/tree_unstd.png"
   ]
  },
  {
   "cell_type": "code",
   "execution_count": null,
   "metadata": {},
   "outputs": [],
   "source": [
    "![title](\"../data/output/tree.png\")"
   ]
  },
  {
   "cell_type": "code",
   "execution_count": null,
   "metadata": {},
   "outputs": [],
   "source": []
  }
 ],
 "metadata": {
  "kernelspec": {
   "display_name": "Python 3",
   "language": "python",
   "name": "python3"
  },
  "language_info": {
   "codemirror_mode": {
    "name": "ipython",
    "version": 3
   },
   "file_extension": ".py",
   "mimetype": "text/x-python",
   "name": "python",
   "nbconvert_exporter": "python",
   "pygments_lexer": "ipython3",
   "version": "3.7.3"
  }
 },
 "nbformat": 4,
 "nbformat_minor": 2
}
