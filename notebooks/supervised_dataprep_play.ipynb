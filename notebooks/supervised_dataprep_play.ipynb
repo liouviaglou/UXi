{
 "cells": [
  {
   "cell_type": "code",
   "execution_count": null,
   "metadata": {},
   "outputs": [],
   "source": [
    "import os\n",
    "import sys"
   ]
  },
  {
   "cell_type": "code",
   "execution_count": 4,
   "metadata": {},
   "outputs": [],
   "source": [
    "import pandas as pd\n",
    "import glob\n",
    "import matplotlib\n",
    "import numpy as np\n",
    "import matplotlib.pyplot as plt\n",
    "import matplotlib.backends.backend_pdf\n",
    "from matplotlib.backends.backend_pdf import PdfPages\n",
    "\n",
    "%matplotlib inline \n",
    "\n",
    "\n",
    "# Seaborn visualization library\n",
    "import seaborn as sns\n",
    "\n",
    "from sklearn.preprocessing import StandardScaler\n",
    "from sklearn.datasets.samples_generator import make_blobs\n",
    "from sklearn.cluster import KMeans\n",
    "\n",
    "from sklearn.feature_selection import RFE\n",
    "from sklearn.linear_model import LogisticRegression\n",
    "\n",
    "\n",
    "from sklearn.feature_selection import SelectFromModel\n",
    "from sklearn.linear_model import LassoCV\n",
    "from sklearn.ensemble import RandomForestClassifier\n",
    "\n",
    "import scipy"
   ]
  },
  {
   "cell_type": "code",
   "execution_count": 17,
   "metadata": {},
   "outputs": [],
   "source": [
    "pd.set_option('display.max_columns', 1000)\n",
    "pd.options.display.max_rows=1000\n",
    "\n",
    "pd.set_option('display.width', 1000)\n",
    "pd.set_option('display.max_colwidth', 1000)\n",
    "\n",
    "plt.rcParams.update({'figure.max_open_warning': 0})\n"
   ]
  },
  {
   "cell_type": "code",
   "execution_count": 2,
   "metadata": {},
   "outputs": [],
   "source": [
    "module_path = os.path.abspath(os.path.join('..'))\n",
    "if module_path not in sys.path:\n",
    "    sys.path.append(module_path)\n",
    "\n",
    "from scripts.supervised_prep import test_print"
   ]
  },
  {
   "cell_type": "code",
   "execution_count": 3,
   "metadata": {},
   "outputs": [
    {
     "name": "stdout",
     "output_type": "stream",
     "text": [
      "1\n"
     ]
    }
   ],
   "source": [
    "test_print(1)"
   ]
  },
  {
   "cell_type": "code",
   "execution_count": 9,
   "metadata": {},
   "outputs": [
    {
     "name": "stderr",
     "output_type": "stream",
     "text": [
      "/usr/local/lib/python3.7/site-packages/IPython/core/interactiveshell.py:3057: DtypeWarning: Columns (1218) have mixed types. Specify dtype option on import or set low_memory=False.\n",
      "  interactivity=interactivity, compiler=compiler, result=result)\n"
     ]
    }
   ],
   "source": [
    "inroot = r\"../data/input/07 Samsung UX Index - Web App Implementation/\"\n",
    "fname_data = inroot + r\"Samsung UX Index Survey_Data.csv\"\n",
    "df_data = pd.read_csv(fname_data)\n",
    "fname_vaxmap = inroot + r\"Samsung UX Index Survey_Datamap.xlsx\"\n",
    "df_varmap = pd.read_excel(fname_vaxmap, header=1, sheet_name=0)\n",
    "df_valmap = pd.read_excel(fname_vaxmap, header=1, sheet_name=1)\n",
    "\n"
   ]
  },
  {
   "cell_type": "code",
   "execution_count": 12,
   "metadata": {},
   "outputs": [],
   "source": [
    "SuperLabels = ['drivers', 'brandlovetrust', 'loyaltymetrics', 'overallquality',\n",
    "          'usagemetrics', 'activitiesximportance','activitiexsquality',\n",
    "          'activitiesxsatisfaction','activitiesxdrivers',\n",
    "           'upgradetrans','ECGexpect']\n",
    "\n",
    "SuperLabels = [x+\"xallATTR\" for x in SuperLabels]\n",
    "\n",
    "SuperList = [['qxdrivers_'+str(i+1) for i in range(34)],\n",
    "             [ x for x in df_data.columns if 'qxbrandx' in x ],\n",
    "            ['qxadvocacy01_1',    'qxadvocacy02_1',    'qxretention_1',    'qxenrichment_1'],\n",
    "            ['qxoverallxqualityxindicators_'+str(i+1) for i in range(4)],\n",
    "            [ x for x in df_data.columns if 'qxactivitiesximportance' in x ],\n",
    "            [ x for x in df_data.columns if 'qxactivitiesxqualityxindicators' in x ],\n",
    "            [ x for x in df_data.columns if 'qxactivitiesxsatisfaction' in x ],\n",
    "            [ x for x in df_data.columns if 'qxactivitiesxdrivers' in x ] ,\n",
    "         ['qxupgrade01_1', 'qxupgrade01_2', 'qxupgrade01_3', 'qxupgrade01_4', \n",
    "          'qxupgrade01_5', 'qxupgrade01_6', 'qxupgrade01_7', 'qxupgrade01_8', \n",
    "          'qxtransition_1'],\n",
    "[ 'att01_1','att01_2','att01_3','att02_1','att02_2','soc03','soc04_1',\n",
    "          'soc04_2','soc04_3','ret06_1','qxexpectations' ]\n",
    "            ]\n",
    "\n",
    "varlist_Z  = ['d1',    'd3_1',    'd3_2',    'd3_3',    'd3_4',    'd4', 'd6',    'd7_1',    \n",
    "            'd7_2',    'd7_3',    'd7_4',    'd7_5',    'd7_97',    'd7_99','qxcurrentxos',\n",
    "              'qxactivitiesxrecency_1', 'qxactivitiesxrecency_2', 'qxactivitiesxrecency_3', \n",
    "              'qxactivitiesxrecency_4', 'qxactivitiesxrecency_5', 'qxactivitiesxrecency_6', \n",
    "              'qxactivitiesxrecency_7', 'qxactivitiesxrecency_8', 'qxactivitiesxrecency_9', \n",
    "              'qxactivitiesxrecency_10', 'qxactivitiesxrecency_11', 'qxactivitiesxrecency_12', \n",
    "              'qxactivitiesxrecency_13', 'qxactivitiesxrecency_14', 'qxactivitiesxrecency_15', \n",
    "              'qxactivitiesxrecency_16', 'qxactivitiesxrecency_17', 'qxactivitiesxrecency_18', \n",
    "              'qxactivitiesxrecency_19', 'qxactivitiesxrecency_20', 'qxactivitiesxrecency_21', \n",
    "              'qxactivitiesxrecency_22', 'qxactivitiesxrecency_23', 'qxactivitiesxrecency_24'\n",
    "              ]"
   ]
  },
  {
   "cell_type": "code",
   "execution_count": 13,
   "metadata": {},
   "outputs": [
    {
     "data": {
      "text/plain": [
       "True"
      ]
     },
     "execution_count": 13,
     "metadata": {},
     "output_type": "execute_result"
    }
   ],
   "source": [
    "any('activitiesxrecency' in sublist for sublist in varlist_Z) "
   ]
  },
  {
   "cell_type": "code",
   "execution_count": 21,
   "metadata": {},
   "outputs": [
    {
     "name": "stderr",
     "output_type": "stream",
     "text": [
      "/usr/local/lib/python3.7/site-packages/ipykernel_launcher.py:1: FutureWarning: The 'contains' method is deprecated and will be removed in a future version. Use 'key in index' instead of 'index.contains(key)'\n",
      "  \"\"\"Entry point for launching an IPython kernel.\n"
     ]
    },
    {
     "ename": "KeyError",
     "evalue": "False",
     "output_type": "error",
     "traceback": [
      "\u001b[0;31m---------------------------------------------------------------------------\u001b[0m",
      "\u001b[0;31mKeyError\u001b[0m                                  Traceback (most recent call last)",
      "\u001b[0;32m/usr/local/lib/python3.7/site-packages/pandas/core/indexes/base.py\u001b[0m in \u001b[0;36mget_loc\u001b[0;34m(self, key, method, tolerance)\u001b[0m\n\u001b[1;32m   2889\u001b[0m             \u001b[0;32mtry\u001b[0m\u001b[0;34m:\u001b[0m\u001b[0;34m\u001b[0m\u001b[0;34m\u001b[0m\u001b[0m\n\u001b[0;32m-> 2890\u001b[0;31m                 \u001b[0;32mreturn\u001b[0m \u001b[0mself\u001b[0m\u001b[0;34m.\u001b[0m\u001b[0m_engine\u001b[0m\u001b[0;34m.\u001b[0m\u001b[0mget_loc\u001b[0m\u001b[0;34m(\u001b[0m\u001b[0mkey\u001b[0m\u001b[0;34m)\u001b[0m\u001b[0;34m\u001b[0m\u001b[0;34m\u001b[0m\u001b[0m\n\u001b[0m\u001b[1;32m   2891\u001b[0m             \u001b[0;32mexcept\u001b[0m \u001b[0mKeyError\u001b[0m\u001b[0;34m:\u001b[0m\u001b[0;34m\u001b[0m\u001b[0;34m\u001b[0m\u001b[0m\n",
      "\u001b[0;32mpandas/_libs/index.pyx\u001b[0m in \u001b[0;36mpandas._libs.index.IndexEngine.get_loc\u001b[0;34m()\u001b[0m\n",
      "\u001b[0;32mpandas/_libs/index.pyx\u001b[0m in \u001b[0;36mpandas._libs.index.IndexEngine.get_loc\u001b[0;34m()\u001b[0m\n",
      "\u001b[0;32mpandas/_libs/hashtable_class_helper.pxi\u001b[0m in \u001b[0;36mpandas._libs.hashtable.PyObjectHashTable.get_item\u001b[0;34m()\u001b[0m\n",
      "\u001b[0;32mpandas/_libs/hashtable_class_helper.pxi\u001b[0m in \u001b[0;36mpandas._libs.hashtable.PyObjectHashTable.get_item\u001b[0;34m()\u001b[0m\n",
      "\u001b[0;31mKeyError\u001b[0m: False",
      "\nDuring handling of the above exception, another exception occurred:\n",
      "\u001b[0;31mKeyError\u001b[0m                                  Traceback (most recent call last)",
      "\u001b[0;32m<ipython-input-21-4cd89b7ecbcf>\u001b[0m in \u001b[0;36m<module>\u001b[0;34m\u001b[0m\n\u001b[0;32m----> 1\u001b[0;31m \u001b[0mdf_data\u001b[0m\u001b[0;34m[\u001b[0m\u001b[0mdf_data\u001b[0m\u001b[0;34m.\u001b[0m\u001b[0mcolumns\u001b[0m\u001b[0;34m.\u001b[0m\u001b[0mcontains\u001b[0m\u001b[0;34m(\u001b[0m\u001b[0;34m'activitiesxrecency'\u001b[0m\u001b[0;34m)\u001b[0m\u001b[0;34m]\u001b[0m\u001b[0;34m\u001b[0m\u001b[0;34m\u001b[0m\u001b[0m\n\u001b[0m",
      "\u001b[0;32m/usr/local/lib/python3.7/site-packages/pandas/core/frame.py\u001b[0m in \u001b[0;36m__getitem__\u001b[0;34m(self, key)\u001b[0m\n\u001b[1;32m   2973\u001b[0m             \u001b[0;32mif\u001b[0m \u001b[0mself\u001b[0m\u001b[0;34m.\u001b[0m\u001b[0mcolumns\u001b[0m\u001b[0;34m.\u001b[0m\u001b[0mnlevels\u001b[0m \u001b[0;34m>\u001b[0m \u001b[0;36m1\u001b[0m\u001b[0;34m:\u001b[0m\u001b[0;34m\u001b[0m\u001b[0;34m\u001b[0m\u001b[0m\n\u001b[1;32m   2974\u001b[0m                 \u001b[0;32mreturn\u001b[0m \u001b[0mself\u001b[0m\u001b[0;34m.\u001b[0m\u001b[0m_getitem_multilevel\u001b[0m\u001b[0;34m(\u001b[0m\u001b[0mkey\u001b[0m\u001b[0;34m)\u001b[0m\u001b[0;34m\u001b[0m\u001b[0;34m\u001b[0m\u001b[0m\n\u001b[0;32m-> 2975\u001b[0;31m             \u001b[0mindexer\u001b[0m \u001b[0;34m=\u001b[0m \u001b[0mself\u001b[0m\u001b[0;34m.\u001b[0m\u001b[0mcolumns\u001b[0m\u001b[0;34m.\u001b[0m\u001b[0mget_loc\u001b[0m\u001b[0;34m(\u001b[0m\u001b[0mkey\u001b[0m\u001b[0;34m)\u001b[0m\u001b[0;34m\u001b[0m\u001b[0;34m\u001b[0m\u001b[0m\n\u001b[0m\u001b[1;32m   2976\u001b[0m             \u001b[0;32mif\u001b[0m \u001b[0mis_integer\u001b[0m\u001b[0;34m(\u001b[0m\u001b[0mindexer\u001b[0m\u001b[0;34m)\u001b[0m\u001b[0;34m:\u001b[0m\u001b[0;34m\u001b[0m\u001b[0;34m\u001b[0m\u001b[0m\n\u001b[1;32m   2977\u001b[0m                 \u001b[0mindexer\u001b[0m \u001b[0;34m=\u001b[0m \u001b[0;34m[\u001b[0m\u001b[0mindexer\u001b[0m\u001b[0;34m]\u001b[0m\u001b[0;34m\u001b[0m\u001b[0;34m\u001b[0m\u001b[0m\n",
      "\u001b[0;32m/usr/local/lib/python3.7/site-packages/pandas/core/indexes/base.py\u001b[0m in \u001b[0;36mget_loc\u001b[0;34m(self, key, method, tolerance)\u001b[0m\n\u001b[1;32m   2890\u001b[0m                 \u001b[0;32mreturn\u001b[0m \u001b[0mself\u001b[0m\u001b[0;34m.\u001b[0m\u001b[0m_engine\u001b[0m\u001b[0;34m.\u001b[0m\u001b[0mget_loc\u001b[0m\u001b[0;34m(\u001b[0m\u001b[0mkey\u001b[0m\u001b[0;34m)\u001b[0m\u001b[0;34m\u001b[0m\u001b[0;34m\u001b[0m\u001b[0m\n\u001b[1;32m   2891\u001b[0m             \u001b[0;32mexcept\u001b[0m \u001b[0mKeyError\u001b[0m\u001b[0;34m:\u001b[0m\u001b[0;34m\u001b[0m\u001b[0;34m\u001b[0m\u001b[0m\n\u001b[0;32m-> 2892\u001b[0;31m                 \u001b[0;32mreturn\u001b[0m \u001b[0mself\u001b[0m\u001b[0;34m.\u001b[0m\u001b[0m_engine\u001b[0m\u001b[0;34m.\u001b[0m\u001b[0mget_loc\u001b[0m\u001b[0;34m(\u001b[0m\u001b[0mself\u001b[0m\u001b[0;34m.\u001b[0m\u001b[0m_maybe_cast_indexer\u001b[0m\u001b[0;34m(\u001b[0m\u001b[0mkey\u001b[0m\u001b[0;34m)\u001b[0m\u001b[0;34m)\u001b[0m\u001b[0;34m\u001b[0m\u001b[0;34m\u001b[0m\u001b[0m\n\u001b[0m\u001b[1;32m   2893\u001b[0m         \u001b[0mindexer\u001b[0m \u001b[0;34m=\u001b[0m \u001b[0mself\u001b[0m\u001b[0;34m.\u001b[0m\u001b[0mget_indexer\u001b[0m\u001b[0;34m(\u001b[0m\u001b[0;34m[\u001b[0m\u001b[0mkey\u001b[0m\u001b[0;34m]\u001b[0m\u001b[0;34m,\u001b[0m \u001b[0mmethod\u001b[0m\u001b[0;34m=\u001b[0m\u001b[0mmethod\u001b[0m\u001b[0;34m,\u001b[0m \u001b[0mtolerance\u001b[0m\u001b[0;34m=\u001b[0m\u001b[0mtolerance\u001b[0m\u001b[0;34m)\u001b[0m\u001b[0;34m\u001b[0m\u001b[0;34m\u001b[0m\u001b[0m\n\u001b[1;32m   2894\u001b[0m         \u001b[0;32mif\u001b[0m \u001b[0mindexer\u001b[0m\u001b[0;34m.\u001b[0m\u001b[0mndim\u001b[0m \u001b[0;34m>\u001b[0m \u001b[0;36m1\u001b[0m \u001b[0;32mor\u001b[0m \u001b[0mindexer\u001b[0m\u001b[0;34m.\u001b[0m\u001b[0msize\u001b[0m \u001b[0;34m>\u001b[0m \u001b[0;36m1\u001b[0m\u001b[0;34m:\u001b[0m\u001b[0;34m\u001b[0m\u001b[0;34m\u001b[0m\u001b[0m\n",
      "\u001b[0;32mpandas/_libs/index.pyx\u001b[0m in \u001b[0;36mpandas._libs.index.IndexEngine.get_loc\u001b[0;34m()\u001b[0m\n",
      "\u001b[0;32mpandas/_libs/index.pyx\u001b[0m in \u001b[0;36mpandas._libs.index.IndexEngine.get_loc\u001b[0;34m()\u001b[0m\n",
      "\u001b[0;32mpandas/_libs/hashtable_class_helper.pxi\u001b[0m in \u001b[0;36mpandas._libs.hashtable.PyObjectHashTable.get_item\u001b[0;34m()\u001b[0m\n",
      "\u001b[0;32mpandas/_libs/hashtable_class_helper.pxi\u001b[0m in \u001b[0;36mpandas._libs.hashtable.PyObjectHashTable.get_item\u001b[0;34m()\u001b[0m\n",
      "\u001b[0;31mKeyError\u001b[0m: False"
     ]
    }
   ],
   "source": [
    "df_data.filter\n",
    "[df_data.columns.contains('activitiesxrecency')]"
   ]
  },
  {
   "cell_type": "code",
   "execution_count": 18,
   "metadata": {},
   "outputs": [
    {
     "data": {
      "text/html": [
       "<div>\n",
       "<style scoped>\n",
       "    .dataframe tbody tr th:only-of-type {\n",
       "        vertical-align: middle;\n",
       "    }\n",
       "\n",
       "    .dataframe tbody tr th {\n",
       "        vertical-align: top;\n",
       "    }\n",
       "\n",
       "    .dataframe thead th {\n",
       "        text-align: right;\n",
       "    }\n",
       "</style>\n",
       "<table border=\"1\" class=\"dataframe\">\n",
       "  <thead>\n",
       "    <tr style=\"text-align: right;\">\n",
       "      <th></th>\n",
       "      <th>Variable</th>\n",
       "      <th>Label</th>\n",
       "    </tr>\n",
       "  </thead>\n",
       "  <tbody>\n",
       "    <tr>\n",
       "      <th>37</th>\n",
       "      <td>qxactivitiesxrecency_1</td>\n",
       "      <td>Q_Activities_Recency. Using speaker phone (including all aspects of it, such as dialing, quality of sound, etc.) - When was the last time you did each of the following on your [MODEL]? Please think of your experience with the preinstalled manufacturer apps</td>\n",
       "    </tr>\n",
       "    <tr>\n",
       "      <th>38</th>\n",
       "      <td>qxactivitiesxrecency_2</td>\n",
       "      <td>Q_Activities_Recency. Charging battery (including wired charge, wireless charge, different charge options, the accuracy of the battery indicator, etc.) - When was the last time you did each of the following on your [MODEL]? Please think of your experience</td>\n",
       "    </tr>\n",
       "    <tr>\n",
       "      <th>39</th>\n",
       "      <td>qxactivitiesxrecency_3</td>\n",
       "      <td>Q_Activities_Recency. Transferring files from smartphone to a computer - When was the last time you did each of the following on your [MODEL]? Please think of your experience with the preinstalled manufacturer apps only, and don’t consider your experienc</td>\n",
       "    </tr>\n",
       "    <tr>\n",
       "      <th>40</th>\n",
       "      <td>qxactivitiesxrecency_4</td>\n",
       "      <td>Q_Activities_Recency. Unlocking the smartphone (e.g., via password, fingerprint, facial or voice recognition) - When was the last time you did each of the following on your [MODEL]? Please think of your experience with the preinstalled manufacturer apps on</td>\n",
       "    </tr>\n",
       "    <tr>\n",
       "      <th>41</th>\n",
       "      <td>qxactivitiesxrecency_5</td>\n",
       "      <td>Q_Activities_Recency. Viewing screen (e.g., watching video, viewing pictures, playing games) - When was the last time you did each of the following on your [MODEL]? Please think of your experience with the preinstalled manufacturer apps only, and don’t c</td>\n",
       "    </tr>\n",
       "    <tr>\n",
       "      <th>42</th>\n",
       "      <td>qxactivitiesxrecency_6</td>\n",
       "      <td>Q_Activities_Recency. Setting up multiple windows / split screen - When was the last time you did each of the following on your [MODEL]? Please think of your experience with the preinstalled manufacturer apps only, and don’t consider your experience with</td>\n",
       "    </tr>\n",
       "    <tr>\n",
       "      <th>43</th>\n",
       "      <td>qxactivitiesxrecency_7</td>\n",
       "      <td>Q_Activities_Recency. Organizing your home screen (moving apps, creating folders) - When was the last time you did each of the following on your [MODEL]? Please think of your experience with the preinstalled manufacturer apps only, and don’t consider you</td>\n",
       "    </tr>\n",
       "    <tr>\n",
       "      <th>44</th>\n",
       "      <td>qxactivitiesxrecency_8</td>\n",
       "      <td>Q_Activities_Recency. Using your quick settings (e.g., toggle WiFi, Airplane mode, brightness, volume, flashlight) - When was the last time you did each of the following on your [MODEL]? Please think of your experience with the preinstalled manufacturer ap</td>\n",
       "    </tr>\n",
       "    <tr>\n",
       "      <th>45</th>\n",
       "      <td>qxactivitiesxrecency_9</td>\n",
       "      <td>Q_Activities_Recency. Customizing settings (e.g., changing wallpaper, changing security/privacy requirements, etc.) - When was the last time you did each of the following on your [MODEL]? Please think of your experience with the preinstalled manufacturer a</td>\n",
       "    </tr>\n",
       "    <tr>\n",
       "      <th>46</th>\n",
       "      <td>qxactivitiesxrecency_10</td>\n",
       "      <td>Q_Activities_Recency. Setting up and managing notifications - When was the last time you did each of the following on your [MODEL]? Please think of your experience with the preinstalled manufacturer apps only, and don’t consider your experience with alte</td>\n",
       "    </tr>\n",
       "    <tr>\n",
       "      <th>47</th>\n",
       "      <td>qxactivitiesxrecency_11</td>\n",
       "      <td>Q_Activities_Recency. Searching for something on your smartphone (from the home screen) - When was the last time you did each of the following on your [MODEL]? Please think of your experience with the preinstalled manufacturer apps only, and don’t consid</td>\n",
       "    </tr>\n",
       "    <tr>\n",
       "      <th>48</th>\n",
       "      <td>qxactivitiesxrecency_12</td>\n",
       "      <td>Q_Activities_Recency. Scheduling a calendar event / setting reminders - When was the last time you did each of the following on your [MODEL]? Please think of your experience with the preinstalled manufacturer apps only, and don’t consider your experience</td>\n",
       "    </tr>\n",
       "    <tr>\n",
       "      <th>49</th>\n",
       "      <td>qxactivitiesxrecency_13</td>\n",
       "      <td>Q_Activities_Recency. Setting an alarm (e.g., single, recurring) - When was the last time you did each of the following on your [MODEL]? Please think of your experience with the preinstalled manufacturer apps only, and don’t consider your experience with</td>\n",
       "    </tr>\n",
       "    <tr>\n",
       "      <th>50</th>\n",
       "      <td>qxactivitiesxrecency_14</td>\n",
       "      <td>Q_Activities_Recency. Sending and receiving a text message - When was the last time you did each of the following on your [MODEL]? Please think of your experience with the preinstalled manufacturer apps only, and don’t consider your experience with alter</td>\n",
       "    </tr>\n",
       "    <tr>\n",
       "      <th>51</th>\n",
       "      <td>qxactivitiesxrecency_15</td>\n",
       "      <td>Q_Activities_Recency. Taking a picture with the rear-facing camera - When was the last time you did each of the following on your [MODEL]? Please think of your experience with the preinstalled manufacturer apps only, and don’t consider your experience wi</td>\n",
       "    </tr>\n",
       "    <tr>\n",
       "      <th>52</th>\n",
       "      <td>qxactivitiesxrecency_16</td>\n",
       "      <td>Q_Activities_Recency. Taking a picture (selfie) with the front-facing camera - When was the last time you did each of the following on your [MODEL]? Please think of your experience with the preinstalled manufacturer apps only, and don’t consider your exp</td>\n",
       "    </tr>\n",
       "    <tr>\n",
       "      <th>53</th>\n",
       "      <td>qxactivitiesxrecency_17</td>\n",
       "      <td>Q_Activities_Recency. Recording a video - When was the last time you did each of the following on your [MODEL]? Please think of your experience with the preinstalled manufacturer apps only, and don’t consider your experience with alternative apps that yo</td>\n",
       "    </tr>\n",
       "    <tr>\n",
       "      <th>54</th>\n",
       "      <td>qxactivitiesxrecency_18</td>\n",
       "      <td>Q_Activities_Recency. Editing a photo (in the gallery) - When was the last time you did each of the following on your [MODEL]? Please think of your experience with the preinstalled manufacturer apps only, and don’t consider your experience with alternati</td>\n",
       "    </tr>\n",
       "    <tr>\n",
       "      <th>55</th>\n",
       "      <td>qxactivitiesxrecency_19</td>\n",
       "      <td>Q_Activities_Recency. Sharing a photo or file - When was the last time you did each of the following on your [MODEL]? Please think of your experience with the preinstalled manufacturer apps only, and don’t consider your experience with alternative apps t</td>\n",
       "    </tr>\n",
       "    <tr>\n",
       "      <th>56</th>\n",
       "      <td>qxactivitiesxrecency_20</td>\n",
       "      <td>Q_Activities_Recency. Using GPS or location services (for example, maps) - When was the last time you did each of the following on your [MODEL]? Please think of your experience with the preinstalled manufacturer apps only, and don’t consider your experie</td>\n",
       "    </tr>\n",
       "    <tr>\n",
       "      <th>57</th>\n",
       "      <td>qxactivitiesxrecency_21</td>\n",
       "      <td>Q_Activities_Recency. Tracking your wellbeing (steps, exercise, sleep, etc.) - When was the last time you did each of the following on your [MODEL]? Please think of your experience with the preinstalled manufacturer apps only, and don’t consider your exp</td>\n",
       "    </tr>\n",
       "    <tr>\n",
       "      <th>58</th>\n",
       "      <td>qxactivitiesxrecency_22</td>\n",
       "      <td>Q_Activities_Recency. Creating and editing a note - When was the last time you did each of the following on your [MODEL]? Please think of your experience with the preinstalled manufacturer apps only, and don’t consider your experience with alternative ap</td>\n",
       "    </tr>\n",
       "    <tr>\n",
       "      <th>59</th>\n",
       "      <td>qxactivitiesxrecency_23</td>\n",
       "      <td>Q_Activities_Recency. Making a mobile payment with your smartphone at a store terminal - When was the last time you did each of the following on your [MODEL]? Please think of your experience with the preinstalled manufacturer apps only, and don’t conside</td>\n",
       "    </tr>\n",
       "    <tr>\n",
       "      <th>60</th>\n",
       "      <td>qxactivitiesxrecency_24</td>\n",
       "      <td>Q_Activities_Recency. Asking digital assistant a question - When was the last time you did each of the following on your [MODEL]? Please think of your experience with the preinstalled manufacturer apps only, and don’t consider your experience with altern</td>\n",
       "    </tr>\n",
       "    <tr>\n",
       "      <th>61</th>\n",
       "      <td>qxactivitiesxrecency_25</td>\n",
       "      <td>Q_Activities_Recency. Using an AR (Augmented Reality) shopping assistant (e.g., take picture of an item and get a price comparison or add virtual furniture and appliances to your hom - When was the last time you did each of the following on your [MODEL]? P</td>\n",
       "    </tr>\n",
       "  </tbody>\n",
       "</table>\n",
       "</div>"
      ],
      "text/plain": [
       "                   Variable                                                                                                                                                                                                                                                             Label\n",
       "37   qxactivitiesxrecency_1  Q_Activities_Recency. Using speaker phone (including all aspects of it, such as dialing, quality of sound, etc.) - When was the last time you did each of the following on your [MODEL]? Please think of your experience with the preinstalled manufacturer apps\n",
       "38   qxactivitiesxrecency_2   Q_Activities_Recency. Charging battery (including wired charge, wireless charge, different charge options, the accuracy of the battery indicator, etc.) - When was the last time you did each of the following on your [MODEL]? Please think of your experience\n",
       "39   qxactivitiesxrecency_3    Q_Activities_Recency. Transferring files from smartphone to a computer - When was the last time you did each of the following on your [MODEL]? Please think of your experience with the preinstalled manufacturer apps only, and don’t consider your experienc\n",
       "40   qxactivitiesxrecency_4  Q_Activities_Recency. Unlocking the smartphone (e.g., via password, fingerprint, facial or voice recognition) - When was the last time you did each of the following on your [MODEL]? Please think of your experience with the preinstalled manufacturer apps on\n",
       "41   qxactivitiesxrecency_5    Q_Activities_Recency. Viewing screen (e.g., watching video, viewing pictures, playing games) - When was the last time you did each of the following on your [MODEL]? Please think of your experience with the preinstalled manufacturer apps only, and don’t c\n",
       "42   qxactivitiesxrecency_6    Q_Activities_Recency. Setting up multiple windows / split screen - When was the last time you did each of the following on your [MODEL]? Please think of your experience with the preinstalled manufacturer apps only, and don’t consider your experience with\n",
       "43   qxactivitiesxrecency_7    Q_Activities_Recency. Organizing your home screen (moving apps, creating folders) - When was the last time you did each of the following on your [MODEL]? Please think of your experience with the preinstalled manufacturer apps only, and don’t consider you\n",
       "44   qxactivitiesxrecency_8  Q_Activities_Recency. Using your quick settings (e.g., toggle WiFi, Airplane mode, brightness, volume, flashlight) - When was the last time you did each of the following on your [MODEL]? Please think of your experience with the preinstalled manufacturer ap\n",
       "45   qxactivitiesxrecency_9  Q_Activities_Recency. Customizing settings (e.g., changing wallpaper, changing security/privacy requirements, etc.) - When was the last time you did each of the following on your [MODEL]? Please think of your experience with the preinstalled manufacturer a\n",
       "46  qxactivitiesxrecency_10    Q_Activities_Recency. Setting up and managing notifications - When was the last time you did each of the following on your [MODEL]? Please think of your experience with the preinstalled manufacturer apps only, and don’t consider your experience with alte\n",
       "47  qxactivitiesxrecency_11    Q_Activities_Recency. Searching for something on your smartphone (from the home screen) - When was the last time you did each of the following on your [MODEL]? Please think of your experience with the preinstalled manufacturer apps only, and don’t consid\n",
       "48  qxactivitiesxrecency_12    Q_Activities_Recency. Scheduling a calendar event / setting reminders - When was the last time you did each of the following on your [MODEL]? Please think of your experience with the preinstalled manufacturer apps only, and don’t consider your experience\n",
       "49  qxactivitiesxrecency_13    Q_Activities_Recency. Setting an alarm (e.g., single, recurring) - When was the last time you did each of the following on your [MODEL]? Please think of your experience with the preinstalled manufacturer apps only, and don’t consider your experience with\n",
       "50  qxactivitiesxrecency_14    Q_Activities_Recency. Sending and receiving a text message - When was the last time you did each of the following on your [MODEL]? Please think of your experience with the preinstalled manufacturer apps only, and don’t consider your experience with alter\n",
       "51  qxactivitiesxrecency_15    Q_Activities_Recency. Taking a picture with the rear-facing camera - When was the last time you did each of the following on your [MODEL]? Please think of your experience with the preinstalled manufacturer apps only, and don’t consider your experience wi\n",
       "52  qxactivitiesxrecency_16    Q_Activities_Recency. Taking a picture (selfie) with the front-facing camera - When was the last time you did each of the following on your [MODEL]? Please think of your experience with the preinstalled manufacturer apps only, and don’t consider your exp\n",
       "53  qxactivitiesxrecency_17    Q_Activities_Recency. Recording a video - When was the last time you did each of the following on your [MODEL]? Please think of your experience with the preinstalled manufacturer apps only, and don’t consider your experience with alternative apps that yo\n",
       "54  qxactivitiesxrecency_18    Q_Activities_Recency. Editing a photo (in the gallery) - When was the last time you did each of the following on your [MODEL]? Please think of your experience with the preinstalled manufacturer apps only, and don’t consider your experience with alternati\n",
       "55  qxactivitiesxrecency_19    Q_Activities_Recency. Sharing a photo or file - When was the last time you did each of the following on your [MODEL]? Please think of your experience with the preinstalled manufacturer apps only, and don’t consider your experience with alternative apps t\n",
       "56  qxactivitiesxrecency_20    Q_Activities_Recency. Using GPS or location services (for example, maps) - When was the last time you did each of the following on your [MODEL]? Please think of your experience with the preinstalled manufacturer apps only, and don’t consider your experie\n",
       "57  qxactivitiesxrecency_21    Q_Activities_Recency. Tracking your wellbeing (steps, exercise, sleep, etc.) - When was the last time you did each of the following on your [MODEL]? Please think of your experience with the preinstalled manufacturer apps only, and don’t consider your exp\n",
       "58  qxactivitiesxrecency_22    Q_Activities_Recency. Creating and editing a note - When was the last time you did each of the following on your [MODEL]? Please think of your experience with the preinstalled manufacturer apps only, and don’t consider your experience with alternative ap\n",
       "59  qxactivitiesxrecency_23    Q_Activities_Recency. Making a mobile payment with your smartphone at a store terminal - When was the last time you did each of the following on your [MODEL]? Please think of your experience with the preinstalled manufacturer apps only, and don’t conside\n",
       "60  qxactivitiesxrecency_24    Q_Activities_Recency. Asking digital assistant a question - When was the last time you did each of the following on your [MODEL]? Please think of your experience with the preinstalled manufacturer apps only, and don’t consider your experience with altern\n",
       "61  qxactivitiesxrecency_25  Q_Activities_Recency. Using an AR (Augmented Reality) shopping assistant (e.g., take picture of an item and get a price comparison or add virtual furniture and appliances to your hom - When was the last time you did each of the following on your [MODEL]? P"
      ]
     },
     "execution_count": 18,
     "metadata": {},
     "output_type": "execute_result"
    }
   ],
   "source": [
    "df_varmap[df_varmap.Variable.str.contains('activitiesxrecency')][['Variable','Label']]"
   ]
  },
  {
   "cell_type": "code",
   "execution_count": null,
   "metadata": {},
   "outputs": [],
   "source": []
  }
 ],
 "metadata": {
  "kernelspec": {
   "display_name": "Python 3",
   "language": "python",
   "name": "python3"
  },
  "language_info": {
   "codemirror_mode": {
    "name": "ipython",
    "version": 3
   },
   "file_extension": ".py",
   "mimetype": "text/x-python",
   "name": "python",
   "nbconvert_exporter": "python",
   "pygments_lexer": "ipython3",
   "version": "3.7.3"
  }
 },
 "nbformat": 4,
 "nbformat_minor": 2
}
