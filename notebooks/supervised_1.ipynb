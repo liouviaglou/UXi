{
 "cells": [
  {
   "cell_type": "code",
   "execution_count": 1,
   "metadata": {},
   "outputs": [
    {
     "name": "stderr",
     "output_type": "stream",
     "text": [
      "/usr/local/lib/python3.7/site-packages/fuzzywuzzy/fuzz.py:11: UserWarning: Using slow pure-python SequenceMatcher. Install python-Levenshtein to remove this warning\n",
      "  warnings.warn('Using slow pure-python SequenceMatcher. Install python-Levenshtein to remove this warning')\n"
     ]
    }
   ],
   "source": [
    "import os\n",
    "import sys\n",
    "\n",
    "import pandas as pd\n",
    "import glob\n",
    "import matplotlib\n",
    "import numpy as np\n",
    "import matplotlib.pyplot as plt\n",
    "import matplotlib.backends.backend_pdf\n",
    "from matplotlib.backends.backend_pdf import PdfPages\n",
    "\n",
    "\n",
    "import sklearn\n",
    "\n",
    "from sklearn.preprocessing import StandardScaler\n",
    "from sklearn.datasets.samples_generator import make_blobs\n",
    "from sklearn.cluster import KMeans\n",
    "\n",
    "from sklearn.feature_selection import RFE\n",
    "from sklearn.linear_model import LogisticRegression\n",
    "\n",
    "from sklearn.preprocessing import StandardScaler\n",
    "from sklearn.decomposition import PCA\n",
    "\n",
    "from sklearn.feature_selection import SelectFromModel\n",
    "from sklearn.linear_model import LassoCV\n",
    "from sklearn.ensemble import RandomForestClassifier\n",
    "\n",
    "import scipy\n",
    "\n",
    "import seaborn as seabornInstance \n",
    "from sklearn.model_selection import train_test_split \n",
    "from sklearn.linear_model import LinearRegression\n",
    "\n",
    "from sklearn.preprocessing import PolynomialFeatures\n",
    "from sklearn import metrics\n",
    "\n",
    "import statsmodels.api as sm\n",
    "from scipy import stats\n",
    "\n",
    "import lxml\n",
    "from io import StringIO \n",
    "import pickle\n",
    "\n",
    "from fuzzywuzzy import process\n",
    "\n",
    "\n",
    "import warnings\n",
    "warnings.simplefilter(action='ignore', category=FutureWarning)\n",
    "\n",
    "\n",
    "import seaborn as sns\n",
    "sns.set(style=\"whitegrid\")"
   ]
  },
  {
   "cell_type": "code",
   "execution_count": 2,
   "metadata": {},
   "outputs": [],
   "source": [
    "pd.set_option('display.max_columns', 1000)\n",
    "pd.options.display.max_rows=1000\n",
    "\n",
    "pd.set_option('display.width', 1000)\n",
    "pd.set_option('display.max_colwidth', 1000)\n",
    "\n",
    "plt.rcParams.update({'figure.max_open_warning': 0})\n",
    "\n",
    "\n",
    "%matplotlib inline "
   ]
  },
  {
   "cell_type": "code",
   "execution_count": 3,
   "metadata": {},
   "outputs": [],
   "source": [
    "module_path = os.path.abspath(os.path.join('..'))\n",
    "if module_path not in sys.path:\n",
    "    sys.path.append(module_path)\n",
    "\n",
    "# import scripts.supervised_prep\n",
    "from scripts.supervised_prep import dataprep_X\n",
    "from scripts.supervised_prep import dataprep_Y\n",
    "from scripts.supervised_prep import OLS_loop\n",
    "from scripts.supervised_prep import PC1_loop\n",
    "from scripts.supervised_prep import results_summary_to_dataframe\n"
   ]
  },
  {
   "cell_type": "code",
   "execution_count": 4,
   "metadata": {},
   "outputs": [],
   "source": [
    "def fuzzy(x, SERIES):\n",
    "    closest_match = process.extractOne(x, SERIES.values)[0]\n",
    "    index = pd.Index(SERIES).get_loc(closest_match)\n",
    "    return index"
   ]
  },
  {
   "cell_type": "markdown",
   "metadata": {},
   "source": [
    "# Load Data"
   ]
  },
  {
   "cell_type": "code",
   "execution_count": 5,
   "metadata": {},
   "outputs": [
    {
     "name": "stderr",
     "output_type": "stream",
     "text": [
      "/usr/local/lib/python3.7/site-packages/IPython/core/interactiveshell.py:3057: DtypeWarning: Columns (1218) have mixed types. Specify dtype option on import or set low_memory=False.\n",
      "  interactivity=interactivity, compiler=compiler, result=result)\n"
     ]
    }
   ],
   "source": [
    "inroot = r\"../data/input/07 Samsung UX Index - Web App Implementation/\"\n",
    "fname_data = inroot + r\"Samsung UX Index Survey_Data.csv\"\n",
    "df_data = pd.read_csv(fname_data)\n",
    "fname_vaxmap = inroot + r\"Samsung UX Index Survey_Datamap.xlsx\"\n",
    "df_varmap = pd.read_excel(fname_vaxmap, header=1, sheet_name=0)\n",
    "df_valmap = pd.read_excel(fname_vaxmap, header=1, sheet_name=1)\n",
    "\n"
   ]
  },
  {
   "cell_type": "code",
   "execution_count": 6,
   "metadata": {},
   "outputs": [
    {
     "data": {
      "text/html": [
       "<div>\n",
       "<style scoped>\n",
       "    .dataframe tbody tr th:only-of-type {\n",
       "        vertical-align: middle;\n",
       "    }\n",
       "\n",
       "    .dataframe tbody tr th {\n",
       "        vertical-align: top;\n",
       "    }\n",
       "\n",
       "    .dataframe thead th {\n",
       "        text-align: right;\n",
       "    }\n",
       "</style>\n",
       "<table border=\"1\" class=\"dataframe\">\n",
       "  <thead>\n",
       "    <tr style=\"text-align: right;\">\n",
       "      <th></th>\n",
       "      <th>qxbrandxtrustxdrivers</th>\n",
       "      <th>Tag</th>\n",
       "      <th>quality_indicator</th>\n",
       "      <th>qxoverallxqualityxindicators</th>\n",
       "      <th>driver_category</th>\n",
       "    </tr>\n",
       "  </thead>\n",
       "  <tbody>\n",
       "    <tr>\n",
       "      <th>0</th>\n",
       "      <td>qxbrandxtrustxdrivers_1</td>\n",
       "      <td>Transparent</td>\n",
       "      <td>Trust</td>\n",
       "      <td>qxoverallxqualityxindicators_1</td>\n",
       "      <td>Brand-Specific</td>\n",
       "    </tr>\n",
       "    <tr>\n",
       "      <th>1</th>\n",
       "      <td>qxbrandxtrustxdrivers_2</td>\n",
       "      <td>Ethical</td>\n",
       "      <td>Trust</td>\n",
       "      <td>qxoverallxqualityxindicators_1</td>\n",
       "      <td>Brand-Specific</td>\n",
       "    </tr>\n",
       "    <tr>\n",
       "      <th>2</th>\n",
       "      <td>qxbrandxtrustxdrivers_3</td>\n",
       "      <td>Respectful</td>\n",
       "      <td>Trust</td>\n",
       "      <td>qxoverallxqualityxindicators_1</td>\n",
       "      <td>Brand-Specific</td>\n",
       "    </tr>\n",
       "    <tr>\n",
       "      <th>3</th>\n",
       "      <td>qxbrandxtrustxdrivers_4</td>\n",
       "      <td>Integrity / honest</td>\n",
       "      <td>Trust</td>\n",
       "      <td>qxoverallxqualityxindicators_1</td>\n",
       "      <td>Brand-Specific</td>\n",
       "    </tr>\n",
       "    <tr>\n",
       "      <th>4</th>\n",
       "      <td>qxdrivers_1</td>\n",
       "      <td>Safe / secure</td>\n",
       "      <td>Trust</td>\n",
       "      <td>qxoverallxqualityxindicators_1</td>\n",
       "      <td>Core UX Principles</td>\n",
       "    </tr>\n",
       "  </tbody>\n",
       "</table>\n",
       "</div>"
      ],
      "text/plain": [
       "     qxbrandxtrustxdrivers                 Tag quality_indicator    qxoverallxqualityxindicators     driver_category\n",
       "0  qxbrandxtrustxdrivers_1         Transparent             Trust  qxoverallxqualityxindicators_1      Brand-Specific\n",
       "1  qxbrandxtrustxdrivers_2             Ethical             Trust  qxoverallxqualityxindicators_1      Brand-Specific\n",
       "2  qxbrandxtrustxdrivers_3          Respectful             Trust  qxoverallxqualityxindicators_1      Brand-Specific\n",
       "3  qxbrandxtrustxdrivers_4  Integrity / honest             Trust  qxoverallxqualityxindicators_1      Brand-Specific\n",
       "4              qxdrivers_1       Safe / secure             Trust  qxoverallxqualityxindicators_1  Core UX Principles"
      ]
     },
     "execution_count": 6,
     "metadata": {},
     "output_type": "execute_result"
    }
   ],
   "source": [
    "df_addmap1 = pd.read_csv(inroot+\"../additional_mapping/qxbrandxtrustxdrivers_quaitydrivers.csv\")\n",
    "df_addmap1.head()"
   ]
  },
  {
   "cell_type": "code",
   "execution_count": 7,
   "metadata": {},
   "outputs": [
    {
     "data": {
      "text/html": [
       "<div>\n",
       "<style scoped>\n",
       "    .dataframe tbody tr th:only-of-type {\n",
       "        vertical-align: middle;\n",
       "    }\n",
       "\n",
       "    .dataframe tbody tr th {\n",
       "        vertical-align: top;\n",
       "    }\n",
       "\n",
       "    .dataframe thead th {\n",
       "        text-align: right;\n",
       "    }\n",
       "</style>\n",
       "<table border=\"1\" class=\"dataframe\">\n",
       "  <thead>\n",
       "    <tr style=\"text-align: right;\">\n",
       "      <th></th>\n",
       "      <th>Variable</th>\n",
       "      <th>Label</th>\n",
       "      <th>Short Label</th>\n",
       "      <th>Type</th>\n",
       "      <th>Minimum</th>\n",
       "      <th>Maximum</th>\n",
       "      <th>Description</th>\n",
       "    </tr>\n",
       "  </thead>\n",
       "  <tbody>\n",
       "    <tr>\n",
       "      <th>1223</th>\n",
       "      <td>d7_4</td>\n",
       "      <td>D7. Asian or Asian American - What is your race?</td>\n",
       "      <td>NaN</td>\n",
       "      <td>integer</td>\n",
       "      <td>0.0</td>\n",
       "      <td>1.0</td>\n",
       "      <td>NaN</td>\n",
       "    </tr>\n",
       "  </tbody>\n",
       "</table>\n",
       "</div>"
      ],
      "text/plain": [
       "     Variable                                             Label Short Label     Type  Minimum  Maximum Description\n",
       "1223     d7_4  D7. Asian or Asian American - What is your race?         NaN  integer      0.0      1.0         NaN"
      ]
     },
     "execution_count": 7,
     "metadata": {},
     "output_type": "execute_result"
    }
   ],
   "source": [
    "df_varmap[df_varmap.Variable.str.contains('d7_4')]"
   ]
  },
  {
   "cell_type": "markdown",
   "metadata": {},
   "source": [
    "# Activities Mapping"
   ]
  },
  {
   "cell_type": "code",
   "execution_count": 8,
   "metadata": {},
   "outputs": [],
   "source": [
    "df_actmap = pd.read_csv(\"../data/input/data_engineering/activities_map.csv\")\n",
    "df_varmap_activ = pd.read_csv(\"../data/input/data_engineering/df_varmap_activities_map.csv\")"
   ]
  },
  {
   "cell_type": "code",
   "execution_count": 9,
   "metadata": {},
   "outputs": [],
   "source": [
    "# df_varmap_activ = df_varmap[df_varmap.Variable.str.contains('activities')].copy()\n",
    "# df_varmap_activ['match'] = df_varmap_activ['Label'].apply(fuzzy,  SERIES=df_actmap.Task)"
   ]
  },
  {
   "cell_type": "code",
   "execution_count": 10,
   "metadata": {},
   "outputs": [],
   "source": [
    "# df_varmap_activ.loc[df_varmap_activ.Label.str.contains('Using speaker phone'),'match'] = 0\n",
    "# df_varmap_activ.loc[df_varmap_activ.Label.str.contains('Charging battery'),'match'] = 1\n",
    "# df_varmap_activ.loc[df_varmap_activ.Label.str.contains('Transferring files'),'match'] = 2\n",
    "# df_varmap_activ.loc[df_varmap_activ.Label.str.contains('Unlocking'),'match'] = 3\n",
    "# df_varmap_activ.loc[df_varmap_activ.Label.str.contains('Viewing screen'),'match'] = 4\n",
    "# df_varmap_activ.loc[df_varmap_activ.Label.str.contains('Setting up multiple windows'),'match'] = 5\n",
    "# df_varmap_activ.loc[df_varmap_activ.Label.str.contains('Organizing your home screen'),'match'] = 6\n",
    "# df_varmap_activ.loc[df_varmap_activ.Label.str.contains('Using your quick settings'),'match'] = 7\n",
    "# df_varmap_activ.loc[df_varmap_activ.Label.str.contains('Customizing settings'),'match'] = 8\n",
    "# df_varmap_activ.loc[df_varmap_activ.Label.str.contains('Setting up and managing notifications'),'match'] = 9\n",
    "# df_varmap_activ.loc[df_varmap_activ.Label.str.contains('Searching for something on your smartphone'),'match'] = 10\n",
    "# df_varmap_activ.loc[df_varmap_activ.Label.str.contains('Scheduling a calendar event'),'match'] = 11\n",
    "# df_varmap_activ.loc[df_varmap_activ.Label.str.contains('Setting an alarm'),'match'] = 12\n",
    "# df_varmap_activ.loc[df_varmap_activ.Label.str.contains('Sending and receiving a text message'),'match'] = 13\n",
    "# df_varmap_activ.loc[df_varmap_activ.Label.str.contains('rear-facing camera'),'match'] = 14\n",
    "# df_varmap_activ.loc[df_varmap_activ.Label.str.contains('front-facing camera'),'match'] = 15\n",
    "# df_varmap_activ.loc[df_varmap_activ.Label.str.contains('Recording a video'),'match'] = 16\n",
    "# df_varmap_activ.loc[df_varmap_activ.Label.str.contains('Editing a photo'),'match'] = 17\n",
    "# df_varmap_activ.loc[df_varmap_activ.Label.str.contains('Sharing a photo or file'),'match'] = 18\n",
    "# df_varmap_activ.loc[df_varmap_activ.Label.str.contains('Using GPS'),'match'] = 19\n",
    "# df_varmap_activ.loc[df_varmap_activ.Label.str.contains('Tracking your wellbeing'),'match'] = 20\n",
    "# df_varmap_activ.loc[df_varmap_activ.Label.str.contains('Creating and editing a note'),'match'] = 21\n",
    "# df_varmap_activ.loc[df_varmap_activ.Label.str.contains('Making a mobile payment'),'match'] = 22\n",
    "# df_varmap_activ.loc[df_varmap_activ.Label.str.contains('Asking digital assistant a question'),'match'] = 23\n",
    "# df_varmap_activ.loc[df_varmap_activ.Label.str.contains('Using an AR'),'match'] = 24\n"
   ]
  },
  {
   "cell_type": "code",
   "execution_count": 11,
   "metadata": {},
   "outputs": [],
   "source": [
    "# df_varmap_activ.groupby('match')['Variable'].count()"
   ]
  },
  {
   "cell_type": "code",
   "execution_count": 12,
   "metadata": {},
   "outputs": [],
   "source": [
    "# df_varmap_activ = df_varmap_activ.merge(df_actmap, left_on='match',\n",
    "#                                         right_index=True, how='left')"
   ]
  },
  {
   "cell_type": "code",
   "execution_count": 13,
   "metadata": {},
   "outputs": [],
   "source": [
    "# df_varmap_activ.to_csv(\"../data/input/data_engineering/df_varmap_activities_map.csv\", index=False)"
   ]
  },
  {
   "cell_type": "markdown",
   "metadata": {},
   "source": [
    "# merge on df_data"
   ]
  },
  {
   "cell_type": "code",
   "execution_count": 14,
   "metadata": {},
   "outputs": [],
   "source": [
    "df_data = pd.read_csv(\"../data/input/data_engineering/df_data.csv\")"
   ]
  },
  {
   "cell_type": "code",
   "execution_count": 15,
   "metadata": {},
   "outputs": [],
   "source": [
    "df_activmatrix = df_varmap_activ[['Variable','Advanced','Social','Productivity']].copy().set_index('Variable')\n",
    "df_activmatrix = df_activmatrix.transpose()"
   ]
  },
  {
   "cell_type": "code",
   "execution_count": 16,
   "metadata": {},
   "outputs": [],
   "source": [
    "# df_data.loc[:,'Activitiesximportance_Advanced'] = df_data.filter(like='activities', \n",
    "#                axis=1).apply(pd.to_numeric, errors='coerce').multiply(\n",
    "#                df_activmatrix.loc['Advanced']).filter(like='qxactivitiesximportance', \n",
    "#                axis=1).sum(axis=1, skipna=True)\n",
    "# df_data.loc[:,'Activitiesximportance_Social'] = df_data.filter(like='activities', \n",
    "#                axis=1).apply(pd.to_numeric, errors='coerce').multiply(\n",
    "#                df_activmatrix.loc['Social']).filter(like='qxactivitiesximportance', \n",
    "#                axis=1).sum(axis=1, skipna=True)\n",
    "# df_data.loc[:,'Activitiesximportance_Productivity'] = df_data.filter(like='activities', \n",
    "#                axis=1).apply(pd.to_numeric, errors='coerce').multiply(\n",
    "#                df_activmatrix.loc['Productivity']).filter(like='qxactivitiesximportance', \n",
    "#                axis=1).sum(axis=1, skipna=True)\n",
    "\n",
    "# df_data.loc[:,'Activitiesxqualityxindicators_Advanced'] = df_data.filter(like='activities', \n",
    "#                axis=1).apply(pd.to_numeric, errors='coerce').multiply(\n",
    "#                df_activmatrix.loc['Advanced']).filter(like='qxactivitiesxqualityxindicators', \n",
    "#                axis=1).sum(axis=1, skipna=True)\n",
    "# df_data.loc[:,'Activitiesxqualityxindicators_Social'] = df_data.filter(like='activities', \n",
    "#                axis=1).apply(pd.to_numeric, errors='coerce').multiply(\n",
    "#                df_activmatrix.loc['Social']).filter(like='qxactivitiesxqualityxindicators', \n",
    "#                axis=1).sum(axis=1, skipna=True)\n",
    "# df_data.loc[:,'Activitiesxqualityxindicators_Productivity'] = df_data.filter(like='activities', \n",
    "#                axis=1).apply(pd.to_numeric, errors='coerce').multiply(\n",
    "#                df_activmatrix.loc['Productivity']).filter(like='qxactivitiesxqualityxindicators', \n",
    "#                axis=1).sum(axis=1, skipna=True)\n",
    "\n",
    "# df_data.loc[:,'Activitiesxsatisfaction_Advanced'] = df_data.filter(like='activities', \n",
    "#    axis=1).apply(pd.to_numeric, errors='coerce').multiply(\n",
    "#     df_activmatrix.loc['Advanced']).filter(like='qxactivitiesxsatisfaction', \n",
    "#                axis=1).sum(axis=1, skipna=True)\n",
    "# df_data.loc[:,'Activitiesxsatisfaction_Social'] = df_data.filter(like='activities', \n",
    "#    axis=1).apply(pd.to_numeric, errors='coerce').multiply(\n",
    "#     df_activmatrix.loc['Social']).filter(like='qxactivitiesxsatisfaction', \n",
    "#                axis=1).sum(axis=1, skipna=True)\n",
    "# df_data.loc[:,'Activitiesxsatisfaction_Productivity'] = df_data.filter(like='activities', \n",
    "#    axis=1).apply(pd.to_numeric, errors='coerce').multiply(\n",
    "#     df_activmatrix.loc['Productivity']).filter(like='qxactivitiesxsatisfaction', \n",
    "#                axis=1).sum(axis=1, skipna=True)\n",
    "\n",
    "# df_data.loc[:,'Activitiesxdrivers_Advanced'] = df_data.filter(like='activities', \n",
    "#    axis=1).apply(pd.to_numeric, errors='coerce').multiply(\n",
    "#     df_activmatrix.loc['Advanced']).filter(like='qxactivitiesxdrivers', \n",
    "#                axis=1).sum(axis=1, skipna=True)\n",
    "# df_data.loc[:,'Activitiesxdrivers_Social'] = df_data.filter(like='qxactivitiesxdrivers', \n",
    "#    axis=1).apply(pd.to_numeric, errors='coerce').multiply(\n",
    "#     df_activmatrix.loc['Social']).filter(like='qxactivitiesxdrivers', \n",
    "#                axis=1).sum(axis=1, skipna=True)\n",
    "# df_data.loc[:,'Activitiesxdrivers_Productivity'] = df_data.filter(like='activities', \n",
    "#    axis=1).apply(pd.to_numeric, errors='coerce').multiply(\n",
    "#     df_activmatrix.loc['Productivity']).filter(like='qxactivitiesxdrivers', \n",
    "#                axis=1).sum(axis=1, skipna=True)\n",
    "\n"
   ]
  },
  {
   "cell_type": "code",
   "execution_count": 17,
   "metadata": {},
   "outputs": [],
   "source": [
    "\n",
    "# df_data.loc[:,'Activitiesxrecency_Advanced'] = df_data.filter(like='activities', \n",
    "#    axis=1).apply(pd.to_numeric, errors='coerce').multiply(\n",
    "#     df_activmatrix.loc['Advanced']).filter(like='qxactivitiesxrecency', \n",
    "#                axis=1).sum(axis=1, skipna=True)\n",
    "# df_data.loc[:,'Activitiesxrecency_Social'] = df_data.filter(like='activities', \n",
    "#    axis=1).apply(pd.to_numeric, errors='coerce').multiply(\n",
    "#     df_activmatrix.loc['Social']).filter(like='qxactivitiesxrecency', \n",
    "#                axis=1).sum(axis=1, skipna=True)\n",
    "# df_data.loc[:,'Activitiesxrecency_Productivity'] = df_data.filter(like='activities', \n",
    "#    axis=1).apply(pd.to_numeric, errors='coerce').multiply(\n",
    "#     df_activmatrix.loc['Productivity']).filter(like='qxactivitiesxrecency', \n",
    "#                axis=1).sum(axis=1, skipna=True)\n",
    "\n"
   ]
  },
  {
   "cell_type": "code",
   "execution_count": 18,
   "metadata": {},
   "outputs": [],
   "source": [
    "# df_data.filter(like='Activitiesx', axis=1).describe()"
   ]
  },
  {
   "cell_type": "code",
   "execution_count": 19,
   "metadata": {},
   "outputs": [],
   "source": [
    "# df_data.to_csv(\"../data/input/data_engineering/df_data.csv\", index=False)"
   ]
  },
  {
   "cell_type": "code",
   "execution_count": 20,
   "metadata": {},
   "outputs": [],
   "source": [
    "df_data = pd.read_csv(\"../data/input/data_engineering/df_data.csv\")"
   ]
  },
  {
   "cell_type": "markdown",
   "metadata": {},
   "source": [
    "# Determine PC1 weighting"
   ]
  },
  {
   "cell_type": "code",
   "execution_count": 21,
   "metadata": {},
   "outputs": [
    {
     "name": "stderr",
     "output_type": "stream",
     "text": [
      "/usr/local/lib/python3.7/site-packages/pandas/core/frame.py:3489: SettingWithCopyWarning: \n",
      "A value is trying to be set on a copy of a slice from a DataFrame.\n",
      "Try using .loc[row_indexer,col_indexer] = value instead\n",
      "\n",
      "See the caveats in the documentation: http://pandas.pydata.org/pandas-docs/stable/user_guide/indexing.html#returning-a-view-versus-a-copy\n",
      "  self[k1] = value[k2]\n",
      "/usr/local/lib/python3.7/site-packages/pandas/core/frame.py:3489: SettingWithCopyWarning: \n",
      "A value is trying to be set on a copy of a slice from a DataFrame.\n",
      "Try using .loc[row_indexer,col_indexer] = value instead\n",
      "\n",
      "See the caveats in the documentation: http://pandas.pydata.org/pandas-docs/stable/user_guide/indexing.html#returning-a-view-versus-a-copy\n",
      "  self[k1] = value[k2]\n",
      "/usr/local/lib/python3.7/site-packages/pandas/core/frame.py:3489: SettingWithCopyWarning: \n",
      "A value is trying to be set on a copy of a slice from a DataFrame.\n",
      "Try using .loc[row_indexer,col_indexer] = value instead\n",
      "\n",
      "See the caveats in the documentation: http://pandas.pydata.org/pandas-docs/stable/user_guide/indexing.html#returning-a-view-versus-a-copy\n",
      "  self[k1] = value[k2]\n"
     ]
    }
   ],
   "source": [
    "SuperLabels = ['activitiesximportance',\n",
    "               'activitiesxquality',\n",
    "               'activitiesxsatisfaction',\n",
    "               'activitiesxdrivers',\n",
    "              'activitiesxrecency']\n",
    "\n",
    "\n",
    "\n",
    "SuperList = [[ x for x in df_data.columns if 'qxactivitiesximportance' in x ],\n",
    "                [ x for x in df_data.columns if 'qxactivitiesxqualityxindicators' in x ],\n",
    "                                 [ x for x in df_data.columns if 'qxactivitiesxsatisfaction' in x ],\n",
    "                                 [ x for x in df_data.columns if 'qxactivitiesxdrivers' in x ],\n",
    "            [ x for x in df_data.columns if 'qxactivitiesxrecency' in x ]]\n",
    "\n",
    "pc1_exvr_list, df_data_PC1 = PC1_loop(SuperLabels, SuperList, df_data, df_varmap)"
   ]
  },
  {
   "cell_type": "code",
   "execution_count": 22,
   "metadata": {},
   "outputs": [
    {
     "data": {
      "text/plain": [
       "[('activitiesximportance', 0.347514975412082),\n",
       " ('activitiesxquality', 0.39025088878623765),\n",
       " ('activitiesxsatisfaction', 0.4674496272711221),\n",
       " ('activitiesxdrivers', 0.48742259201470056),\n",
       " ('activitiesxrecency', 0.24898685928307404)]"
      ]
     },
     "execution_count": 22,
     "metadata": {},
     "output_type": "execute_result"
    }
   ],
   "source": [
    "pc1_exvr_list"
   ]
  },
  {
   "cell_type": "code",
   "execution_count": 23,
   "metadata": {},
   "outputs": [
    {
     "data": {
      "text/html": [
       "<div>\n",
       "<style scoped>\n",
       "    .dataframe tbody tr th:only-of-type {\n",
       "        vertical-align: middle;\n",
       "    }\n",
       "\n",
       "    .dataframe tbody tr th {\n",
       "        vertical-align: top;\n",
       "    }\n",
       "\n",
       "    .dataframe thead th {\n",
       "        text-align: right;\n",
       "    }\n",
       "</style>\n",
       "<table border=\"1\" class=\"dataframe\">\n",
       "  <thead>\n",
       "    <tr style=\"text-align: right;\">\n",
       "      <th></th>\n",
       "      <th>activitiesximportance_PC1</th>\n",
       "      <th>activitiesxquality_PC1</th>\n",
       "      <th>activitiesxsatisfaction_PC1</th>\n",
       "      <th>activitiesxdrivers_PC1</th>\n",
       "      <th>activitiesxrecency_PC1</th>\n",
       "    </tr>\n",
       "  </thead>\n",
       "  <tbody>\n",
       "    <tr>\n",
       "      <th>0</th>\n",
       "      <td>-22.060576</td>\n",
       "      <td>0.000000</td>\n",
       "      <td>0.000000</td>\n",
       "      <td>0.000000</td>\n",
       "      <td>34.565731</td>\n",
       "    </tr>\n",
       "    <tr>\n",
       "      <th>1</th>\n",
       "      <td>-26.382936</td>\n",
       "      <td>-27.014463</td>\n",
       "      <td>-13.661970</td>\n",
       "      <td>-33.371222</td>\n",
       "      <td>18.589916</td>\n",
       "    </tr>\n",
       "    <tr>\n",
       "      <th>2</th>\n",
       "      <td>-21.025249</td>\n",
       "      <td>-24.453845</td>\n",
       "      <td>-10.803175</td>\n",
       "      <td>-27.017103</td>\n",
       "      <td>19.976097</td>\n",
       "    </tr>\n",
       "    <tr>\n",
       "      <th>3</th>\n",
       "      <td>-21.390272</td>\n",
       "      <td>-22.897507</td>\n",
       "      <td>-17.419699</td>\n",
       "      <td>-19.492965</td>\n",
       "      <td>17.570531</td>\n",
       "    </tr>\n",
       "    <tr>\n",
       "      <th>4</th>\n",
       "      <td>-29.367805</td>\n",
       "      <td>-41.689803</td>\n",
       "      <td>-20.702557</td>\n",
       "      <td>-52.269820</td>\n",
       "      <td>15.885337</td>\n",
       "    </tr>\n",
       "  </tbody>\n",
       "</table>\n",
       "</div>"
      ],
      "text/plain": [
       "   activitiesximportance_PC1  activitiesxquality_PC1  activitiesxsatisfaction_PC1  activitiesxdrivers_PC1  activitiesxrecency_PC1\n",
       "0                 -22.060576                0.000000                     0.000000                0.000000               34.565731\n",
       "1                 -26.382936              -27.014463                   -13.661970              -33.371222               18.589916\n",
       "2                 -21.025249              -24.453845                   -10.803175              -27.017103               19.976097\n",
       "3                 -21.390272              -22.897507                   -17.419699              -19.492965               17.570531\n",
       "4                 -29.367805              -41.689803                   -20.702557              -52.269820               15.885337"
      ]
     },
     "execution_count": 23,
     "metadata": {},
     "output_type": "execute_result"
    }
   ],
   "source": [
    "df_data_PC1.head()"
   ]
  },
  {
   "cell_type": "code",
   "execution_count": 24,
   "metadata": {},
   "outputs": [
    {
     "data": {
      "text/html": [
       "<div>\n",
       "<style scoped>\n",
       "    .dataframe tbody tr th:only-of-type {\n",
       "        vertical-align: middle;\n",
       "    }\n",
       "\n",
       "    .dataframe tbody tr th {\n",
       "        vertical-align: top;\n",
       "    }\n",
       "\n",
       "    .dataframe thead th {\n",
       "        text-align: right;\n",
       "    }\n",
       "</style>\n",
       "<table border=\"1\" class=\"dataframe\">\n",
       "  <thead>\n",
       "    <tr style=\"text-align: right;\">\n",
       "      <th></th>\n",
       "      <th>activitiesximportance_PC1</th>\n",
       "      <th>activitiesxquality_PC1</th>\n",
       "      <th>activitiesxsatisfaction_PC1</th>\n",
       "      <th>activitiesxdrivers_PC1</th>\n",
       "      <th>activitiesxrecency_PC1</th>\n",
       "    </tr>\n",
       "  </thead>\n",
       "  <tbody>\n",
       "    <tr>\n",
       "      <th>count</th>\n",
       "      <td>3254.000000</td>\n",
       "      <td>3254.000000</td>\n",
       "      <td>3254.000000</td>\n",
       "      <td>3254.000000</td>\n",
       "      <td>3254.000000</td>\n",
       "    </tr>\n",
       "    <tr>\n",
       "      <th>mean</th>\n",
       "      <td>-26.233484</td>\n",
       "      <td>-44.424512</td>\n",
       "      <td>-22.866827</td>\n",
       "      <td>-45.311521</td>\n",
       "      <td>13.105597</td>\n",
       "    </tr>\n",
       "    <tr>\n",
       "      <th>std</th>\n",
       "      <td>4.523292</td>\n",
       "      <td>11.448522</td>\n",
       "      <td>5.721676</td>\n",
       "      <td>12.358495</td>\n",
       "      <td>4.100135</td>\n",
       "    </tr>\n",
       "    <tr>\n",
       "      <th>min</th>\n",
       "      <td>-34.777814</td>\n",
       "      <td>-68.294361</td>\n",
       "      <td>-34.143427</td>\n",
       "      <td>-68.695075</td>\n",
       "      <td>4.937962</td>\n",
       "    </tr>\n",
       "    <tr>\n",
       "      <th>25%</th>\n",
       "      <td>-29.492749</td>\n",
       "      <td>-52.584050</td>\n",
       "      <td>-26.928802</td>\n",
       "      <td>-54.346590</td>\n",
       "      <td>10.281197</td>\n",
       "    </tr>\n",
       "    <tr>\n",
       "      <th>50%</th>\n",
       "      <td>-26.623999</td>\n",
       "      <td>-45.262248</td>\n",
       "      <td>-23.417109</td>\n",
       "      <td>-46.429821</td>\n",
       "      <td>12.605096</td>\n",
       "    </tr>\n",
       "    <tr>\n",
       "      <th>75%</th>\n",
       "      <td>-23.410049</td>\n",
       "      <td>-37.280167</td>\n",
       "      <td>-19.354922</td>\n",
       "      <td>-37.550803</td>\n",
       "      <td>15.529045</td>\n",
       "    </tr>\n",
       "    <tr>\n",
       "      <th>max</th>\n",
       "      <td>-7.327338</td>\n",
       "      <td>0.000000</td>\n",
       "      <td>0.000000</td>\n",
       "      <td>0.000000</td>\n",
       "      <td>40.365998</td>\n",
       "    </tr>\n",
       "  </tbody>\n",
       "</table>\n",
       "</div>"
      ],
      "text/plain": [
       "       activitiesximportance_PC1  activitiesxquality_PC1  activitiesxsatisfaction_PC1  activitiesxdrivers_PC1  activitiesxrecency_PC1\n",
       "count                3254.000000             3254.000000                  3254.000000             3254.000000             3254.000000\n",
       "mean                  -26.233484              -44.424512                   -22.866827              -45.311521               13.105597\n",
       "std                     4.523292               11.448522                     5.721676               12.358495                4.100135\n",
       "min                   -34.777814              -68.294361                   -34.143427              -68.695075                4.937962\n",
       "25%                   -29.492749              -52.584050                   -26.928802              -54.346590               10.281197\n",
       "50%                   -26.623999              -45.262248                   -23.417109              -46.429821               12.605096\n",
       "75%                   -23.410049              -37.280167                   -19.354922              -37.550803               15.529045\n",
       "max                    -7.327338                0.000000                     0.000000                0.000000               40.365998"
      ]
     },
     "execution_count": 24,
     "metadata": {},
     "output_type": "execute_result"
    }
   ],
   "source": [
    "df_data_PC1.describe()"
   ]
  },
  {
   "cell_type": "markdown",
   "metadata": {},
   "source": [
    "# y=FE_advanced regression"
   ]
  },
  {
   "cell_type": "code",
   "execution_count": 25,
   "metadata": {},
   "outputs": [
    {
     "name": "stdout",
     "output_type": "stream",
     "text": [
      "['Activitiesximportance_Advanced' 'Activitiesximportance_Social'\n",
      " 'Activitiesximportance_Productivity'\n",
      " 'Activitiesxqualityxindicators_Advanced'\n",
      " 'Activitiesxqualityxindicators_Social'\n",
      " 'Activitiesxqualityxindicators_Productivity'\n",
      " 'Activitiesxsatisfaction_Advanced' 'Activitiesxsatisfaction_Social'\n",
      " 'Activitiesxsatisfaction_Productivity' 'Activitiesxdrivers_Advanced'\n",
      " 'Activitiesxdrivers_Social' 'Activitiesxdrivers_Productivity'\n",
      " 'Activitiesxrecency_Advanced' 'Activitiesxrecency_Social'\n",
      " 'Activitiesxrecency_Productivity']\n",
      "\n",
      "[('Activitiesximportance_Advanced', 0.05552432127733298), ('Activitiesximportance_Social', 0.03825775590524727), ('Activitiesximportance_Productivity', 0.046218815778263034), ('Activitiesxqualityxindicators_Advanced', 0.06537630767784064), ('Activitiesxqualityxindicators_Social', 0.02403758061586403), ('Activitiesxqualityxindicators_Productivity', 0.06584008182299972), ('Activitiesxsatisfaction_Advanced', 0.05177466215566684), ('Activitiesxsatisfaction_Social', 0.019400720789250037), ('Activitiesxsatisfaction_Productivity', 0.04938418084521701), ('Activitiesxdrivers_Advanced', 0.05572778172699122), ('Activitiesxdrivers_Social', 0.0248838113302432), ('Activitiesxdrivers_Productivity', 0.06655604163259643), ('Activitiesxrecency_Advanced', 0.11163766967262811), ('Activitiesxrecency_Social', 0.06398476764581884), ('Activitiesxrecency_Productivity', 0.11845714472085811)]\n",
      "\n"
     ]
    },
    {
     "data": {
      "text/html": [
       "<div>\n",
       "<style scoped>\n",
       "    .dataframe tbody tr th:only-of-type {\n",
       "        vertical-align: middle;\n",
       "    }\n",
       "\n",
       "    .dataframe tbody tr th {\n",
       "        vertical-align: top;\n",
       "    }\n",
       "\n",
       "    .dataframe thead th {\n",
       "        text-align: right;\n",
       "    }\n",
       "</style>\n",
       "<table border=\"1\" class=\"dataframe\">\n",
       "  <thead>\n",
       "    <tr style=\"text-align: right;\">\n",
       "      <th></th>\n",
       "      <th>Variable</th>\n",
       "      <th>Label</th>\n",
       "      <th>coeff</th>\n",
       "      <th>pvals</th>\n",
       "      <th>var_y</th>\n",
       "    </tr>\n",
       "  </thead>\n",
       "  <tbody>\n",
       "    <tr>\n",
       "      <th>1220.0</th>\n",
       "      <td>d7_1</td>\n",
       "      <td>White</td>\n",
       "      <td>-0.29235</td>\n",
       "      <td>0.00000</td>\n",
       "      <td>Activitiesximportance_Advanced</td>\n",
       "    </tr>\n",
       "    <tr>\n",
       "      <th>0.0</th>\n",
       "      <td>d4_3</td>\n",
       "      <td>Some college – no degree</td>\n",
       "      <td>0.11708</td>\n",
       "      <td>0.03404</td>\n",
       "      <td>Activitiesximportance_Advanced</td>\n",
       "    </tr>\n",
       "    <tr>\n",
       "      <th>0.0</th>\n",
       "      <td>d4_1</td>\n",
       "      <td>Some high school or less</td>\n",
       "      <td>-0.35897</td>\n",
       "      <td>0.00038</td>\n",
       "      <td>Activitiesximportance_Advanced</td>\n",
       "    </tr>\n",
       "    <tr>\n",
       "      <th>0.0</th>\n",
       "      <td>d4_2</td>\n",
       "      <td>High school graduate</td>\n",
       "      <td>0.11743</td>\n",
       "      <td>0.03648</td>\n",
       "      <td>Activitiesximportance_Advanced</td>\n",
       "    </tr>\n",
       "    <tr>\n",
       "      <th>0.0</th>\n",
       "      <td>d1_4</td>\n",
       "      <td>Gender -  Would rather not say</td>\n",
       "      <td>-1.10746</td>\n",
       "      <td>0.01767</td>\n",
       "      <td>Activitiesximportance_Advanced</td>\n",
       "    </tr>\n",
       "  </tbody>\n",
       "</table>\n",
       "</div>"
      ],
      "text/plain": [
       "       Variable                           Label    coeff    pvals                           var_y\n",
       "1220.0     d7_1                           White -0.29235  0.00000  Activitiesximportance_Advanced\n",
       "0.0        d4_3        Some college – no degree  0.11708  0.03404  Activitiesximportance_Advanced\n",
       "0.0        d4_1        Some high school or less -0.35897  0.00038  Activitiesximportance_Advanced\n",
       "0.0        d4_2            High school graduate  0.11743  0.03648  Activitiesximportance_Advanced\n",
       "0.0        d1_4  Gender -  Would rather not say -1.10746  0.01767  Activitiesximportance_Advanced"
      ]
     },
     "execution_count": 25,
     "metadata": {},
     "output_type": "execute_result"
    }
   ],
   "source": [
    "ohdict = {'qxcurrentxos' :  None, 'd4' :  None, 'd1' : None, 'qxcurrentxmodel': None, 'hbrand' : None,\n",
    "          'hmodelquota' : None, 'hmodelquota_reordered' : None,'Empowered_Customer_Groups' : None}\n",
    "                 \n",
    "\n",
    "varlist_X = ['d1',  # gender\n",
    "             'd2',  # age\n",
    "             'hbrand', # device brand\n",
    "             'd3_1', 'd3_2',    'd3_3',    'd3_4',    # employment\n",
    "             'd4', # education\n",
    "             'd6',    # hispanic\n",
    "             'd7_1', 'd7_2',    'd7_3',    'd7_4',    'd7_5',    'd7_97',    'd7_99' # race\n",
    "            ]\n",
    "\n",
    "X, df_varmap = dataprep_X (df_data, df_varmap, df_valmap, varlist_X, \n",
    "                       ohdict=ohdict)\n",
    "\n",
    "like_str = 'Activitiesx'\n",
    "var_y_list = df_data.filter(like=like_str, axis=1).columns.values\n",
    "print(var_y_list)\n",
    "print()\n",
    "tp_list_FEadv, df_lmresults_FEadv = OLS_loop (var_y_list, ohdict, X, df_data, df_varmap)\n",
    "\n",
    "print (tp_list_FEadv)\n",
    "print()\n",
    "\n",
    "df_lmresults_FEadv.head()"
   ]
  },
  {
   "cell_type": "markdown",
   "metadata": {},
   "source": [
    "# y=PC1 regression"
   ]
  },
  {
   "cell_type": "code",
   "execution_count": 26,
   "metadata": {},
   "outputs": [
    {
     "name": "stdout",
     "output_type": "stream",
     "text": [
      "['activitiesximportance_PC1' 'activitiesxquality_PC1'\n",
      " 'activitiesxsatisfaction_PC1' 'activitiesxdrivers_PC1'\n",
      " 'activitiesxrecency_PC1']\n",
      "\n",
      "[('activitiesximportance_PC1', 0.03771097078973917), ('activitiesxquality_PC1', 0.03065046519304282), ('activitiesxsatisfaction_PC1', 0.02040419843722907), ('activitiesxdrivers_PC1', 0.029179541356811667), ('activitiesxrecency_PC1', 0.10204355311363289)]\n",
      "\n"
     ]
    },
    {
     "data": {
      "text/html": [
       "<div>\n",
       "<style scoped>\n",
       "    .dataframe tbody tr th:only-of-type {\n",
       "        vertical-align: middle;\n",
       "    }\n",
       "\n",
       "    .dataframe tbody tr th {\n",
       "        vertical-align: top;\n",
       "    }\n",
       "\n",
       "    .dataframe thead th {\n",
       "        text-align: right;\n",
       "    }\n",
       "</style>\n",
       "<table border=\"1\" class=\"dataframe\">\n",
       "  <thead>\n",
       "    <tr style=\"text-align: right;\">\n",
       "      <th></th>\n",
       "      <th>Variable</th>\n",
       "      <th>Label</th>\n",
       "      <th>coeff</th>\n",
       "      <th>pvals</th>\n",
       "      <th>var_y</th>\n",
       "    </tr>\n",
       "  </thead>\n",
       "  <tbody>\n",
       "    <tr>\n",
       "      <th>1220.0</th>\n",
       "      <td>d7_1</td>\n",
       "      <td>White</td>\n",
       "      <td>0.17595</td>\n",
       "      <td>0.00452</td>\n",
       "      <td>activitiesximportance_PC1</td>\n",
       "    </tr>\n",
       "    <tr>\n",
       "      <th>0.0</th>\n",
       "      <td>d4_3</td>\n",
       "      <td>Some college – no degree</td>\n",
       "      <td>-0.11504</td>\n",
       "      <td>0.03908</td>\n",
       "      <td>activitiesximportance_PC1</td>\n",
       "    </tr>\n",
       "    <tr>\n",
       "      <th>0.0</th>\n",
       "      <td>d4_1</td>\n",
       "      <td>Some high school or less</td>\n",
       "      <td>0.24201</td>\n",
       "      <td>0.01753</td>\n",
       "      <td>activitiesximportance_PC1</td>\n",
       "    </tr>\n",
       "    <tr>\n",
       "      <th>0.0</th>\n",
       "      <td>d1_4</td>\n",
       "      <td>Gender -  Would rather not say</td>\n",
       "      <td>1.48456</td>\n",
       "      <td>0.00164</td>\n",
       "      <td>activitiesximportance_PC1</td>\n",
       "    </tr>\n",
       "    <tr>\n",
       "      <th>0.0</th>\n",
       "      <td>d1_1</td>\n",
       "      <td>Gender -  Male</td>\n",
       "      <td>0.13688</td>\n",
       "      <td>0.00037</td>\n",
       "      <td>activitiesximportance_PC1</td>\n",
       "    </tr>\n",
       "  </tbody>\n",
       "</table>\n",
       "</div>"
      ],
      "text/plain": [
       "       Variable                           Label    coeff    pvals                      var_y\n",
       "1220.0     d7_1                           White  0.17595  0.00452  activitiesximportance_PC1\n",
       "0.0        d4_3        Some college – no degree -0.11504  0.03908  activitiesximportance_PC1\n",
       "0.0        d4_1        Some high school or less  0.24201  0.01753  activitiesximportance_PC1\n",
       "0.0        d1_4  Gender -  Would rather not say  1.48456  0.00164  activitiesximportance_PC1\n",
       "0.0        d1_1                  Gender -  Male  0.13688  0.00037  activitiesximportance_PC1"
      ]
     },
     "execution_count": 26,
     "metadata": {},
     "output_type": "execute_result"
    }
   ],
   "source": [
    "ohdict = {'qxcurrentxos' :  None, 'd4' :  None, 'd1' : None, 'qxcurrentxmodel': None, 'hbrand' : None,\n",
    "          'hmodelquota' : None, 'hmodelquota_reordered' : None,'Empowered_Customer_Groups' : None}\n",
    "                 \n",
    "\n",
    "varlist_X = ['d1',  # gender\n",
    "             'd2',  # age\n",
    "             'hbrand', # device brand\n",
    "             'd3_1', 'd3_2',    'd3_3',    'd3_4',    # employment\n",
    "             'd4', # education\n",
    "             'd6',    # hispanic\n",
    "             'd7_1', 'd7_2',    'd7_3',    'd7_4',    'd7_5',    'd7_97',    'd7_99' # race\n",
    "            ]\n",
    "\n",
    "X, df_varmap = dataprep_X (df_data, df_varmap, df_valmap, varlist_X, \n",
    "                       ohdict=ohdict)\n",
    "\n",
    "like_str = '_PC1'\n",
    "var_y_list = df_data_PC1.filter(like=like_str, axis=1).columns.values\n",
    "print(var_y_list)\n",
    "print()\n",
    "tp_list_PC1, df_lmresults_PC1 = OLS_loop (var_y_list, ohdict, X, df_data_PC1, df_varmap)\n",
    "\n",
    "print (tp_list_PC1)\n",
    "print()\n",
    "\n",
    "df_lmresults_PC1.head()"
   ]
  },
  {
   "cell_type": "markdown",
   "metadata": {},
   "source": [
    "# y= UX_Index & UX_Loyalty"
   ]
  },
  {
   "cell_type": "code",
   "execution_count": 44,
   "metadata": {},
   "outputs": [
    {
     "name": "stdout",
     "output_type": "stream",
     "text": [
      "['UXindex' 'UX_Loyalty' 'speaker_phone_UXI' 'charging_battery_UXI'\n",
      " 'transferring_files_UXI' 'unlocking_UXI' 'display_UXI'\n",
      " 'multiple_windows_UXI' 'organizing_home_screen_UXI' 'quick_settings_UXI'\n",
      " 'customizing_settings_UXI' 'notifications_UXI' 'search_phone_UXI'\n",
      " 'calendar_events_and_reminders_UXI' 'alarm_UXI'\n",
      " 'sending_and_receiving_texts_UXI' 'rear_camera_UXI' 'front_camera_UXI'\n",
      " 'video_recording_UXI' 'photo_editing_UXI' 'sharing_UXI'\n",
      " 'location_services_UXI' 'tracking_wellbeing_UXI' 'using_notes_UXI'\n",
      " 'mobile_payment_UXI' 'digital_assistant_UXI' 'AR_shopping_UXI']\n",
      "\n",
      "[('UXindex', 0.05824624124380262), ('UX_Loyalty', 0.09655705591311292), ('speaker_phone_UXI', 0.02570489293784306), ('charging_battery_UXI', 0.03512102717446852), ('transferring_files_UXI', 0.03000182178734745), ('unlocking_UXI', 0.03540002902734074), ('display_UXI', 0.04239295549051225), ('multiple_windows_UXI', 0.011864840516904729), ('organizing_home_screen_UXI', 0.024723787652326967), ('quick_settings_UXI', 0.03201555763291486), ('customizing_settings_UXI', 0.028423642962951967), ('notifications_UXI', 0.03228905983213659), ('search_phone_UXI', 0.025255708760395845), ('calendar_events_and_reminders_UXI', 0.025969876886803078), ('alarm_UXI', 0.024731388331971083), ('sending_and_receiving_texts_UXI', 0.054071692405359806), ('rear_camera_UXI', 0.045917821043401474), ('front_camera_UXI', 0.031888324485069175), ('video_recording_UXI', 0.032599511704883066), ('photo_editing_UXI', 0.023524667597664917), ('sharing_UXI', 0.028183927731660896), ('location_services_UXI', 0.03188864352985332), ('tracking_wellbeing_UXI', 0.015360744830013262), ('using_notes_UXI', 0.01742070952425312), ('mobile_payment_UXI', 0.011185783856895837), ('digital_assistant_UXI', 0.01652173178247185), ('AR_shopping_UXI', 0.017543403682605097)]\n",
      "\n"
     ]
    },
    {
     "data": {
      "text/html": [
       "<div>\n",
       "<style scoped>\n",
       "    .dataframe tbody tr th:only-of-type {\n",
       "        vertical-align: middle;\n",
       "    }\n",
       "\n",
       "    .dataframe tbody tr th {\n",
       "        vertical-align: top;\n",
       "    }\n",
       "\n",
       "    .dataframe thead th {\n",
       "        text-align: right;\n",
       "    }\n",
       "</style>\n",
       "<table border=\"1\" class=\"dataframe\">\n",
       "  <thead>\n",
       "    <tr style=\"text-align: right;\">\n",
       "      <th></th>\n",
       "      <th>Variable</th>\n",
       "      <th>Label</th>\n",
       "      <th>coeff</th>\n",
       "      <th>pvals</th>\n",
       "      <th>var_y</th>\n",
       "    </tr>\n",
       "  </thead>\n",
       "  <tbody>\n",
       "    <tr>\n",
       "      <th>1213.0</th>\n",
       "      <td>d3_2</td>\n",
       "      <td>Employed</td>\n",
       "      <td>0.22620</td>\n",
       "      <td>0.02432</td>\n",
       "      <td>UXindex</td>\n",
       "    </tr>\n",
       "    <tr>\n",
       "      <th>1214.0</th>\n",
       "      <td>d3_3</td>\n",
       "      <td>Retired</td>\n",
       "      <td>0.40077</td>\n",
       "      <td>0.01731</td>\n",
       "      <td>UXindex</td>\n",
       "    </tr>\n",
       "    <tr>\n",
       "      <th>1215.0</th>\n",
       "      <td>d3_4</td>\n",
       "      <td>Not currently employed or in school</td>\n",
       "      <td>0.31149</td>\n",
       "      <td>0.00585</td>\n",
       "      <td>UXindex</td>\n",
       "    </tr>\n",
       "    <tr>\n",
       "      <th>0.0</th>\n",
       "      <td>d1_4</td>\n",
       "      <td>Gender -  Would rather not say</td>\n",
       "      <td>-1.36521</td>\n",
       "      <td>0.00341</td>\n",
       "      <td>UXindex</td>\n",
       "    </tr>\n",
       "    <tr>\n",
       "      <th>0.0</th>\n",
       "      <td>d1_3</td>\n",
       "      <td>Gender -  Non-binary</td>\n",
       "      <td>-0.79343</td>\n",
       "      <td>0.00045</td>\n",
       "      <td>UXindex</td>\n",
       "    </tr>\n",
       "  </tbody>\n",
       "</table>\n",
       "</div>"
      ],
      "text/plain": [
       "       Variable                                 Label    coeff    pvals    var_y\n",
       "1213.0     d3_2                              Employed  0.22620  0.02432  UXindex\n",
       "1214.0     d3_3                               Retired  0.40077  0.01731  UXindex\n",
       "1215.0     d3_4  Not currently employed or in school   0.31149  0.00585  UXindex\n",
       "0.0        d1_4        Gender -  Would rather not say -1.36521  0.00341  UXindex\n",
       "0.0        d1_3                  Gender -  Non-binary -0.79343  0.00045  UXindex"
      ]
     },
     "execution_count": 44,
     "metadata": {},
     "output_type": "execute_result"
    }
   ],
   "source": [
    "ohdict = {'qxcurrentxos' :  None, 'd4' :  None, 'd1' : None, 'qxcurrentxmodel': None, 'hbrand' : None,\n",
    "          'hmodelquota' : None, 'hmodelquota_reordered' : None,'Empowered_Customer_Groups' : None}\n",
    "                 \n",
    "\n",
    "varlist_X = ['d1',  # gender\n",
    "             'd2',  # age\n",
    "             'hbrand', # device brand\n",
    "             'd3_1', 'd3_2',    'd3_3',    'd3_4',    # employment\n",
    "             'd4', # education\n",
    "             'd6',    # hispanic\n",
    "             'd7_1', 'd7_2',    'd7_3',    'd7_4',    'd7_5',    'd7_97',    'd7_99' # race\n",
    "            ]\n",
    "\n",
    "X, df_varmap = dataprep_X (df_data, df_varmap, df_valmap, varlist_X, \n",
    "                       ohdict=ohdict)\n",
    "\n",
    "like_str='_UXI'\n",
    "var_y_list = df_data.filter(like=like_str, axis=1).columns.values\n",
    "var_y_list = np.append('UX_Loyalty',var_y_list)\n",
    "var_y_list = np.append('UXindex',var_y_list)\n",
    "print(var_y_list)\n",
    "print()\n",
    "tp_list_UXi, df_lmresults_UXi = OLS_loop (var_y_list, ohdict, X, df_data, df_varmap)\n",
    "\n",
    "print (tp_list_UXi)\n",
    "print()\n",
    "\n",
    "df_lmresults_UXi.head()"
   ]
  },
  {
   "cell_type": "markdown",
   "metadata": {},
   "source": [
    "# *+ACTIVITIES_RECENCY* [y=FE_advanced regression]"
   ]
  },
  {
   "cell_type": "code",
   "execution_count": 28,
   "metadata": {},
   "outputs": [],
   "source": [
    "# add activities_recency_pc1 col to df_data\n",
    "df_data['activitiesxrecency_PC1'] = df_data_PC1['activitiesxrecency_PC1']"
   ]
  },
  {
   "cell_type": "code",
   "execution_count": 29,
   "metadata": {},
   "outputs": [
    {
     "name": "stdout",
     "output_type": "stream",
     "text": [
      "['Activitiesximportance_Advanced', 'Activitiesximportance_Social', 'Activitiesximportance_Productivity', 'Activitiesxqualityxindicators_Advanced', 'Activitiesxqualityxindicators_Social', 'Activitiesxqualityxindicators_Productivity', 'Activitiesxsatisfaction_Advanced', 'Activitiesxsatisfaction_Social', 'Activitiesxsatisfaction_Productivity', 'Activitiesxdrivers_Advanced', 'Activitiesxdrivers_Social', 'Activitiesxdrivers_Productivity']\n",
      "\n",
      "[('Activitiesximportance_Advanced', 0.19128065588215037), ('Activitiesximportance_Social', 0.16752592530941468), ('Activitiesximportance_Productivity', 0.1749532935253828), ('Activitiesxqualityxindicators_Advanced', 0.6205327280702491), ('Activitiesxqualityxindicators_Social', 0.4014990191080098), ('Activitiesxqualityxindicators_Productivity', 0.6420169243360669), ('Activitiesxsatisfaction_Advanced', 0.6076301378470021), ('Activitiesxsatisfaction_Social', 0.3644502193147159), ('Activitiesxsatisfaction_Productivity', 0.623616681359067), ('Activitiesxdrivers_Advanced', 0.5450004756548776), ('Activitiesxdrivers_Social', 0.3521542150788959), ('Activitiesxdrivers_Productivity', 0.5502437983948653)]\n",
      "\n"
     ]
    },
    {
     "data": {
      "text/html": [
       "<div>\n",
       "<style scoped>\n",
       "    .dataframe tbody tr th:only-of-type {\n",
       "        vertical-align: middle;\n",
       "    }\n",
       "\n",
       "    .dataframe tbody tr th {\n",
       "        vertical-align: top;\n",
       "    }\n",
       "\n",
       "    .dataframe thead th {\n",
       "        text-align: right;\n",
       "    }\n",
       "</style>\n",
       "<table border=\"1\" class=\"dataframe\">\n",
       "  <thead>\n",
       "    <tr style=\"text-align: right;\">\n",
       "      <th></th>\n",
       "      <th>Variable</th>\n",
       "      <th>Label</th>\n",
       "      <th>coeff</th>\n",
       "      <th>pvals</th>\n",
       "      <th>var_y</th>\n",
       "    </tr>\n",
       "  </thead>\n",
       "  <tbody>\n",
       "    <tr>\n",
       "      <th>2.0</th>\n",
       "      <td>d2</td>\n",
       "      <td>Age</td>\n",
       "      <td>0.01332</td>\n",
       "      <td>0.00015</td>\n",
       "      <td>Activitiesximportance_Advanced</td>\n",
       "    </tr>\n",
       "    <tr>\n",
       "      <th>1220.0</th>\n",
       "      <td>d7_1</td>\n",
       "      <td>White</td>\n",
       "      <td>-0.12435</td>\n",
       "      <td>0.02988</td>\n",
       "      <td>Activitiesximportance_Advanced</td>\n",
       "    </tr>\n",
       "    <tr>\n",
       "      <th>0.0</th>\n",
       "      <td>d4_3</td>\n",
       "      <td>Some college – no degree</td>\n",
       "      <td>0.18282</td>\n",
       "      <td>0.00036</td>\n",
       "      <td>Activitiesximportance_Advanced</td>\n",
       "    </tr>\n",
       "    <tr>\n",
       "      <th>0.0</th>\n",
       "      <td>d4_2</td>\n",
       "      <td>High school graduate</td>\n",
       "      <td>0.24622</td>\n",
       "      <td>0.00000</td>\n",
       "      <td>Activitiesximportance_Advanced</td>\n",
       "    </tr>\n",
       "    <tr>\n",
       "      <th>0.0</th>\n",
       "      <td>d4_5</td>\n",
       "      <td>4-year college degree</td>\n",
       "      <td>0.12881</td>\n",
       "      <td>0.00738</td>\n",
       "      <td>Activitiesximportance_Advanced</td>\n",
       "    </tr>\n",
       "  </tbody>\n",
       "</table>\n",
       "</div>"
      ],
      "text/plain": [
       "       Variable                     Label    coeff    pvals                           var_y\n",
       "2.0          d2                       Age  0.01332  0.00015  Activitiesximportance_Advanced\n",
       "1220.0     d7_1                     White -0.12435  0.02988  Activitiesximportance_Advanced\n",
       "0.0        d4_3  Some college – no degree  0.18282  0.00036  Activitiesximportance_Advanced\n",
       "0.0        d4_2      High school graduate  0.24622  0.00000  Activitiesximportance_Advanced\n",
       "0.0        d4_5     4-year college degree  0.12881  0.00738  Activitiesximportance_Advanced"
      ]
     },
     "execution_count": 29,
     "metadata": {},
     "output_type": "execute_result"
    }
   ],
   "source": [
    "ohdict = {'qxcurrentxos' :  None, 'd4' :  None, 'd1' : None, 'qxcurrentxmodel': None, 'hbrand' : None,\n",
    "          'hmodelquota' : None, 'hmodelquota_reordered' : None,'Empowered_Customer_Groups' : None}\n",
    "                 \n",
    "\n",
    "varlist_X = ['d1',  # gender\n",
    "             'd2',  # age\n",
    "             'hbrand', # device brand\n",
    "             'd3_1', 'd3_2',    'd3_3',    'd3_4',    # employment\n",
    "             'd4', # education\n",
    "             'd6',    # hispanic\n",
    "             'd7_1', 'd7_2',    'd7_3',    'd7_4',    'd7_5',    'd7_97',    'd7_99', # race\n",
    "             'activitiesxrecency_PC1'\n",
    "            ]\n",
    "\n",
    "X, df_varmap = dataprep_X (df_data, df_varmap, df_valmap, varlist_X, \n",
    "                       ohdict=ohdict)\n",
    "\n",
    "like_str = 'Activitiesx'\n",
    "var_y_list = df_data.filter(like=like_str, axis=1).columns.values\n",
    "var_y_list = [y for y in var_y_list if 'xrecency' not in y] # remove predictor from response list\n",
    "print(var_y_list)\n",
    "print()\n",
    "tp_list_FEadv2, df_lmresults_FEadv2 = OLS_loop (var_y_list, ohdict, X, df_data, df_varmap)\n",
    "\n",
    "print (tp_list_FEadv2)\n",
    "print()\n",
    "\n",
    "df_lmresults_FEadv2.head()"
   ]
  },
  {
   "cell_type": "markdown",
   "metadata": {},
   "source": [
    "# *+ACTIVITIES_RECENCY* [y=UX_Index & UX_Loyalty]"
   ]
  },
  {
   "cell_type": "code",
   "execution_count": 30,
   "metadata": {},
   "outputs": [
    {
     "name": "stdout",
     "output_type": "stream",
     "text": [
      "['UX_Loyalty' 'UXindex' 'speaker_phone_UXI' 'charging_battery_UXI'\n",
      " 'transferring_files_UXI' 'unlocking_UXI' 'display_UXI'\n",
      " 'multiple_windows_UXI' 'organizing_home_screen_UXI' 'quick_settings_UXI'\n",
      " 'customizing_settings_UXI' 'notifications_UXI' 'search_phone_UXI'\n",
      " 'calendar_events_and_reminders_UXI' 'alarm_UXI'\n",
      " 'sending_and_receiving_texts_UXI' 'rear_camera_UXI' 'front_camera_UXI'\n",
      " 'video_recording_UXI' 'photo_editing_UXI' 'sharing_UXI'\n",
      " 'location_services_UXI' 'tracking_wellbeing_UXI' 'using_notes_UXI'\n",
      " 'mobile_payment_UXI' 'digital_assistant_UXI' 'AR_shopping_UXI']\n",
      "\n",
      "[('UX_Loyalty', 0.12009725724198661), ('UXindex', 0.07721331878820448), ('speaker_phone_UXI', 0.03984624323243091), ('charging_battery_UXI', 0.05395737577981086), ('transferring_files_UXI', 0.04552301534512693), ('unlocking_UXI', 0.04829264909445463), ('display_UXI', 0.05209259690736545), ('multiple_windows_UXI', 0.02186591624950851), ('organizing_home_screen_UXI', 0.0508929212308602), ('quick_settings_UXI', 0.04551140608267734), ('customizing_settings_UXI', 0.05384601986251836), ('notifications_UXI', 0.056112481018565696), ('search_phone_UXI', 0.03558750127792687), ('calendar_events_and_reminders_UXI', 0.047169584592020475), ('alarm_UXI', 0.04122500834109699), ('sending_and_receiving_texts_UXI', 0.06752488670966872), ('rear_camera_UXI', 0.07311367999228369), ('front_camera_UXI', 0.05829070537502534), ('video_recording_UXI', 0.057776290913750694), ('photo_editing_UXI', 0.0453413086267217), ('sharing_UXI', 0.05182427508185261), ('location_services_UXI', 0.050583067331241294), ('tracking_wellbeing_UXI', 0.02385459737036144), ('using_notes_UXI', 0.024798496144274762), ('mobile_payment_UXI', 0.02024313264150246), ('digital_assistant_UXI', 0.023703467962663316), ('AR_shopping_UXI', 0.0236370800813539)]\n",
      "\n"
     ]
    },
    {
     "data": {
      "text/html": [
       "<div>\n",
       "<style scoped>\n",
       "    .dataframe tbody tr th:only-of-type {\n",
       "        vertical-align: middle;\n",
       "    }\n",
       "\n",
       "    .dataframe tbody tr th {\n",
       "        vertical-align: top;\n",
       "    }\n",
       "\n",
       "    .dataframe thead th {\n",
       "        text-align: right;\n",
       "    }\n",
       "</style>\n",
       "<table border=\"1\" class=\"dataframe\">\n",
       "  <thead>\n",
       "    <tr style=\"text-align: right;\">\n",
       "      <th></th>\n",
       "      <th>Variable</th>\n",
       "      <th>Label</th>\n",
       "      <th>coeff</th>\n",
       "      <th>pvals</th>\n",
       "      <th>var_y</th>\n",
       "    </tr>\n",
       "  </thead>\n",
       "  <tbody>\n",
       "    <tr>\n",
       "      <th>2.0</th>\n",
       "      <td>d2</td>\n",
       "      <td>Age</td>\n",
       "      <td>0.02022</td>\n",
       "      <td>0.00000</td>\n",
       "      <td>UX_Loyalty</td>\n",
       "    </tr>\n",
       "    <tr>\n",
       "      <th>1213.0</th>\n",
       "      <td>d3_2</td>\n",
       "      <td>Employed</td>\n",
       "      <td>0.21078</td>\n",
       "      <td>0.02996</td>\n",
       "      <td>UX_Loyalty</td>\n",
       "    </tr>\n",
       "    <tr>\n",
       "      <th>1214.0</th>\n",
       "      <td>d3_3</td>\n",
       "      <td>Retired</td>\n",
       "      <td>0.41587</td>\n",
       "      <td>0.01064</td>\n",
       "      <td>UX_Loyalty</td>\n",
       "    </tr>\n",
       "    <tr>\n",
       "      <th>1215.0</th>\n",
       "      <td>d3_4</td>\n",
       "      <td>Not currently employed or in school</td>\n",
       "      <td>0.35972</td>\n",
       "      <td>0.00100</td>\n",
       "      <td>UX_Loyalty</td>\n",
       "    </tr>\n",
       "    <tr>\n",
       "      <th>1225.0</th>\n",
       "      <td>d7_97</td>\n",
       "      <td>Another race</td>\n",
       "      <td>0.26801</td>\n",
       "      <td>0.02291</td>\n",
       "      <td>UX_Loyalty</td>\n",
       "    </tr>\n",
       "  </tbody>\n",
       "</table>\n",
       "</div>"
      ],
      "text/plain": [
       "       Variable                                 Label    coeff    pvals       var_y\n",
       "2.0          d2                                   Age  0.02022  0.00000  UX_Loyalty\n",
       "1213.0     d3_2                              Employed  0.21078  0.02996  UX_Loyalty\n",
       "1214.0     d3_3                               Retired  0.41587  0.01064  UX_Loyalty\n",
       "1215.0     d3_4  Not currently employed or in school   0.35972  0.00100  UX_Loyalty\n",
       "1225.0    d7_97                          Another race  0.26801  0.02291  UX_Loyalty"
      ]
     },
     "execution_count": 30,
     "metadata": {},
     "output_type": "execute_result"
    }
   ],
   "source": [
    "ohdict = {'qxcurrentxos' :  None, 'd4' :  None, 'd1' : None, 'qxcurrentxmodel': None, 'hbrand' : None,\n",
    "          'hmodelquota' : None, 'hmodelquota_reordered' : None,'Empowered_Customer_Groups' : None}\n",
    "                 \n",
    "\n",
    "varlist_X = ['d1',  # gender\n",
    "             'd2',  # age\n",
    "             'hbrand', # device brand\n",
    "             'd3_1', 'd3_2',    'd3_3',    'd3_4',    # employment\n",
    "             'd4', # education\n",
    "             'd6',    # hispanic\n",
    "             'd7_1', 'd7_2',    'd7_3',    'd7_4',    'd7_5',    'd7_97',    'd7_99', # race\n",
    "             'activitiesxrecency_PC1']\n",
    "\n",
    "X, df_varmap = dataprep_X (df_data, df_varmap, df_valmap, varlist_X, \n",
    "                       ohdict=ohdict)\n",
    "\n",
    "like_str='_UXI'\n",
    "var_y_list = df_data.filter(like=like_str, axis=1).columns.values\n",
    "var_y_list = np.append('UXindex',var_y_list)\n",
    "var_y_list = np.append('UX_Loyalty',var_y_list)\n",
    "print(var_y_list)\n",
    "print()\n",
    "tp_list_UXi2, df_lmresults_UXi2 = OLS_loop (var_y_list, ohdict, X, df_data, df_varmap)\n",
    "\n",
    "print (tp_list_UXi2)\n",
    "print()\n",
    "\n",
    "df_lmresults_UXi2.head()"
   ]
  },
  {
   "cell_type": "markdown",
   "metadata": {},
   "source": [
    "# Compare coeff across models - Advanced"
   ]
  },
  {
   "cell_type": "code",
   "execution_count": null,
   "metadata": {},
   "outputs": [],
   "source": []
  },
  {
   "cell_type": "code",
   "execution_count": 31,
   "metadata": {},
   "outputs": [],
   "source": [
    "MSTR_lmresults_FEadv = pd.concat([df_lmresults_FEadv, df_lmresults_FEadv2], \n",
    "          keys=['no_rec', 'ys_rec'], names=['LM_run', 'Row_ID']).reset_index()\n"
   ]
  },
  {
   "cell_type": "code",
   "execution_count": 32,
   "metadata": {},
   "outputs": [
    {
     "data": {
      "image/png": "[encoded data removed]",
      "text/plain": [
       "<Figure size 432x288 with 1 Axes>"
      ]
     },
     "metadata": {
      "needs_background": "light"
     },
     "output_type": "display_data"
    },
    {
     "data": {
      "image/png": "[encoded data removed]",
      "text/plain": [
       "<Figure size 432x288 with 1 Axes>"
      ]
     },
     "metadata": {
      "needs_background": "light"
     },
     "output_type": "display_data"
    },
    {
     "data": {
      "image/png": "[encoded data removed]",
      "text/plain": [
       "<Figure size 432x288 with 1 Axes>"
      ]
     },
     "metadata": {
      "needs_background": "light"
     },
     "output_type": "display_data"
    },
    {
     "data": {
      "image/png": "[encoded data removed]",
      "text/plain": [
       "<Figure size 432x288 with 1 Axes>"
      ]
     },
     "metadata": {
      "needs_background": "light"
     },
     "output_type": "display_data"
    },
    {
     "data": {
      "image/png": "[encoded data removed]",
      "text/plain": [
       "<Figure size 432x288 with 1 Axes>"
      ]
     },
     "metadata": {
      "needs_background": "light"
     },
     "output_type": "display_data"
    }
   ],
   "source": [
    "for i, var in enumerate(np.unique(MSTR_lmresults_FEadv[MSTR_lmresults_FEadv.var_y.str.contains('Advanced')].var_y)):\n",
    "    plt.figure(i)\n",
    "    sns.barplot(y=\"Label\", x=\"coeff\", hue=\"LM_run\", \n",
    "                     data=MSTR_lmresults_FEadv[MSTR_lmresults_FEadv.var_y==var],\n",
    "                    palette=\"muted\").set_title(var)"
   ]
  },
  {
   "cell_type": "code",
   "execution_count": 35,
   "metadata": {},
   "outputs": [
    {
     "data": {
      "image/png": "[encoded data removed]",
      "text/plain": [
       "<Figure size 432x288 with 1 Axes>"
      ]
     },
     "metadata": {
      "needs_background": "light"
     },
     "output_type": "display_data"
    },
    {
     "data": {
      "image/png": "[encoded data removed]",
      "text/plain": [
       "<Figure size 432x288 with 1 Axes>"
      ]
     },
     "metadata": {
      "needs_background": "light"
     },
     "output_type": "display_data"
    },
    {
     "data": {
      "image/png": "[encoded data removed]",
      "text/plain": [
       "<Figure size 432x288 with 1 Axes>"
      ]
     },
     "metadata": {
      "needs_background": "light"
     },
     "output_type": "display_data"
    },
    {
     "data": {
      "image/png": "[encoded data removed]",
      "text/plain": [
       "<Figure size 432x288 with 1 Axes>"
      ]
     },
     "metadata": {
      "needs_background": "light"
     },
     "output_type": "display_data"
    },
    {
     "data": {
      "image/png": "[encoded data removed]",
      "text/plain": [
       "<Figure size 432x288 with 1 Axes>"
      ]
     },
     "metadata": {
      "needs_background": "light"
     },
     "output_type": "display_data"
    }
   ],
   "source": [
    "for i, var in enumerate(np.unique(MSTR_lmresults_FEadv[MSTR_lmresults_FEadv.var_y.str.contains('Advanced')].var_y)):\n",
    "    plt.figure(i)\n",
    "    ax = sns.barplot(y=\"Label\", x=\"pvals\", hue=\"LM_run\", \n",
    "                     data=MSTR_lmresults_FEadv[MSTR_lmresults_FEadv.var_y==var],\n",
    "                    palette=\"muted\")\n",
    "    ax.set_title(var)\n",
    "    ax.set_xscale(\"log\")"
   ]
  },
  {
   "cell_type": "code",
   "execution_count": 36,
   "metadata": {},
   "outputs": [
    {
     "data": {
      "text/html": [
       "<div>\n",
       "<style scoped>\n",
       "    .dataframe tbody tr th:only-of-type {\n",
       "        vertical-align: middle;\n",
       "    }\n",
       "\n",
       "    .dataframe tbody tr th {\n",
       "        vertical-align: top;\n",
       "    }\n",
       "\n",
       "    .dataframe thead th {\n",
       "        text-align: right;\n",
       "    }\n",
       "</style>\n",
       "<table border=\"1\" class=\"dataframe\">\n",
       "  <thead>\n",
       "    <tr style=\"text-align: right;\">\n",
       "      <th></th>\n",
       "      <th>response</th>\n",
       "      <th>r2</th>\n",
       "      <th>run</th>\n",
       "    </tr>\n",
       "  </thead>\n",
       "  <tbody>\n",
       "    <tr>\n",
       "      <th>0</th>\n",
       "      <td>Activitiesximportance_Advanced</td>\n",
       "      <td>0.055524</td>\n",
       "      <td>r2_no_rec</td>\n",
       "    </tr>\n",
       "    <tr>\n",
       "      <th>1</th>\n",
       "      <td>Activitiesximportance_Social</td>\n",
       "      <td>0.038258</td>\n",
       "      <td>r2_no_rec</td>\n",
       "    </tr>\n",
       "    <tr>\n",
       "      <th>2</th>\n",
       "      <td>Activitiesximportance_Productivity</td>\n",
       "      <td>0.046219</td>\n",
       "      <td>r2_no_rec</td>\n",
       "    </tr>\n",
       "    <tr>\n",
       "      <th>3</th>\n",
       "      <td>Activitiesxqualityxindicators_Advanced</td>\n",
       "      <td>0.065376</td>\n",
       "      <td>r2_no_rec</td>\n",
       "    </tr>\n",
       "    <tr>\n",
       "      <th>4</th>\n",
       "      <td>Activitiesxqualityxindicators_Social</td>\n",
       "      <td>0.024038</td>\n",
       "      <td>r2_no_rec</td>\n",
       "    </tr>\n",
       "  </tbody>\n",
       "</table>\n",
       "</div>"
      ],
      "text/plain": [
       "                                 response        r2        run\n",
       "0          Activitiesximportance_Advanced  0.055524  r2_no_rec\n",
       "1            Activitiesximportance_Social  0.038258  r2_no_rec\n",
       "2      Activitiesximportance_Productivity  0.046219  r2_no_rec\n",
       "3  Activitiesxqualityxindicators_Advanced  0.065376  r2_no_rec\n",
       "4    Activitiesxqualityxindicators_Social  0.024038  r2_no_rec"
      ]
     },
     "execution_count": 36,
     "metadata": {},
     "output_type": "execute_result"
    }
   ],
   "source": [
    "# MSTR_list_UXi = pd.merge(.set_index(0),\n",
    "#                          pd.DataFrame(tp_list_UXi).set_index(0),  \n",
    "#                         left_index=True, right_index=True)\n",
    "tmp_df1 = pd.DataFrame(tp_list_FEadv).set_index(0)\n",
    "tmp_df1['run'] = 'r2_no_rec'\n",
    "tmp_df2 = pd.DataFrame(tp_list_FEadv2).set_index(0)\n",
    "tmp_df2['run'] = 'r2_ys_rec'\n",
    "MSTR_list_FEadv = tmp_df1.append(tmp_df2)\n",
    "MSTR_list_FEadv = pd.DataFrame(MSTR_list_FEadv.to_records()) \n",
    "MSTR_list_FEadv.columns = ['response', 'r2', 'run']\n",
    "MSTR_list_FEadv.head()\n"
   ]
  },
  {
   "cell_type": "code",
   "execution_count": 37,
   "metadata": {
    "scrolled": true
   },
   "outputs": [
    {
     "data": {
      "image/png": "[encoded data removed]",
      "text/plain": [
       "<Figure size 432x288 with 1 Axes>"
      ]
     },
     "metadata": {
      "needs_background": "light"
     },
     "output_type": "display_data"
    }
   ],
   "source": [
    "ax = sns.barplot(y=\"response\", x=\"r2\", hue=\"run\", \n",
    "                 data=MSTR_list_FEadv,#[MSTR_list_FEadv.response.isin(['UXindex','UX_Loyalty'])],\n",
    "                palette=\"muted\")"
   ]
  },
  {
   "cell_type": "markdown",
   "metadata": {},
   "source": [
    "# Compare coeff across models - UXi"
   ]
  },
  {
   "cell_type": "code",
   "execution_count": 38,
   "metadata": {},
   "outputs": [
    {
     "data": {
      "text/html": [
       "<div>\n",
       "<style scoped>\n",
       "    .dataframe tbody tr th:only-of-type {\n",
       "        vertical-align: middle;\n",
       "    }\n",
       "\n",
       "    .dataframe tbody tr th {\n",
       "        vertical-align: top;\n",
       "    }\n",
       "\n",
       "    .dataframe thead th {\n",
       "        text-align: right;\n",
       "    }\n",
       "</style>\n",
       "<table border=\"1\" class=\"dataframe\">\n",
       "  <thead>\n",
       "    <tr style=\"text-align: right;\">\n",
       "      <th></th>\n",
       "      <th>LM_run</th>\n",
       "      <th>Row_ID</th>\n",
       "      <th>Variable</th>\n",
       "      <th>Label</th>\n",
       "      <th>coeff</th>\n",
       "      <th>pvals</th>\n",
       "      <th>var_y</th>\n",
       "    </tr>\n",
       "  </thead>\n",
       "  <tbody>\n",
       "    <tr>\n",
       "      <th>0</th>\n",
       "      <td>no_rec</td>\n",
       "      <td>2.0</td>\n",
       "      <td>d2</td>\n",
       "      <td>Age</td>\n",
       "      <td>0.01694</td>\n",
       "      <td>0.00000</td>\n",
       "      <td>UX_Loyalty</td>\n",
       "    </tr>\n",
       "    <tr>\n",
       "      <th>1</th>\n",
       "      <td>no_rec</td>\n",
       "      <td>1213.0</td>\n",
       "      <td>d3_2</td>\n",
       "      <td>Employed</td>\n",
       "      <td>0.21561</td>\n",
       "      <td>0.02841</td>\n",
       "      <td>UX_Loyalty</td>\n",
       "    </tr>\n",
       "    <tr>\n",
       "      <th>2</th>\n",
       "      <td>no_rec</td>\n",
       "      <td>1214.0</td>\n",
       "      <td>d3_3</td>\n",
       "      <td>Retired</td>\n",
       "      <td>0.39467</td>\n",
       "      <td>0.01671</td>\n",
       "      <td>UX_Loyalty</td>\n",
       "    </tr>\n",
       "    <tr>\n",
       "      <th>3</th>\n",
       "      <td>no_rec</td>\n",
       "      <td>1215.0</td>\n",
       "      <td>d3_4</td>\n",
       "      <td>Not currently employed or in school</td>\n",
       "      <td>0.34053</td>\n",
       "      <td>0.00210</td>\n",
       "      <td>UX_Loyalty</td>\n",
       "    </tr>\n",
       "    <tr>\n",
       "      <th>4</th>\n",
       "      <td>no_rec</td>\n",
       "      <td>1223.0</td>\n",
       "      <td>d7_4</td>\n",
       "      <td>Asian or Asian American</td>\n",
       "      <td>-0.19084</td>\n",
       "      <td>0.01141</td>\n",
       "      <td>UX_Loyalty</td>\n",
       "    </tr>\n",
       "  </tbody>\n",
       "</table>\n",
       "</div>"
      ],
      "text/plain": [
       "   LM_run  Row_ID Variable                                 Label    coeff    pvals       var_y\n",
       "0  no_rec     2.0       d2                                   Age  0.01694  0.00000  UX_Loyalty\n",
       "1  no_rec  1213.0     d3_2                              Employed  0.21561  0.02841  UX_Loyalty\n",
       "2  no_rec  1214.0     d3_3                               Retired  0.39467  0.01671  UX_Loyalty\n",
       "3  no_rec  1215.0     d3_4  Not currently employed or in school   0.34053  0.00210  UX_Loyalty\n",
       "4  no_rec  1223.0     d7_4               Asian or Asian American -0.19084  0.01141  UX_Loyalty"
      ]
     },
     "execution_count": 38,
     "metadata": {},
     "output_type": "execute_result"
    }
   ],
   "source": [
    "MSTR_lmresults_UXi = pd.concat([df_lmresults_UXi, df_lmresults_UXi2], \n",
    "          keys=['no_rec', 'ys_rec'], names=['LM_run', 'Row_ID']).reset_index()\n",
    "MSTR_lmresults_UXi.head()"
   ]
  },
  {
   "cell_type": "code",
   "execution_count": 39,
   "metadata": {},
   "outputs": [
    {
     "data": {
      "image/png": "[encoded data removed]",
      "text/plain": [
       "<Figure size 432x288 with 1 Axes>"
      ]
     },
     "metadata": {
      "needs_background": "light"
     },
     "output_type": "display_data"
    }
   ],
   "source": [
    "var='UX_Loyalty'\n",
    "ax = sns.barplot(y=\"Label\", x=\"coeff\", hue=\"LM_run\", \n",
    "                 data=MSTR_lmresults_UXi[MSTR_lmresults_UXi.var_y==var],\n",
    "                palette=\"muted\").set_title(var)"
   ]
  },
  {
   "cell_type": "code",
   "execution_count": 40,
   "metadata": {},
   "outputs": [
    {
     "data": {
      "text/plain": [
       "Text(0.5, 1.0, 'UX_Loyalty')"
      ]
     },
     "execution_count": 40,
     "metadata": {},
     "output_type": "execute_result"
    },
    {
     "data": {
      "image/png": "[encoded data removed]",
      "text/plain": [
       "<Figure size 432x288 with 1 Axes>"
      ]
     },
     "metadata": {
      "needs_background": "light"
     },
     "output_type": "display_data"
    }
   ],
   "source": [
    "var='UX_Loyalty'\n",
    "ax = sns.barplot(y=\"Label\", x=\"pvals\", hue=\"LM_run\", \n",
    "                 data=MSTR_lmresults_UXi[MSTR_lmresults_UXi.var_y=='UX_Loyalty'],\n",
    "                palette=\"muted\")\n",
    "ax.set_xscale(\"log\")\n",
    "ax.set_title(var)"
   ]
  },
  {
   "cell_type": "code",
   "execution_count": 46,
   "metadata": {},
   "outputs": [
    {
     "data": {
      "text/html": [
       "<div>\n",
       "<style scoped>\n",
       "    .dataframe tbody tr th:only-of-type {\n",
       "        vertical-align: middle;\n",
       "    }\n",
       "\n",
       "    .dataframe tbody tr th {\n",
       "        vertical-align: top;\n",
       "    }\n",
       "\n",
       "    .dataframe thead th {\n",
       "        text-align: right;\n",
       "    }\n",
       "</style>\n",
       "<table border=\"1\" class=\"dataframe\">\n",
       "  <thead>\n",
       "    <tr style=\"text-align: right;\">\n",
       "      <th></th>\n",
       "      <th>response</th>\n",
       "      <th>r2</th>\n",
       "      <th>run</th>\n",
       "    </tr>\n",
       "  </thead>\n",
       "  <tbody>\n",
       "    <tr>\n",
       "      <th>0</th>\n",
       "      <td>UXindex</td>\n",
       "      <td>0.058246</td>\n",
       "      <td>r2_no_rec</td>\n",
       "    </tr>\n",
       "    <tr>\n",
       "      <th>1</th>\n",
       "      <td>UX_Loyalty</td>\n",
       "      <td>0.096557</td>\n",
       "      <td>r2_no_rec</td>\n",
       "    </tr>\n",
       "    <tr>\n",
       "      <th>2</th>\n",
       "      <td>speaker_phone_UXI</td>\n",
       "      <td>0.025705</td>\n",
       "      <td>r2_no_rec</td>\n",
       "    </tr>\n",
       "    <tr>\n",
       "      <th>3</th>\n",
       "      <td>charging_battery_UXI</td>\n",
       "      <td>0.035121</td>\n",
       "      <td>r2_no_rec</td>\n",
       "    </tr>\n",
       "    <tr>\n",
       "      <th>4</th>\n",
       "      <td>transferring_files_UXI</td>\n",
       "      <td>0.030002</td>\n",
       "      <td>r2_no_rec</td>\n",
       "    </tr>\n",
       "  </tbody>\n",
       "</table>\n",
       "</div>"
      ],
      "text/plain": [
       "                 response        r2        run\n",
       "0                 UXindex  0.058246  r2_no_rec\n",
       "1              UX_Loyalty  0.096557  r2_no_rec\n",
       "2       speaker_phone_UXI  0.025705  r2_no_rec\n",
       "3    charging_battery_UXI  0.035121  r2_no_rec\n",
       "4  transferring_files_UXI  0.030002  r2_no_rec"
      ]
     },
     "execution_count": 46,
     "metadata": {},
     "output_type": "execute_result"
    }
   ],
   "source": [
    "# MSTR_list_UXi = pd.merge(.set_index(0),\n",
    "#                          pd.DataFrame(tp_list_UXi).set_index(0),  \n",
    "#                         left_index=True, right_index=True)\n",
    "tmp_df1 = pd.DataFrame(tp_list_UXi).set_index(0)\n",
    "tmp_df1['run'] = 'r2_no_rec'\n",
    "tmp_df2 = pd.DataFrame(tp_list_UXi2).set_index(0)\n",
    "tmp_df2['run'] = 'r2_ys_rec'\n",
    "MSTR_list_UXi = tmp_df1.append(tmp_df2)\n",
    "MSTR_list_UXi = pd.DataFrame(MSTR_list_UXi.to_records()) \n",
    "MSTR_list_UXi.columns = ['response', 'r2', 'run']\n",
    "MSTR_list_UXi.head()\n"
   ]
  },
  {
   "cell_type": "code",
   "execution_count": 47,
   "metadata": {},
   "outputs": [
    {
     "data": {
      "image/png": "[encoded data removed]",
      "text/plain": [
       "<Figure size 432x288 with 1 Axes>"
      ]
     },
     "metadata": {
      "needs_background": "light"
     },
     "output_type": "display_data"
    }
   ],
   "source": [
    "ax = sns.barplot(y=\"response\", x=\"r2\", hue=\"run\", \n",
    "                 data=MSTR_list_UXi[MSTR_list_UXi.response.isin(['UXindex','UX_Loyalty'])],\n",
    "                palette=\"muted\")"
   ]
  },
  {
   "cell_type": "code",
   "execution_count": 43,
   "metadata": {},
   "outputs": [
    {
     "data": {
      "text/html": [
       "<div>\n",
       "<style scoped>\n",
       "    .dataframe tbody tr th:only-of-type {\n",
       "        vertical-align: middle;\n",
       "    }\n",
       "\n",
       "    .dataframe tbody tr th {\n",
       "        vertical-align: top;\n",
       "    }\n",
       "\n",
       "    .dataframe thead th {\n",
       "        text-align: right;\n",
       "    }\n",
       "</style>\n",
       "<table border=\"1\" class=\"dataframe\">\n",
       "  <thead>\n",
       "    <tr style=\"text-align: right;\">\n",
       "      <th></th>\n",
       "      <th>response</th>\n",
       "      <th>r2</th>\n",
       "      <th>run</th>\n",
       "    </tr>\n",
       "  </thead>\n",
       "  <tbody>\n",
       "    <tr>\n",
       "      <th>0</th>\n",
       "      <td>UX_Loyalty</td>\n",
       "      <td>0.096557</td>\n",
       "      <td>r2_no_rec</td>\n",
       "    </tr>\n",
       "    <tr>\n",
       "      <th>1</th>\n",
       "      <td>speaker_phone_UXI</td>\n",
       "      <td>0.025705</td>\n",
       "      <td>r2_no_rec</td>\n",
       "    </tr>\n",
       "    <tr>\n",
       "      <th>2</th>\n",
       "      <td>charging_battery_UXI</td>\n",
       "      <td>0.035121</td>\n",
       "      <td>r2_no_rec</td>\n",
       "    </tr>\n",
       "    <tr>\n",
       "      <th>3</th>\n",
       "      <td>transferring_files_UXI</td>\n",
       "      <td>0.030002</td>\n",
       "      <td>r2_no_rec</td>\n",
       "    </tr>\n",
       "    <tr>\n",
       "      <th>4</th>\n",
       "      <td>unlocking_UXI</td>\n",
       "      <td>0.035400</td>\n",
       "      <td>r2_no_rec</td>\n",
       "    </tr>\n",
       "    <tr>\n",
       "      <th>5</th>\n",
       "      <td>display_UXI</td>\n",
       "      <td>0.042393</td>\n",
       "      <td>r2_no_rec</td>\n",
       "    </tr>\n",
       "    <tr>\n",
       "      <th>6</th>\n",
       "      <td>multiple_windows_UXI</td>\n",
       "      <td>0.011865</td>\n",
       "      <td>r2_no_rec</td>\n",
       "    </tr>\n",
       "    <tr>\n",
       "      <th>7</th>\n",
       "      <td>organizing_home_screen_UXI</td>\n",
       "      <td>0.024724</td>\n",
       "      <td>r2_no_rec</td>\n",
       "    </tr>\n",
       "    <tr>\n",
       "      <th>8</th>\n",
       "      <td>quick_settings_UXI</td>\n",
       "      <td>0.032016</td>\n",
       "      <td>r2_no_rec</td>\n",
       "    </tr>\n",
       "    <tr>\n",
       "      <th>9</th>\n",
       "      <td>customizing_settings_UXI</td>\n",
       "      <td>0.028424</td>\n",
       "      <td>r2_no_rec</td>\n",
       "    </tr>\n",
       "    <tr>\n",
       "      <th>10</th>\n",
       "      <td>notifications_UXI</td>\n",
       "      <td>0.032289</td>\n",
       "      <td>r2_no_rec</td>\n",
       "    </tr>\n",
       "    <tr>\n",
       "      <th>11</th>\n",
       "      <td>search_phone_UXI</td>\n",
       "      <td>0.025256</td>\n",
       "      <td>r2_no_rec</td>\n",
       "    </tr>\n",
       "    <tr>\n",
       "      <th>12</th>\n",
       "      <td>calendar_events_and_reminders_UXI</td>\n",
       "      <td>0.025970</td>\n",
       "      <td>r2_no_rec</td>\n",
       "    </tr>\n",
       "    <tr>\n",
       "      <th>13</th>\n",
       "      <td>alarm_UXI</td>\n",
       "      <td>0.024731</td>\n",
       "      <td>r2_no_rec</td>\n",
       "    </tr>\n",
       "    <tr>\n",
       "      <th>14</th>\n",
       "      <td>sending_and_receiving_texts_UXI</td>\n",
       "      <td>0.054072</td>\n",
       "      <td>r2_no_rec</td>\n",
       "    </tr>\n",
       "    <tr>\n",
       "      <th>15</th>\n",
       "      <td>rear_camera_UXI</td>\n",
       "      <td>0.045918</td>\n",
       "      <td>r2_no_rec</td>\n",
       "    </tr>\n",
       "    <tr>\n",
       "      <th>16</th>\n",
       "      <td>front_camera_UXI</td>\n",
       "      <td>0.031888</td>\n",
       "      <td>r2_no_rec</td>\n",
       "    </tr>\n",
       "    <tr>\n",
       "      <th>17</th>\n",
       "      <td>video_recording_UXI</td>\n",
       "      <td>0.032600</td>\n",
       "      <td>r2_no_rec</td>\n",
       "    </tr>\n",
       "    <tr>\n",
       "      <th>18</th>\n",
       "      <td>photo_editing_UXI</td>\n",
       "      <td>0.023525</td>\n",
       "      <td>r2_no_rec</td>\n",
       "    </tr>\n",
       "    <tr>\n",
       "      <th>19</th>\n",
       "      <td>sharing_UXI</td>\n",
       "      <td>0.028184</td>\n",
       "      <td>r2_no_rec</td>\n",
       "    </tr>\n",
       "    <tr>\n",
       "      <th>20</th>\n",
       "      <td>location_services_UXI</td>\n",
       "      <td>0.031889</td>\n",
       "      <td>r2_no_rec</td>\n",
       "    </tr>\n",
       "    <tr>\n",
       "      <th>21</th>\n",
       "      <td>tracking_wellbeing_UXI</td>\n",
       "      <td>0.015361</td>\n",
       "      <td>r2_no_rec</td>\n",
       "    </tr>\n",
       "    <tr>\n",
       "      <th>22</th>\n",
       "      <td>using_notes_UXI</td>\n",
       "      <td>0.017421</td>\n",
       "      <td>r2_no_rec</td>\n",
       "    </tr>\n",
       "    <tr>\n",
       "      <th>23</th>\n",
       "      <td>mobile_payment_UXI</td>\n",
       "      <td>0.011186</td>\n",
       "      <td>r2_no_rec</td>\n",
       "    </tr>\n",
       "    <tr>\n",
       "      <th>24</th>\n",
       "      <td>digital_assistant_UXI</td>\n",
       "      <td>0.016522</td>\n",
       "      <td>r2_no_rec</td>\n",
       "    </tr>\n",
       "    <tr>\n",
       "      <th>25</th>\n",
       "      <td>AR_shopping_UXI</td>\n",
       "      <td>0.017543</td>\n",
       "      <td>r2_no_rec</td>\n",
       "    </tr>\n",
       "    <tr>\n",
       "      <th>26</th>\n",
       "      <td>UX_Loyalty</td>\n",
       "      <td>0.120097</td>\n",
       "      <td>r2_ys_rec</td>\n",
       "    </tr>\n",
       "    <tr>\n",
       "      <th>27</th>\n",
       "      <td>UXindex</td>\n",
       "      <td>0.077213</td>\n",
       "      <td>r2_ys_rec</td>\n",
       "    </tr>\n",
       "    <tr>\n",
       "      <th>28</th>\n",
       "      <td>speaker_phone_UXI</td>\n",
       "      <td>0.039846</td>\n",
       "      <td>r2_ys_rec</td>\n",
       "    </tr>\n",
       "    <tr>\n",
       "      <th>29</th>\n",
       "      <td>charging_battery_UXI</td>\n",
       "      <td>0.053957</td>\n",
       "      <td>r2_ys_rec</td>\n",
       "    </tr>\n",
       "    <tr>\n",
       "      <th>30</th>\n",
       "      <td>transferring_files_UXI</td>\n",
       "      <td>0.045523</td>\n",
       "      <td>r2_ys_rec</td>\n",
       "    </tr>\n",
       "    <tr>\n",
       "      <th>31</th>\n",
       "      <td>unlocking_UXI</td>\n",
       "      <td>0.048293</td>\n",
       "      <td>r2_ys_rec</td>\n",
       "    </tr>\n",
       "    <tr>\n",
       "      <th>32</th>\n",
       "      <td>display_UXI</td>\n",
       "      <td>0.052093</td>\n",
       "      <td>r2_ys_rec</td>\n",
       "    </tr>\n",
       "    <tr>\n",
       "      <th>33</th>\n",
       "      <td>multiple_windows_UXI</td>\n",
       "      <td>0.021866</td>\n",
       "      <td>r2_ys_rec</td>\n",
       "    </tr>\n",
       "    <tr>\n",
       "      <th>34</th>\n",
       "      <td>organizing_home_screen_UXI</td>\n",
       "      <td>0.050893</td>\n",
       "      <td>r2_ys_rec</td>\n",
       "    </tr>\n",
       "    <tr>\n",
       "      <th>35</th>\n",
       "      <td>quick_settings_UXI</td>\n",
       "      <td>0.045511</td>\n",
       "      <td>r2_ys_rec</td>\n",
       "    </tr>\n",
       "    <tr>\n",
       "      <th>36</th>\n",
       "      <td>customizing_settings_UXI</td>\n",
       "      <td>0.053846</td>\n",
       "      <td>r2_ys_rec</td>\n",
       "    </tr>\n",
       "    <tr>\n",
       "      <th>37</th>\n",
       "      <td>notifications_UXI</td>\n",
       "      <td>0.056112</td>\n",
       "      <td>r2_ys_rec</td>\n",
       "    </tr>\n",
       "    <tr>\n",
       "      <th>38</th>\n",
       "      <td>search_phone_UXI</td>\n",
       "      <td>0.035588</td>\n",
       "      <td>r2_ys_rec</td>\n",
       "    </tr>\n",
       "    <tr>\n",
       "      <th>39</th>\n",
       "      <td>calendar_events_and_reminders_UXI</td>\n",
       "      <td>0.047170</td>\n",
       "      <td>r2_ys_rec</td>\n",
       "    </tr>\n",
       "    <tr>\n",
       "      <th>40</th>\n",
       "      <td>alarm_UXI</td>\n",
       "      <td>0.041225</td>\n",
       "      <td>r2_ys_rec</td>\n",
       "    </tr>\n",
       "    <tr>\n",
       "      <th>41</th>\n",
       "      <td>sending_and_receiving_texts_UXI</td>\n",
       "      <td>0.067525</td>\n",
       "      <td>r2_ys_rec</td>\n",
       "    </tr>\n",
       "    <tr>\n",
       "      <th>42</th>\n",
       "      <td>rear_camera_UXI</td>\n",
       "      <td>0.073114</td>\n",
       "      <td>r2_ys_rec</td>\n",
       "    </tr>\n",
       "    <tr>\n",
       "      <th>43</th>\n",
       "      <td>front_camera_UXI</td>\n",
       "      <td>0.058291</td>\n",
       "      <td>r2_ys_rec</td>\n",
       "    </tr>\n",
       "    <tr>\n",
       "      <th>44</th>\n",
       "      <td>video_recording_UXI</td>\n",
       "      <td>0.057776</td>\n",
       "      <td>r2_ys_rec</td>\n",
       "    </tr>\n",
       "    <tr>\n",
       "      <th>45</th>\n",
       "      <td>photo_editing_UXI</td>\n",
       "      <td>0.045341</td>\n",
       "      <td>r2_ys_rec</td>\n",
       "    </tr>\n",
       "    <tr>\n",
       "      <th>46</th>\n",
       "      <td>sharing_UXI</td>\n",
       "      <td>0.051824</td>\n",
       "      <td>r2_ys_rec</td>\n",
       "    </tr>\n",
       "    <tr>\n",
       "      <th>47</th>\n",
       "      <td>location_services_UXI</td>\n",
       "      <td>0.050583</td>\n",
       "      <td>r2_ys_rec</td>\n",
       "    </tr>\n",
       "    <tr>\n",
       "      <th>48</th>\n",
       "      <td>tracking_wellbeing_UXI</td>\n",
       "      <td>0.023855</td>\n",
       "      <td>r2_ys_rec</td>\n",
       "    </tr>\n",
       "    <tr>\n",
       "      <th>49</th>\n",
       "      <td>using_notes_UXI</td>\n",
       "      <td>0.024798</td>\n",
       "      <td>r2_ys_rec</td>\n",
       "    </tr>\n",
       "    <tr>\n",
       "      <th>50</th>\n",
       "      <td>mobile_payment_UXI</td>\n",
       "      <td>0.020243</td>\n",
       "      <td>r2_ys_rec</td>\n",
       "    </tr>\n",
       "    <tr>\n",
       "      <th>51</th>\n",
       "      <td>digital_assistant_UXI</td>\n",
       "      <td>0.023703</td>\n",
       "      <td>r2_ys_rec</td>\n",
       "    </tr>\n",
       "    <tr>\n",
       "      <th>52</th>\n",
       "      <td>AR_shopping_UXI</td>\n",
       "      <td>0.023637</td>\n",
       "      <td>r2_ys_rec</td>\n",
       "    </tr>\n",
       "  </tbody>\n",
       "</table>\n",
       "</div>"
      ],
      "text/plain": [
       "                             response        r2        run\n",
       "0                          UX_Loyalty  0.096557  r2_no_rec\n",
       "1                   speaker_phone_UXI  0.025705  r2_no_rec\n",
       "2                charging_battery_UXI  0.035121  r2_no_rec\n",
       "3              transferring_files_UXI  0.030002  r2_no_rec\n",
       "4                       unlocking_UXI  0.035400  r2_no_rec\n",
       "5                         display_UXI  0.042393  r2_no_rec\n",
       "6                multiple_windows_UXI  0.011865  r2_no_rec\n",
       "7          organizing_home_screen_UXI  0.024724  r2_no_rec\n",
       "8                  quick_settings_UXI  0.032016  r2_no_rec\n",
       "9            customizing_settings_UXI  0.028424  r2_no_rec\n",
       "10                  notifications_UXI  0.032289  r2_no_rec\n",
       "11                   search_phone_UXI  0.025256  r2_no_rec\n",
       "12  calendar_events_and_reminders_UXI  0.025970  r2_no_rec\n",
       "13                          alarm_UXI  0.024731  r2_no_rec\n",
       "14    sending_and_receiving_texts_UXI  0.054072  r2_no_rec\n",
       "15                    rear_camera_UXI  0.045918  r2_no_rec\n",
       "16                   front_camera_UXI  0.031888  r2_no_rec\n",
       "17                video_recording_UXI  0.032600  r2_no_rec\n",
       "18                  photo_editing_UXI  0.023525  r2_no_rec\n",
       "19                        sharing_UXI  0.028184  r2_no_rec\n",
       "20              location_services_UXI  0.031889  r2_no_rec\n",
       "21             tracking_wellbeing_UXI  0.015361  r2_no_rec\n",
       "22                    using_notes_UXI  0.017421  r2_no_rec\n",
       "23                 mobile_payment_UXI  0.011186  r2_no_rec\n",
       "24              digital_assistant_UXI  0.016522  r2_no_rec\n",
       "25                    AR_shopping_UXI  0.017543  r2_no_rec\n",
       "26                         UX_Loyalty  0.120097  r2_ys_rec\n",
       "27                            UXindex  0.077213  r2_ys_rec\n",
       "28                  speaker_phone_UXI  0.039846  r2_ys_rec\n",
       "29               charging_battery_UXI  0.053957  r2_ys_rec\n",
       "30             transferring_files_UXI  0.045523  r2_ys_rec\n",
       "31                      unlocking_UXI  0.048293  r2_ys_rec\n",
       "32                        display_UXI  0.052093  r2_ys_rec\n",
       "33               multiple_windows_UXI  0.021866  r2_ys_rec\n",
       "34         organizing_home_screen_UXI  0.050893  r2_ys_rec\n",
       "35                 quick_settings_UXI  0.045511  r2_ys_rec\n",
       "36           customizing_settings_UXI  0.053846  r2_ys_rec\n",
       "37                  notifications_UXI  0.056112  r2_ys_rec\n",
       "38                   search_phone_UXI  0.035588  r2_ys_rec\n",
       "39  calendar_events_and_reminders_UXI  0.047170  r2_ys_rec\n",
       "40                          alarm_UXI  0.041225  r2_ys_rec\n",
       "41    sending_and_receiving_texts_UXI  0.067525  r2_ys_rec\n",
       "42                    rear_camera_UXI  0.073114  r2_ys_rec\n",
       "43                   front_camera_UXI  0.058291  r2_ys_rec\n",
       "44                video_recording_UXI  0.057776  r2_ys_rec\n",
       "45                  photo_editing_UXI  0.045341  r2_ys_rec\n",
       "46                        sharing_UXI  0.051824  r2_ys_rec\n",
       "47              location_services_UXI  0.050583  r2_ys_rec\n",
       "48             tracking_wellbeing_UXI  0.023855  r2_ys_rec\n",
       "49                    using_notes_UXI  0.024798  r2_ys_rec\n",
       "50                 mobile_payment_UXI  0.020243  r2_ys_rec\n",
       "51              digital_assistant_UXI  0.023703  r2_ys_rec\n",
       "52                    AR_shopping_UXI  0.023637  r2_ys_rec"
      ]
     },
     "execution_count": 43,
     "metadata": {},
     "output_type": "execute_result"
    }
   ],
   "source": [
    "MSTR_list_UXi"
   ]
  },
  {
   "cell_type": "markdown",
   "metadata": {},
   "source": [
    "# Write Outputs"
   ]
  },
  {
   "cell_type": "code",
   "execution_count": 51,
   "metadata": {},
   "outputs": [],
   "source": [
    "MSTR_lmresults_FEadv.append(MSTR_lmresults_UXi).to_csv('../data/output/regression_params.csv', index=False)\n",
    "MSTR_list_FEadv.append(MSTR_list_UXi).to_csv('../data/output/regression_r2.csv', index=False)\n"
   ]
  },
  {
   "cell_type": "code",
   "execution_count": null,
   "metadata": {},
   "outputs": [],
   "source": []
  },
  {
   "cell_type": "code",
   "execution_count": 50,
   "metadata": {},
   "outputs": [
    {
     "data": {
      "text/html": [
       "<div>\n",
       "<style scoped>\n",
       "    .dataframe tbody tr th:only-of-type {\n",
       "        vertical-align: middle;\n",
       "    }\n",
       "\n",
       "    .dataframe tbody tr th {\n",
       "        vertical-align: top;\n",
       "    }\n",
       "\n",
       "    .dataframe thead th {\n",
       "        text-align: right;\n",
       "    }\n",
       "</style>\n",
       "<table border=\"1\" class=\"dataframe\">\n",
       "  <thead>\n",
       "    <tr style=\"text-align: right;\">\n",
       "      <th></th>\n",
       "      <th>LM_run</th>\n",
       "      <th>Row_ID</th>\n",
       "      <th>Variable</th>\n",
       "      <th>Label</th>\n",
       "      <th>coeff</th>\n",
       "      <th>pvals</th>\n",
       "      <th>var_y</th>\n",
       "    </tr>\n",
       "  </thead>\n",
       "  <tbody>\n",
       "    <tr>\n",
       "      <th>0</th>\n",
       "      <td>no_rec</td>\n",
       "      <td>1220.0</td>\n",
       "      <td>d7_1</td>\n",
       "      <td>White</td>\n",
       "      <td>-0.29235</td>\n",
       "      <td>0.00000</td>\n",
       "      <td>Activitiesximportance_Advanced</td>\n",
       "    </tr>\n",
       "    <tr>\n",
       "      <th>1</th>\n",
       "      <td>no_rec</td>\n",
       "      <td>0.0</td>\n",
       "      <td>d4_3</td>\n",
       "      <td>Some college – no degree</td>\n",
       "      <td>0.11708</td>\n",
       "      <td>0.03404</td>\n",
       "      <td>Activitiesximportance_Advanced</td>\n",
       "    </tr>\n",
       "    <tr>\n",
       "      <th>2</th>\n",
       "      <td>no_rec</td>\n",
       "      <td>0.0</td>\n",
       "      <td>d4_1</td>\n",
       "      <td>Some high school or less</td>\n",
       "      <td>-0.35897</td>\n",
       "      <td>0.00038</td>\n",
       "      <td>Activitiesximportance_Advanced</td>\n",
       "    </tr>\n",
       "    <tr>\n",
       "      <th>3</th>\n",
       "      <td>no_rec</td>\n",
       "      <td>0.0</td>\n",
       "      <td>d4_2</td>\n",
       "      <td>High school graduate</td>\n",
       "      <td>0.11743</td>\n",
       "      <td>0.03648</td>\n",
       "      <td>Activitiesximportance_Advanced</td>\n",
       "    </tr>\n",
       "    <tr>\n",
       "      <th>4</th>\n",
       "      <td>no_rec</td>\n",
       "      <td>0.0</td>\n",
       "      <td>d1_4</td>\n",
       "      <td>Gender -  Would rather not say</td>\n",
       "      <td>-1.10746</td>\n",
       "      <td>0.01767</td>\n",
       "      <td>Activitiesximportance_Advanced</td>\n",
       "    </tr>\n",
       "  </tbody>\n",
       "</table>\n",
       "</div>"
      ],
      "text/plain": [
       "   LM_run  Row_ID Variable                           Label    coeff    pvals                           var_y\n",
       "0  no_rec  1220.0     d7_1                           White -0.29235  0.00000  Activitiesximportance_Advanced\n",
       "1  no_rec     0.0     d4_3        Some college – no degree  0.11708  0.03404  Activitiesximportance_Advanced\n",
       "2  no_rec     0.0     d4_1        Some high school or less -0.35897  0.00038  Activitiesximportance_Advanced\n",
       "3  no_rec     0.0     d4_2            High school graduate  0.11743  0.03648  Activitiesximportance_Advanced\n",
       "4  no_rec     0.0     d1_4  Gender -  Would rather not say -1.10746  0.01767  Activitiesximportance_Advanced"
      ]
     },
     "execution_count": 50,
     "metadata": {},
     "output_type": "execute_result"
    }
   ],
   "source": []
  },
  {
   "cell_type": "markdown",
   "metadata": {},
   "source": [
    "# ARCHIVE"
   ]
  },
  {
   "cell_type": "code",
   "execution_count": null,
   "metadata": {},
   "outputs": [],
   "source": [
    "# Decision Trees\n",
    "\n",
    "# Decision Trees\n",
    "\n",
    "from sklearn import tree\n",
    "\n",
    "clf = tree.DecisionTreeRegressor()\n",
    "clf = clf.fit(X_train,y_train)\n",
    "\n",
    "import graphviz \n",
    "dot_data = tree.export_graphviz(clf, out_file='../data/output/tree_unstd.dot',\n",
    "                                feature_names=X_train.columns,\n",
    "                               filled=True, rounded= True, max_depth = 5) \n",
    "\n",
    "!dot -Tpng ../data/output/tree_unstd.dot -o ../data/output/tree_unstd.png\n",
    "\n",
    "![title](\"../data/output/tree.png\")"
   ]
  },
  {
   "cell_type": "code",
   "execution_count": null,
   "metadata": {},
   "outputs": [],
   "source": [
    "# Decision Trees\n",
    "\n",
    "from sklearn import tree\n",
    "\n",
    "ohdict = {'qxcurrentxos': None, 'd4': None, 'd1': None, 'qxcurrentxmodel': None, \n",
    "              'hbrand': None, 'hmodelquota': None, 'hmodelquota_reordered': None, \n",
    "              'Empowered_Customer_Groups': None}\n",
    "varlist_X = ['d1', 'd2', 'hbrand', 'd3_1', 'd3_2', 'd3_3', 'd3_4', 'd4', 'd6', 'd7_1', \n",
    "                 'd7_2', 'd7_3', 'd7_4', 'd7_5', 'd7_97', 'd7_99']\n",
    "Y = dataprep_Y (df_data, 'UX_Loyalty')\n",
    "X, df_varmap = dataprep_X (df_data, df_varmap, df_valmap, varlist_X, ohdict=ohdict)\n",
    "\n",
    "clf = tree.DecisionTreeRegressor()\n",
    "clf = clf.fit(X,Y)\n",
    "\n",
    "import graphviz \n",
    "dot_data = tree.export_graphviz(clf, out_file='../data/output/tree_UXloy.dot',\n",
    "                                feature_names=X.columns,\n",
    "                               filled=True, rounded= True, max_depth = 5) \n",
    "\n"
   ]
  }
 ],
 "metadata": {
  "kernelspec": {
   "display_name": "Python 3",
   "language": "python",
   "name": "python3"
  },
  "language_info": {
   "codemirror_mode": {
    "name": "ipython",
    "version": 3
   },
   "file_extension": ".py",
   "mimetype": "text/x-python",
   "name": "python",
   "nbconvert_exporter": "python",
   "pygments_lexer": "ipython3",
   "version": "3.7.3"
  }
 },
 "nbformat": 4,
 "nbformat_minor": 2
}
