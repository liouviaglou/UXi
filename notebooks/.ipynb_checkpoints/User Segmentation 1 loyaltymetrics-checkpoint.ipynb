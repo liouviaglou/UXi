{
 "cells": [
  {
   "cell_type": "markdown",
   "metadata": {},
   "source": [
    "# Idea:\n",
    "\n",
    "An implimentation of user segmentation (clustering) on drivers.\n",
    "\n",
    "A) Examine variable importance (drivers) of cluster membership.\n",
    "\n",
    "    0. Brand trust & love:\n",
    "        - Q_Brand_Trust_Drivers. Transparent in its actions \n",
    "        - Q_Brand_Trust_Drivers. Ethical \n",
    "        - Q_Brand_Trust_Drivers. Respectful \n",
    "        - Q_Brand_Trust_Drivers. Honest \n",
    "        - Q_BrandxLove.(agree or disagree) [BRAND] is a brand I love\n",
    "\n",
    "    1. Loyalty metrics: \\['qxadvocacy01_1',\t'qxadvocacy02_1',\t\n",
    "    'qxretention_1',\t'qxenrichment_1']\n",
    "        - Q_Advocacy01. likely to recommend  [MODEL] or another [BRAND] smartphone\n",
    "        - Q_Advocacy02. likely to leave a positive online review for [MODEL]\n",
    "        - Q_Retention.  likely to select [BRAND] the next time (smertphone) \n",
    "        - Q_Enrichment. likely to consider [BRAND] products (other electronic product)\n",
    "\n",
    "    2. Usage variables: \\[ 'qxtime',\t\n",
    "    'qxactivitiesxrecency_1 to qxactivitiesxrecency_25',\t\n",
    "    'qxcurrentxos',\t'qxcurrentxstorage',\t'qxcurrentxcarrier',\t\n",
    "    'qxunlocking',\t'qxotherxdevices_1_1 to qxotherxdevices_9_6',\t\n",
    "    'qxpreviousxbrand',\t'qxtransition_1',\t'qxupgrade01_1 to qxupgrade01_9'\\]\n",
    "    \n",
    "    3. Driver statements: \\[ qxdrivers_1 to qxdrivers_34\\]\n",
    "    \n",
    "    4. Total Quality Indicators\t\\[ qxoverallxqualityxindicators_1 to qxoverallxqualityxindicators_4\\] : \n",
    "        - Q_Overall_Quality_Indicators. [Brand] is trustworthy \n",
    "        - Q_Overall_Quality_Indicators. When I use my [MODEL] , I feel good/positive \n",
    "        - Q_Overall_Quality_Indicators. My [MODEL]  meets my needs/ performs well \n",
    "        - Q_Overall_Quality_Indicators. My [MODEL]  is simple/easy to use \n",
    "\n",
    "B) Examine statistical significant differences in demographics amongst segments. \n",
    "\n",
    "    1. Demographic Columns \\[ 'd1',\t'd3_1',\t'd3_2',\t'd3_3',\t'd3_4',\t'd4', 'd6',\t'd7_1',\t'd7_2',\t'd7_3',\t'd7_4',\t'd7_5',\t'd7_97',\t'd7_99',\t'd7_97_other' \\]\n",
    "    -- convert d4[7] to dummy variable\n",
    "\n",
    "C) Subsequently, we analyse difference between UX_index and UX_Loyalty for the clusters. We'll see a large difference in these two metrics for clusters which relationship between the quality indicators (feeling, trust, simplicity and function) and Loyalty differs. \n",
    "\n",
    "This will enable us to make infer things like:\n",
    "Individuals who feel that [\"Uing my [MODEL] doesn't require a lot of effort\"] \n"
   ]
  },
  {
   "cell_type": "markdown",
   "metadata": {},
   "source": [
    "# Summary \n",
    "\n",
    "#### Loyalty Metrics\n",
    "#### 3 clusters\n",
    "\n",
    "### Important Features in Defining Cluster 2:\n",
    "In order of most important & largest coeff to smallest<p>\n",
    "qxenrichment_1 consider [BRAND] other electronic product (0.425472)\t-2.975259\t\n",
    "qxretention_1  select [BRAND] new smartphone (0.251706)\t-2.813366\t\n",
    "qxadvocacy01_1\trecommend your [MODEL] or another [BRAND] smartphone (0.240122)\t-2.752179\t\n",
    "qxadvocacy02_1 leave a positive online review (0.082700) -1.930674\n",
    "<br>\n",
    "\n",
    "### statistically significant differences in demographics between groups \n",
    "**driven by Loyalty Metrics** are in whether or not an individual is **currently employed or in school**. If the individual is a student, they are most likley to be in group 0. If they are neither employed nor in school, they are most likely to be in group 0, too!\n"
   ]
  },
  {
   "cell_type": "markdown",
   "metadata": {},
   "source": [
    "# Housekeeping"
   ]
  },
  {
   "cell_type": "code",
   "execution_count": 1,
   "metadata": {},
   "outputs": [],
   "source": [
    "import pandas as pd\n",
    "import matplotlib\n",
    "import numpy as np\n",
    "import matplotlib.pyplot as plt\n",
    "import matplotlib.backends.backend_pdf\n",
    "from matplotlib.backends.backend_pdf import PdfPages\n",
    "\n",
    "%matplotlib inline \n",
    "\n",
    "\n",
    "# Seaborn visualization library\n",
    "import seaborn as sns\n",
    "\n",
    "from sklearn.preprocessing import StandardScaler\n",
    "from sklearn.datasets.samples_generator import make_blobs\n",
    "from sklearn.cluster import KMeans\n",
    "\n",
    "from sklearn.feature_selection import RFE\n",
    "from sklearn.linear_model import LogisticRegression\n",
    "\n",
    "\n",
    "from sklearn.feature_selection import SelectFromModel\n",
    "from sklearn.linear_model import LassoCV\n",
    "from sklearn.ensemble import RandomForestClassifier\n",
    "\n",
    "import scipy"
   ]
  },
  {
   "cell_type": "code",
   "execution_count": 2,
   "metadata": {},
   "outputs": [],
   "source": [
    "pd.set_option('display.max_columns', 1000)\n",
    "pd.options.display.max_rows=1000\n",
    "\n",
    "pd.set_option('display.width', 1000)\n",
    "pd.set_option('display.max_colwidth', 1000)\n",
    "\n",
    "plt.rcParams.update({'figure.max_open_warning': 0})\n"
   ]
  },
  {
   "cell_type": "code",
   "execution_count": 3,
   "metadata": {},
   "outputs": [],
   "source": [
    "import random\n",
    "random.seed( 0 )"
   ]
  },
  {
   "cell_type": "markdown",
   "metadata": {},
   "source": [
    "# Load in Data"
   ]
  },
  {
   "cell_type": "code",
   "execution_count": 4,
   "metadata": {},
   "outputs": [
    {
     "name": "stderr",
     "output_type": "stream",
     "text": [
      "/usr/local/lib/python3.7/site-packages/IPython/core/interactiveshell.py:3057: DtypeWarning: Columns (1218) have mixed types. Specify dtype option on import or set low_memory=False.\n",
      "  interactivity=interactivity, compiler=compiler, result=result)\n"
     ]
    }
   ],
   "source": [
    "root = r\"../data/input/07 Samsung UX Index - Web App Implementation/\"\n",
    "\n",
    "fname_data = root + r\"Samsung UX Index Survey_Data.csv\"\n",
    "df_data = pd.read_csv(fname_data)\n",
    "\n",
    "fname_vaxmap = root + r\"Samsung UX Index Survey_Datamap.xlsx\"\n",
    "df_varmap = pd.read_excel(fname_vaxmap, header=1, sheet_name=0)\n",
    "df_valmap = pd.read_excel(fname_vaxmap, header=1, sheet_name=1)"
   ]
  },
  {
   "cell_type": "markdown",
   "metadata": {},
   "source": [
    "# Modify d4 column"
   ]
  },
  {
   "cell_type": "code",
   "execution_count": 5,
   "metadata": {},
   "outputs": [],
   "source": [
    "df_data['d4_X'] = np.where(df_data['d4']==7, '', df_data['d4'])\n",
    "df_data['d4_7']  = np.where(df_data['d4']==7, df_data['d4'], '')"
   ]
  },
  {
   "cell_type": "markdown",
   "metadata": {},
   "source": [
    "# Modify d1 column"
   ]
  },
  {
   "cell_type": "raw",
   "metadata": {},
   "source": [
    "d1\t1\tMale\n",
    "d1\t2\tFemale\n",
    "d1\t3\tNon-binary\n",
    "d1\t4\tWould rather not say"
   ]
  },
  {
   "cell_type": "code",
   "execution_count": 7,
   "metadata": {},
   "outputs": [],
   "source": [
    "df_data['d1_1'] = np.where(df_data['d1']==1, '', df_data['d1'])\n",
    "df_data['d1_2']  = np.where(df_data['d1']==2, df_data['d1'], '')\n",
    "df_data['d1_3'] = np.where(df_data['d1']==3, '', df_data['d1'])\n",
    "df_data['d1_4']  = np.where(df_data['d1']==4, df_data['d1'], '')"
   ]
  },
  {
   "cell_type": "markdown",
   "metadata": {},
   "source": [
    "# Loyalty Columns"
   ]
  },
  {
   "cell_type": "code",
   "execution_count": 12,
   "metadata": {},
   "outputs": [
    {
     "name": "stdout",
     "output_type": "stream",
     "text": [
      "4\n"
     ]
    },
    {
     "data": {
      "text/plain": [
       "['qxadvocacy01_1', 'qxadvocacy02_1', 'qxretention_1', 'qxenrichment_1']"
      ]
     },
     "execution_count": 12,
     "metadata": {},
     "output_type": "execute_result"
    }
   ],
   "source": [
    "qx_list = ['qxadvocacy01_1',    'qxadvocacy02_1',    \n",
    "'qxretention_1',    'qxenrichment_1']\n",
    "print(len(qx_list))\n",
    "qx_list\n"
   ]
  },
  {
   "cell_type": "code",
   "execution_count": 13,
   "metadata": {},
   "outputs": [],
   "source": [
    "df_data_sub = df_data[qx_list]"
   ]
  },
  {
   "cell_type": "code",
   "execution_count": 14,
   "metadata": {},
   "outputs": [],
   "source": [
    "# list non  integer columns  to be coerced into ints\n",
    "coerce_cols = df_data_sub.dtypes[df_data_sub.dtypes!='int64'].index.to_list()\n",
    "df_data_sub[coerce_cols] = df_data_sub[coerce_cols].apply(pd.to_numeric, errors='coerce')"
   ]
  },
  {
   "cell_type": "code",
   "execution_count": 15,
   "metadata": {},
   "outputs": [
    {
     "name": "stdout",
     "output_type": "stream",
     "text": [
      "['qxadvocacy01_1' 'qxadvocacy02_1' 'qxenrichment_1' 'qxretention_1']\n",
      "\n",
      "[dtype('int64')]\n",
      "\n",
      "(3254, 4)\n"
     ]
    },
    {
     "data": {
      "text/html": [
       "<div>\n",
       "<style scoped>\n",
       "    .dataframe tbody tr th:only-of-type {\n",
       "        vertical-align: middle;\n",
       "    }\n",
       "\n",
       "    .dataframe tbody tr th {\n",
       "        vertical-align: top;\n",
       "    }\n",
       "\n",
       "    .dataframe thead th {\n",
       "        text-align: right;\n",
       "    }\n",
       "</style>\n",
       "<table border=\"1\" class=\"dataframe\">\n",
       "  <thead>\n",
       "    <tr style=\"text-align: right;\">\n",
       "      <th></th>\n",
       "      <th>qxadvocacy01_1</th>\n",
       "      <th>qxadvocacy02_1</th>\n",
       "      <th>qxretention_1</th>\n",
       "      <th>qxenrichment_1</th>\n",
       "    </tr>\n",
       "  </thead>\n",
       "  <tbody>\n",
       "    <tr>\n",
       "      <th>count</th>\n",
       "      <td>3254.000000</td>\n",
       "      <td>3254.000000</td>\n",
       "      <td>3254.000000</td>\n",
       "      <td>3254.000000</td>\n",
       "    </tr>\n",
       "    <tr>\n",
       "      <th>mean</th>\n",
       "      <td>5.917333</td>\n",
       "      <td>5.503073</td>\n",
       "      <td>6.051321</td>\n",
       "      <td>5.877689</td>\n",
       "    </tr>\n",
       "    <tr>\n",
       "      <th>std</th>\n",
       "      <td>1.125503</td>\n",
       "      <td>1.494068</td>\n",
       "      <td>1.170971</td>\n",
       "      <td>1.205495</td>\n",
       "    </tr>\n",
       "    <tr>\n",
       "      <th>min</th>\n",
       "      <td>1.000000</td>\n",
       "      <td>1.000000</td>\n",
       "      <td>1.000000</td>\n",
       "      <td>1.000000</td>\n",
       "    </tr>\n",
       "    <tr>\n",
       "      <th>25%</th>\n",
       "      <td>5.000000</td>\n",
       "      <td>5.000000</td>\n",
       "      <td>5.000000</td>\n",
       "      <td>5.000000</td>\n",
       "    </tr>\n",
       "    <tr>\n",
       "      <th>50%</th>\n",
       "      <td>6.000000</td>\n",
       "      <td>6.000000</td>\n",
       "      <td>6.000000</td>\n",
       "      <td>6.000000</td>\n",
       "    </tr>\n",
       "    <tr>\n",
       "      <th>75%</th>\n",
       "      <td>7.000000</td>\n",
       "      <td>7.000000</td>\n",
       "      <td>7.000000</td>\n",
       "      <td>7.000000</td>\n",
       "    </tr>\n",
       "    <tr>\n",
       "      <th>max</th>\n",
       "      <td>7.000000</td>\n",
       "      <td>7.000000</td>\n",
       "      <td>7.000000</td>\n",
       "      <td>7.000000</td>\n",
       "    </tr>\n",
       "  </tbody>\n",
       "</table>\n",
       "</div>"
      ],
      "text/plain": [
       "       qxadvocacy01_1  qxadvocacy02_1  qxretention_1  qxenrichment_1\n",
       "count     3254.000000     3254.000000    3254.000000     3254.000000\n",
       "mean         5.917333        5.503073       6.051321        5.877689\n",
       "std          1.125503        1.494068       1.170971        1.205495\n",
       "min          1.000000        1.000000       1.000000        1.000000\n",
       "25%          5.000000        5.000000       5.000000        5.000000\n",
       "50%          6.000000        6.000000       6.000000        6.000000\n",
       "75%          7.000000        7.000000       7.000000        7.000000\n",
       "max          7.000000        7.000000       7.000000        7.000000"
      ]
     },
     "execution_count": 15,
     "metadata": {},
     "output_type": "execute_result"
    }
   ],
   "source": [
    "# list all column types\n",
    "print( np.unique( df_data_sub.columns))\n",
    "print()\n",
    "# confirm all are numeric types\n",
    "print(np.unique(df_data_sub.dtypes.to_frame()[0].to_list()))\n",
    "print()\n",
    "print(df_data_sub.shape)\n",
    "df_data_sub.describe()"
   ]
  },
  {
   "cell_type": "code",
   "execution_count": 16,
   "metadata": {},
   "outputs": [
    {
     "data": {
      "text/plain": [
       "Series([], dtype: int64)"
      ]
     },
     "execution_count": 16,
     "metadata": {},
     "output_type": "execute_result"
    }
   ],
   "source": [
    "# Count Na values\n",
    "df_data_sub.isna().sum()[df_data_sub.isna().sum()>0].sort_values(ascending=False)"
   ]
  },
  {
   "cell_type": "code",
   "execution_count": 17,
   "metadata": {},
   "outputs": [
    {
     "name": "stdout",
     "output_type": "stream",
     "text": [
      "[]\n",
      "(3254, 4)\n",
      "(3254, 4)\n"
     ]
    }
   ],
   "source": [
    "# drop columns where are values are missing \n",
    "# qxactivitiesxdrivers_2_1\n",
    "cols_allmissing = df_data_sub.isna().sum()[df_data_sub.isna().sum()==3254].index.to_list()\n",
    "print(cols_allmissing)\n",
    "print(df_data_sub.shape)\n",
    "df_data_sub = df_data_sub.drop(cols_allmissing, axis = 1) \n",
    "print(df_data_sub.shape)"
   ]
  },
  {
   "cell_type": "code",
   "execution_count": 18,
   "metadata": {},
   "outputs": [
    {
     "data": {
      "text/html": [
       "<div>\n",
       "<style scoped>\n",
       "    .dataframe tbody tr th:only-of-type {\n",
       "        vertical-align: middle;\n",
       "    }\n",
       "\n",
       "    .dataframe tbody tr th {\n",
       "        vertical-align: top;\n",
       "    }\n",
       "\n",
       "    .dataframe thead th {\n",
       "        text-align: right;\n",
       "    }\n",
       "</style>\n",
       "<table border=\"1\" class=\"dataframe\">\n",
       "  <thead>\n",
       "    <tr style=\"text-align: right;\">\n",
       "      <th></th>\n",
       "      <th>qxadvocacy01_1</th>\n",
       "      <th>qxadvocacy02_1</th>\n",
       "      <th>qxretention_1</th>\n",
       "      <th>qxenrichment_1</th>\n",
       "    </tr>\n",
       "  </thead>\n",
       "  <tbody>\n",
       "    <tr>\n",
       "      <th>count</th>\n",
       "      <td>3.254000e+03</td>\n",
       "      <td>3.254000e+03</td>\n",
       "      <td>3.254000e+03</td>\n",
       "      <td>3.254000e+03</td>\n",
       "    </tr>\n",
       "    <tr>\n",
       "      <th>mean</th>\n",
       "      <td>2.795005e-16</td>\n",
       "      <td>1.659534e-16</td>\n",
       "      <td>-2.096254e-16</td>\n",
       "      <td>3.493757e-16</td>\n",
       "    </tr>\n",
       "    <tr>\n",
       "      <th>std</th>\n",
       "      <td>1.000154e+00</td>\n",
       "      <td>1.000154e+00</td>\n",
       "      <td>1.000154e+00</td>\n",
       "      <td>1.000154e+00</td>\n",
       "    </tr>\n",
       "    <tr>\n",
       "      <th>min</th>\n",
       "      <td>-4.369679e+00</td>\n",
       "      <td>-3.014432e+00</td>\n",
       "      <td>-4.314450e+00</td>\n",
       "      <td>-4.046834e+00</td>\n",
       "    </tr>\n",
       "    <tr>\n",
       "      <th>25%</th>\n",
       "      <td>-8.151673e-01</td>\n",
       "      <td>-3.367655e-01</td>\n",
       "      <td>-8.979579e-01</td>\n",
       "      <td>-7.281853e-01</td>\n",
       "    </tr>\n",
       "    <tr>\n",
       "      <th>50%</th>\n",
       "      <td>7.346064e-02</td>\n",
       "      <td>3.326511e-01</td>\n",
       "      <td>-4.383483e-02</td>\n",
       "      <td>1.014768e-01</td>\n",
       "    </tr>\n",
       "    <tr>\n",
       "      <th>75%</th>\n",
       "      <td>9.620886e-01</td>\n",
       "      <td>1.002068e+00</td>\n",
       "      <td>8.102882e-01</td>\n",
       "      <td>9.311389e-01</td>\n",
       "    </tr>\n",
       "    <tr>\n",
       "      <th>max</th>\n",
       "      <td>9.620886e-01</td>\n",
       "      <td>1.002068e+00</td>\n",
       "      <td>8.102882e-01</td>\n",
       "      <td>9.311389e-01</td>\n",
       "    </tr>\n",
       "  </tbody>\n",
       "</table>\n",
       "</div>"
      ],
      "text/plain": [
       "       qxadvocacy01_1  qxadvocacy02_1  qxretention_1  qxenrichment_1\n",
       "count    3.254000e+03    3.254000e+03   3.254000e+03    3.254000e+03\n",
       "mean     2.795005e-16    1.659534e-16  -2.096254e-16    3.493757e-16\n",
       "std      1.000154e+00    1.000154e+00   1.000154e+00    1.000154e+00\n",
       "min     -4.369679e+00   -3.014432e+00  -4.314450e+00   -4.046834e+00\n",
       "25%     -8.151673e-01   -3.367655e-01  -8.979579e-01   -7.281853e-01\n",
       "50%      7.346064e-02    3.326511e-01  -4.383483e-02    1.014768e-01\n",
       "75%      9.620886e-01    1.002068e+00   8.102882e-01    9.311389e-01\n",
       "max      9.620886e-01    1.002068e+00   8.102882e-01    9.311389e-01"
      ]
     },
     "execution_count": 18,
     "metadata": {},
     "output_type": "execute_result"
    }
   ],
   "source": [
    "# Standardize the qx_list columns\n",
    "scaler = StandardScaler().fit(df_data_sub)\n",
    "df_data_sub_std = df_data_sub.copy()\n",
    "df_data_sub_std[df_data_sub.columns] = scaler.transform(df_data_sub)\n",
    "df_data_sub_std.describe()"
   ]
  },
  {
   "cell_type": "code",
   "execution_count": 19,
   "metadata": {},
   "outputs": [
    {
     "data": {
      "text/plain": [
       "Series([], dtype: int64)"
      ]
     },
     "execution_count": 19,
     "metadata": {},
     "output_type": "execute_result"
    }
   ],
   "source": [
    "# Count all Na values, now that they're scaled... \n",
    "# did scaling generate nans for columns with *some* missing values? NO\n",
    "df_data_sub_std.isna().sum()[df_data_sub_std.isna().sum()>0].sort_values(ascending=False)"
   ]
  },
  {
   "cell_type": "code",
   "execution_count": 20,
   "metadata": {},
   "outputs": [],
   "source": [
    "# fill NA's with 0\n",
    "df_data_sub_std.fillna(0, inplace=True)"
   ]
  },
  {
   "cell_type": "code",
   "execution_count": 21,
   "metadata": {},
   "outputs": [
    {
     "data": {
      "text/plain": [
       "0"
      ]
     },
     "execution_count": 21,
     "metadata": {},
     "output_type": "execute_result"
    }
   ],
   "source": [
    "# Count Na values... should totall to 0 across the board\n",
    "sum(df_data_sub_std.isna().sum()[df_data_sub.isna().sum()>0])"
   ]
  },
  {
   "cell_type": "code",
   "execution_count": 22,
   "metadata": {},
   "outputs": [
    {
     "data": {
      "image/png": "[encoded data removed]",
      "text/plain": [
       "<Figure size 432x288 with 1 Axes>"
      ]
     },
     "metadata": {
      "needs_background": "light"
     },
     "output_type": "display_data"
    }
   ],
   "source": [
    "# Using WCSS-based (sum of dists b/w centroids & points for all clusters)...\n",
    "# ... Elbow Method to find optimal number of clusters\n",
    "wcss = []\n",
    "for i in range(1, 11):\n",
    "    kmeans = KMeans(n_clusters=i, init='k-means++', max_iter=300, n_init=10, random_state=0)\n",
    "    kmeans.fit(df_data_sub_std)\n",
    "    wcss.append(kmeans.inertia_)\n",
    "plt.plot(range(1, 11), wcss)\n",
    "plt.title('Elbow Method')\n",
    "plt.xlabel('Number of clusters')\n",
    "plt.ylabel('WCSS')\n",
    "plt.show()"
   ]
  },
  {
   "cell_type": "code",
   "execution_count": 25,
   "metadata": {},
   "outputs": [],
   "source": [
    "# Fitting KMeans w/ Optimal number of Clusters\n",
    "kmeans = KMeans(n_clusters=3, init='k-means++', max_iter=300, n_init=10, random_state=0)\n",
    "pred_y = kmeans.fit_predict(df_data_sub_std)"
   ]
  },
  {
   "cell_type": "code",
   "execution_count": 26,
   "metadata": {},
   "outputs": [
    {
     "name": "stderr",
     "output_type": "stream",
     "text": [
      "/usr/local/lib/python3.7/site-packages/ipykernel_launcher.py:1: FutureWarning: \n",
      ".ix is deprecated. Please use\n",
      ".loc for label based indexing or\n",
      ".iloc for positional indexing\n",
      "\n",
      "See the documentation here:\n",
      "http://pandas.pydata.org/pandas-docs/stable/user_guide/indexing.html#ix-indexer-is-deprecated\n",
      "  \"\"\"Entry point for launching an IPython kernel.\n"
     ]
    },
    {
     "data": {
      "image/png": "[encoded data removed]",
      "text/plain": [
       "<Figure size 432x288 with 1 Axes>"
      ]
     },
     "metadata": {
      "needs_background": "light"
     },
     "output_type": "display_data"
    }
   ],
   "source": [
    "plt.scatter(df_data_sub_std.ix[:,0], df_data_sub_std.ix[:,1], c=pred_y)\n",
    "plt.scatter(kmeans.cluster_centers_[:, 0], kmeans.cluster_centers_[:, 1], s=300, c='red')\n",
    "plt.show()"
   ]
  },
  {
   "cell_type": "code",
   "execution_count": 27,
   "metadata": {},
   "outputs": [
    {
     "data": {
      "text/html": [
       "<div>\n",
       "<style scoped>\n",
       "    .dataframe tbody tr th:only-of-type {\n",
       "        vertical-align: middle;\n",
       "    }\n",
       "\n",
       "    .dataframe tbody tr th {\n",
       "        vertical-align: top;\n",
       "    }\n",
       "\n",
       "    .dataframe thead tr th {\n",
       "        text-align: left;\n",
       "    }\n",
       "\n",
       "    .dataframe thead tr:last-of-type th {\n",
       "        text-align: right;\n",
       "    }\n",
       "</style>\n",
       "<table border=\"1\" class=\"dataframe\">\n",
       "  <thead>\n",
       "    <tr>\n",
       "      <th></th>\n",
       "      <th colspan=\"8\" halign=\"left\">qxadvocacy01_1</th>\n",
       "      <th colspan=\"8\" halign=\"left\">qxadvocacy02_1</th>\n",
       "      <th colspan=\"8\" halign=\"left\">qxretention_1</th>\n",
       "      <th colspan=\"8\" halign=\"left\">qxenrichment_1</th>\n",
       "    </tr>\n",
       "    <tr>\n",
       "      <th></th>\n",
       "      <th>count</th>\n",
       "      <th>mean</th>\n",
       "      <th>std</th>\n",
       "      <th>min</th>\n",
       "      <th>25%</th>\n",
       "      <th>50%</th>\n",
       "      <th>75%</th>\n",
       "      <th>max</th>\n",
       "      <th>count</th>\n",
       "      <th>mean</th>\n",
       "      <th>std</th>\n",
       "      <th>min</th>\n",
       "      <th>25%</th>\n",
       "      <th>50%</th>\n",
       "      <th>75%</th>\n",
       "      <th>max</th>\n",
       "      <th>count</th>\n",
       "      <th>mean</th>\n",
       "      <th>std</th>\n",
       "      <th>min</th>\n",
       "      <th>25%</th>\n",
       "      <th>50%</th>\n",
       "      <th>75%</th>\n",
       "      <th>max</th>\n",
       "      <th>count</th>\n",
       "      <th>mean</th>\n",
       "      <th>std</th>\n",
       "      <th>min</th>\n",
       "      <th>25%</th>\n",
       "      <th>50%</th>\n",
       "      <th>75%</th>\n",
       "      <th>max</th>\n",
       "    </tr>\n",
       "    <tr>\n",
       "      <th>pred</th>\n",
       "      <th></th>\n",
       "      <th></th>\n",
       "      <th></th>\n",
       "      <th></th>\n",
       "      <th></th>\n",
       "      <th></th>\n",
       "      <th></th>\n",
       "      <th></th>\n",
       "      <th></th>\n",
       "      <th></th>\n",
       "      <th></th>\n",
       "      <th></th>\n",
       "      <th></th>\n",
       "      <th></th>\n",
       "      <th></th>\n",
       "      <th></th>\n",
       "      <th></th>\n",
       "      <th></th>\n",
       "      <th></th>\n",
       "      <th></th>\n",
       "      <th></th>\n",
       "      <th></th>\n",
       "      <th></th>\n",
       "      <th></th>\n",
       "      <th></th>\n",
       "      <th></th>\n",
       "      <th></th>\n",
       "      <th></th>\n",
       "      <th></th>\n",
       "      <th></th>\n",
       "      <th></th>\n",
       "      <th></th>\n",
       "    </tr>\n",
       "  </thead>\n",
       "  <tbody>\n",
       "    <tr>\n",
       "      <th>0</th>\n",
       "      <td>1437.0</td>\n",
       "      <td>0.759875</td>\n",
       "      <td>0.391403</td>\n",
       "      <td>-0.815167</td>\n",
       "      <td>0.962089</td>\n",
       "      <td>0.962089</td>\n",
       "      <td>0.962089</td>\n",
       "      <td>0.962089</td>\n",
       "      <td>1437.0</td>\n",
       "      <td>0.706723</td>\n",
       "      <td>0.493452</td>\n",
       "      <td>-1.006182</td>\n",
       "      <td>0.332651</td>\n",
       "      <td>1.002068</td>\n",
       "      <td>1.002068</td>\n",
       "      <td>1.002068</td>\n",
       "      <td>1437.0</td>\n",
       "      <td>0.699734</td>\n",
       "      <td>0.312255</td>\n",
       "      <td>-0.897958</td>\n",
       "      <td>0.810288</td>\n",
       "      <td>0.810288</td>\n",
       "      <td>0.810288</td>\n",
       "      <td>0.810288</td>\n",
       "      <td>1437.0</td>\n",
       "      <td>0.714053</td>\n",
       "      <td>0.434371</td>\n",
       "      <td>-1.557847</td>\n",
       "      <td>0.931139</td>\n",
       "      <td>0.931139</td>\n",
       "      <td>0.931139</td>\n",
       "      <td>0.931139</td>\n",
       "    </tr>\n",
       "    <tr>\n",
       "      <th>1</th>\n",
       "      <td>1364.0</td>\n",
       "      <td>-0.274433</td>\n",
       "      <td>0.656951</td>\n",
       "      <td>-3.481051</td>\n",
       "      <td>-0.815167</td>\n",
       "      <td>0.073461</td>\n",
       "      <td>0.073461</td>\n",
       "      <td>0.962089</td>\n",
       "      <td>1364.0</td>\n",
       "      <td>-0.346090</td>\n",
       "      <td>0.856776</td>\n",
       "      <td>-3.014432</td>\n",
       "      <td>-0.336766</td>\n",
       "      <td>-0.336766</td>\n",
       "      <td>0.332651</td>\n",
       "      <td>1.002068</td>\n",
       "      <td>1364.0</td>\n",
       "      <td>-0.200382</td>\n",
       "      <td>0.719864</td>\n",
       "      <td>-4.314450</td>\n",
       "      <td>-0.897958</td>\n",
       "      <td>-0.043835</td>\n",
       "      <td>-0.043835</td>\n",
       "      <td>0.810288</td>\n",
       "      <td>1364.0</td>\n",
       "      <td>-0.207518</td>\n",
       "      <td>0.670725</td>\n",
       "      <td>-4.046834</td>\n",
       "      <td>-0.728185</td>\n",
       "      <td>0.101477</td>\n",
       "      <td>0.101477</td>\n",
       "      <td>0.931139</td>\n",
       "    </tr>\n",
       "    <tr>\n",
       "      <th>2</th>\n",
       "      <td>453.0</td>\n",
       "      <td>-1.584135</td>\n",
       "      <td>0.912667</td>\n",
       "      <td>-4.369679</td>\n",
       "      <td>-1.703795</td>\n",
       "      <td>-1.703795</td>\n",
       "      <td>-0.815167</td>\n",
       "      <td>0.962089</td>\n",
       "      <td>453.0</td>\n",
       "      <td>-1.199766</td>\n",
       "      <td>0.905547</td>\n",
       "      <td>-3.014432</td>\n",
       "      <td>-1.675599</td>\n",
       "      <td>-1.006182</td>\n",
       "      <td>-0.336766</td>\n",
       "      <td>1.002068</td>\n",
       "      <td>453.0</td>\n",
       "      <td>-1.616326</td>\n",
       "      <td>1.015198</td>\n",
       "      <td>-4.314450</td>\n",
       "      <td>-1.752081</td>\n",
       "      <td>-1.752081</td>\n",
       "      <td>-0.897958</td>\n",
       "      <td>0.810288</td>\n",
       "      <td>453.0</td>\n",
       "      <td>-1.640264</td>\n",
       "      <td>0.892047</td>\n",
       "      <td>-4.046834</td>\n",
       "      <td>-1.557847</td>\n",
       "      <td>-1.557847</td>\n",
       "      <td>-0.728185</td>\n",
       "      <td>0.931139</td>\n",
       "    </tr>\n",
       "  </tbody>\n",
       "</table>\n",
       "</div>"
      ],
      "text/plain": [
       "     qxadvocacy01_1                                                                       qxadvocacy02_1                                                                       qxretention_1                                                                       qxenrichment_1                                                                      \n",
       "              count      mean       std       min       25%       50%       75%       max          count      mean       std       min       25%       50%       75%       max         count      mean       std       min       25%       50%       75%       max          count      mean       std       min       25%       50%       75%       max\n",
       "pred                                                                                                                                                                                                                                                                                                                                                   \n",
       "0            1437.0  0.759875  0.391403 -0.815167  0.962089  0.962089  0.962089  0.962089         1437.0  0.706723  0.493452 -1.006182  0.332651  1.002068  1.002068  1.002068        1437.0  0.699734  0.312255 -0.897958  0.810288  0.810288  0.810288  0.810288         1437.0  0.714053  0.434371 -1.557847  0.931139  0.931139  0.931139  0.931139\n",
       "1            1364.0 -0.274433  0.656951 -3.481051 -0.815167  0.073461  0.073461  0.962089         1364.0 -0.346090  0.856776 -3.014432 -0.336766 -0.336766  0.332651  1.002068        1364.0 -0.200382  0.719864 -4.314450 -0.897958 -0.043835 -0.043835  0.810288         1364.0 -0.207518  0.670725 -4.046834 -0.728185  0.101477  0.101477  0.931139\n",
       "2             453.0 -1.584135  0.912667 -4.369679 -1.703795 -1.703795 -0.815167  0.962089          453.0 -1.199766  0.905547 -3.014432 -1.675599 -1.006182 -0.336766  1.002068         453.0 -1.616326  1.015198 -4.314450 -1.752081 -1.752081 -0.897958  0.810288          453.0 -1.640264  0.892047 -4.046834 -1.557847 -1.557847 -0.728185  0.931139"
      ]
     },
     "execution_count": 27,
     "metadata": {},
     "output_type": "execute_result"
    }
   ],
   "source": [
    "df_data_sub_std['pred'] = pred_y\n",
    "df_data_sub_std.groupby('pred').describe()"
   ]
  },
  {
   "cell_type": "code",
   "execution_count": 28,
   "metadata": {},
   "outputs": [
    {
     "data": {
      "image/png": "[encoded data removed]",
      "text/plain": [
       "<Figure size 1296x432 with 1 Axes>"
      ]
     },
     "metadata": {
      "needs_background": "light"
     },
     "output_type": "display_data"
    }
   ],
   "source": [
    "fig, ax = plt.subplots(figsize=(18,6))\n",
    "  \n",
    "for name, group in df_data_sub_std.groupby('pred'):\n",
    "    group[qx_list[0]].plot( kind='kde', ax=ax, title=qx_list[0], legend=True)\n",
    "\n",
    "plt.show()"
   ]
  },
  {
   "cell_type": "markdown",
   "metadata": {},
   "source": [
    "# Save Each Plot to PDF "
   ]
  },
  {
   "cell_type": "code",
   "execution_count": 29,
   "metadata": {
    "scrolled": false
   },
   "outputs": [
    {
     "data": {
      "image/png": "[encoded data removed]",
      "text/plain": [
       "<Figure size 432x288 with 1 Axes>"
      ]
     },
     "metadata": {
      "needs_background": "light"
     },
     "output_type": "display_data"
    },
    {
     "data": {
      "image/png": "[encoded data removed]",
      "text/plain": [
       "<Figure size 432x288 with 1 Axes>"
      ]
     },
     "metadata": {
      "needs_background": "light"
     },
     "output_type": "display_data"
    },
    {
     "data": {
      "image/png": "[encoded data removed]",
      "text/plain": [
       "<Figure size 432x288 with 1 Axes>"
      ]
     },
     "metadata": {
      "needs_background": "light"
     },
     "output_type": "display_data"
    },
    {
     "data": {
      "image/png": "[encoded data removed]",
      "text/plain": [
       "<Figure size 432x288 with 1 Axes>"
      ]
     },
     "metadata": {
      "needs_background": "light"
     },
     "output_type": "display_data"
    }
   ],
   "source": [
    "with PdfPages('../data/output/Seg1_KNN3_byloyaltymetrics.pdf') as pdf:\n",
    "    plt.ioff()\n",
    "    for col in df_data_sub_std.columns.drop(['pred']):\n",
    "        plt.figure()\n",
    "        fig=df_data_sub_std.groupby('pred')[col].plot(kind='kde', title=col, legend=True)[0].get_figure()\n",
    "        pdf.savefig(fig)\n"
   ]
  },
  {
   "cell_type": "markdown",
   "metadata": {},
   "source": [
    "# Variable Importance - Cluster 2"
   ]
  },
  {
   "cell_type": "code",
   "execution_count": 30,
   "metadata": {},
   "outputs": [],
   "source": [
    "df_data_sub_std['pred_2'] = np.where(df_data_sub_std['pred']==2, 1, 0)\n",
    "\n",
    "df_data_sub_std_vars=df_data_sub_std.columns.values.tolist()\n",
    "\n",
    "y = df_data_sub_std['pred_2']\n",
    "\n",
    "X = df_data_sub_std\n",
    "X = X.drop(columns=['pred','pred_2'])"
   ]
  },
  {
   "cell_type": "markdown",
   "metadata": {},
   "source": [
    "## Logistic Regression"
   ]
  },
  {
   "cell_type": "code",
   "execution_count": 31,
   "metadata": {},
   "outputs": [
    {
     "name": "stderr",
     "output_type": "stream",
     "text": [
      "/usr/local/lib/python3.7/site-packages/sklearn/linear_model/logistic.py:432: FutureWarning: Default solver will be changed to 'lbfgs' in 0.22. Specify a solver to silence this warning.\n",
      "  FutureWarning)\n"
     ]
    },
    {
     "data": {
      "text/plain": [
       "LogisticRegression(C=1.0, class_weight=None, dual=False, fit_intercept=True,\n",
       "                   intercept_scaling=1, l1_ratio=None, max_iter=100,\n",
       "                   multi_class='warn', n_jobs=None, penalty='l2',\n",
       "                   random_state=None, solver='warn', tol=0.0001, verbose=0,\n",
       "                   warm_start=False)"
      ]
     },
     "execution_count": 31,
     "metadata": {},
     "output_type": "execute_result"
    }
   ],
   "source": [
    "m = LogisticRegression()\n",
    "m.fit(X, y)"
   ]
  },
  {
   "cell_type": "code",
   "execution_count": 32,
   "metadata": {},
   "outputs": [
    {
     "data": {
      "text/html": [
       "<div>\n",
       "<style scoped>\n",
       "    .dataframe tbody tr th:only-of-type {\n",
       "        vertical-align: middle;\n",
       "    }\n",
       "\n",
       "    .dataframe tbody tr th {\n",
       "        vertical-align: top;\n",
       "    }\n",
       "\n",
       "    .dataframe thead th {\n",
       "        text-align: right;\n",
       "    }\n",
       "</style>\n",
       "<table border=\"1\" class=\"dataframe\">\n",
       "  <thead>\n",
       "    <tr style=\"text-align: right;\">\n",
       "      <th></th>\n",
       "      <th>Variable</th>\n",
       "      <th>coefficient</th>\n",
       "      <th>Label</th>\n",
       "    </tr>\n",
       "  </thead>\n",
       "  <tbody>\n",
       "    <tr>\n",
       "      <th>0</th>\n",
       "      <td>qxadvocacy02_1</td>\n",
       "      <td>-1.930674</td>\n",
       "      <td>Q_Advocacy02. How likely are you to leave a positive online review for your [MODEL]?</td>\n",
       "    </tr>\n",
       "    <tr>\n",
       "      <th>1</th>\n",
       "      <td>qxadvocacy01_1</td>\n",
       "      <td>-2.752179</td>\n",
       "      <td>Q_Advocacy01. How likely are you to recommend your [MODEL] or another [BRAND] smartphone to a family member, friend, or colleague looking to purchase a new smartphone?</td>\n",
       "    </tr>\n",
       "    <tr>\n",
       "      <th>2</th>\n",
       "      <td>qxretention_1</td>\n",
       "      <td>-2.813366</td>\n",
       "      <td>Q_Retention. How likely are you to select [BRAND] the next time you decide to upgrade/purchase a new smartphone?</td>\n",
       "    </tr>\n",
       "    <tr>\n",
       "      <th>3</th>\n",
       "      <td>qxenrichment_1</td>\n",
       "      <td>-2.975259</td>\n",
       "      <td>Q_Enrichment. Based on your experience with your [MODEL], how likely are you to consider [BRAND] products if you decide to buy a new tablet, a laptop, or any other electronic product produced by this brand?</td>\n",
       "    </tr>\n",
       "  </tbody>\n",
       "</table>\n",
       "</div>"
      ],
      "text/plain": [
       "         Variable  coefficient                                                                                                                                                                                                           Label\n",
       "0  qxadvocacy02_1    -1.930674                                                                                                                            Q_Advocacy02. How likely are you to leave a positive online review for your [MODEL]?\n",
       "1  qxadvocacy01_1    -2.752179                                         Q_Advocacy01. How likely are you to recommend your [MODEL] or another [BRAND] smartphone to a family member, friend, or colleague looking to purchase a new smartphone?\n",
       "2   qxretention_1    -2.813366                                                                                                Q_Retention. How likely are you to select [BRAND] the next time you decide to upgrade/purchase a new smartphone?\n",
       "3  qxenrichment_1    -2.975259  Q_Enrichment. Based on your experience with your [MODEL], how likely are you to consider [BRAND] products if you decide to buy a new tablet, a laptop, or any other electronic product produced by this brand?"
      ]
     },
     "execution_count": 32,
     "metadata": {},
     "output_type": "execute_result"
    }
   ],
   "source": [
    "# The estimated coefficients will all be around 1:\n",
    "coefs = pd.DataFrame(list(zip(X.columns, m.coef_[0])))\n",
    "coefs.columns = ['Variable', 'coefficient']\n",
    "coefs = coefs.sort_values(['coefficient'], ascending=False)\n",
    "coefs = coefs.merge(df_varmap[['Variable', 'Label']], on='Variable', how='left')\n",
    "coefs.head(20)"
   ]
  },
  {
   "cell_type": "code",
   "execution_count": 33,
   "metadata": {},
   "outputs": [
    {
     "data": {
      "text/html": [
       "<div>\n",
       "<style scoped>\n",
       "    .dataframe tbody tr th:only-of-type {\n",
       "        vertical-align: middle;\n",
       "    }\n",
       "\n",
       "    .dataframe tbody tr th {\n",
       "        vertical-align: top;\n",
       "    }\n",
       "\n",
       "    .dataframe thead th {\n",
       "        text-align: right;\n",
       "    }\n",
       "</style>\n",
       "<table border=\"1\" class=\"dataframe\">\n",
       "  <thead>\n",
       "    <tr style=\"text-align: right;\">\n",
       "      <th></th>\n",
       "      <th>Variable</th>\n",
       "      <th>Metric</th>\n",
       "      <th>pred</th>\n",
       "      <th>value</th>\n",
       "    </tr>\n",
       "  </thead>\n",
       "  <tbody>\n",
       "    <tr>\n",
       "      <th>0</th>\n",
       "      <td>qxadvocacy01_1</td>\n",
       "      <td>count</td>\n",
       "      <td>0</td>\n",
       "      <td>1437.000000</td>\n",
       "    </tr>\n",
       "    <tr>\n",
       "      <th>1</th>\n",
       "      <td>qxadvocacy01_1</td>\n",
       "      <td>count</td>\n",
       "      <td>1</td>\n",
       "      <td>1364.000000</td>\n",
       "    </tr>\n",
       "    <tr>\n",
       "      <th>2</th>\n",
       "      <td>qxadvocacy01_1</td>\n",
       "      <td>count</td>\n",
       "      <td>2</td>\n",
       "      <td>453.000000</td>\n",
       "    </tr>\n",
       "    <tr>\n",
       "      <th>3</th>\n",
       "      <td>qxadvocacy01_1</td>\n",
       "      <td>mean</td>\n",
       "      <td>0</td>\n",
       "      <td>0.759875</td>\n",
       "    </tr>\n",
       "    <tr>\n",
       "      <th>4</th>\n",
       "      <td>qxadvocacy01_1</td>\n",
       "      <td>mean</td>\n",
       "      <td>1</td>\n",
       "      <td>-0.274433</td>\n",
       "    </tr>\n",
       "  </tbody>\n",
       "</table>\n",
       "</div>"
      ],
      "text/plain": [
       "         Variable Metric  pred        value\n",
       "0  qxadvocacy01_1  count     0  1437.000000\n",
       "1  qxadvocacy01_1  count     1  1364.000000\n",
       "2  qxadvocacy01_1  count     2   453.000000\n",
       "3  qxadvocacy01_1   mean     0     0.759875\n",
       "4  qxadvocacy01_1   mean     1    -0.274433"
      ]
     },
     "execution_count": 33,
     "metadata": {},
     "output_type": "execute_result"
    }
   ],
   "source": [
    "desc_df = df_data_sub_std.groupby('pred').describe()\n",
    "desc_df = desc_df.unstack().reset_index()\n",
    "desc_df.columns = ['Variable','Metric','pred','value']\n",
    "desc_df.head()"
   ]
  },
  {
   "cell_type": "markdown",
   "metadata": {},
   "source": [
    "## RFE"
   ]
  },
  {
   "cell_type": "code",
   "execution_count": 34,
   "metadata": {},
   "outputs": [
    {
     "name": "stderr",
     "output_type": "stream",
     "text": [
      "/usr/local/lib/python3.7/site-packages/sklearn/linear_model/logistic.py:432: FutureWarning: Default solver will be changed to 'lbfgs' in 0.22. Specify a solver to silence this warning.\n",
      "  FutureWarning)\n",
      "/usr/local/lib/python3.7/site-packages/sklearn/linear_model/logistic.py:432: FutureWarning: Default solver will be changed to 'lbfgs' in 0.22. Specify a solver to silence this warning.\n",
      "  FutureWarning)\n",
      "/usr/local/lib/python3.7/site-packages/sklearn/linear_model/logistic.py:432: FutureWarning: Default solver will be changed to 'lbfgs' in 0.22. Specify a solver to silence this warning.\n",
      "  FutureWarning)\n"
     ]
    }
   ],
   "source": [
    "# Identifying top 2 variables our of 4\n",
    "model = LogisticRegression()\n",
    "rfe_model = RFE(model, 2)\n",
    "rfe_fit = rfe_model.fit(X, y)"
   ]
  },
  {
   "cell_type": "code",
   "execution_count": 35,
   "metadata": {},
   "outputs": [
    {
     "name": "stdout",
     "output_type": "stream",
     "text": [
      "qxadvocacy01_1\n",
      "qxenrichment_1\n"
     ]
    }
   ],
   "source": [
    "# Print the names of the most important features\n",
    "for feature_list_index in rfe_fit.get_support(indices=True):\n",
    "    print(df_data_sub_std.columns[feature_list_index])"
   ]
  },
  {
   "cell_type": "markdown",
   "metadata": {},
   "source": [
    "## Random Forest"
   ]
  },
  {
   "cell_type": "code",
   "execution_count": 36,
   "metadata": {},
   "outputs": [
    {
     "name": "stderr",
     "output_type": "stream",
     "text": [
      "/usr/local/lib/python3.7/site-packages/sklearn/ensemble/forest.py:245: FutureWarning: The default value of n_estimators will change from 10 in version 0.20 to 100 in 0.22.\n",
      "  \"10 in version 0.20 to 100 in 0.22.\", FutureWarning)\n"
     ]
    },
    {
     "name": "stdout",
     "output_type": "stream",
     "text": [
      "('qxadvocacy01_1', 0.240122339599042)\n",
      "('qxadvocacy02_1', 0.08270032964258542)\n",
      "('qxretention_1', 0.25170564747356894)\n",
      "('qxenrichment_1', 0.42547168328480367)\n"
     ]
    }
   ],
   "source": [
    "# Create a random forest classifier\n",
    "rfc = RandomForestClassifier(random_state = 0, n_jobs = -1)\n",
    " \n",
    "# Fitting the classifier\n",
    "rfc.fit(X, y)\n",
    " \n",
    "# Printing the name of each feature along with the gini value\n",
    "for feature in zip(df_data_sub_std.columns, rfc.feature_importances_):\n",
    "    print(feature)"
   ]
  },
  {
   "cell_type": "code",
   "execution_count": 37,
   "metadata": {},
   "outputs": [
    {
     "name": "stdout",
     "output_type": "stream",
     "text": [
      "qxadvocacy01_1\n",
      "qxretention_1\n",
      "qxenrichment_1\n"
     ]
    }
   ],
   "source": [
    "# Finally selecting the most important features\n",
    "sfm = SelectFromModel(rfc, threshold=0.15)\n",
    "sfm.fit(X, y)\n",
    " \n",
    "# Printing the names of the most important features\n",
    "for feature_list_index in sfm.get_support(indices=True):\n",
    "    print(df_data_sub_std.columns[feature_list_index])"
   ]
  },
  {
   "cell_type": "markdown",
   "metadata": {},
   "source": [
    "## Extra Trees"
   ]
  },
  {
   "cell_type": "code",
   "execution_count": 41,
   "metadata": {},
   "outputs": [
    {
     "name": "stdout",
     "output_type": "stream",
     "text": [
      "('qxadvocacy01_1', 0.240122339599042)\n",
      "('qxadvocacy02_1', 0.08270032964258542)\n",
      "('qxretention_1', 0.25170564747356894)\n",
      "('qxenrichment_1', 0.42547168328480367)\n"
     ]
    },
    {
     "name": "stderr",
     "output_type": "stream",
     "text": [
      "/usr/local/lib/python3.7/site-packages/sklearn/ensemble/forest.py:245: FutureWarning: The default value of n_estimators will change from 10 in version 0.20 to 100 in 0.22.\n",
      "  \"10 in version 0.20 to 100 in 0.22.\", FutureWarning)\n"
     ]
    }
   ],
   "source": [
    "from sklearn.ensemble import ExtraTreesClassifier\n",
    " \n",
    "# fit an Extra Trees model to the data\n",
    "etc = ExtraTreesClassifier()\n",
    "etc.fit(X, y)\n",
    " \n",
    "# Finally selecting the most important features\n",
    "sfm = SelectFromModel(etc, threshold=0.15)\n",
    "sfm.fit(X, y)\n",
    "    \n",
    "# getting the score by relative importance of each attribute\n",
    "# Printing the name of each feature along with the gini value\n",
    "for feature in zip(df_data_sub_std.columns, rfc.feature_importances_):\n",
    "    print(feature)\n",
    "    "
   ]
  },
  {
   "cell_type": "code",
   "execution_count": 53,
   "metadata": {},
   "outputs": [
    {
     "data": {
      "text/html": [
       "<div>\n",
       "<style scoped>\n",
       "    .dataframe tbody tr th:only-of-type {\n",
       "        vertical-align: middle;\n",
       "    }\n",
       "\n",
       "    .dataframe tbody tr th {\n",
       "        vertical-align: top;\n",
       "    }\n",
       "\n",
       "    .dataframe thead th {\n",
       "        text-align: right;\n",
       "    }\n",
       "</style>\n",
       "<table border=\"1\" class=\"dataframe\">\n",
       "  <thead>\n",
       "    <tr style=\"text-align: right;\">\n",
       "      <th></th>\n",
       "      <th>Variable</th>\n",
       "      <th>Label</th>\n",
       "      <th>imp_rank</th>\n",
       "      <th>imp</th>\n",
       "      <th>coefficient</th>\n",
       "      <th>coef_rank</th>\n",
       "    </tr>\n",
       "  </thead>\n",
       "  <tbody>\n",
       "    <tr>\n",
       "      <th>0</th>\n",
       "      <td>qxenrichment_1</td>\n",
       "      <td>Q_Enrichment. Based on your experience with your [MODEL], how likely are you to consider [BRAND] products if you decide to buy a new tablet, a laptop, or any other electronic product produced by this brand?</td>\n",
       "      <td>1.0</td>\n",
       "      <td>0.425472</td>\n",
       "      <td>-2.975259</td>\n",
       "      <td>1.0</td>\n",
       "    </tr>\n",
       "    <tr>\n",
       "      <th>1</th>\n",
       "      <td>qxretention_1</td>\n",
       "      <td>Q_Retention. How likely are you to select [BRAND] the next time you decide to upgrade/purchase a new smartphone?</td>\n",
       "      <td>2.0</td>\n",
       "      <td>0.251706</td>\n",
       "      <td>-2.813366</td>\n",
       "      <td>2.0</td>\n",
       "    </tr>\n",
       "    <tr>\n",
       "      <th>2</th>\n",
       "      <td>qxadvocacy01_1</td>\n",
       "      <td>Q_Advocacy01. How likely are you to recommend your [MODEL] or another [BRAND] smartphone to a family member, friend, or colleague looking to purchase a new smartphone?</td>\n",
       "      <td>3.0</td>\n",
       "      <td>0.240122</td>\n",
       "      <td>-2.752179</td>\n",
       "      <td>3.0</td>\n",
       "    </tr>\n",
       "    <tr>\n",
       "      <th>3</th>\n",
       "      <td>qxadvocacy02_1</td>\n",
       "      <td>Q_Advocacy02. How likely are you to leave a positive online review for your [MODEL]?</td>\n",
       "      <td>4.0</td>\n",
       "      <td>0.082700</td>\n",
       "      <td>-1.930674</td>\n",
       "      <td>4.0</td>\n",
       "    </tr>\n",
       "  </tbody>\n",
       "</table>\n",
       "</div>"
      ],
      "text/plain": [
       "         Variable                                                                                                                                                                                                           Label  imp_rank       imp  coefficient  coef_rank\n",
       "0  qxenrichment_1  Q_Enrichment. Based on your experience with your [MODEL], how likely are you to consider [BRAND] products if you decide to buy a new tablet, a laptop, or any other electronic product produced by this brand?       1.0  0.425472    -2.975259        1.0\n",
       "1   qxretention_1                                                                                                Q_Retention. How likely are you to select [BRAND] the next time you decide to upgrade/purchase a new smartphone?       2.0  0.251706    -2.813366        2.0\n",
       "2  qxadvocacy01_1                                         Q_Advocacy01. How likely are you to recommend your [MODEL] or another [BRAND] smartphone to a family member, friend, or colleague looking to purchase a new smartphone?       3.0  0.240122    -2.752179        3.0\n",
       "3  qxadvocacy02_1                                                                                                                            Q_Advocacy02. How likely are you to leave a positive online review for your [MODEL]?       4.0  0.082700    -1.930674        4.0"
      ]
     },
     "execution_count": 53,
     "metadata": {},
     "output_type": "execute_result"
    }
   ],
   "source": [
    "varimp = pd.DataFrame({'Variable':df_data_sub_std.columns.drop('pred').drop('pred_2'),\n",
    "              'imp': list(rfc.feature_importances_)}).sort_values('imp', ascending=False)\n",
    "\n",
    "varimp = varimp.merge(df_varmap[['Variable', 'Label']], \n",
    "                      on='Variable', how='left')\n",
    "\n",
    "\n",
    "varimp = varimp.merge(coefs[['Variable','coefficient']], on='Variable', how='left')\n",
    "\n",
    "varimp['imp_rank'] = varimp['imp'].rank(ascending=False)\n",
    "varimp['coef_rank'] = [abs(x) for x in varimp['coefficient']]\n",
    "varimp['coef_rank'] = varimp['coef_rank'].rank(ascending=False)\n",
    "\n",
    "varimp = varimp[['Variable','Label','imp_rank','imp','coefficient','coef_rank']]\n",
    "\n",
    "varimp[varimp.imp_rank<10].sort_values('coefficient',ascending=True)"
   ]
  },
  {
   "cell_type": "markdown",
   "metadata": {},
   "source": [
    "# Examine statistical significant differences in demographics amongst segments. "
   ]
  },
  {
   "cell_type": "code",
   "execution_count": 42,
   "metadata": {},
   "outputs": [],
   "source": [
    "df_data['pred'] = pred_y"
   ]
  },
  {
   "cell_type": "code",
   "execution_count": 43,
   "metadata": {},
   "outputs": [
    {
     "data": {
      "text/plain": [
       "['d1_1',\n",
       " 'd1_2',\n",
       " 'd1_3',\n",
       " 'd1_4',\n",
       " 'd3_1',\n",
       " 'd3_2',\n",
       " 'd3_3',\n",
       " 'd3_4',\n",
       " 'd4_X',\n",
       " 'd4_7',\n",
       " 'd6',\n",
       " 'd7_1',\n",
       " 'd7_2',\n",
       " 'd7_3',\n",
       " 'd7_4',\n",
       " 'd7_5',\n",
       " 'd7_97',\n",
       " 'd7_99',\n",
       " 'd7_97_other']"
      ]
     },
     "execution_count": 43,
     "metadata": {},
     "output_type": "execute_result"
    }
   ],
   "source": [
    "# get columns not in df_data_sub_std\n",
    "att_cols = [ 'd1_1', 'd1_2', 'd1_3', 'd1_4', \n",
    "            'd3_1',\t'd3_2',\t'd3_3',\t'd3_4',\t'd4_X', 'd4_7', 'd6',\n",
    "            'd7_1',\t'd7_2',\t'd7_3',\t'd7_4',\t'd7_5',\t'd7_97',\t'd7_99',\n",
    "            'd7_97_other']\n",
    "att_cols"
   ]
  },
  {
   "cell_type": "code",
   "execution_count": 52,
   "metadata": {},
   "outputs": [
    {
     "data": {
      "image/png": "[encoded data removed]",
      "text/plain": [
       "<Figure size 432x288 with 1 Axes>"
      ]
     },
     "metadata": {
      "needs_background": "light"
     },
     "output_type": "display_data"
    },
    {
     "data": {
      "image/png": "[encoded data removed]",
      "text/plain": [
       "<Figure size 432x288 with 1 Axes>"
      ]
     },
     "metadata": {
      "needs_background": "light"
     },
     "output_type": "display_data"
    },
    {
     "data": {
      "image/png": "[encoded data removed]",
      "text/plain": [
       "<Figure size 432x288 with 1 Axes>"
      ]
     },
     "metadata": {
      "needs_background": "light"
     },
     "output_type": "display_data"
    },
    {
     "data": {
      "image/png": "[encoded data removed]",
      "text/plain": [
       "<Figure size 432x288 with 1 Axes>"
      ]
     },
     "metadata": {
      "needs_background": "light"
     },
     "output_type": "display_data"
    }
   ],
   "source": [
    "with PdfPages('../data/output/Seg1_KNN3_byloyaltymetrics_demog.pdf') as pdf:\n",
    "    plt.ioff()\n",
    "    for col in att_cols:\n",
    "        if pd.api.types.is_numeric_dtype(df_data[col]):\n",
    "            plt.figure()\n",
    "            fig=df_data.groupby('pred')[col].plot(kind='kde', title=col, legend=True)[0].get_figure()\n",
    "            pdf.savefig(fig)\n"
   ]
  },
  {
   "cell_type": "code",
   "execution_count": 46,
   "metadata": {},
   "outputs": [],
   "source": [
    "# Testing whether the populations have statistically sig diff in means (assuming N distr)\n",
    "# For two independent samples w/ potentially !=  variance, use Welch's t-test\n",
    "\n",
    "# scipy.stats.ttest_ind(cat1['values'], cat2['values'], equal_var=False)\n",
    "\n",
    "t_test_results = {}\n",
    "for col in att_cols:\n",
    "    if pd.api.types.is_numeric_dtype(df_data[col]):\n",
    "        g0 = df_data.where(df_data.pred==0).dropna()[col]\n",
    "        g1 = df_data.where(df_data.pred==1).dropna()[col]\n",
    "        g2 = df_data.where(df_data.pred==2).dropna()[col]\n",
    "        \n",
    "        t_test_results[col+\"_01\"] = scipy.stats.ttest_ind(g0,g1, equal_var=False)\n",
    "        t_test_results[col+\"_02\"] = scipy.stats.ttest_ind(g0,g2, equal_var=False)\n",
    "        t_test_results[col+\"_12\"] = scipy.stats.ttest_ind(g1,g2, equal_var=False)"
   ]
  },
  {
   "cell_type": "code",
   "execution_count": 47,
   "metadata": {},
   "outputs": [],
   "source": [
    "results_df = pd.DataFrame.from_dict(t_test_results,orient='Index')\n",
    "results_df.columns = ['statistic','pvalue']\n",
    "results_df = results_df.sort_values('pvalue', ascending=True)"
   ]
  },
  {
   "cell_type": "code",
   "execution_count": 48,
   "metadata": {},
   "outputs": [
    {
     "data": {
      "text/html": [
       "<div>\n",
       "<style scoped>\n",
       "    .dataframe tbody tr th:only-of-type {\n",
       "        vertical-align: middle;\n",
       "    }\n",
       "\n",
       "    .dataframe tbody tr th {\n",
       "        vertical-align: top;\n",
       "    }\n",
       "\n",
       "    .dataframe thead th {\n",
       "        text-align: right;\n",
       "    }\n",
       "</style>\n",
       "<table border=\"1\" class=\"dataframe\">\n",
       "  <thead>\n",
       "    <tr style=\"text-align: right;\">\n",
       "      <th></th>\n",
       "      <th>statistic</th>\n",
       "      <th>pvalue</th>\n",
       "    </tr>\n",
       "  </thead>\n",
       "  <tbody>\n",
       "    <tr>\n",
       "      <th>d3_1_02</th>\n",
       "      <td>-6.151951</td>\n",
       "      <td>1.374477e-09</td>\n",
       "    </tr>\n",
       "    <tr>\n",
       "      <th>d3_1_01</th>\n",
       "      <td>-5.849363</td>\n",
       "      <td>5.546322e-09</td>\n",
       "    </tr>\n",
       "    <tr>\n",
       "      <th>d3_4_02</th>\n",
       "      <td>5.276115</td>\n",
       "      <td>1.619506e-07</td>\n",
       "    </tr>\n",
       "    <tr>\n",
       "      <th>d3_4_01</th>\n",
       "      <td>3.717155</td>\n",
       "      <td>2.054915e-04</td>\n",
       "    </tr>\n",
       "    <tr>\n",
       "      <th>d3_1_12</th>\n",
       "      <td>-2.368309</td>\n",
       "      <td>1.813503e-02</td>\n",
       "    </tr>\n",
       "    <tr>\n",
       "      <th>d3_4_12</th>\n",
       "      <td>2.359198</td>\n",
       "      <td>1.853195e-02</td>\n",
       "    </tr>\n",
       "    <tr>\n",
       "      <th>d3_2_02</th>\n",
       "      <td>2.111082</td>\n",
       "      <td>3.511149e-02</td>\n",
       "    </tr>\n",
       "    <tr>\n",
       "      <th>d3_3_01</th>\n",
       "      <td>1.902895</td>\n",
       "      <td>5.716263e-02</td>\n",
       "    </tr>\n",
       "    <tr>\n",
       "      <th>d3_2_01</th>\n",
       "      <td>1.624972</td>\n",
       "      <td>1.042830e-01</td>\n",
       "    </tr>\n",
       "    <tr>\n",
       "      <th>d3_2_12</th>\n",
       "      <td>0.985605</td>\n",
       "      <td>3.246464e-01</td>\n",
       "    </tr>\n",
       "  </tbody>\n",
       "</table>\n",
       "</div>"
      ],
      "text/plain": [
       "         statistic        pvalue\n",
       "d3_1_02  -6.151951  1.374477e-09\n",
       "d3_1_01  -5.849363  5.546322e-09\n",
       "d3_4_02   5.276115  1.619506e-07\n",
       "d3_4_01   3.717155  2.054915e-04\n",
       "d3_1_12  -2.368309  1.813503e-02\n",
       "d3_4_12   2.359198  1.853195e-02\n",
       "d3_2_02   2.111082  3.511149e-02\n",
       "d3_3_01   1.902895  5.716263e-02\n",
       "d3_2_01   1.624972  1.042830e-01\n",
       "d3_2_12   0.985605  3.246464e-01"
      ]
     },
     "execution_count": 48,
     "metadata": {},
     "output_type": "execute_result"
    }
   ],
   "source": [
    "results_df.head(10)"
   ]
  },
  {
   "cell_type": "code",
   "execution_count": 49,
   "metadata": {},
   "outputs": [
    {
     "data": {
      "text/html": [
       "<div>\n",
       "<style scoped>\n",
       "    .dataframe tbody tr th:only-of-type {\n",
       "        vertical-align: middle;\n",
       "    }\n",
       "\n",
       "    .dataframe tbody tr th {\n",
       "        vertical-align: top;\n",
       "    }\n",
       "\n",
       "    .dataframe thead th {\n",
       "        text-align: right;\n",
       "    }\n",
       "</style>\n",
       "<table border=\"1\" class=\"dataframe\">\n",
       "  <thead>\n",
       "    <tr style=\"text-align: right;\">\n",
       "      <th></th>\n",
       "      <th>statistic</th>\n",
       "      <th>pvalue</th>\n",
       "      <th>Variable_Grp</th>\n",
       "      <th>Variable</th>\n",
       "      <th>Label</th>\n",
       "    </tr>\n",
       "  </thead>\n",
       "  <tbody>\n",
       "    <tr>\n",
       "      <th>0</th>\n",
       "      <td>-6.151951</td>\n",
       "      <td>1.374477e-09</td>\n",
       "      <td>d3_1_02</td>\n",
       "      <td>d3_1</td>\n",
       "      <td>D3. Student (part-or full-time) - Which of the following best describes your current employment status?</td>\n",
       "    </tr>\n",
       "    <tr>\n",
       "      <th>1</th>\n",
       "      <td>-5.849363</td>\n",
       "      <td>5.546322e-09</td>\n",
       "      <td>d3_1_01</td>\n",
       "      <td>d3_1</td>\n",
       "      <td>D3. Student (part-or full-time) - Which of the following best describes your current employment status?</td>\n",
       "    </tr>\n",
       "    <tr>\n",
       "      <th>2</th>\n",
       "      <td>5.276115</td>\n",
       "      <td>1.619506e-07</td>\n",
       "      <td>d3_4_02</td>\n",
       "      <td>d3_4</td>\n",
       "      <td>D3. Not currently employed or in school  - Which of the following best describes your current employment status?</td>\n",
       "    </tr>\n",
       "    <tr>\n",
       "      <th>3</th>\n",
       "      <td>3.717155</td>\n",
       "      <td>2.054915e-04</td>\n",
       "      <td>d3_4_01</td>\n",
       "      <td>d3_4</td>\n",
       "      <td>D3. Not currently employed or in school  - Which of the following best describes your current employment status?</td>\n",
       "    </tr>\n",
       "  </tbody>\n",
       "</table>\n",
       "</div>"
      ],
      "text/plain": [
       "   statistic        pvalue Variable_Grp Variable                                                                                                             Label\n",
       "0  -6.151951  1.374477e-09      d3_1_02     d3_1           D3. Student (part-or full-time) - Which of the following best describes your current employment status?\n",
       "1  -5.849363  5.546322e-09      d3_1_01     d3_1           D3. Student (part-or full-time) - Which of the following best describes your current employment status?\n",
       "2   5.276115  1.619506e-07      d3_4_02     d3_4  D3. Not currently employed or in school  - Which of the following best describes your current employment status?\n",
       "3   3.717155  2.054915e-04      d3_4_01     d3_4  D3. Not currently employed or in school  - Which of the following best describes your current employment status?"
      ]
     },
     "execution_count": 49,
     "metadata": {},
     "output_type": "execute_result"
    }
   ],
   "source": [
    "results_df['Variable_Grp'] = results_df.index\n",
    "results_df['Variable'] = results_df.Variable_Grp.replace(\"_01|_02|_12\",\"\", regex=True)\n",
    "results_df_p01 = results_df[results_df.pvalue<=.01].merge(df_varmap[['Variable', 'Label']], \n",
    "                                         on='Variable', how='left')\n",
    "results_df_p01"
   ]
  },
  {
   "cell_type": "code",
   "execution_count": 50,
   "metadata": {},
   "outputs": [
    {
     "data": {
      "text/html": [
       "<div>\n",
       "<style scoped>\n",
       "    .dataframe tbody tr th:only-of-type {\n",
       "        vertical-align: middle;\n",
       "    }\n",
       "\n",
       "    .dataframe tbody tr th {\n",
       "        vertical-align: top;\n",
       "    }\n",
       "\n",
       "    .dataframe thead th {\n",
       "        text-align: right;\n",
       "    }\n",
       "</style>\n",
       "<table border=\"1\" class=\"dataframe\">\n",
       "  <thead>\n",
       "    <tr style=\"text-align: right;\">\n",
       "      <th></th>\n",
       "      <th>statistic</th>\n",
       "      <th>pvalue</th>\n",
       "      <th>Variable_Grp</th>\n",
       "      <th>Variable</th>\n",
       "      <th>Label</th>\n",
       "      <th>pvalue_1t</th>\n",
       "    </tr>\n",
       "  </thead>\n",
       "  <tbody>\n",
       "    <tr>\n",
       "      <th>0</th>\n",
       "      <td>-6.151951</td>\n",
       "      <td>1.374477e-09</td>\n",
       "      <td>d3_1_02</td>\n",
       "      <td>d3_1</td>\n",
       "      <td>D3. Student (part-or full-time) - Which of the following best describes your current employment status?</td>\n",
       "      <td>6.872383e-10</td>\n",
       "    </tr>\n",
       "    <tr>\n",
       "      <th>1</th>\n",
       "      <td>-5.849363</td>\n",
       "      <td>5.546322e-09</td>\n",
       "      <td>d3_1_01</td>\n",
       "      <td>d3_1</td>\n",
       "      <td>D3. Student (part-or full-time) - Which of the following best describes your current employment status?</td>\n",
       "      <td>2.773161e-09</td>\n",
       "    </tr>\n",
       "    <tr>\n",
       "      <th>2</th>\n",
       "      <td>5.276115</td>\n",
       "      <td>1.619506e-07</td>\n",
       "      <td>d3_4_02</td>\n",
       "      <td>d3_4</td>\n",
       "      <td>D3. Not currently employed or in school  - Which of the following best describes your current employment status?</td>\n",
       "      <td>8.097532e-08</td>\n",
       "    </tr>\n",
       "    <tr>\n",
       "      <th>3</th>\n",
       "      <td>3.717155</td>\n",
       "      <td>2.054915e-04</td>\n",
       "      <td>d3_4_01</td>\n",
       "      <td>d3_4</td>\n",
       "      <td>D3. Not currently employed or in school  - Which of the following best describes your current employment status?</td>\n",
       "      <td>1.027457e-04</td>\n",
       "    </tr>\n",
       "  </tbody>\n",
       "</table>\n",
       "</div>"
      ],
      "text/plain": [
       "   statistic        pvalue Variable_Grp Variable                                                                                                             Label     pvalue_1t\n",
       "0  -6.151951  1.374477e-09      d3_1_02     d3_1           D3. Student (part-or full-time) - Which of the following best describes your current employment status?  6.872383e-10\n",
       "1  -5.849363  5.546322e-09      d3_1_01     d3_1           D3. Student (part-or full-time) - Which of the following best describes your current employment status?  2.773161e-09\n",
       "2   5.276115  1.619506e-07      d3_4_02     d3_4  D3. Not currently employed or in school  - Which of the following best describes your current employment status?  8.097532e-08\n",
       "3   3.717155  2.054915e-04      d3_4_01     d3_4  D3. Not currently employed or in school  - Which of the following best describes your current employment status?  1.027457e-04"
      ]
     },
     "execution_count": 50,
     "metadata": {},
     "output_type": "execute_result"
    }
   ],
   "source": [
    "# for our null Hypothesis: P1>=P2 (one tailed test) , use pvalue/2\n",
    "results_df_p01['pvalue_1t'] = results_df_p01['pvalue']/2\n",
    "results_df_p01\n",
    "# reject if p/2 < alpha (.01)"
   ]
  },
  {
   "cell_type": "code",
   "execution_count": 51,
   "metadata": {},
   "outputs": [],
   "source": [
    "results_df_p01.to_csv('../data/output/Seg1_KNN3_byloyaltymetrics_demog_statsig.csv', index=False)"
   ]
  },
  {
   "cell_type": "markdown",
   "metadata": {},
   "source": [
    "### In summary,"
   ]
  },
  {
   "cell_type": "markdown",
   "metadata": {},
   "source": [
    "The only statistically significant differences in demographics between groups driven by Loyalty Metrics are in whether or not an individual is currently employed or in school. If the individual is a student, they are most likley to be in group 0. If they are neither employed nor in school, they are most likely to be in group 0, too!"
   ]
  },
  {
   "cell_type": "code",
   "execution_count": null,
   "metadata": {},
   "outputs": [],
   "source": []
  }
 ],
 "metadata": {
  "kernelspec": {
   "display_name": "Python 3",
   "language": "python",
   "name": "python3"
  },
  "language_info": {
   "codemirror_mode": {
    "name": "ipython",
    "version": 3
   },
   "file_extension": ".py",
   "mimetype": "text/x-python",
   "name": "python",
   "nbconvert_exporter": "python",
   "pygments_lexer": "ipython3",
   "version": "3.7.3"
  }
 },
 "nbformat": 4,
 "nbformat_minor": 2
}
