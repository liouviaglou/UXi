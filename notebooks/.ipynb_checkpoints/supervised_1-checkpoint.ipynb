{
 "cells": [
  {
   "cell_type": "code",
   "execution_count": 1,
   "metadata": {},
   "outputs": [
    {
     "name": "stderr",
     "output_type": "stream",
     "text": [
      "/usr/local/lib/python3.7/site-packages/fuzzywuzzy/fuzz.py:11: UserWarning: Using slow pure-python SequenceMatcher. Install python-Levenshtein to remove this warning\n",
      "  warnings.warn('Using slow pure-python SequenceMatcher. Install python-Levenshtein to remove this warning')\n"
     ]
    }
   ],
   "source": [
    "import os\n",
    "import sys\n",
    "\n",
    "import pandas as pd\n",
    "import glob\n",
    "import matplotlib\n",
    "import numpy as np\n",
    "import matplotlib.pyplot as plt\n",
    "import matplotlib.backends.backend_pdf\n",
    "from matplotlib.backends.backend_pdf import PdfPages\n",
    "\n",
    "import seaborn as sns\n",
    "\n",
    "import sklearn\n",
    "\n",
    "from sklearn.preprocessing import StandardScaler\n",
    "from sklearn.datasets.samples_generator import make_blobs\n",
    "from sklearn.cluster import KMeans\n",
    "\n",
    "from sklearn.feature_selection import RFE\n",
    "from sklearn.linear_model import LogisticRegression\n",
    "\n",
    "from sklearn.preprocessing import StandardScaler\n",
    "from sklearn.decomposition import PCA\n",
    "\n",
    "from sklearn.feature_selection import SelectFromModel\n",
    "from sklearn.linear_model import LassoCV\n",
    "from sklearn.ensemble import RandomForestClassifier\n",
    "\n",
    "import scipy\n",
    "\n",
    "import seaborn as seabornInstance \n",
    "from sklearn.model_selection import train_test_split \n",
    "from sklearn.linear_model import LinearRegression\n",
    "\n",
    "from sklearn.preprocessing import PolynomialFeatures\n",
    "from sklearn import metrics\n",
    "\n",
    "import statsmodels.api as sm\n",
    "from scipy import stats\n",
    "\n",
    "import lxml\n",
    "from io import StringIO \n",
    "import pickle\n",
    "\n",
    "from fuzzywuzzy import process\n",
    "\n",
    "\n",
    "import warnings\n",
    "warnings.simplefilter(action='ignore', category=FutureWarning)"
   ]
  },
  {
   "cell_type": "code",
   "execution_count": 2,
   "metadata": {},
   "outputs": [],
   "source": [
    "pd.set_option('display.max_columns', 1000)\n",
    "pd.options.display.max_rows=1000\n",
    "\n",
    "pd.set_option('display.width', 1000)\n",
    "pd.set_option('display.max_colwidth', 1000)\n",
    "\n",
    "plt.rcParams.update({'figure.max_open_warning': 0})\n",
    "\n",
    "\n",
    "%matplotlib inline "
   ]
  },
  {
   "cell_type": "code",
   "execution_count": 3,
   "metadata": {},
   "outputs": [],
   "source": [
    "module_path = os.path.abspath(os.path.join('..'))\n",
    "if module_path not in sys.path:\n",
    "    sys.path.append(module_path)\n",
    "\n",
    "# import scripts.supervised_prep\n",
    "from scripts.supervised_prep import dataprep_X\n",
    "from scripts.supervised_prep import dataprep_Y\n",
    "from scripts.supervised_prep import OLS_loop\n",
    "from scripts.supervised_prep import PC1_loop\n",
    "from scripts.supervised_prep import results_summary_to_dataframe\n"
   ]
  },
  {
   "cell_type": "code",
   "execution_count": 4,
   "metadata": {},
   "outputs": [],
   "source": [
    "def fuzzy(x, SERIES):\n",
    "    closest_match = process.extractOne(x, SERIES.values)[0]\n",
    "    index = pd.Index(SERIES).get_loc(closest_match)\n",
    "    return index"
   ]
  },
  {
   "cell_type": "markdown",
   "metadata": {},
   "source": [
    "# Load Data"
   ]
  },
  {
   "cell_type": "code",
   "execution_count": 5,
   "metadata": {},
   "outputs": [
    {
     "name": "stderr",
     "output_type": "stream",
     "text": [
      "/usr/local/lib/python3.7/site-packages/IPython/core/interactiveshell.py:3057: DtypeWarning: Columns (1218) have mixed types. Specify dtype option on import or set low_memory=False.\n",
      "  interactivity=interactivity, compiler=compiler, result=result)\n"
     ]
    }
   ],
   "source": [
    "inroot = r\"../data/input/07 Samsung UX Index - Web App Implementation/\"\n",
    "fname_data = inroot + r\"Samsung UX Index Survey_Data.csv\"\n",
    "df_data = pd.read_csv(fname_data)\n",
    "fname_vaxmap = inroot + r\"Samsung UX Index Survey_Datamap.xlsx\"\n",
    "df_varmap = pd.read_excel(fname_vaxmap, header=1, sheet_name=0)\n",
    "df_valmap = pd.read_excel(fname_vaxmap, header=1, sheet_name=1)\n",
    "\n"
   ]
  },
  {
   "cell_type": "code",
   "execution_count": 6,
   "metadata": {},
   "outputs": [
    {
     "data": {
      "text/html": [
       "<div>\n",
       "<style scoped>\n",
       "    .dataframe tbody tr th:only-of-type {\n",
       "        vertical-align: middle;\n",
       "    }\n",
       "\n",
       "    .dataframe tbody tr th {\n",
       "        vertical-align: top;\n",
       "    }\n",
       "\n",
       "    .dataframe thead th {\n",
       "        text-align: right;\n",
       "    }\n",
       "</style>\n",
       "<table border=\"1\" class=\"dataframe\">\n",
       "  <thead>\n",
       "    <tr style=\"text-align: right;\">\n",
       "      <th></th>\n",
       "      <th>qxbrandxtrustxdrivers</th>\n",
       "      <th>Tag</th>\n",
       "      <th>quality_indicator</th>\n",
       "      <th>qxoverallxqualityxindicators</th>\n",
       "      <th>driver_category</th>\n",
       "    </tr>\n",
       "  </thead>\n",
       "  <tbody>\n",
       "    <tr>\n",
       "      <th>0</th>\n",
       "      <td>qxbrandxtrustxdrivers_1</td>\n",
       "      <td>Transparent</td>\n",
       "      <td>Trust</td>\n",
       "      <td>qxoverallxqualityxindicators_1</td>\n",
       "      <td>Brand-Specific</td>\n",
       "    </tr>\n",
       "    <tr>\n",
       "      <th>1</th>\n",
       "      <td>qxbrandxtrustxdrivers_2</td>\n",
       "      <td>Ethical</td>\n",
       "      <td>Trust</td>\n",
       "      <td>qxoverallxqualityxindicators_1</td>\n",
       "      <td>Brand-Specific</td>\n",
       "    </tr>\n",
       "    <tr>\n",
       "      <th>2</th>\n",
       "      <td>qxbrandxtrustxdrivers_3</td>\n",
       "      <td>Respectful</td>\n",
       "      <td>Trust</td>\n",
       "      <td>qxoverallxqualityxindicators_1</td>\n",
       "      <td>Brand-Specific</td>\n",
       "    </tr>\n",
       "    <tr>\n",
       "      <th>3</th>\n",
       "      <td>qxbrandxtrustxdrivers_4</td>\n",
       "      <td>Integrity / honest</td>\n",
       "      <td>Trust</td>\n",
       "      <td>qxoverallxqualityxindicators_1</td>\n",
       "      <td>Brand-Specific</td>\n",
       "    </tr>\n",
       "    <tr>\n",
       "      <th>4</th>\n",
       "      <td>qxdrivers_1</td>\n",
       "      <td>Safe / secure</td>\n",
       "      <td>Trust</td>\n",
       "      <td>qxoverallxqualityxindicators_1</td>\n",
       "      <td>Core UX Principles</td>\n",
       "    </tr>\n",
       "  </tbody>\n",
       "</table>\n",
       "</div>"
      ],
      "text/plain": [
       "     qxbrandxtrustxdrivers                 Tag quality_indicator    qxoverallxqualityxindicators     driver_category\n",
       "0  qxbrandxtrustxdrivers_1         Transparent             Trust  qxoverallxqualityxindicators_1      Brand-Specific\n",
       "1  qxbrandxtrustxdrivers_2             Ethical             Trust  qxoverallxqualityxindicators_1      Brand-Specific\n",
       "2  qxbrandxtrustxdrivers_3          Respectful             Trust  qxoverallxqualityxindicators_1      Brand-Specific\n",
       "3  qxbrandxtrustxdrivers_4  Integrity / honest             Trust  qxoverallxqualityxindicators_1      Brand-Specific\n",
       "4              qxdrivers_1       Safe / secure             Trust  qxoverallxqualityxindicators_1  Core UX Principles"
      ]
     },
     "execution_count": 6,
     "metadata": {},
     "output_type": "execute_result"
    }
   ],
   "source": [
    "df_addmap1 = pd.read_csv(inroot+\"../additional_mapping/qxbrandxtrustxdrivers_quaitydrivers.csv\")\n",
    "df_addmap1.head()"
   ]
  },
  {
   "cell_type": "code",
   "execution_count": 7,
   "metadata": {},
   "outputs": [
    {
     "data": {
      "text/html": [
       "<div>\n",
       "<style scoped>\n",
       "    .dataframe tbody tr th:only-of-type {\n",
       "        vertical-align: middle;\n",
       "    }\n",
       "\n",
       "    .dataframe tbody tr th {\n",
       "        vertical-align: top;\n",
       "    }\n",
       "\n",
       "    .dataframe thead th {\n",
       "        text-align: right;\n",
       "    }\n",
       "</style>\n",
       "<table border=\"1\" class=\"dataframe\">\n",
       "  <thead>\n",
       "    <tr style=\"text-align: right;\">\n",
       "      <th></th>\n",
       "      <th>Variable</th>\n",
       "      <th>Label</th>\n",
       "      <th>Short Label</th>\n",
       "      <th>Type</th>\n",
       "      <th>Minimum</th>\n",
       "      <th>Maximum</th>\n",
       "      <th>Description</th>\n",
       "    </tr>\n",
       "  </thead>\n",
       "  <tbody>\n",
       "    <tr>\n",
       "      <th>1223</th>\n",
       "      <td>d7_4</td>\n",
       "      <td>D7. Asian or Asian American - What is your race?</td>\n",
       "      <td>NaN</td>\n",
       "      <td>integer</td>\n",
       "      <td>0.0</td>\n",
       "      <td>1.0</td>\n",
       "      <td>NaN</td>\n",
       "    </tr>\n",
       "  </tbody>\n",
       "</table>\n",
       "</div>"
      ],
      "text/plain": [
       "     Variable                                             Label Short Label     Type  Minimum  Maximum Description\n",
       "1223     d7_4  D7. Asian or Asian American - What is your race?         NaN  integer      0.0      1.0         NaN"
      ]
     },
     "execution_count": 7,
     "metadata": {},
     "output_type": "execute_result"
    }
   ],
   "source": [
    "df_varmap[df_varmap.Variable.str.contains('d7_4')]"
   ]
  },
  {
   "cell_type": "markdown",
   "metadata": {},
   "source": [
    "# Activities Mapping"
   ]
  },
  {
   "cell_type": "code",
   "execution_count": 8,
   "metadata": {},
   "outputs": [],
   "source": [
    "df_actmap = pd.read_csv(\"../data/input/data_engineering/activities_map.csv\")\n",
    "df_varmap_activ = pd.read_csv(\"../data/input/data_engineering/df_varmap_activities_map.csv\")"
   ]
  },
  {
   "cell_type": "code",
   "execution_count": 9,
   "metadata": {},
   "outputs": [],
   "source": [
    "# df_varmap_activ = df_varmap[df_varmap.Variable.str.contains('activities')].copy()\n",
    "# df_varmap_activ['match'] = df_varmap_activ['Label'].apply(fuzzy,  SERIES=df_actmap.Task)"
   ]
  },
  {
   "cell_type": "code",
   "execution_count": 10,
   "metadata": {},
   "outputs": [],
   "source": [
    "# df_varmap_activ.loc[df_varmap_activ.Label.str.contains('Using speaker phone'),'match'] = 0\n",
    "# df_varmap_activ.loc[df_varmap_activ.Label.str.contains('Charging battery'),'match'] = 1\n",
    "# df_varmap_activ.loc[df_varmap_activ.Label.str.contains('Transferring files'),'match'] = 2\n",
    "# df_varmap_activ.loc[df_varmap_activ.Label.str.contains('Unlocking'),'match'] = 3\n",
    "# df_varmap_activ.loc[df_varmap_activ.Label.str.contains('Viewing screen'),'match'] = 4\n",
    "# df_varmap_activ.loc[df_varmap_activ.Label.str.contains('Setting up multiple windows'),'match'] = 5\n",
    "# df_varmap_activ.loc[df_varmap_activ.Label.str.contains('Organizing your home screen'),'match'] = 6\n",
    "# df_varmap_activ.loc[df_varmap_activ.Label.str.contains('Using your quick settings'),'match'] = 7\n",
    "# df_varmap_activ.loc[df_varmap_activ.Label.str.contains('Customizing settings'),'match'] = 8\n",
    "# df_varmap_activ.loc[df_varmap_activ.Label.str.contains('Setting up and managing notifications'),'match'] = 9\n",
    "# df_varmap_activ.loc[df_varmap_activ.Label.str.contains('Searching for something on your smartphone'),'match'] = 10\n",
    "# df_varmap_activ.loc[df_varmap_activ.Label.str.contains('Scheduling a calendar event'),'match'] = 11\n",
    "# df_varmap_activ.loc[df_varmap_activ.Label.str.contains('Setting an alarm'),'match'] = 12\n",
    "# df_varmap_activ.loc[df_varmap_activ.Label.str.contains('Sending and receiving a text message'),'match'] = 13\n",
    "# df_varmap_activ.loc[df_varmap_activ.Label.str.contains('rear-facing camera'),'match'] = 14\n",
    "# df_varmap_activ.loc[df_varmap_activ.Label.str.contains('front-facing camera'),'match'] = 15\n",
    "# df_varmap_activ.loc[df_varmap_activ.Label.str.contains('Recording a video'),'match'] = 16\n",
    "# df_varmap_activ.loc[df_varmap_activ.Label.str.contains('Editing a photo'),'match'] = 17\n",
    "# df_varmap_activ.loc[df_varmap_activ.Label.str.contains('Sharing a photo or file'),'match'] = 18\n",
    "# df_varmap_activ.loc[df_varmap_activ.Label.str.contains('Using GPS'),'match'] = 19\n",
    "# df_varmap_activ.loc[df_varmap_activ.Label.str.contains('Tracking your wellbeing'),'match'] = 20\n",
    "# df_varmap_activ.loc[df_varmap_activ.Label.str.contains('Creating and editing a note'),'match'] = 21\n",
    "# df_varmap_activ.loc[df_varmap_activ.Label.str.contains('Making a mobile payment'),'match'] = 22\n",
    "# df_varmap_activ.loc[df_varmap_activ.Label.str.contains('Asking digital assistant a question'),'match'] = 23\n",
    "# df_varmap_activ.loc[df_varmap_activ.Label.str.contains('Using an AR'),'match'] = 24\n"
   ]
  },
  {
   "cell_type": "code",
   "execution_count": 11,
   "metadata": {},
   "outputs": [],
   "source": [
    "# df_varmap_activ.groupby('match')['Variable'].count()"
   ]
  },
  {
   "cell_type": "code",
   "execution_count": 12,
   "metadata": {},
   "outputs": [],
   "source": [
    "# df_varmap_activ = df_varmap_activ.merge(df_actmap, left_on='match',\n",
    "#                                         right_index=True, how='left')"
   ]
  },
  {
   "cell_type": "code",
   "execution_count": 13,
   "metadata": {},
   "outputs": [],
   "source": [
    "# df_varmap_activ.to_csv(\"../data/input/data_engineering/df_varmap_activities_map.csv\", index=False)"
   ]
  },
  {
   "cell_type": "markdown",
   "metadata": {},
   "source": [
    "# merge on df_data"
   ]
  },
  {
   "cell_type": "code",
   "execution_count": 14,
   "metadata": {},
   "outputs": [],
   "source": [
    "df_data = pd.read_csv(\"../data/input/data_engineering/df_data.csv\")"
   ]
  },
  {
   "cell_type": "code",
   "execution_count": 15,
   "metadata": {},
   "outputs": [
    {
     "data": {
      "text/html": [
       "<div>\n",
       "<style scoped>\n",
       "    .dataframe tbody tr th:only-of-type {\n",
       "        vertical-align: middle;\n",
       "    }\n",
       "\n",
       "    .dataframe tbody tr th {\n",
       "        vertical-align: top;\n",
       "    }\n",
       "\n",
       "    .dataframe thead th {\n",
       "        text-align: right;\n",
       "    }\n",
       "</style>\n",
       "<table border=\"1\" class=\"dataframe\">\n",
       "  <thead>\n",
       "    <tr style=\"text-align: right;\">\n",
       "      <th></th>\n",
       "      <th>Activitiesximportance_Advanced</th>\n",
       "      <th>Activitiesximportance_Social</th>\n",
       "      <th>Activitiesximportance_Productivity</th>\n",
       "      <th>Activitiesxqualityxindicators_Advanced</th>\n",
       "      <th>Activitiesxqualityxindicators_Social</th>\n",
       "      <th>Activitiesxqualityxindicators_Productivity</th>\n",
       "      <th>Activitiesxsatisfaction_Advanced</th>\n",
       "      <th>Activitiesxsatisfaction_Social</th>\n",
       "      <th>Activitiesxsatisfaction_Productivity</th>\n",
       "      <th>Activitiesxdrivers_Advanced</th>\n",
       "      <th>Activitiesxdrivers_Social</th>\n",
       "      <th>Activitiesxdrivers_Productivity</th>\n",
       "      <th>Activitiesxrecency_Advanced</th>\n",
       "      <th>Activitiesxrecency_Social</th>\n",
       "      <th>Activitiesxrecency_Productivity</th>\n",
       "    </tr>\n",
       "  </thead>\n",
       "  <tbody>\n",
       "    <tr>\n",
       "      <th>0</th>\n",
       "      <td>58</td>\n",
       "      <td>38</td>\n",
       "      <td>68</td>\n",
       "      <td>0.0</td>\n",
       "      <td>0.0</td>\n",
       "      <td>0.0</td>\n",
       "      <td>0.0</td>\n",
       "      <td>0.0</td>\n",
       "      <td>0.0</td>\n",
       "      <td>0.0</td>\n",
       "      <td>0.0</td>\n",
       "      <td>0.0</td>\n",
       "      <td>91</td>\n",
       "      <td>56</td>\n",
       "      <td>105</td>\n",
       "    </tr>\n",
       "    <tr>\n",
       "      <th>1</th>\n",
       "      <td>69</td>\n",
       "      <td>41</td>\n",
       "      <td>79</td>\n",
       "      <td>185.0</td>\n",
       "      <td>82.0</td>\n",
       "      <td>223.0</td>\n",
       "      <td>45.0</td>\n",
       "      <td>21.0</td>\n",
       "      <td>55.0</td>\n",
       "      <td>173.0</td>\n",
       "      <td>168.0</td>\n",
       "      <td>190.0</td>\n",
       "      <td>45</td>\n",
       "      <td>38</td>\n",
       "      <td>47</td>\n",
       "    </tr>\n",
       "    <tr>\n",
       "      <th>2</th>\n",
       "      <td>44</td>\n",
       "      <td>45</td>\n",
       "      <td>49</td>\n",
       "      <td>73.0</td>\n",
       "      <td>96.0</td>\n",
       "      <td>112.0</td>\n",
       "      <td>21.0</td>\n",
       "      <td>21.0</td>\n",
       "      <td>29.0</td>\n",
       "      <td>61.0</td>\n",
       "      <td>186.0</td>\n",
       "      <td>71.0</td>\n",
       "      <td>65</td>\n",
       "      <td>26</td>\n",
       "      <td>68</td>\n",
       "    </tr>\n",
       "    <tr>\n",
       "      <th>3</th>\n",
       "      <td>50</td>\n",
       "      <td>34</td>\n",
       "      <td>63</td>\n",
       "      <td>80.0</td>\n",
       "      <td>48.0</td>\n",
       "      <td>128.0</td>\n",
       "      <td>30.0</td>\n",
       "      <td>18.0</td>\n",
       "      <td>48.0</td>\n",
       "      <td>85.0</td>\n",
       "      <td>53.0</td>\n",
       "      <td>106.0</td>\n",
       "      <td>57</td>\n",
       "      <td>37</td>\n",
       "      <td>55</td>\n",
       "    </tr>\n",
       "    <tr>\n",
       "      <th>4</th>\n",
       "      <td>70</td>\n",
       "      <td>47</td>\n",
       "      <td>83</td>\n",
       "      <td>177.0</td>\n",
       "      <td>153.0</td>\n",
       "      <td>176.0</td>\n",
       "      <td>43.0</td>\n",
       "      <td>41.0</td>\n",
       "      <td>41.0</td>\n",
       "      <td>213.0</td>\n",
       "      <td>298.0</td>\n",
       "      <td>162.0</td>\n",
       "      <td>53</td>\n",
       "      <td>21</td>\n",
       "      <td>63</td>\n",
       "    </tr>\n",
       "  </tbody>\n",
       "</table>\n",
       "</div>"
      ],
      "text/plain": [
       "   Activitiesximportance_Advanced  Activitiesximportance_Social  Activitiesximportance_Productivity  Activitiesxqualityxindicators_Advanced  Activitiesxqualityxindicators_Social  Activitiesxqualityxindicators_Productivity  Activitiesxsatisfaction_Advanced  Activitiesxsatisfaction_Social  Activitiesxsatisfaction_Productivity  Activitiesxdrivers_Advanced  Activitiesxdrivers_Social  Activitiesxdrivers_Productivity  Activitiesxrecency_Advanced  Activitiesxrecency_Social  Activitiesxrecency_Productivity\n",
       "0                              58                            38                                  68                                     0.0                                   0.0                                         0.0                               0.0                             0.0                                   0.0                          0.0                        0.0                              0.0                           91                         56                              105\n",
       "1                              69                            41                                  79                                   185.0                                  82.0                                       223.0                              45.0                            21.0                                  55.0                        173.0                      168.0                            190.0                           45                         38                               47\n",
       "2                              44                            45                                  49                                    73.0                                  96.0                                       112.0                              21.0                            21.0                                  29.0                         61.0                      186.0                             71.0                           65                         26                               68\n",
       "3                              50                            34                                  63                                    80.0                                  48.0                                       128.0                              30.0                            18.0                                  48.0                         85.0                       53.0                            106.0                           57                         37                               55\n",
       "4                              70                            47                                  83                                   177.0                                 153.0                                       176.0                              43.0                            41.0                                  41.0                        213.0                      298.0                            162.0                           53                         21                               63"
      ]
     },
     "execution_count": 15,
     "metadata": {},
     "output_type": "execute_result"
    }
   ],
   "source": [
    "df_data.filter(like='Activitiesx', axis=1).head()"
   ]
  },
  {
   "cell_type": "code",
   "execution_count": 16,
   "metadata": {},
   "outputs": [],
   "source": [
    "df_activmatrix = df_varmap_activ[['Variable','Advanced','Social','Productivity']].copy().set_index('Variable')\n",
    "df_activmatrix = df_activmatrix.transpose()"
   ]
  },
  {
   "cell_type": "code",
   "execution_count": 17,
   "metadata": {},
   "outputs": [],
   "source": [
    "# df_data.loc[:,'Activitiesximportance_Advanced'] = df_data.filter(like='activities', \n",
    "#                axis=1).apply(pd.to_numeric, errors='coerce').multiply(\n",
    "#                df_activmatrix.loc['Advanced']).filter(like='qxactivitiesximportance', \n",
    "#                axis=1).sum(axis=1, skipna=True)\n",
    "# df_data.loc[:,'Activitiesximportance_Social'] = df_data.filter(like='activities', \n",
    "#                axis=1).apply(pd.to_numeric, errors='coerce').multiply(\n",
    "#                df_activmatrix.loc['Social']).filter(like='qxactivitiesximportance', \n",
    "#                axis=1).sum(axis=1, skipna=True)\n",
    "# df_data.loc[:,'Activitiesximportance_Productivity'] = df_data.filter(like='activities', \n",
    "#                axis=1).apply(pd.to_numeric, errors='coerce').multiply(\n",
    "#                df_activmatrix.loc['Productivity']).filter(like='qxactivitiesximportance', \n",
    "#                axis=1).sum(axis=1, skipna=True)\n",
    "\n",
    "# df_data.loc[:,'Activitiesxqualityxindicators_Advanced'] = df_data.filter(like='activities', \n",
    "#                axis=1).apply(pd.to_numeric, errors='coerce').multiply(\n",
    "#                df_activmatrix.loc['Advanced']).filter(like='qxactivitiesxqualityxindicators', \n",
    "#                axis=1).sum(axis=1, skipna=True)\n",
    "# df_data.loc[:,'Activitiesxqualityxindicators_Social'] = df_data.filter(like='activities', \n",
    "#                axis=1).apply(pd.to_numeric, errors='coerce').multiply(\n",
    "#                df_activmatrix.loc['Social']).filter(like='qxactivitiesxqualityxindicators', \n",
    "#                axis=1).sum(axis=1, skipna=True)\n",
    "# df_data.loc[:,'Activitiesxqualityxindicators_Productivity'] = df_data.filter(like='activities', \n",
    "#                axis=1).apply(pd.to_numeric, errors='coerce').multiply(\n",
    "#                df_activmatrix.loc['Productivity']).filter(like='qxactivitiesxqualityxindicators', \n",
    "#                axis=1).sum(axis=1, skipna=True)\n",
    "\n",
    "# df_data.loc[:,'Activitiesxsatisfaction_Advanced'] = df_data.filter(like='activities', \n",
    "#    axis=1).apply(pd.to_numeric, errors='coerce').multiply(\n",
    "#     df_activmatrix.loc['Advanced']).filter(like='qxactivitiesxsatisfaction', \n",
    "#                axis=1).sum(axis=1, skipna=True)\n",
    "# df_data.loc[:,'Activitiesxsatisfaction_Social'] = df_data.filter(like='activities', \n",
    "#    axis=1).apply(pd.to_numeric, errors='coerce').multiply(\n",
    "#     df_activmatrix.loc['Social']).filter(like='qxactivitiesxsatisfaction', \n",
    "#                axis=1).sum(axis=1, skipna=True)\n",
    "# df_data.loc[:,'Activitiesxsatisfaction_Productivity'] = df_data.filter(like='activities', \n",
    "#    axis=1).apply(pd.to_numeric, errors='coerce').multiply(\n",
    "#     df_activmatrix.loc['Productivity']).filter(like='qxactivitiesxsatisfaction', \n",
    "#                axis=1).sum(axis=1, skipna=True)\n",
    "\n",
    "# df_data.loc[:,'Activitiesxdrivers_Advanced'] = df_data.filter(like='activities', \n",
    "#    axis=1).apply(pd.to_numeric, errors='coerce').multiply(\n",
    "#     df_activmatrix.loc['Advanced']).filter(like='qxactivitiesxdrivers', \n",
    "#                axis=1).sum(axis=1, skipna=True)\n",
    "# df_data.loc[:,'Activitiesxdrivers_Social'] = df_data.filter(like='qxactivitiesxdrivers', \n",
    "#    axis=1).apply(pd.to_numeric, errors='coerce').multiply(\n",
    "#     df_activmatrix.loc['Social']).filter(like='qxactivitiesxdrivers', \n",
    "#                axis=1).sum(axis=1, skipna=True)\n",
    "# df_data.loc[:,'Activitiesxdrivers_Productivity'] = df_data.filter(like='activities', \n",
    "#    axis=1).apply(pd.to_numeric, errors='coerce').multiply(\n",
    "#     df_activmatrix.loc['Productivity']).filter(like='qxactivitiesxdrivers', \n",
    "#                axis=1).sum(axis=1, skipna=True)\n",
    "\n"
   ]
  },
  {
   "cell_type": "code",
   "execution_count": 18,
   "metadata": {},
   "outputs": [],
   "source": [
    "\n",
    "# df_data.loc[:,'Activitiesxrecency_Advanced'] = df_data.filter(like='activities', \n",
    "#    axis=1).apply(pd.to_numeric, errors='coerce').multiply(\n",
    "#     df_activmatrix.loc['Advanced']).filter(like='qxactivitiesxrecency', \n",
    "#                axis=1).sum(axis=1, skipna=True)\n",
    "# df_data.loc[:,'Activitiesxrecency_Social'] = df_data.filter(like='activities', \n",
    "#    axis=1).apply(pd.to_numeric, errors='coerce').multiply(\n",
    "#     df_activmatrix.loc['Social']).filter(like='qxactivitiesxrecency', \n",
    "#                axis=1).sum(axis=1, skipna=True)\n",
    "# df_data.loc[:,'Activitiesxrecency_Productivity'] = df_data.filter(like='activities', \n",
    "#    axis=1).apply(pd.to_numeric, errors='coerce').multiply(\n",
    "#     df_activmatrix.loc['Productivity']).filter(like='qxactivitiesxrecency', \n",
    "#                axis=1).sum(axis=1, skipna=True)\n",
    "\n"
   ]
  },
  {
   "cell_type": "code",
   "execution_count": 19,
   "metadata": {},
   "outputs": [],
   "source": [
    "# df_data.filter(like='Activitiesx', axis=1).describe()"
   ]
  },
  {
   "cell_type": "code",
   "execution_count": 20,
   "metadata": {},
   "outputs": [],
   "source": [
    "# df_data.to_csv(\"../data/input/data_engineering/df_data.csv\", index=False)"
   ]
  },
  {
   "cell_type": "code",
   "execution_count": 21,
   "metadata": {},
   "outputs": [],
   "source": [
    "df_data = pd.read_csv(\"../data/input/data_engineering/df_data.csv\")"
   ]
  },
  {
   "cell_type": "markdown",
   "metadata": {},
   "source": [
    "# Determine PC1 weighting"
   ]
  },
  {
   "cell_type": "code",
   "execution_count": 22,
   "metadata": {},
   "outputs": [
    {
     "name": "stderr",
     "output_type": "stream",
     "text": [
      "/usr/local/lib/python3.7/site-packages/pandas/core/frame.py:3489: SettingWithCopyWarning: \n",
      "A value is trying to be set on a copy of a slice from a DataFrame.\n",
      "Try using .loc[row_indexer,col_indexer] = value instead\n",
      "\n",
      "See the caveats in the documentation: http://pandas.pydata.org/pandas-docs/stable/user_guide/indexing.html#returning-a-view-versus-a-copy\n",
      "  self[k1] = value[k2]\n",
      "/usr/local/lib/python3.7/site-packages/pandas/core/frame.py:3489: SettingWithCopyWarning: \n",
      "A value is trying to be set on a copy of a slice from a DataFrame.\n",
      "Try using .loc[row_indexer,col_indexer] = value instead\n",
      "\n",
      "See the caveats in the documentation: http://pandas.pydata.org/pandas-docs/stable/user_guide/indexing.html#returning-a-view-versus-a-copy\n",
      "  self[k1] = value[k2]\n",
      "/usr/local/lib/python3.7/site-packages/pandas/core/frame.py:3489: SettingWithCopyWarning: \n",
      "A value is trying to be set on a copy of a slice from a DataFrame.\n",
      "Try using .loc[row_indexer,col_indexer] = value instead\n",
      "\n",
      "See the caveats in the documentation: http://pandas.pydata.org/pandas-docs/stable/user_guide/indexing.html#returning-a-view-versus-a-copy\n",
      "  self[k1] = value[k2]\n"
     ]
    }
   ],
   "source": [
    "SuperLabels = ['activitiesximportance',\n",
    "               'activitiesxquality',\n",
    "               'activitiesxsatisfaction',\n",
    "               'activitiesxdrivers',\n",
    "              'activitiesxrecency']\n",
    "\n",
    "\n",
    "\n",
    "SuperList = [[ x for x in df_data.columns if 'qxactivitiesximportance' in x ],\n",
    "                [ x for x in df_data.columns if 'qxactivitiesxqualityxindicators' in x ],\n",
    "                                 [ x for x in df_data.columns if 'qxactivitiesxsatisfaction' in x ],\n",
    "                                 [ x for x in df_data.columns if 'qxactivitiesxdrivers' in x ],\n",
    "            [ x for x in df_data.columns if 'qxactivitiesxrecency' in x ]]\n",
    "\n",
    "pc1_exvr_list, df_data_PC1 = PC1_loop(SuperLabels, SuperList, df_data, df_varmap)"
   ]
  },
  {
   "cell_type": "code",
   "execution_count": 23,
   "metadata": {},
   "outputs": [
    {
     "data": {
      "text/plain": [
       "[('activitiesximportance', 0.34751497541708903),\n",
       " ('activitiesxquality', 0.39025088878623765),\n",
       " ('activitiesxsatisfaction', 0.4674496272712963),\n",
       " ('activitiesxdrivers', 0.48742259201470056),\n",
       " ('activitiesxrecency', 0.24898685936288747)]"
      ]
     },
     "execution_count": 23,
     "metadata": {},
     "output_type": "execute_result"
    }
   ],
   "source": [
    "pc1_exvr_list"
   ]
  },
  {
   "cell_type": "code",
   "execution_count": 24,
   "metadata": {},
   "outputs": [
    {
     "data": {
      "text/html": [
       "<div>\n",
       "<style scoped>\n",
       "    .dataframe tbody tr th:only-of-type {\n",
       "        vertical-align: middle;\n",
       "    }\n",
       "\n",
       "    .dataframe tbody tr th {\n",
       "        vertical-align: top;\n",
       "    }\n",
       "\n",
       "    .dataframe thead th {\n",
       "        text-align: right;\n",
       "    }\n",
       "</style>\n",
       "<table border=\"1\" class=\"dataframe\">\n",
       "  <thead>\n",
       "    <tr style=\"text-align: right;\">\n",
       "      <th></th>\n",
       "      <th>activitiesximportance_PC1</th>\n",
       "      <th>activitiesxquality_PC1</th>\n",
       "      <th>activitiesxsatisfaction_PC1</th>\n",
       "      <th>activitiesxdrivers_PC1</th>\n",
       "      <th>activitiesxrecency_PC1</th>\n",
       "    </tr>\n",
       "  </thead>\n",
       "  <tbody>\n",
       "    <tr>\n",
       "      <th>0</th>\n",
       "      <td>-22.060574</td>\n",
       "      <td>0.000000</td>\n",
       "      <td>0.000000</td>\n",
       "      <td>0.000000</td>\n",
       "      <td>34.565732</td>\n",
       "    </tr>\n",
       "    <tr>\n",
       "      <th>1</th>\n",
       "      <td>-26.382935</td>\n",
       "      <td>-27.014463</td>\n",
       "      <td>-13.661971</td>\n",
       "      <td>-33.371222</td>\n",
       "      <td>18.589926</td>\n",
       "    </tr>\n",
       "    <tr>\n",
       "      <th>2</th>\n",
       "      <td>-21.025246</td>\n",
       "      <td>-24.453845</td>\n",
       "      <td>-10.803175</td>\n",
       "      <td>-27.017103</td>\n",
       "      <td>19.976105</td>\n",
       "    </tr>\n",
       "    <tr>\n",
       "      <th>3</th>\n",
       "      <td>-21.390271</td>\n",
       "      <td>-22.897507</td>\n",
       "      <td>-17.419698</td>\n",
       "      <td>-19.492965</td>\n",
       "      <td>17.570539</td>\n",
       "    </tr>\n",
       "    <tr>\n",
       "      <th>4</th>\n",
       "      <td>-29.367803</td>\n",
       "      <td>-41.689803</td>\n",
       "      <td>-20.702557</td>\n",
       "      <td>-52.269820</td>\n",
       "      <td>15.885342</td>\n",
       "    </tr>\n",
       "  </tbody>\n",
       "</table>\n",
       "</div>"
      ],
      "text/plain": [
       "   activitiesximportance_PC1  activitiesxquality_PC1  activitiesxsatisfaction_PC1  activitiesxdrivers_PC1  activitiesxrecency_PC1\n",
       "0                 -22.060574                0.000000                     0.000000                0.000000               34.565732\n",
       "1                 -26.382935              -27.014463                   -13.661971              -33.371222               18.589926\n",
       "2                 -21.025246              -24.453845                   -10.803175              -27.017103               19.976105\n",
       "3                 -21.390271              -22.897507                   -17.419698              -19.492965               17.570539\n",
       "4                 -29.367803              -41.689803                   -20.702557              -52.269820               15.885342"
      ]
     },
     "execution_count": 24,
     "metadata": {},
     "output_type": "execute_result"
    }
   ],
   "source": [
    "df_data_PC1.head()"
   ]
  },
  {
   "cell_type": "code",
   "execution_count": 25,
   "metadata": {},
   "outputs": [
    {
     "data": {
      "text/html": [
       "<div>\n",
       "<style scoped>\n",
       "    .dataframe tbody tr th:only-of-type {\n",
       "        vertical-align: middle;\n",
       "    }\n",
       "\n",
       "    .dataframe tbody tr th {\n",
       "        vertical-align: top;\n",
       "    }\n",
       "\n",
       "    .dataframe thead th {\n",
       "        text-align: right;\n",
       "    }\n",
       "</style>\n",
       "<table border=\"1\" class=\"dataframe\">\n",
       "  <thead>\n",
       "    <tr style=\"text-align: right;\">\n",
       "      <th></th>\n",
       "      <th>activitiesximportance_PC1</th>\n",
       "      <th>activitiesxquality_PC1</th>\n",
       "      <th>activitiesxsatisfaction_PC1</th>\n",
       "      <th>activitiesxdrivers_PC1</th>\n",
       "      <th>activitiesxrecency_PC1</th>\n",
       "    </tr>\n",
       "  </thead>\n",
       "  <tbody>\n",
       "    <tr>\n",
       "      <th>count</th>\n",
       "      <td>3254.000000</td>\n",
       "      <td>3254.000000</td>\n",
       "      <td>3254.000000</td>\n",
       "      <td>3254.000000</td>\n",
       "      <td>3254.000000</td>\n",
       "    </tr>\n",
       "    <tr>\n",
       "      <th>mean</th>\n",
       "      <td>-26.233483</td>\n",
       "      <td>-44.424512</td>\n",
       "      <td>-22.866827</td>\n",
       "      <td>-45.311521</td>\n",
       "      <td>13.105593</td>\n",
       "    </tr>\n",
       "    <tr>\n",
       "      <th>std</th>\n",
       "      <td>4.523292</td>\n",
       "      <td>11.448522</td>\n",
       "      <td>5.721676</td>\n",
       "      <td>12.358495</td>\n",
       "      <td>4.100135</td>\n",
       "    </tr>\n",
       "    <tr>\n",
       "      <th>min</th>\n",
       "      <td>-34.777814</td>\n",
       "      <td>-68.294361</td>\n",
       "      <td>-34.143427</td>\n",
       "      <td>-68.695075</td>\n",
       "      <td>4.937962</td>\n",
       "    </tr>\n",
       "    <tr>\n",
       "      <th>25%</th>\n",
       "      <td>-29.492748</td>\n",
       "      <td>-52.584050</td>\n",
       "      <td>-26.928802</td>\n",
       "      <td>-54.346590</td>\n",
       "      <td>10.281192</td>\n",
       "    </tr>\n",
       "    <tr>\n",
       "      <th>50%</th>\n",
       "      <td>-26.624001</td>\n",
       "      <td>-45.262248</td>\n",
       "      <td>-23.417109</td>\n",
       "      <td>-46.429821</td>\n",
       "      <td>12.605098</td>\n",
       "    </tr>\n",
       "    <tr>\n",
       "      <th>75%</th>\n",
       "      <td>-23.410047</td>\n",
       "      <td>-37.280167</td>\n",
       "      <td>-19.354922</td>\n",
       "      <td>-37.550803</td>\n",
       "      <td>15.529015</td>\n",
       "    </tr>\n",
       "    <tr>\n",
       "      <th>max</th>\n",
       "      <td>-7.327335</td>\n",
       "      <td>0.000000</td>\n",
       "      <td>0.000000</td>\n",
       "      <td>0.000000</td>\n",
       "      <td>40.365963</td>\n",
       "    </tr>\n",
       "  </tbody>\n",
       "</table>\n",
       "</div>"
      ],
      "text/plain": [
       "       activitiesximportance_PC1  activitiesxquality_PC1  activitiesxsatisfaction_PC1  activitiesxdrivers_PC1  activitiesxrecency_PC1\n",
       "count                3254.000000             3254.000000                  3254.000000             3254.000000             3254.000000\n",
       "mean                  -26.233483              -44.424512                   -22.866827              -45.311521               13.105593\n",
       "std                     4.523292               11.448522                     5.721676               12.358495                4.100135\n",
       "min                   -34.777814              -68.294361                   -34.143427              -68.695075                4.937962\n",
       "25%                   -29.492748              -52.584050                   -26.928802              -54.346590               10.281192\n",
       "50%                   -26.624001              -45.262248                   -23.417109              -46.429821               12.605098\n",
       "75%                   -23.410047              -37.280167                   -19.354922              -37.550803               15.529015\n",
       "max                    -7.327335                0.000000                     0.000000                0.000000               40.365963"
      ]
     },
     "execution_count": 25,
     "metadata": {},
     "output_type": "execute_result"
    }
   ],
   "source": [
    "df_data_PC1.describe()"
   ]
  },
  {
   "cell_type": "markdown",
   "metadata": {},
   "source": [
    "# y=FE_advanced regression"
   ]
  },
  {
   "cell_type": "code",
   "execution_count": 26,
   "metadata": {},
   "outputs": [
    {
     "name": "stdout",
     "output_type": "stream",
     "text": [
      "['Activitiesximportance_Advanced' 'Activitiesxqualityxindicators_Advanced'\n",
      " 'Activitiesxsatisfaction_Advanced' 'Activitiesxdrivers_Advanced'\n",
      " 'Activitiesxrecency_Advanced']\n",
      "\n",
      "[('Activitiesximportance_Advanced', 0.05552432127733298), ('Activitiesxqualityxindicators_Advanced', 0.06537630767784064), ('Activitiesxsatisfaction_Advanced', 0.05177466215566684), ('Activitiesxdrivers_Advanced', 0.05572778172699122), ('Activitiesxrecency_Advanced', 0.11163766967262811)]\n",
      "\n"
     ]
    },
    {
     "data": {
      "text/html": [
       "<div>\n",
       "<style scoped>\n",
       "    .dataframe tbody tr th:only-of-type {\n",
       "        vertical-align: middle;\n",
       "    }\n",
       "\n",
       "    .dataframe tbody tr th {\n",
       "        vertical-align: top;\n",
       "    }\n",
       "\n",
       "    .dataframe thead th {\n",
       "        text-align: right;\n",
       "    }\n",
       "</style>\n",
       "<table border=\"1\" class=\"dataframe\">\n",
       "  <thead>\n",
       "    <tr style=\"text-align: right;\">\n",
       "      <th></th>\n",
       "      <th>Variable</th>\n",
       "      <th>Label</th>\n",
       "      <th>coeff</th>\n",
       "      <th>pvals</th>\n",
       "      <th>var_y</th>\n",
       "    </tr>\n",
       "  </thead>\n",
       "  <tbody>\n",
       "    <tr>\n",
       "      <th>1220.0</th>\n",
       "      <td>d7_1</td>\n",
       "      <td>D7. White - What is your race?</td>\n",
       "      <td>-0.29235</td>\n",
       "      <td>0.00000</td>\n",
       "      <td>Activitiesximportance_Advanced</td>\n",
       "    </tr>\n",
       "    <tr>\n",
       "      <th>0.0</th>\n",
       "      <td>d4_3</td>\n",
       "      <td>D4. What is the highest level of education you have completed? Some college – no degree</td>\n",
       "      <td>0.11708</td>\n",
       "      <td>0.03404</td>\n",
       "      <td>Activitiesximportance_Advanced</td>\n",
       "    </tr>\n",
       "    <tr>\n",
       "      <th>0.0</th>\n",
       "      <td>d4_1</td>\n",
       "      <td>D4. What is the highest level of education you have completed? Some high school or less</td>\n",
       "      <td>-0.35897</td>\n",
       "      <td>0.00038</td>\n",
       "      <td>Activitiesximportance_Advanced</td>\n",
       "    </tr>\n",
       "    <tr>\n",
       "      <th>0.0</th>\n",
       "      <td>d4_2</td>\n",
       "      <td>D4. What is the highest level of education you have completed? High school graduate</td>\n",
       "      <td>0.11743</td>\n",
       "      <td>0.03648</td>\n",
       "      <td>Activitiesximportance_Advanced</td>\n",
       "    </tr>\n",
       "    <tr>\n",
       "      <th>0.0</th>\n",
       "      <td>d1_4</td>\n",
       "      <td>D1. Are you? Would rather not say</td>\n",
       "      <td>-1.10746</td>\n",
       "      <td>0.01767</td>\n",
       "      <td>Activitiesximportance_Advanced</td>\n",
       "    </tr>\n",
       "  </tbody>\n",
       "</table>\n",
       "</div>"
      ],
      "text/plain": [
       "       Variable                                                                                    Label    coeff    pvals                           var_y\n",
       "1220.0     d7_1                                                           D7. White - What is your race? -0.29235  0.00000  Activitiesximportance_Advanced\n",
       "0.0        d4_3  D4. What is the highest level of education you have completed? Some college – no degree  0.11708  0.03404  Activitiesximportance_Advanced\n",
       "0.0        d4_1  D4. What is the highest level of education you have completed? Some high school or less -0.35897  0.00038  Activitiesximportance_Advanced\n",
       "0.0        d4_2      D4. What is the highest level of education you have completed? High school graduate  0.11743  0.03648  Activitiesximportance_Advanced\n",
       "0.0        d1_4                                                        D1. Are you? Would rather not say -1.10746  0.01767  Activitiesximportance_Advanced"
      ]
     },
     "execution_count": 26,
     "metadata": {},
     "output_type": "execute_result"
    }
   ],
   "source": [
    "ohdict = {'qxcurrentxos' :  None, 'd4' :  None, 'd1' : None, 'qxcurrentxmodel': None, 'hbrand' : None,\n",
    "          'hmodelquota' : None, 'hmodelquota_reordered' : None,'Empowered_Customer_Groups' : None}\n",
    "                 \n",
    "\n",
    "varlist_X = ['d1',  # gender\n",
    "             'd2',  # age\n",
    "             'hbrand', # device brand\n",
    "             'd3_1', 'd3_2',    'd3_3',    'd3_4',    # employment\n",
    "             'd4', # education\n",
    "             'd6',    # hispanic\n",
    "             'd7_1', 'd7_2',    'd7_3',    'd7_4',    'd7_5',    'd7_97',    'd7_99' # race\n",
    "            ]\n",
    "\n",
    "X, df_varmap = dataprep_X (df_data, df_varmap, df_valmap, varlist_X, \n",
    "                       ohdict=ohdict)\n",
    "\n",
    "like_str = '_Advanced'\n",
    "var_y_list = df_data.filter(like=like_str, axis=1).columns.values\n",
    "print(var_y_list)\n",
    "print()\n",
    "tp_list_FEadv, df_lmresults_FEadv = OLS_loop (var_y_list, ohdict, X, df_varmap)\n",
    "\n",
    "print (tp_list_FEadv)\n",
    "print()\n",
    "\n",
    "df_lmresults_FEadv.head()"
   ]
  },
  {
   "cell_type": "markdown",
   "metadata": {},
   "source": [
    "# y=PC1 regression"
   ]
  },
  {
   "cell_type": "code",
   "execution_count": 27,
   "metadata": {},
   "outputs": [
    {
     "name": "stdout",
     "output_type": "stream",
     "text": [
      "[]\n",
      "\n"
     ]
    },
    {
     "ename": "ValueError",
     "evalue": "No objects to concatenate",
     "output_type": "error",
     "traceback": [
      "\u001b[0;31m---------------------------------------------------------------------------\u001b[0m",
      "\u001b[0;31mValueError\u001b[0m                                Traceback (most recent call last)",
      "\u001b[0;32m<ipython-input-27-943d55e986c0>\u001b[0m in \u001b[0;36m<module>\u001b[0;34m\u001b[0m\n\u001b[1;32m     19\u001b[0m \u001b[0mprint\u001b[0m\u001b[0;34m(\u001b[0m\u001b[0mvar_y_list\u001b[0m\u001b[0;34m)\u001b[0m\u001b[0;34m\u001b[0m\u001b[0;34m\u001b[0m\u001b[0m\n\u001b[1;32m     20\u001b[0m \u001b[0mprint\u001b[0m\u001b[0;34m(\u001b[0m\u001b[0;34m)\u001b[0m\u001b[0;34m\u001b[0m\u001b[0;34m\u001b[0m\u001b[0m\n\u001b[0;32m---> 21\u001b[0;31m \u001b[0mtp_list_PC1\u001b[0m\u001b[0;34m,\u001b[0m \u001b[0mdf_lmresults_PC1\u001b[0m \u001b[0;34m=\u001b[0m \u001b[0mOLS_loop\u001b[0m \u001b[0;34m(\u001b[0m\u001b[0mvar_y_list\u001b[0m\u001b[0;34m,\u001b[0m \u001b[0mohdict\u001b[0m\u001b[0;34m,\u001b[0m \u001b[0mX\u001b[0m\u001b[0;34m,\u001b[0m \u001b[0mdf_data_PC1\u001b[0m\u001b[0;34m,\u001b[0m \u001b[0mdf_varmap\u001b[0m\u001b[0;34m)\u001b[0m\u001b[0;34m\u001b[0m\u001b[0;34m\u001b[0m\u001b[0m\n\u001b[0m\u001b[1;32m     22\u001b[0m \u001b[0;34m\u001b[0m\u001b[0m\n\u001b[1;32m     23\u001b[0m \u001b[0mprint\u001b[0m \u001b[0;34m(\u001b[0m\u001b[0mtp_list_PC1\u001b[0m\u001b[0;34m)\u001b[0m\u001b[0;34m\u001b[0m\u001b[0;34m\u001b[0m\u001b[0m\n",
      "\u001b[0;32m~/Documents/Consulting/Samsung/UXi/scripts/supervised_prep.py\u001b[0m in \u001b[0;36mOLS_loop\u001b[0;34m(var_y_list, ohdict, X, df_data_Y, df_varmap)\u001b[0m\n\u001b[1;32m    240\u001b[0m         \u001b[0mtp_list\u001b[0m\u001b[0;34m.\u001b[0m\u001b[0mappend\u001b[0m\u001b[0;34m(\u001b[0m\u001b[0;34m(\u001b[0m\u001b[0mvar_y\u001b[0m\u001b[0;34m,\u001b[0m \u001b[0mest2\u001b[0m\u001b[0;34m.\u001b[0m\u001b[0mrsquared\u001b[0m\u001b[0;34m)\u001b[0m\u001b[0;34m)\u001b[0m\u001b[0;34m\u001b[0m\u001b[0;34m\u001b[0m\u001b[0m\n\u001b[1;32m    241\u001b[0m \u001b[0;34m\u001b[0m\u001b[0m\n\u001b[0;32m--> 242\u001b[0;31m     \u001b[0mdf_lmresults\u001b[0m \u001b[0;34m=\u001b[0m \u001b[0mpd\u001b[0m\u001b[0;34m.\u001b[0m\u001b[0mconcat\u001b[0m\u001b[0;34m(\u001b[0m\u001b[0mdf_list\u001b[0m\u001b[0;34m)\u001b[0m\u001b[0;34m\u001b[0m\u001b[0;34m\u001b[0m\u001b[0m\n\u001b[0m\u001b[1;32m    243\u001b[0m     \u001b[0mdf_lmresults\u001b[0m \u001b[0;34m=\u001b[0m \u001b[0mdf_lmresults\u001b[0m\u001b[0;34m.\u001b[0m\u001b[0mdrop_duplicates\u001b[0m\u001b[0;34m(\u001b[0m\u001b[0;34m)\u001b[0m\u001b[0;34m\u001b[0m\u001b[0;34m\u001b[0m\u001b[0m\n\u001b[1;32m    244\u001b[0m \u001b[0;34m\u001b[0m\u001b[0m\n",
      "\u001b[0;32m/usr/local/lib/python3.7/site-packages/pandas/core/reshape/concat.py\u001b[0m in \u001b[0;36mconcat\u001b[0;34m(objs, axis, join, join_axes, ignore_index, keys, levels, names, verify_integrity, sort, copy)\u001b[0m\n\u001b[1;32m    253\u001b[0m         \u001b[0mverify_integrity\u001b[0m\u001b[0;34m=\u001b[0m\u001b[0mverify_integrity\u001b[0m\u001b[0;34m,\u001b[0m\u001b[0;34m\u001b[0m\u001b[0;34m\u001b[0m\u001b[0m\n\u001b[1;32m    254\u001b[0m         \u001b[0mcopy\u001b[0m\u001b[0;34m=\u001b[0m\u001b[0mcopy\u001b[0m\u001b[0;34m,\u001b[0m\u001b[0;34m\u001b[0m\u001b[0;34m\u001b[0m\u001b[0m\n\u001b[0;32m--> 255\u001b[0;31m         \u001b[0msort\u001b[0m\u001b[0;34m=\u001b[0m\u001b[0msort\u001b[0m\u001b[0;34m,\u001b[0m\u001b[0;34m\u001b[0m\u001b[0;34m\u001b[0m\u001b[0m\n\u001b[0m\u001b[1;32m    256\u001b[0m     )\n\u001b[1;32m    257\u001b[0m \u001b[0;34m\u001b[0m\u001b[0m\n",
      "\u001b[0;32m/usr/local/lib/python3.7/site-packages/pandas/core/reshape/concat.py\u001b[0m in \u001b[0;36m__init__\u001b[0;34m(self, objs, axis, join, join_axes, keys, levels, names, ignore_index, verify_integrity, copy, sort)\u001b[0m\n\u001b[1;32m    302\u001b[0m \u001b[0;34m\u001b[0m\u001b[0m\n\u001b[1;32m    303\u001b[0m         \u001b[0;32mif\u001b[0m \u001b[0mlen\u001b[0m\u001b[0;34m(\u001b[0m\u001b[0mobjs\u001b[0m\u001b[0;34m)\u001b[0m \u001b[0;34m==\u001b[0m \u001b[0;36m0\u001b[0m\u001b[0;34m:\u001b[0m\u001b[0;34m\u001b[0m\u001b[0;34m\u001b[0m\u001b[0m\n\u001b[0;32m--> 304\u001b[0;31m             \u001b[0;32mraise\u001b[0m \u001b[0mValueError\u001b[0m\u001b[0;34m(\u001b[0m\u001b[0;34m\"No objects to concatenate\"\u001b[0m\u001b[0;34m)\u001b[0m\u001b[0;34m\u001b[0m\u001b[0;34m\u001b[0m\u001b[0m\n\u001b[0m\u001b[1;32m    305\u001b[0m \u001b[0;34m\u001b[0m\u001b[0m\n\u001b[1;32m    306\u001b[0m         \u001b[0;32mif\u001b[0m \u001b[0mkeys\u001b[0m \u001b[0;32mis\u001b[0m \u001b[0;32mNone\u001b[0m\u001b[0;34m:\u001b[0m\u001b[0;34m\u001b[0m\u001b[0;34m\u001b[0m\u001b[0m\n",
      "\u001b[0;31mValueError\u001b[0m: No objects to concatenate"
     ]
    }
   ],
   "source": [
    "ohdict = {'qxcurrentxos' :  None, 'd4' :  None, 'd1' : None, 'qxcurrentxmodel': None, 'hbrand' : None,\n",
    "          'hmodelquota' : None, 'hmodelquota_reordered' : None,'Empowered_Customer_Groups' : None}\n",
    "                 \n",
    "\n",
    "varlist_X = ['d1',  # gender\n",
    "             'd2',  # age\n",
    "             'hbrand', # device brand\n",
    "             'd3_1', 'd3_2',    'd3_3',    'd3_4',    # employment\n",
    "             'd4', # education\n",
    "             'd6',    # hispanic\n",
    "             'd7_1', 'd7_2',    'd7_3',    'd7_4',    'd7_5',    'd7_97',    'd7_99' # race\n",
    "            ]\n",
    "\n",
    "X, df_varmap = dataprep_X (df_data, df_varmap, df_valmap, varlist_X, \n",
    "                       ohdict=ohdict)\n",
    "\n",
    "like_str = '_PC1'\n",
    "var_y_list = df_data_PC1.filter(like=like_str, axis=1).columns.values\n",
    "print(var_y_list)\n",
    "print()\n",
    "tp_list_PC1, df_lmresults_PC1 = OLS_loop (var_y_list, ohdict, X, df_varmap)\n",
    "\n",
    "print (tp_list_PC1)\n",
    "print()\n",
    "\n",
    "df_lmresults_FEadv.head()"
   ]
  },
  {
   "cell_type": "code",
   "execution_count": null,
   "metadata": {},
   "outputs": [],
   "source": [
    "df_list = []\n",
    "for y_var in ['activitiesxdrivers_PC1', 'activitiesximportance_PC1',\n",
    "               'activitiesxquality_PC1', 'activitiesxsatisfaction_PC1']:\n",
    "    print (y_var)\n",
    "    \n",
    "    df_data = pd.read_csv(fname_data)\n",
    "    ohdict = {'qxcurrentxos': None, 'd4': None, 'd1': None, 'qxcurrentxmodel': None, \n",
    "              'hbrand': None, 'hmodelquota': None, 'hmodelquota_reordered': None, \n",
    "              'Empowered_Customer_Groups': None}\n",
    "    varlist_X = ['d1', 'd2', 'hbrand', 'd3_1', 'd3_2', 'd3_3', 'd3_4', 'd4', 'd6', 'd7_1', \n",
    "                 'd7_2', 'd7_3', 'd7_4', 'd7_5', 'd7_97', 'd7_99']\n",
    "    \n",
    "    X, df_varmap = dataprep_X (df_data, df_varmap, df_valmap, varlist_X, ohdict=ohdict)\n",
    "    Y = dataprep_Y (df_data_PC1, y_var)\n",
    "    \n",
    "    regressor = LinearRegression()  \n",
    "    regressor.fit(X, Y)\n",
    "    X2 = sm.add_constant(X)\n",
    "    est = sm.OLS(Y, X2)\n",
    "    est2 = est.fit()\n",
    "    print(est2.rsquared)\n",
    "\n",
    "#     df_est = results_summary_to_dataframe(est2)\n",
    "#     df_est[(df_est.pvals<.05)].sort_values('coeff').round(5)\n",
    "    \n",
    "#     df_temp = df_varmap[['Variable','Label']].merge(df_est[['coeff','pvals']][\n",
    "#         (df_est.index=='const')|(df_est.pvals<.05)].sort_values('pvals').round(5), left_on='Variable', right_index=True, \n",
    "#                                       how='right')\n",
    "#     df_temp['var_y'] = y_var\n",
    "#     df_list.append(df_temp)\n",
    "    \n",
    "# df_lmresults_PC = pd.concat(df_list)\n",
    "# df_lmresults_PC = df_lmresults_PC.drop_duplicates() #.00001 .001%"
   ]
  },
  {
   "cell_type": "code",
   "execution_count": null,
   "metadata": {},
   "outputs": [],
   "source": [
    "df_lmresults_PC"
   ]
  },
  {
   "cell_type": "code",
   "execution_count": null,
   "metadata": {},
   "outputs": [],
   "source": [
    "df_lmresults_PC"
   ]
  },
  {
   "cell_type": "markdown",
   "metadata": {},
   "source": [
    "# Response = UX_Index & UX_Loyalty"
   ]
  },
  {
   "cell_type": "code",
   "execution_count": null,
   "metadata": {},
   "outputs": [],
   "source": [
    "# df_list = []\n",
    "# for y_var in ['UX_Loyalty', 'UXindex', 'speaker_phone_UXI', \t'charging_battery_UXI', \t'transferring_files_UXI',\n",
    "#               'unlocking_UXI', \t'display_UXI', \t'multiple_windows_UXI', \t'organizing_home_screen_UXI', \t\n",
    "#               'quick_settings_UXI', \t'customizing_settings_UXI', \t'notifications_UXI', \t'search_phone_UXI',\n",
    "#               'calendar_events_and_reminders_UXI', \t'alarm_UXI', \t'sending_and_receiving_texts_UXI', \t\n",
    "#               'rear_camera_UXI', \t'front_camera_UXI', \t'video_recording_UXI', \t'photo_editing_UXI', \t\n",
    "#               'sharing_UXI', \t'location_services_UXI', \t'tracking_wellbeing_UXI', \t'using_notes_UXI', \t\n",
    "#               'mobile_payment_UXI', \t'digital_assistant_UXI', \t'AR_shopping_UXI', ]:\n",
    "#     print (y_var)\n",
    "    \n",
    "#     df_data = pd.read_csv(fname_data)\n",
    "#     ohdict = {'qxcurrentxos': None, 'd4': None, 'd1': None, 'qxcurrentxmodel': None, \n",
    "#               'hbrand': None, 'hmodelquota': None, 'hmodelquota_reordered': None, \n",
    "#               'Empowered_Customer_Groups': None}\n",
    "#     varlist_X = ['d1', 'd2', 'hbrand', 'd3_1', 'd3_2', 'd3_3', 'd3_4', 'd4', 'd6', 'd7_1', \n",
    "#                  'd7_2', 'd7_3', 'd7_4', 'd7_5', 'd7_97', 'd7_99']\n",
    "    \n",
    "#     X, df_varmap = dataprep_X (df_data, df_varmap, df_valmap, varlist_X, ohdict=ohdict)\n",
    "#     Y = dataprep_Y (df_data, y_var)\n",
    "    \n",
    "#     regressor = LinearRegression()  \n",
    "#     regressor.fit(X, Y)\n",
    "#     X2 = sm.add_constant(X)\n",
    "#     est = sm.OLS(Y, X2)\n",
    "#     est2 = est.fit()\n",
    "\n",
    "#     df_est = results_summary_to_dataframe(est2)\n",
    "#     df_est[(df_est.pvals<.05)].sort_values('coeff').round(5)\n",
    "    \n",
    "#     df_temp = df_varmap[['Variable','Label']].merge(df_est[['coeff','pvals']][\n",
    "#         (df_est.index=='const')|(df_est.pvals<.05)].sort_values('pvals').round(5), left_on='Variable', right_index=True, \n",
    "#                                       how='right')\n",
    "#     df_temp['var_y'] = y_var\n",
    "#     df_list.append(df_temp)\n",
    "    \n",
    "df_lmresults_UX = pd.concat(df_list)\n",
    "df_lmresults_UX = df_lmresults_UX.drop_duplicates()"
   ]
  },
  {
   "cell_type": "code",
   "execution_count": null,
   "metadata": {},
   "outputs": [],
   "source": [
    "df_lmresults_UX"
   ]
  },
  {
   "cell_type": "code",
   "execution_count": null,
   "metadata": {},
   "outputs": [],
   "source": [
    "df_lmresults_UX.loc[2.0].pvals.iloc[0]"
   ]
  },
  {
   "cell_type": "code",
   "execution_count": null,
   "metadata": {},
   "outputs": [],
   "source": [
    "np.std(df_data.UX_Loyalty)*.21\n"
   ]
  },
  {
   "cell_type": "code",
   "execution_count": null,
   "metadata": {},
   "outputs": [],
   "source": [
    "sns.distplot(df_data.UX_Loyalty)"
   ]
  },
  {
   "cell_type": "code",
   "execution_count": null,
   "metadata": {},
   "outputs": [],
   "source": [
    "# Decision Trees\n",
    "\n",
    "from sklearn import tree\n",
    "\n",
    "ohdict = {'qxcurrentxos': None, 'd4': None, 'd1': None, 'qxcurrentxmodel': None, \n",
    "              'hbrand': None, 'hmodelquota': None, 'hmodelquota_reordered': None, \n",
    "              'Empowered_Customer_Groups': None}\n",
    "varlist_X = ['d1', 'd2', 'hbrand', 'd3_1', 'd3_2', 'd3_3', 'd3_4', 'd4', 'd6', 'd7_1', \n",
    "                 'd7_2', 'd7_3', 'd7_4', 'd7_5', 'd7_97', 'd7_99']\n",
    "Y = dataprep_Y (df_data, 'UX_Loyalty')\n",
    "X, df_varmap = dataprep_X (df_data, df_varmap, df_valmap, varlist_X, ohdict=ohdict)\n",
    "\n",
    "clf = tree.DecisionTreeRegressor()\n",
    "clf = clf.fit(X,Y)\n",
    "\n",
    "import graphviz \n",
    "dot_data = tree.export_graphviz(clf, out_file='../data/output/tree_UXloy.dot',\n",
    "                                feature_names=X.columns,\n",
    "                               filled=True, rounded= True, max_depth = 5) \n",
    "\n"
   ]
  },
  {
   "cell_type": "code",
   "execution_count": null,
   "metadata": {},
   "outputs": [],
   "source": [
    "df_varmap[df_varmap.Variable.isin(X.columns)]['Short Label'.values"
   ]
  },
  {
   "cell_type": "code",
   "execution_count": null,
   "metadata": {},
   "outputs": [],
   "source": [
    "!dot -Tpng ../data/output/tree_UXloy.dot -o ../data/output/tree_UXloy.png\n",
    "\n",
    "# ![title](\"../data/output/tree_UXloy.png\")"
   ]
  },
  {
   "cell_type": "code",
   "execution_count": null,
   "metadata": {},
   "outputs": [],
   "source": [
    "clf.tree_"
   ]
  },
  {
   "cell_type": "code",
   "execution_count": null,
   "metadata": {},
   "outputs": [],
   "source": [
    "help(sklearn.tree. _tree.Tree) "
   ]
  },
  {
   "cell_type": "code",
   "execution_count": null,
   "metadata": {},
   "outputs": [],
   "source": [
    "X.head()"
   ]
  },
  {
   "cell_type": "code",
   "execution_count": null,
   "metadata": {},
   "outputs": [],
   "source": [
    "print(dot_data)"
   ]
  },
  {
   "cell_type": "code",
   "execution_count": null,
   "metadata": {},
   "outputs": [],
   "source": [
    "help()"
   ]
  },
  {
   "cell_type": "code",
   "execution_count": null,
   "metadata": {},
   "outputs": [],
   "source": [
    "#   Report the score of the prediction using the testing set\n",
    "score = clf.score(X, Y)\n",
    "\n",
    "# print(\"The R2 score for feature {:16} is {:+.5f}\".format(feature, score))\n",
    "\n",
    "# for feature in data.columns.values:\n",
    "# scorer(feature)"
   ]
  },
  {
   "cell_type": "code",
   "execution_count": null,
   "metadata": {},
   "outputs": [],
   "source": [
    "score"
   ]
  },
  {
   "cell_type": "markdown",
   "metadata": {},
   "source": [
    "# ADD activities_recnecy PCA to lin reg"
   ]
  },
  {
   "cell_type": "code",
   "execution_count": null,
   "metadata": {},
   "outputs": [],
   "source": [
    "df_data_PC1.head()"
   ]
  },
  {
   "cell_type": "code",
   "execution_count": null,
   "metadata": {},
   "outputs": [],
   "source": [
    "# y-vars\n",
    "df_data.filter(like='Activitiesx', axis=1).columns"
   ]
  },
  {
   "cell_type": "code",
   "execution_count": null,
   "metadata": {},
   "outputs": [],
   "source": [
    "df_data['activitiesxrecency_PC1'] = df_data_PC1['activitiesxrecency_PC1']"
   ]
  },
  {
   "cell_type": "code",
   "execution_count": null,
   "metadata": {},
   "outputs": [],
   "source": [
    "ohdict = {'qxcurrentxos' :  None,\n",
    "              'd4' :  None, \n",
    "              'd1' : None, \n",
    "#               'hidagemodels' : None,\n",
    "            'qxcurrentxmodel': None,\n",
    "             'hbrand' : None,\n",
    "             'hmodelquota' : None,\n",
    "             'hmodelquota_reordered' : None,\n",
    "             'Empowered_Customer_Groups' : None}\n",
    "                 \n",
    "\n",
    "varlist_X = ['d1',  # gender\n",
    "             'd2',  # age\n",
    "             'hbrand', # device brand\n",
    "#              'hidagemodels', # age group\n",
    "             'd3_1', 'd3_2',    'd3_3',    'd3_4',    # employment\n",
    "             'd4', # education\n",
    "             'd6',    # hispanic\n",
    "             'd7_1', 'd7_2',    'd7_3',    'd7_4',    'd7_5',    'd7_97',    'd7_99', # race\n",
    "             'activitiesxrecency_PC1'\n",
    "            ]\n",
    "\n",
    "df_list = []\n",
    "for var_y in df_data.filter(like='Activitiesx', axis=1).columns:\n",
    "    print (var_y)\n",
    "    X, df_varmap = dataprep_X (df_data, df_varmap, df_valmap, varlist_X, \n",
    "                           ohdict=ohdict)\n",
    "    Y = dataprep_Y (df_data, var_y)\n",
    "    regressor = LinearRegression()  \n",
    "    regressor.fit(X, Y)\n",
    "    X2 = sm.add_constant(X)\n",
    "    est = sm.OLS(Y, X2)\n",
    "    est2 = est.fit()\n",
    "    print(est2.rsquared)\n",
    "\n",
    "#     df_est = results_summary_to_dataframe(est2)\n",
    "#     df_est[(df_est.pvals<.05)].sort_values('coeff').round(5)\n",
    "    \n",
    "#     df_temp = df_varmap[['Variable','Label']].merge(df_est[['coeff','pvals']][\n",
    "#         (df_est.index=='const')|(df_est.pvals<.05)].sort_values('pvals').round(5), left_on='Variable', right_index=True, \n",
    "#                                       how='right')\n",
    "#     df_temp['var_y'] = var_y\n",
    "#     df_list.append(df_temp)\n",
    "# df_lmresults = pd.concat(df_list)\n",
    "# df_lmresults = df_lmresults.drop_duplicates()"
   ]
  },
  {
   "cell_type": "code",
   "execution_count": null,
   "metadata": {},
   "outputs": [],
   "source": [
    "df_lmresults"
   ]
  },
  {
   "cell_type": "code",
   "execution_count": null,
   "metadata": {},
   "outputs": [],
   "source": []
  },
  {
   "cell_type": "code",
   "execution_count": null,
   "metadata": {},
   "outputs": [],
   "source": []
  },
  {
   "cell_type": "markdown",
   "metadata": {},
   "source": [
    "# ARCHIVE"
   ]
  },
  {
   "cell_type": "code",
   "execution_count": null,
   "metadata": {},
   "outputs": [],
   "source": [
    "# Decision Trees\n",
    "\n",
    "# Decision Trees\n",
    "\n",
    "from sklearn import tree\n",
    "\n",
    "clf = tree.DecisionTreeRegressor()\n",
    "clf = clf.fit(X_train,y_train)\n",
    "\n",
    "import graphviz \n",
    "dot_data = tree.export_graphviz(clf, out_file='../data/output/tree_unstd.dot',\n",
    "                                feature_names=X_train.columns,\n",
    "                               filled=True, rounded= True, max_depth = 5) \n",
    "\n",
    "!dot -Tpng ../data/output/tree_unstd.dot -o ../data/output/tree_unstd.png\n",
    "\n",
    "![title](\"../data/output/tree.png\")"
   ]
  }
 ],
 "metadata": {
  "kernelspec": {
   "display_name": "Python 3",
   "language": "python",
   "name": "python3"
  },
  "language_info": {
   "codemirror_mode": {
    "name": "ipython",
    "version": 3
   },
   "file_extension": ".py",
   "mimetype": "text/x-python",
   "name": "python",
   "nbconvert_exporter": "python",
   "pygments_lexer": "ipython3",
   "version": "3.7.3"
  }
 },
 "nbformat": 4,
 "nbformat_minor": 2
}
