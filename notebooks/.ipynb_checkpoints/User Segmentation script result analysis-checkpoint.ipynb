{
 "cells": [
  {
   "cell_type": "code",
   "execution_count": 5,
   "metadata": {},
   "outputs": [],
   "source": [
    "import pandas as pd\n",
    "import glob\n",
    "import matplotlib\n",
    "import numpy as np\n",
    "import matplotlib.pyplot as plt\n",
    "import matplotlib.backends.backend_pdf\n",
    "from matplotlib.backends.backend_pdf import PdfPages\n",
    "\n",
    "%matplotlib inline \n",
    "\n",
    "\n",
    "# Seaborn visualization library\n",
    "import seaborn as sns\n",
    "\n",
    "from sklearn.preprocessing import StandardScaler\n",
    "from sklearn.datasets.samples_generator import make_blobs\n",
    "from sklearn.cluster import KMeans\n",
    "\n",
    "from sklearn.feature_selection import RFE\n",
    "from sklearn.linear_model import LogisticRegression\n",
    "\n",
    "\n",
    "from sklearn.feature_selection import SelectFromModel\n",
    "from sklearn.linear_model import LassoCV\n",
    "from sklearn.ensemble import RandomForestClassifier\n",
    "\n",
    "import scipy"
   ]
  },
  {
   "cell_type": "code",
   "execution_count": 2,
   "metadata": {},
   "outputs": [],
   "source": [
    "pd.set_option('display.max_columns', 1000)\n",
    "pd.options.display.max_rows=1000\n",
    "\n",
    "pd.set_option('display.width', 1000)\n",
    "pd.set_option('display.max_colwidth', 1000)\n",
    "\n",
    "plt.rcParams.update({'figure.max_open_warning': 0})\n"
   ]
  },
  {
   "cell_type": "code",
   "execution_count": 3,
   "metadata": {},
   "outputs": [],
   "source": [
    "import random\n",
    "random.seed( 0 )"
   ]
  },
  {
   "cell_type": "markdown",
   "metadata": {},
   "source": [
    "# Load in Data"
   ]
  },
  {
   "cell_type": "code",
   "execution_count": 4,
   "metadata": {},
   "outputs": [
    {
     "name": "stderr",
     "output_type": "stream",
     "text": [
      "/usr/local/lib/python3.7/site-packages/IPython/core/interactiveshell.py:3057: DtypeWarning: Columns (1218) have mixed types. Specify dtype option on import or set low_memory=False.\n",
      "  interactivity=interactivity, compiler=compiler, result=result)\n"
     ]
    }
   ],
   "source": [
    "root = r\"../data/input/07 Samsung UX Index - Web App Implementation/\"\n",
    "\n",
    "fname_data = root + r\"Samsung UX Index Survey_Data.csv\"\n",
    "df_data = pd.read_csv(fname_data)\n",
    "\n",
    "fname_vaxmap = root + r\"Samsung UX Index Survey_Datamap.xlsx\"\n",
    "df_varmap = pd.read_excel(fname_vaxmap, header=1, sheet_name=0)\n",
    "df_valmap = pd.read_excel(fname_vaxmap, header=1, sheet_name=1)"
   ]
  },
  {
   "cell_type": "markdown",
   "metadata": {},
   "source": [
    "# Examine ATTRIBUTE Importance (Zclass)"
   ]
  },
  {
   "cell_type": "code",
   "execution_count": 13,
   "metadata": {},
   "outputs": [
    {
     "name": "stdout",
     "output_type": "stream",
     "text": [
      "(2484, 8)\n"
     ]
    },
    {
     "data": {
      "text/html": [
       "<div>\n",
       "<style scoped>\n",
       "    .dataframe tbody tr th:only-of-type {\n",
       "        vertical-align: middle;\n",
       "    }\n",
       "\n",
       "    .dataframe tbody tr th {\n",
       "        vertical-align: top;\n",
       "    }\n",
       "\n",
       "    .dataframe thead th {\n",
       "        text-align: right;\n",
       "    }\n",
       "</style>\n",
       "<table border=\"1\" class=\"dataframe\">\n",
       "  <thead>\n",
       "    <tr style=\"text-align: right;\">\n",
       "      <th></th>\n",
       "      <th>Variable</th>\n",
       "      <th>Label</th>\n",
       "      <th>interp</th>\n",
       "      <th>clusterA</th>\n",
       "      <th>clusterB</th>\n",
       "      <th>stat</th>\n",
       "      <th>pvalue</th>\n",
       "      <th>analysisloc</th>\n",
       "    </tr>\n",
       "  </thead>\n",
       "  <tbody>\n",
       "    <tr>\n",
       "      <th>0</th>\n",
       "      <td>d3_1</td>\n",
       "      <td>D3. Student (part-or full-time) - Which of the following best describes your current employment status?</td>\n",
       "      <td>NaN</td>\n",
       "      <td>0</td>\n",
       "      <td>0</td>\n",
       "      <td>0.000000</td>\n",
       "      <td>1.000000</td>\n",
       "      <td>20191214_144414_activitiesxsatisfactionxdemog</td>\n",
       "    </tr>\n",
       "    <tr>\n",
       "      <th>1</th>\n",
       "      <td>d3_1</td>\n",
       "      <td>D3. Student (part-or full-time) - Which of the following best describes your current employment status?</td>\n",
       "      <td>Accept H0: cluster 0 &lt;= cluster 1</td>\n",
       "      <td>0</td>\n",
       "      <td>1</td>\n",
       "      <td>2.230173</td>\n",
       "      <td>0.025819</td>\n",
       "      <td>20191214_144414_activitiesxsatisfactionxdemog</td>\n",
       "    </tr>\n",
       "    <tr>\n",
       "      <th>2</th>\n",
       "      <td>d3_1</td>\n",
       "      <td>D3. Student (part-or full-time) - Which of the following best describes your current employment status?</td>\n",
       "      <td>Reject H0 in favor of Ha: cluster 0 &lt; cluster 2</td>\n",
       "      <td>0</td>\n",
       "      <td>2</td>\n",
       "      <td>-3.704824</td>\n",
       "      <td>0.000224</td>\n",
       "      <td>20191214_144414_activitiesxsatisfactionxdemog</td>\n",
       "    </tr>\n",
       "    <tr>\n",
       "      <th>3</th>\n",
       "      <td>d3_1</td>\n",
       "      <td>D3. Student (part-or full-time) - Which of the following best describes your current employment status?</td>\n",
       "      <td>Accept H0: cluster 1 &gt;= cluster 0</td>\n",
       "      <td>1</td>\n",
       "      <td>0</td>\n",
       "      <td>-2.230173</td>\n",
       "      <td>0.025819</td>\n",
       "      <td>20191214_144414_activitiesxsatisfactionxdemog</td>\n",
       "    </tr>\n",
       "    <tr>\n",
       "      <th>4</th>\n",
       "      <td>d3_1</td>\n",
       "      <td>D3. Student (part-or full-time) - Which of the following best describes your current employment status?</td>\n",
       "      <td>NaN</td>\n",
       "      <td>1</td>\n",
       "      <td>1</td>\n",
       "      <td>0.000000</td>\n",
       "      <td>1.000000</td>\n",
       "      <td>20191214_144414_activitiesxsatisfactionxdemog</td>\n",
       "    </tr>\n",
       "  </tbody>\n",
       "</table>\n",
       "</div>"
      ],
      "text/plain": [
       "  Variable                                                                                                    Label                                           interp  clusterA  clusterB      stat    pvalue                                    analysisloc\n",
       "0     d3_1  D3. Student (part-or full-time) - Which of the following best describes your current employment status?                                              NaN         0         0  0.000000  1.000000  20191214_144414_activitiesxsatisfactionxdemog\n",
       "1     d3_1  D3. Student (part-or full-time) - Which of the following best describes your current employment status?                Accept H0: cluster 0 <= cluster 1         0         1  2.230173  0.025819  20191214_144414_activitiesxsatisfactionxdemog\n",
       "2     d3_1  D3. Student (part-or full-time) - Which of the following best describes your current employment status?  Reject H0 in favor of Ha: cluster 0 < cluster 2         0         2 -3.704824  0.000224  20191214_144414_activitiesxsatisfactionxdemog\n",
       "3     d3_1  D3. Student (part-or full-time) - Which of the following best describes your current employment status?                Accept H0: cluster 1 >= cluster 0         1         0 -2.230173  0.025819  20191214_144414_activitiesxsatisfactionxdemog\n",
       "4     d3_1  D3. Student (part-or full-time) - Which of the following best describes your current employment status?                                              NaN         1         1  0.000000  1.000000  20191214_144414_activitiesxsatisfactionxdemog"
      ]
     },
     "execution_count": 13,
     "metadata": {},
     "output_type": "execute_result"
    }
   ],
   "source": [
    "path = r'/Users/lubagloukhov/Documents/Consulting/Samsung/UXi/data/output'\n",
    "all_files = glob.glob(path + \"*/*/Seg1_KNN3_zclust0.05.csv\")\n",
    "\n",
    "li = []\n",
    "\n",
    "for filename in all_files:\n",
    "    df = pd.read_csv(filename, index_col=None, header=0)\n",
    "    df['analysisloc'] = filename.split('/')[9]\n",
    "    li.append(df)\n",
    "\n",
    "zclust_frame = pd.concat(li, axis=0, ignore_index=True)\n",
    "\n",
    "print(zclust_frame.shape)\n",
    "zclust_frame.head()"
   ]
  },
  {
   "cell_type": "code",
   "execution_count": 23,
   "metadata": {},
   "outputs": [
    {
     "name": "stdout",
     "output_type": "stream",
     "text": [
      "(370, 8)\n",
      "0.14895330112721417\n"
     ]
    },
    {
     "data": {
      "text/html": [
       "<div>\n",
       "<style scoped>\n",
       "    .dataframe tbody tr th:only-of-type {\n",
       "        vertical-align: middle;\n",
       "    }\n",
       "\n",
       "    .dataframe tbody tr th {\n",
       "        vertical-align: top;\n",
       "    }\n",
       "\n",
       "    .dataframe thead th {\n",
       "        text-align: right;\n",
       "    }\n",
       "</style>\n",
       "<table border=\"1\" class=\"dataframe\">\n",
       "  <thead>\n",
       "    <tr style=\"text-align: right;\">\n",
       "      <th></th>\n",
       "      <th>Variable</th>\n",
       "      <th>Label</th>\n",
       "      <th>interp</th>\n",
       "      <th>clusterA</th>\n",
       "      <th>clusterB</th>\n",
       "      <th>stat</th>\n",
       "      <th>pvalue</th>\n",
       "      <th>analysisloc</th>\n",
       "    </tr>\n",
       "  </thead>\n",
       "  <tbody>\n",
       "    <tr>\n",
       "      <th>2</th>\n",
       "      <td>d3_1</td>\n",
       "      <td>D3. Student (part-or full-time) - Which of the following best describes your current employment status?</td>\n",
       "      <td>Reject H0 in favor of Ha: cluster 0 &lt; cluster 2</td>\n",
       "      <td>0</td>\n",
       "      <td>2</td>\n",
       "      <td>-3.704824</td>\n",
       "      <td>2.242572e-04</td>\n",
       "      <td>20191214_144414_activitiesxsatisfactionxdemog</td>\n",
       "    </tr>\n",
       "    <tr>\n",
       "      <th>5</th>\n",
       "      <td>d3_1</td>\n",
       "      <td>D3. Student (part-or full-time) - Which of the following best describes your current employment status?</td>\n",
       "      <td>Reject H0 in favor of Ha: cluster 1 &lt; cluster 2</td>\n",
       "      <td>1</td>\n",
       "      <td>2</td>\n",
       "      <td>-5.217989</td>\n",
       "      <td>2.237562e-07</td>\n",
       "      <td>20191214_144414_activitiesxsatisfactionxdemog</td>\n",
       "    </tr>\n",
       "    <tr>\n",
       "      <th>6</th>\n",
       "      <td>d3_1</td>\n",
       "      <td>D3. Student (part-or full-time) - Which of the following best describes your current employment status?</td>\n",
       "      <td>Reject H0 in favor of Ha: cluster 2 &gt; cluster 0</td>\n",
       "      <td>2</td>\n",
       "      <td>0</td>\n",
       "      <td>3.704824</td>\n",
       "      <td>2.242572e-04</td>\n",
       "      <td>20191214_144414_activitiesxsatisfactionxdemog</td>\n",
       "    </tr>\n",
       "    <tr>\n",
       "      <th>7</th>\n",
       "      <td>d3_1</td>\n",
       "      <td>D3. Student (part-or full-time) - Which of the following best describes your current employment status?</td>\n",
       "      <td>Reject H0 in favor of Ha: cluster 2 &gt; cluster 1</td>\n",
       "      <td>2</td>\n",
       "      <td>1</td>\n",
       "      <td>5.217989</td>\n",
       "      <td>2.237562e-07</td>\n",
       "      <td>20191214_144414_activitiesxsatisfactionxdemog</td>\n",
       "    </tr>\n",
       "    <tr>\n",
       "      <th>28</th>\n",
       "      <td>d3_4</td>\n",
       "      <td>D3. Not currently employed or in school  - Which of the following best describes your current employment status?</td>\n",
       "      <td>Reject H0 in favor of Ha: cluster 0 &lt; cluster 1</td>\n",
       "      <td>0</td>\n",
       "      <td>1</td>\n",
       "      <td>-3.375084</td>\n",
       "      <td>7.492897e-04</td>\n",
       "      <td>20191214_144414_activitiesxsatisfactionxdemog</td>\n",
       "    </tr>\n",
       "  </tbody>\n",
       "</table>\n",
       "</div>"
      ],
      "text/plain": [
       "   Variable                                                                                                             Label                                           interp  clusterA  clusterB      stat        pvalue                                    analysisloc\n",
       "2      d3_1           D3. Student (part-or full-time) - Which of the following best describes your current employment status?  Reject H0 in favor of Ha: cluster 0 < cluster 2         0         2 -3.704824  2.242572e-04  20191214_144414_activitiesxsatisfactionxdemog\n",
       "5      d3_1           D3. Student (part-or full-time) - Which of the following best describes your current employment status?  Reject H0 in favor of Ha: cluster 1 < cluster 2         1         2 -5.217989  2.237562e-07  20191214_144414_activitiesxsatisfactionxdemog\n",
       "6      d3_1           D3. Student (part-or full-time) - Which of the following best describes your current employment status?  Reject H0 in favor of Ha: cluster 2 > cluster 0         2         0  3.704824  2.242572e-04  20191214_144414_activitiesxsatisfactionxdemog\n",
       "7      d3_1           D3. Student (part-or full-time) - Which of the following best describes your current employment status?  Reject H0 in favor of Ha: cluster 2 > cluster 1         2         1  5.217989  2.237562e-07  20191214_144414_activitiesxsatisfactionxdemog\n",
       "28     d3_4  D3. Not currently employed or in school  - Which of the following best describes your current employment status?  Reject H0 in favor of Ha: cluster 0 < cluster 1         0         1 -3.375084  7.492897e-04  20191214_144414_activitiesxsatisfactionxdemog"
      ]
     },
     "execution_count": 23,
     "metadata": {},
     "output_type": "execute_result"
    }
   ],
   "source": [
    "frame_Accept005 = frame[frame.interp.fillna(value='').str.contains('Reject')]\n",
    "\n",
    "print(frame_Accept005.shape)\n",
    "print(float(frame_Accept005.shape[0]/2484))\n",
    "frame_Accept005.head()"
   ]
  },
  {
   "cell_type": "code",
   "execution_count": 21,
   "metadata": {},
   "outputs": [
    {
     "data": {
      "text/plain": [
       "Variable\n",
       "d4_3      2\n",
       "d7_4      2\n",
       "d3_2      2\n",
       "d4_7      2\n",
       "d7_97     2\n",
       "d6        4\n",
       "d4_4      4\n",
       "d1_3      6\n",
       "d4_5      6\n",
       "d3_3     12\n",
       "d7_2     16\n",
       "d7_99    20\n",
       "d4_2     24\n",
       "d4_6     30\n",
       "d4_1     30\n",
       "d7_1     32\n",
       "d3_1     42\n",
       "d1_1     42\n",
       "d1_2     44\n",
       "d3_4     48\n",
       "Name: Label, dtype: int64"
      ]
     },
     "execution_count": 21,
     "metadata": {},
     "output_type": "execute_result"
    }
   ],
   "source": [
    "frame_Accept005.groupby('Variable').Label.count().sort_values()"
   ]
  },
  {
   "cell_type": "code",
   "execution_count": 36,
   "metadata": {},
   "outputs": [
    {
     "name": "stdout",
     "output_type": "stream",
     "text": [
      "(42, 8)\n",
      "0.016908212560386472\n"
     ]
    },
    {
     "data": {
      "text/html": [
       "<div>\n",
       "<style scoped>\n",
       "    .dataframe tbody tr th:only-of-type {\n",
       "        vertical-align: middle;\n",
       "    }\n",
       "\n",
       "    .dataframe tbody tr th {\n",
       "        vertical-align: top;\n",
       "    }\n",
       "\n",
       "    .dataframe thead th {\n",
       "        text-align: right;\n",
       "    }\n",
       "</style>\n",
       "<table border=\"1\" class=\"dataframe\">\n",
       "  <thead>\n",
       "    <tr style=\"text-align: right;\">\n",
       "      <th></th>\n",
       "      <th>Variable</th>\n",
       "      <th>Label</th>\n",
       "      <th>interp</th>\n",
       "      <th>clusterA</th>\n",
       "      <th>clusterB</th>\n",
       "      <th>stat</th>\n",
       "      <th>pvalue</th>\n",
       "      <th>analysisloc</th>\n",
       "    </tr>\n",
       "  </thead>\n",
       "  <tbody>\n",
       "    <tr>\n",
       "      <th>416</th>\n",
       "      <td>d3_1</td>\n",
       "      <td>D3. Student (part-or full-time) - Which of the following best describes your current employment status?</td>\n",
       "      <td>Reject H0 in favor of Ha: cluster 0 &lt; cluster 2</td>\n",
       "      <td>0</td>\n",
       "      <td>2</td>\n",
       "      <td>-5.852438</td>\n",
       "      <td>5.889341e-09</td>\n",
       "      <td>20191214_143445_usagemetricsxdemog</td>\n",
       "    </tr>\n",
       "    <tr>\n",
       "      <th>420</th>\n",
       "      <td>d3_1</td>\n",
       "      <td>D3. Student (part-or full-time) - Which of the following best describes your current employment status?</td>\n",
       "      <td>Reject H0 in favor of Ha: cluster 2 &gt; cluster 0</td>\n",
       "      <td>2</td>\n",
       "      <td>0</td>\n",
       "      <td>5.852438</td>\n",
       "      <td>5.889341e-09</td>\n",
       "      <td>20191214_143445_usagemetricsxdemog</td>\n",
       "    </tr>\n",
       "    <tr>\n",
       "      <th>461</th>\n",
       "      <td>d7_1</td>\n",
       "      <td>D7. White - What is your race?</td>\n",
       "      <td>Reject H0 in favor of Ha: cluster 0 &gt; cluster 2</td>\n",
       "      <td>0</td>\n",
       "      <td>2</td>\n",
       "      <td>6.007209</td>\n",
       "      <td>2.361054e-09</td>\n",
       "      <td>20191214_143445_usagemetricsxdemog</td>\n",
       "    </tr>\n",
       "    <tr>\n",
       "      <th>465</th>\n",
       "      <td>d7_1</td>\n",
       "      <td>D7. White - What is your race?</td>\n",
       "      <td>Reject H0 in favor of Ha: cluster 2 &lt; cluster 0</td>\n",
       "      <td>2</td>\n",
       "      <td>0</td>\n",
       "      <td>-6.007209</td>\n",
       "      <td>2.361054e-09</td>\n",
       "      <td>20191214_143445_usagemetricsxdemog</td>\n",
       "    </tr>\n",
       "    <tr>\n",
       "      <th>595</th>\n",
       "      <td>d1_1</td>\n",
       "      <td>D1. Are you? Male</td>\n",
       "      <td>Reject H0 in favor of Ha: cluster 0 &lt; cluster 1</td>\n",
       "      <td>0</td>\n",
       "      <td>1</td>\n",
       "      <td>-8.380660</td>\n",
       "      <td>1.232077e-16</td>\n",
       "      <td>20191214_143445_usagemetricsxdemog</td>\n",
       "    </tr>\n",
       "  </tbody>\n",
       "</table>\n",
       "</div>"
      ],
      "text/plain": [
       "    Variable                                                                                                    Label                                           interp  clusterA  clusterB      stat        pvalue                         analysisloc\n",
       "416     d3_1  D3. Student (part-or full-time) - Which of the following best describes your current employment status?  Reject H0 in favor of Ha: cluster 0 < cluster 2         0         2 -5.852438  5.889341e-09  20191214_143445_usagemetricsxdemog\n",
       "420     d3_1  D3. Student (part-or full-time) - Which of the following best describes your current employment status?  Reject H0 in favor of Ha: cluster 2 > cluster 0         2         0  5.852438  5.889341e-09  20191214_143445_usagemetricsxdemog\n",
       "461     d7_1                                                                           D7. White - What is your race?  Reject H0 in favor of Ha: cluster 0 > cluster 2         0         2  6.007209  2.361054e-09  20191214_143445_usagemetricsxdemog\n",
       "465     d7_1                                                                           D7. White - What is your race?  Reject H0 in favor of Ha: cluster 2 < cluster 0         2         0 -6.007209  2.361054e-09  20191214_143445_usagemetricsxdemog\n",
       "595     d1_1                                                                                        D1. Are you? Male  Reject H0 in favor of Ha: cluster 0 < cluster 1         0         1 -8.380660  1.232077e-16  20191214_143445_usagemetricsxdemog"
      ]
     },
     "execution_count": 36,
     "metadata": {},
     "output_type": "execute_result"
    }
   ],
   "source": [
    "frame_Accept001 = frame_Accept005[frame_Accept005.pvalue<.0000001]\n",
    "# frame[frame.interp.fillna(value='').str.contains('Reject')]\n",
    "\n",
    "print(frame_Accept001.shape)\n",
    "print(float(frame_Accept001.shape[0]/2484))\n",
    "frame_Accept001.head()"
   ]
  },
  {
   "cell_type": "code",
   "execution_count": 54,
   "metadata": {},
   "outputs": [
    {
     "name": "stdout",
     "output_type": "stream",
     "text": [
      "5\n"
     ]
    },
    {
     "data": {
      "text/plain": [
       "analysisloc\n",
       "20191214_143315_loyaltymetricsxdemog            8\n",
       "20191214_143350_overallqualityxdemog            2\n",
       "20191214_143445_usagemetricsxdemog             12\n",
       "20191214_143836_activitiesximportancexdemog    12\n",
       "20191214_144107_ activitiesxrecencyxdemog??     8\n",
       "Name: Variable, dtype: int64"
      ]
     },
     "execution_count": 54,
     "metadata": {},
     "output_type": "execute_result"
    }
   ],
   "source": [
    "print(len(frame_Accept001.groupby('analysisloc').Variable.count()))\n",
    "frame_Accept001.groupby('analysisloc').Variable.count()\n"
   ]
  },
  {
   "cell_type": "code",
   "execution_count": 78,
   "metadata": {},
   "outputs": [
    {
     "name": "stdout",
     "output_type": "stream",
     "text": [
      "Variable  Label                                                                                                  \n",
      "d3_1      D3. Student (part-or full-time) - Which of the following best describes your current employment status?    2\n",
      "Name: interp, dtype: int64\n"
     ]
    },
    {
     "data": {
      "text/html": [
       "<div>\n",
       "<style scoped>\n",
       "    .dataframe tbody tr th:only-of-type {\n",
       "        vertical-align: middle;\n",
       "    }\n",
       "\n",
       "    .dataframe tbody tr th {\n",
       "        vertical-align: top;\n",
       "    }\n",
       "\n",
       "    .dataframe thead th {\n",
       "        text-align: right;\n",
       "    }\n",
       "</style>\n",
       "<table border=\"1\" class=\"dataframe\">\n",
       "  <thead>\n",
       "    <tr style=\"text-align: right;\">\n",
       "      <th></th>\n",
       "      <th>Label</th>\n",
       "      <th>interp</th>\n",
       "    </tr>\n",
       "  </thead>\n",
       "  <tbody>\n",
       "    <tr>\n",
       "      <th>2279</th>\n",
       "      <td>D3. Student (part-or full-time) - Which of the following best describes your current employment status?</td>\n",
       "      <td>Reject H0 in favor of Ha: cluster 0 &lt; cluster 2</td>\n",
       "    </tr>\n",
       "    <tr>\n",
       "      <th>2283</th>\n",
       "      <td>D3. Student (part-or full-time) - Which of the following best describes your current employment status?</td>\n",
       "      <td>Reject H0 in favor of Ha: cluster 2 &gt; cluster 0</td>\n",
       "    </tr>\n",
       "  </tbody>\n",
       "</table>\n",
       "</div>"
      ],
      "text/plain": [
       "                                                                                                        Label                                           interp\n",
       "2279  D3. Student (part-or full-time) - Which of the following best describes your current employment status?  Reject H0 in favor of Ha: cluster 0 < cluster 2\n",
       "2283  D3. Student (part-or full-time) - Which of the following best describes your current employment status?  Reject H0 in favor of Ha: cluster 2 > cluster 0"
      ]
     },
     "execution_count": 78,
     "metadata": {},
     "output_type": "execute_result"
    }
   ],
   "source": [
    "frame_Accept001_usage = frame_Accept001[frame_Accept001.analysisloc==\n",
    "                                        '20191214_143350_overallqualityxdemog']\n",
    "print(frame_Accept001_usage.groupby(['Variable','Label']).interp.count())\n",
    "frame_Accept001_usage[['Label','interp']]#.interp\n"
   ]
  },
  {
   "cell_type": "markdown",
   "metadata": {},
   "source": [
    "# Examine ATTITUDE Importance (Zclass)"
   ]
  }
 ],
 "metadata": {
  "kernelspec": {
   "display_name": "Python 3",
   "language": "python",
   "name": "python3"
  },
  "language_info": {
   "codemirror_mode": {
    "name": "ipython",
    "version": 3
   },
   "file_extension": ".py",
   "mimetype": "text/x-python",
   "name": "python",
   "nbconvert_exporter": "python",
   "pygments_lexer": "ipython3",
   "version": "3.7.3"
  }
 },
 "nbformat": 4,
 "nbformat_minor": 2
}
