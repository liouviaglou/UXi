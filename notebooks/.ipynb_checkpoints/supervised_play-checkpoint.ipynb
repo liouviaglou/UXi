{
 "cells": [
  {
   "cell_type": "code",
   "execution_count": 1,
   "metadata": {},
   "outputs": [],
   "source": [
    "import os\n",
    "import sys"
   ]
  },
  {
   "cell_type": "code",
   "execution_count": 2,
   "metadata": {},
   "outputs": [],
   "source": [
    "import pandas as pd\n",
    "import glob\n",
    "import matplotlib\n",
    "import numpy as np\n",
    "import matplotlib.pyplot as plt\n",
    "import matplotlib.backends.backend_pdf\n",
    "from matplotlib.backends.backend_pdf import PdfPages\n",
    "\n",
    "%matplotlib inline \n",
    "\n",
    "\n",
    "# Seaborn visualization library\n",
    "import seaborn as sns\n",
    "\n",
    "from sklearn.preprocessing import StandardScaler\n",
    "from sklearn.datasets.samples_generator import make_blobs\n",
    "from sklearn.cluster import KMeans\n",
    "\n",
    "from sklearn.feature_selection import RFE\n",
    "from sklearn.linear_model import LogisticRegression\n",
    "\n",
    "\n",
    "from sklearn.feature_selection import SelectFromModel\n",
    "from sklearn.linear_model import LassoCV\n",
    "from sklearn.ensemble import RandomForestClassifier\n",
    "\n",
    "import scipy\n",
    "\n",
    "import seaborn as seabornInstance \n",
    "from sklearn.model_selection import train_test_split \n",
    "from sklearn.linear_model import LinearRegression\n",
    "\n",
    "from sklearn.preprocessing import PolynomialFeatures\n",
    "from sklearn import metrics\n",
    "\n",
    "import statsmodels.api as sm\n",
    "from scipy import stats\n",
    "\n",
    "import lxml\n",
    "from io import StringIO "
   ]
  },
  {
   "cell_type": "code",
   "execution_count": 3,
   "metadata": {},
   "outputs": [],
   "source": [
    "pd.set_option('display.max_columns', 1000)\n",
    "pd.options.display.max_rows=1000\n",
    "\n",
    "pd.set_option('display.width', 1000)\n",
    "pd.set_option('display.max_colwidth', 1000)\n",
    "\n",
    "plt.rcParams.update({'figure.max_open_warning': 0})\n"
   ]
  },
  {
   "cell_type": "code",
   "execution_count": 4,
   "metadata": {},
   "outputs": [],
   "source": [
    "module_path = os.path.abspath(os.path.join('..'))\n",
    "if module_path not in sys.path:\n",
    "    sys.path.append(module_path)\n",
    "\n",
    "# import scripts.supervised_prep\n",
    "from scripts.supervised_prep import test_print\n",
    "from scripts.supervised_prep import dataprep_X\n",
    "from scripts.supervised_prep import dataprep_Y\n",
    "from scripts.supervised_prep import results_summary_to_dataframe"
   ]
  },
  {
   "cell_type": "code",
   "execution_count": 5,
   "metadata": {},
   "outputs": [
    {
     "name": "stdout",
     "output_type": "stream",
     "text": [
      "1\n"
     ]
    }
   ],
   "source": [
    "test_print(2)"
   ]
  },
  {
   "cell_type": "markdown",
   "metadata": {},
   "source": [
    "# Load Data"
   ]
  },
  {
   "cell_type": "code",
   "execution_count": 6,
   "metadata": {},
   "outputs": [
    {
     "name": "stderr",
     "output_type": "stream",
     "text": [
      "/usr/local/lib/python3.7/site-packages/IPython/core/interactiveshell.py:3057: DtypeWarning: Columns (1218) have mixed types. Specify dtype option on import or set low_memory=False.\n",
      "  interactivity=interactivity, compiler=compiler, result=result)\n"
     ]
    }
   ],
   "source": [
    "inroot = r\"../data/input/07 Samsung UX Index - Web App Implementation/\"\n",
    "fname_data = inroot + r\"Samsung UX Index Survey_Data.csv\"\n",
    "df_data = pd.read_csv(fname_data)\n",
    "fname_vaxmap = inroot + r\"Samsung UX Index Survey_Datamap.xlsx\"\n",
    "df_varmap = pd.read_excel(fname_vaxmap, header=1, sheet_name=0)\n",
    "df_valmap = pd.read_excel(fname_vaxmap, header=1, sheet_name=1)\n",
    "\n"
   ]
  },
  {
   "cell_type": "code",
   "execution_count": 27,
   "metadata": {},
   "outputs": [
    {
     "data": {
      "text/html": [
       "<div>\n",
       "<style scoped>\n",
       "    .dataframe tbody tr th:only-of-type {\n",
       "        vertical-align: middle;\n",
       "    }\n",
       "\n",
       "    .dataframe tbody tr th {\n",
       "        vertical-align: top;\n",
       "    }\n",
       "\n",
       "    .dataframe thead th {\n",
       "        text-align: right;\n",
       "    }\n",
       "</style>\n",
       "<table border=\"1\" class=\"dataframe\">\n",
       "  <thead>\n",
       "    <tr style=\"text-align: right;\">\n",
       "      <th></th>\n",
       "      <th>qxbrandxtrustxdrivers</th>\n",
       "      <th>Tag</th>\n",
       "      <th>quality_indicator</th>\n",
       "      <th>qxoverallxqualityxindicators</th>\n",
       "      <th>driver_category</th>\n",
       "    </tr>\n",
       "  </thead>\n",
       "  <tbody>\n",
       "    <tr>\n",
       "      <th>0</th>\n",
       "      <td>qxbrandxtrustxdrivers_1</td>\n",
       "      <td>Transparent</td>\n",
       "      <td>Trust</td>\n",
       "      <td>qxoverallxqualityxindicators_1</td>\n",
       "      <td>Brand-Specific</td>\n",
       "    </tr>\n",
       "    <tr>\n",
       "      <th>1</th>\n",
       "      <td>qxbrandxtrustxdrivers_2</td>\n",
       "      <td>Ethical</td>\n",
       "      <td>Trust</td>\n",
       "      <td>qxoverallxqualityxindicators_1</td>\n",
       "      <td>Brand-Specific</td>\n",
       "    </tr>\n",
       "    <tr>\n",
       "      <th>2</th>\n",
       "      <td>qxbrandxtrustxdrivers_3</td>\n",
       "      <td>Respectful</td>\n",
       "      <td>Trust</td>\n",
       "      <td>qxoverallxqualityxindicators_1</td>\n",
       "      <td>Brand-Specific</td>\n",
       "    </tr>\n",
       "    <tr>\n",
       "      <th>3</th>\n",
       "      <td>qxbrandxtrustxdrivers_4</td>\n",
       "      <td>Integrity / honest</td>\n",
       "      <td>Trust</td>\n",
       "      <td>qxoverallxqualityxindicators_1</td>\n",
       "      <td>Brand-Specific</td>\n",
       "    </tr>\n",
       "    <tr>\n",
       "      <th>4</th>\n",
       "      <td>qxdrivers_1</td>\n",
       "      <td>Safe / secure</td>\n",
       "      <td>Trust</td>\n",
       "      <td>qxoverallxqualityxindicators_1</td>\n",
       "      <td>Core UX Principles</td>\n",
       "    </tr>\n",
       "  </tbody>\n",
       "</table>\n",
       "</div>"
      ],
      "text/plain": [
       "     qxbrandxtrustxdrivers                 Tag quality_indicator    qxoverallxqualityxindicators     driver_category\n",
       "0  qxbrandxtrustxdrivers_1         Transparent             Trust  qxoverallxqualityxindicators_1      Brand-Specific\n",
       "1  qxbrandxtrustxdrivers_2             Ethical             Trust  qxoverallxqualityxindicators_1      Brand-Specific\n",
       "2  qxbrandxtrustxdrivers_3          Respectful             Trust  qxoverallxqualityxindicators_1      Brand-Specific\n",
       "3  qxbrandxtrustxdrivers_4  Integrity / honest             Trust  qxoverallxqualityxindicators_1      Brand-Specific\n",
       "4              qxdrivers_1       Safe / secure             Trust  qxoverallxqualityxindicators_1  Core UX Principles"
      ]
     },
     "execution_count": 27,
     "metadata": {},
     "output_type": "execute_result"
    }
   ],
   "source": [
    "df_addmap1 = pd.read_csv(inroot+\"../additional_mapping/qxbrandxtrustxdrivers_quaitydrivers.csv\")\n",
    "df_addmap1.head()"
   ]
  },
  {
   "cell_type": "code",
   "execution_count": 24,
   "metadata": {},
   "outputs": [
    {
     "data": {
      "text/html": [
       "<div>\n",
       "<style scoped>\n",
       "    .dataframe tbody tr th:only-of-type {\n",
       "        vertical-align: middle;\n",
       "    }\n",
       "\n",
       "    .dataframe tbody tr th {\n",
       "        vertical-align: top;\n",
       "    }\n",
       "\n",
       "    .dataframe thead th {\n",
       "        text-align: right;\n",
       "    }\n",
       "</style>\n",
       "<table border=\"1\" class=\"dataframe\">\n",
       "  <thead>\n",
       "    <tr style=\"text-align: right;\">\n",
       "      <th></th>\n",
       "      <th>Variable</th>\n",
       "      <th>Label</th>\n",
       "      <th>Short Label</th>\n",
       "      <th>Type</th>\n",
       "      <th>Minimum</th>\n",
       "      <th>Maximum</th>\n",
       "      <th>Description</th>\n",
       "    </tr>\n",
       "  </thead>\n",
       "  <tbody>\n",
       "    <tr>\n",
       "      <th>1107</th>\n",
       "      <td>qxcurrentxos_9_other</td>\n",
       "      <td>Q_Current_OS. Other (specify) - Which version of [SHOW IF BRAND=APPLE: iOS; SHOW IF BRAND = SAMSUNG, LG, MOTOROLA, GOOGLE: Android] are you currently using on your smartphone? If you are not sure, you can check this in your settings.</td>\n",
       "      <td>NaN</td>\n",
       "      <td>string</td>\n",
       "      <td>NaN</td>\n",
       "      <td>NaN</td>\n",
       "      <td>NaN</td>\n",
       "    </tr>\n",
       "    <tr>\n",
       "      <th>0</th>\n",
       "      <td>qxcurrentxos_99</td>\n",
       "      <td>Q_Current_OS. Which version of [SHOW IF BRAND=APPLE: iOS; SHOW IF BRAND = SAMSUNG, LG, MOTOROLA, GOOGLE: Android] are you currently using on your smartphone? If you are not sure, you can check this in your settings. Don’t know</td>\n",
       "      <td></td>\n",
       "      <td></td>\n",
       "      <td></td>\n",
       "      <td></td>\n",
       "      <td></td>\n",
       "    </tr>\n",
       "    <tr>\n",
       "      <th>0</th>\n",
       "      <td>qxcurrentxos_5</td>\n",
       "      <td>Q_Current_OS. Which version of [SHOW IF BRAND=APPLE: iOS; SHOW IF BRAND = SAMSUNG, LG, MOTOROLA, GOOGLE: Android] are you currently using on your smartphone? If you are not sure, you can check this in your settings. Android 9.0</td>\n",
       "      <td></td>\n",
       "      <td></td>\n",
       "      <td></td>\n",
       "      <td></td>\n",
       "      <td></td>\n",
       "    </tr>\n",
       "    <tr>\n",
       "      <th>0</th>\n",
       "      <td>qxcurrentxos_4</td>\n",
       "      <td>Q_Current_OS. Which version of [SHOW IF BRAND=APPLE: iOS; SHOW IF BRAND = SAMSUNG, LG, MOTOROLA, GOOGLE: Android] are you currently using on your smartphone? If you are not sure, you can check this in your settings. Android 8.1</td>\n",
       "      <td></td>\n",
       "      <td></td>\n",
       "      <td></td>\n",
       "      <td></td>\n",
       "      <td></td>\n",
       "    </tr>\n",
       "    <tr>\n",
       "      <th>0</th>\n",
       "      <td>qxcurrentxos_2</td>\n",
       "      <td>Q_Current_OS. Which version of [SHOW IF BRAND=APPLE: iOS; SHOW IF BRAND = SAMSUNG, LG, MOTOROLA, GOOGLE: Android] are you currently using on your smartphone? If you are not sure, you can check this in your settings. Android 7.1</td>\n",
       "      <td></td>\n",
       "      <td></td>\n",
       "      <td></td>\n",
       "      <td></td>\n",
       "      <td></td>\n",
       "    </tr>\n",
       "    <tr>\n",
       "      <th>0</th>\n",
       "      <td>qxcurrentxos_1</td>\n",
       "      <td>Q_Current_OS. Which version of [SHOW IF BRAND=APPLE: iOS; SHOW IF BRAND = SAMSUNG, LG, MOTOROLA, GOOGLE: Android] are you currently using on your smartphone? If you are not sure, you can check this in your settings. Android 7.0</td>\n",
       "      <td></td>\n",
       "      <td></td>\n",
       "      <td></td>\n",
       "      <td></td>\n",
       "      <td></td>\n",
       "    </tr>\n",
       "    <tr>\n",
       "      <th>0</th>\n",
       "      <td>qxcurrentxos_3</td>\n",
       "      <td>Q_Current_OS. Which version of [SHOW IF BRAND=APPLE: iOS; SHOW IF BRAND = SAMSUNG, LG, MOTOROLA, GOOGLE: Android] are you currently using on your smartphone? If you are not sure, you can check this in your settings. Android 8.0</td>\n",
       "      <td></td>\n",
       "      <td></td>\n",
       "      <td></td>\n",
       "      <td></td>\n",
       "      <td></td>\n",
       "    </tr>\n",
       "    <tr>\n",
       "      <th>0</th>\n",
       "      <td>qxcurrentxos_9</td>\n",
       "      <td>Q_Current_OS. Which version of [SHOW IF BRAND=APPLE: iOS; SHOW IF BRAND = SAMSUNG, LG, MOTOROLA, GOOGLE: Android] are you currently using on your smartphone? If you are not sure, you can check this in your settings. Other (specify)</td>\n",
       "      <td></td>\n",
       "      <td></td>\n",
       "      <td></td>\n",
       "      <td></td>\n",
       "      <td></td>\n",
       "    </tr>\n",
       "    <tr>\n",
       "      <th>0</th>\n",
       "      <td>qxcurrentxos_8</td>\n",
       "      <td>Q_Current_OS. Which version of [SHOW IF BRAND=APPLE: iOS; SHOW IF BRAND = SAMSUNG, LG, MOTOROLA, GOOGLE: Android] are you currently using on your smartphone? If you are not sure, you can check this in your settings. iOS 12</td>\n",
       "      <td></td>\n",
       "      <td></td>\n",
       "      <td></td>\n",
       "      <td></td>\n",
       "      <td></td>\n",
       "    </tr>\n",
       "    <tr>\n",
       "      <th>0</th>\n",
       "      <td>qxcurrentxos_6</td>\n",
       "      <td>Q_Current_OS. Which version of [SHOW IF BRAND=APPLE: iOS; SHOW IF BRAND = SAMSUNG, LG, MOTOROLA, GOOGLE: Android] are you currently using on your smartphone? If you are not sure, you can check this in your settings. iOS 10</td>\n",
       "      <td></td>\n",
       "      <td></td>\n",
       "      <td></td>\n",
       "      <td></td>\n",
       "      <td></td>\n",
       "    </tr>\n",
       "    <tr>\n",
       "      <th>0</th>\n",
       "      <td>qxcurrentxos_7</td>\n",
       "      <td>Q_Current_OS. Which version of [SHOW IF BRAND=APPLE: iOS; SHOW IF BRAND = SAMSUNG, LG, MOTOROLA, GOOGLE: Android] are you currently using on your smartphone? If you are not sure, you can check this in your settings. iOS 11</td>\n",
       "      <td></td>\n",
       "      <td></td>\n",
       "      <td></td>\n",
       "      <td></td>\n",
       "      <td></td>\n",
       "    </tr>\n",
       "  </tbody>\n",
       "</table>\n",
       "</div>"
      ],
      "text/plain": [
       "                  Variable                                                                                                                                                                                                                                      Label Short Label    Type Minimum Maximum Description\n",
       "1107  qxcurrentxos_9_other  Q_Current_OS. Other (specify) - Which version of [SHOW IF BRAND=APPLE: iOS; SHOW IF BRAND = SAMSUNG, LG, MOTOROLA, GOOGLE: Android] are you currently using on your smartphone? If you are not sure, you can check this in your settings.         NaN  string     NaN     NaN         NaN\n",
       "0          qxcurrentxos_99         Q_Current_OS. Which version of [SHOW IF BRAND=APPLE: iOS; SHOW IF BRAND = SAMSUNG, LG, MOTOROLA, GOOGLE: Android] are you currently using on your smartphone? If you are not sure, you can check this in your settings. Don’t know                                                \n",
       "0           qxcurrentxos_5        Q_Current_OS. Which version of [SHOW IF BRAND=APPLE: iOS; SHOW IF BRAND = SAMSUNG, LG, MOTOROLA, GOOGLE: Android] are you currently using on your smartphone? If you are not sure, you can check this in your settings. Android 9.0                                                \n",
       "0           qxcurrentxos_4        Q_Current_OS. Which version of [SHOW IF BRAND=APPLE: iOS; SHOW IF BRAND = SAMSUNG, LG, MOTOROLA, GOOGLE: Android] are you currently using on your smartphone? If you are not sure, you can check this in your settings. Android 8.1                                                \n",
       "0           qxcurrentxos_2        Q_Current_OS. Which version of [SHOW IF BRAND=APPLE: iOS; SHOW IF BRAND = SAMSUNG, LG, MOTOROLA, GOOGLE: Android] are you currently using on your smartphone? If you are not sure, you can check this in your settings. Android 7.1                                                \n",
       "0           qxcurrentxos_1        Q_Current_OS. Which version of [SHOW IF BRAND=APPLE: iOS; SHOW IF BRAND = SAMSUNG, LG, MOTOROLA, GOOGLE: Android] are you currently using on your smartphone? If you are not sure, you can check this in your settings. Android 7.0                                                \n",
       "0           qxcurrentxos_3        Q_Current_OS. Which version of [SHOW IF BRAND=APPLE: iOS; SHOW IF BRAND = SAMSUNG, LG, MOTOROLA, GOOGLE: Android] are you currently using on your smartphone? If you are not sure, you can check this in your settings. Android 8.0                                                \n",
       "0           qxcurrentxos_9    Q_Current_OS. Which version of [SHOW IF BRAND=APPLE: iOS; SHOW IF BRAND = SAMSUNG, LG, MOTOROLA, GOOGLE: Android] are you currently using on your smartphone? If you are not sure, you can check this in your settings. Other (specify)                                                \n",
       "0           qxcurrentxos_8             Q_Current_OS. Which version of [SHOW IF BRAND=APPLE: iOS; SHOW IF BRAND = SAMSUNG, LG, MOTOROLA, GOOGLE: Android] are you currently using on your smartphone? If you are not sure, you can check this in your settings. iOS 12                                                \n",
       "0           qxcurrentxos_6             Q_Current_OS. Which version of [SHOW IF BRAND=APPLE: iOS; SHOW IF BRAND = SAMSUNG, LG, MOTOROLA, GOOGLE: Android] are you currently using on your smartphone? If you are not sure, you can check this in your settings. iOS 10                                                \n",
       "0           qxcurrentxos_7             Q_Current_OS. Which version of [SHOW IF BRAND=APPLE: iOS; SHOW IF BRAND = SAMSUNG, LG, MOTOROLA, GOOGLE: Android] are you currently using on your smartphone? If you are not sure, you can check this in your settings. iOS 11                                                "
      ]
     },
     "execution_count": 24,
     "metadata": {},
     "output_type": "execute_result"
    }
   ],
   "source": [
    "df_varmap[df_varmap.Variable.str.contains('qxcurrentxos_')]"
   ]
  },
  {
   "cell_type": "code",
   "execution_count": 9,
   "metadata": {},
   "outputs": [],
   "source": [
    "# SuperLabels = ['drivers', 'brandlovetrust', 'loyaltymetrics', 'overallquality',\n",
    "#           'usagemetrics', 'activitiesximportance','activitiexsquality',\n",
    "#           'activitiesxsatisfaction','activitiesxdrivers',\n",
    "#            'upgradetrans','ECGexpect']\n",
    "\n",
    "# SuperLabels = [x+\"xallATTR\" for x in SuperLabels]\n",
    "\n",
    "# SuperList = [['qxdrivers_'+str(i+1) for i in range(34)],\n",
    "#              [ x for x in df_data.columns if 'qxbrandx' in x ],\n",
    "#             ['qxadvocacy01_1',    'qxadvocacy02_1',    'qxretention_1',    'qxenrichment_1'],\n",
    "#             ['qxoverallxqualityxindicators_'+str(i+1) for i in range(4)],\n",
    "#             [ x for x in df_data.columns if 'qxactivitiesximportance' in x ],\n",
    "#             [ x for x in df_data.columns if 'qxactivitiesxqualityxindicators' in x ],\n",
    "#             [ x for x in df_data.columns if 'qxactivitiesxsatisfaction' in x ],\n",
    "#             [ x for x in df_data.columns if 'qxactivitiesxdrivers' in x ] ,\n",
    "#          ['qxupgrade01_1', 'qxupgrade01_2', 'qxupgrade01_3', 'qxupgrade01_4', \n",
    "#           'qxupgrade01_5', 'qxupgrade01_6', 'qxupgrade01_7', 'qxupgrade01_8', \n",
    "#           'qxtransition_1'],\n",
    "# [ 'att01_1','att01_2','att01_3','att02_1','att02_2','soc03','soc04_1',\n",
    "#           'soc04_2','soc04_3','ret06_1','qxexpectations' ]\n",
    "#             ]\n",
    "\n",
    "# varlist_Z  = ['d1',    'd3_1',    'd3_2',    'd3_3',    'd3_4',    'd4', 'd6',    'd7_1',    \n",
    "#             'd7_2',    'd7_3',    'd7_4',    'd7_5',    'd7_97',    'd7_99','qxcurrentxos',\n",
    "#               'qxactivitiesxrecency_1', 'qxactivitiesxrecency_2', 'qxactivitiesxrecency_3', \n",
    "#               'qxactivitiesxrecency_4', 'qxactivitiesxrecency_5', 'qxactivitiesxrecency_6', \n",
    "#               'qxactivitiesxrecency_7', 'qxactivitiesxrecency_8', 'qxactivitiesxrecency_9', \n",
    "#               'qxactivitiesxrecency_10', 'qxactivitiesxrecency_11', 'qxactivitiesxrecency_12', \n",
    "#               'qxactivitiesxrecency_13', 'qxactivitiesxrecency_14', 'qxactivitiesxrecency_15', \n",
    "#               'qxactivitiesxrecency_16', 'qxactivitiesxrecency_17', 'qxactivitiesxrecency_18', \n",
    "#               'qxactivitiesxrecency_19', 'qxactivitiesxrecency_20', 'qxactivitiesxrecency_21', \n",
    "#               'qxactivitiesxrecency_22', 'qxactivitiesxrecency_23', 'qxactivitiesxrecency_24'\n",
    "#               ]\n",
    "\n",
    "ohdict = {'qxcurrentxos' :  None,\n",
    "              'd4' :  None, \n",
    "              'd1' : None, \n",
    "              'hidagemodels' : None,\n",
    "            'qxcurrentxmodel': None,\n",
    "             'hbrand' : None,\n",
    "             'hmodelquota' : None,\n",
    "             'hmodelquota_reordered' : None,\n",
    "             'Empowered_Customer_Groups' : None}\n",
    "                 \n",
    "\n",
    "var_y = 'qxadvocacy01_1'\n",
    "varlist_X  = ['d1',    'd3_1', 'd3_2',    'd3_3',    'd3_4',    'd4', 'd6',    'd7_1',    \n",
    "            'd7_2',    'd7_3',    'd7_4',    'd7_5',    'd7_97',    'd7_99', 'qxcurrentxos']\n"
   ]
  },
  {
   "cell_type": "markdown",
   "metadata": {},
   "source": [
    "# Prep Data"
   ]
  },
  {
   "cell_type": "code",
   "execution_count": 10,
   "metadata": {},
   "outputs": [
    {
     "name": "stderr",
     "output_type": "stream",
     "text": [
      "/usr/local/lib/python3.7/site-packages/pandas/core/frame.py:3489: SettingWithCopyWarning: \n",
      "A value is trying to be set on a copy of a slice from a DataFrame.\n",
      "Try using .loc[row_indexer,col_indexer] = value instead\n",
      "\n",
      "See the caveats in the documentation: http://pandas.pydata.org/pandas-docs/stable/user_guide/indexing.html#returning-a-view-versus-a-copy\n",
      "  self[k1] = value[k2]\n"
     ]
    }
   ],
   "source": [
    "# X = dataprep_X (df_data, varlist=varlist, bystring='elbow')\n",
    "\n",
    "X, df_varmap = dataprep_X (df_data, df_varmap, df_valmap, varlist_X, ohdict=ohdict)\n",
    "\n",
    "Y = dataprep_Y (df_data, var_y)\n"
   ]
  },
  {
   "cell_type": "code",
   "execution_count": 11,
   "metadata": {},
   "outputs": [],
   "source": [
    "# X = X.values#.reshape(-1,1)\n",
    "# Y = Y.values#.reshape(-1,1)"
   ]
  },
  {
   "cell_type": "code",
   "execution_count": 12,
   "metadata": {},
   "outputs": [],
   "source": [
    "X_train, X_test, y_train, y_test = train_test_split(X, Y, test_size=0.2, random_state=0)"
   ]
  },
  {
   "cell_type": "markdown",
   "metadata": {},
   "source": [
    "# Linear Regression"
   ]
  },
  {
   "cell_type": "code",
   "execution_count": 13,
   "metadata": {},
   "outputs": [
    {
     "data": {
      "text/plain": [
       "LinearRegression(copy_X=True, fit_intercept=True, n_jobs=None, normalize=False)"
      ]
     },
     "execution_count": 13,
     "metadata": {},
     "output_type": "execute_result"
    }
   ],
   "source": [
    "regressor = LinearRegression()  \n",
    "regressor.fit(X_train, y_train)"
   ]
  },
  {
   "cell_type": "code",
   "execution_count": 18,
   "metadata": {},
   "outputs": [
    {
     "data": {
      "text/plain": [
       "Index(['d3_1', 'd3_2', 'd3_3', 'd3_4', 'd6', 'd7_1', 'd7_2', 'd7_3', 'd7_4', 'd7_5', 'd7_97', 'd7_99', 'qxcurrentxos_99', 'qxcurrentxos_5', 'qxcurrentxos_4', 'qxcurrentxos_2', 'qxcurrentxos_1', 'qxcurrentxos_3', 'qxcurrentxos_9', 'qxcurrentxos_8', 'qxcurrentxos_6', 'qxcurrentxos_7', 'd4_7', 'd4_3', 'd4_4', 'd4_6', 'd4_1', 'd4_2', 'd4_5', 'd1_4', 'd1_1', 'd1_2', 'd1_3'], dtype='object')"
      ]
     },
     "execution_count": 18,
     "metadata": {},
     "output_type": "execute_result"
    }
   ],
   "source": [
    "X.columns"
   ]
  },
  {
   "cell_type": "code",
   "execution_count": 20,
   "metadata": {},
   "outputs": [
    {
     "data": {
      "text/html": [
       "<div>\n",
       "<style scoped>\n",
       "    .dataframe tbody tr th:only-of-type {\n",
       "        vertical-align: middle;\n",
       "    }\n",
       "\n",
       "    .dataframe tbody tr th {\n",
       "        vertical-align: top;\n",
       "    }\n",
       "\n",
       "    .dataframe thead th {\n",
       "        text-align: right;\n",
       "    }\n",
       "</style>\n",
       "<table border=\"1\" class=\"dataframe\">\n",
       "  <thead>\n",
       "    <tr style=\"text-align: right;\">\n",
       "      <th></th>\n",
       "      <th>coeff</th>\n",
       "      <th>pvals</th>\n",
       "      <th>tvals</th>\n",
       "      <th>conf_lower</th>\n",
       "      <th>conf_higher</th>\n",
       "    </tr>\n",
       "  </thead>\n",
       "  <tbody>\n",
       "    <tr>\n",
       "      <th>const</th>\n",
       "      <td>-0.496174</td>\n",
       "      <td>0.000069</td>\n",
       "      <td>-3.986573</td>\n",
       "      <td>-0.740228</td>\n",
       "      <td>-0.252119</td>\n",
       "    </tr>\n",
       "    <tr>\n",
       "      <th>d3_1</th>\n",
       "      <td>0.180706</td>\n",
       "      <td>0.078435</td>\n",
       "      <td>1.760542</td>\n",
       "      <td>-0.020564</td>\n",
       "      <td>0.381976</td>\n",
       "    </tr>\n",
       "    <tr>\n",
       "      <th>d3_2</th>\n",
       "      <td>0.436462</td>\n",
       "      <td>0.000090</td>\n",
       "      <td>3.923005</td>\n",
       "      <td>0.218299</td>\n",
       "      <td>0.654624</td>\n",
       "    </tr>\n",
       "    <tr>\n",
       "      <th>d3_3</th>\n",
       "      <td>0.702328</td>\n",
       "      <td>0.000202</td>\n",
       "      <td>3.722424</td>\n",
       "      <td>0.332358</td>\n",
       "      <td>1.072298</td>\n",
       "    </tr>\n",
       "    <tr>\n",
       "      <th>d3_4</th>\n",
       "      <td>0.586589</td>\n",
       "      <td>0.000003</td>\n",
       "      <td>4.659085</td>\n",
       "      <td>0.339709</td>\n",
       "      <td>0.833469</td>\n",
       "    </tr>\n",
       "  </tbody>\n",
       "</table>\n",
       "</div>"
      ],
      "text/plain": [
       "          coeff     pvals     tvals  conf_lower  conf_higher\n",
       "const -0.496174  0.000069 -3.986573   -0.740228    -0.252119\n",
       "d3_1   0.180706  0.078435  1.760542   -0.020564     0.381976\n",
       "d3_2   0.436462  0.000090  3.923005    0.218299     0.654624\n",
       "d3_3   0.702328  0.000202  3.722424    0.332358     1.072298\n",
       "d3_4   0.586589  0.000003  4.659085    0.339709     0.833469"
      ]
     },
     "execution_count": 20,
     "metadata": {},
     "output_type": "execute_result"
    }
   ],
   "source": [
    "X_train2 = sm.add_constant(X_train)\n",
    "est = sm.OLS(y_train, X_train2)\n",
    "est2 = est.fit()\n",
    "\n",
    "\n",
    "df_est = results_summary_to_dataframe(est2)\n",
    "df_est.head()"
   ]
  },
  {
   "cell_type": "code",
   "execution_count": 22,
   "metadata": {},
   "outputs": [
    {
     "data": {
      "text/html": [
       "<div>\n",
       "<style scoped>\n",
       "    .dataframe tbody tr th:only-of-type {\n",
       "        vertical-align: middle;\n",
       "    }\n",
       "\n",
       "    .dataframe tbody tr th {\n",
       "        vertical-align: top;\n",
       "    }\n",
       "\n",
       "    .dataframe thead th {\n",
       "        text-align: right;\n",
       "    }\n",
       "</style>\n",
       "<table border=\"1\" class=\"dataframe\">\n",
       "  <thead>\n",
       "    <tr style=\"text-align: right;\">\n",
       "      <th></th>\n",
       "      <th>coeff</th>\n",
       "      <th>pvals</th>\n",
       "      <th>tvals</th>\n",
       "      <th>conf_lower</th>\n",
       "      <th>conf_higher</th>\n",
       "    </tr>\n",
       "  </thead>\n",
       "  <tbody>\n",
       "    <tr>\n",
       "      <th>const</th>\n",
       "      <td>-0.49617</td>\n",
       "      <td>0.00007</td>\n",
       "      <td>-3.98657</td>\n",
       "      <td>-0.74023</td>\n",
       "      <td>-0.25212</td>\n",
       "    </tr>\n",
       "    <tr>\n",
       "      <th>qxcurrentxos_2</th>\n",
       "      <td>-0.45490</td>\n",
       "      <td>0.00000</td>\n",
       "      <td>-4.73408</td>\n",
       "      <td>-0.64332</td>\n",
       "      <td>-0.26648</td>\n",
       "    </tr>\n",
       "    <tr>\n",
       "      <th>d7_4</th>\n",
       "      <td>-0.23336</td>\n",
       "      <td>0.00935</td>\n",
       "      <td>-2.60109</td>\n",
       "      <td>-0.40928</td>\n",
       "      <td>-0.05744</td>\n",
       "    </tr>\n",
       "    <tr>\n",
       "      <th>qxcurrentxos_4</th>\n",
       "      <td>-0.17830</td>\n",
       "      <td>0.00598</td>\n",
       "      <td>-2.75127</td>\n",
       "      <td>-0.30538</td>\n",
       "      <td>-0.05122</td>\n",
       "    </tr>\n",
       "    <tr>\n",
       "      <th>qxcurrentxos_3</th>\n",
       "      <td>-0.17369</td>\n",
       "      <td>0.00670</td>\n",
       "      <td>-2.71379</td>\n",
       "      <td>-0.29919</td>\n",
       "      <td>-0.04819</td>\n",
       "    </tr>\n",
       "    <tr>\n",
       "      <th>qxcurrentxos_8</th>\n",
       "      <td>0.14243</td>\n",
       "      <td>0.00479</td>\n",
       "      <td>2.82322</td>\n",
       "      <td>0.04350</td>\n",
       "      <td>0.24135</td>\n",
       "    </tr>\n",
       "    <tr>\n",
       "      <th>qxcurrentxos_5</th>\n",
       "      <td>0.31460</td>\n",
       "      <td>0.00000</td>\n",
       "      <td>6.08572</td>\n",
       "      <td>0.21323</td>\n",
       "      <td>0.41596</td>\n",
       "    </tr>\n",
       "    <tr>\n",
       "      <th>d3_2</th>\n",
       "      <td>0.43646</td>\n",
       "      <td>0.00009</td>\n",
       "      <td>3.92300</td>\n",
       "      <td>0.21830</td>\n",
       "      <td>0.65462</td>\n",
       "    </tr>\n",
       "    <tr>\n",
       "      <th>d3_4</th>\n",
       "      <td>0.58659</td>\n",
       "      <td>0.00000</td>\n",
       "      <td>4.65909</td>\n",
       "      <td>0.33971</td>\n",
       "      <td>0.83347</td>\n",
       "    </tr>\n",
       "    <tr>\n",
       "      <th>d3_3</th>\n",
       "      <td>0.70233</td>\n",
       "      <td>0.00020</td>\n",
       "      <td>3.72242</td>\n",
       "      <td>0.33236</td>\n",
       "      <td>1.07230</td>\n",
       "    </tr>\n",
       "  </tbody>\n",
       "</table>\n",
       "</div>"
      ],
      "text/plain": [
       "                  coeff    pvals    tvals  conf_lower  conf_higher\n",
       "const          -0.49617  0.00007 -3.98657    -0.74023     -0.25212\n",
       "qxcurrentxos_2 -0.45490  0.00000 -4.73408    -0.64332     -0.26648\n",
       "d7_4           -0.23336  0.00935 -2.60109    -0.40928     -0.05744\n",
       "qxcurrentxos_4 -0.17830  0.00598 -2.75127    -0.30538     -0.05122\n",
       "qxcurrentxos_3 -0.17369  0.00670 -2.71379    -0.29919     -0.04819\n",
       "qxcurrentxos_8  0.14243  0.00479  2.82322     0.04350      0.24135\n",
       "qxcurrentxos_5  0.31460  0.00000  6.08572     0.21323      0.41596\n",
       "d3_2            0.43646  0.00009  3.92300     0.21830      0.65462\n",
       "d3_4            0.58659  0.00000  4.65909     0.33971      0.83347\n",
       "d3_3            0.70233  0.00020  3.72242     0.33236      1.07230"
      ]
     },
     "execution_count": 22,
     "metadata": {},
     "output_type": "execute_result"
    }
   ],
   "source": [
    "df_est[(df_est.pvals<.05)].sort_values('coeff').round(5)"
   ]
  },
  {
   "cell_type": "raw",
   "metadata": {},
   "source": [
    "The name of the term in the model\n",
    "coef\t   The estimated value of the coefficient\n",
    "std err\t   The basic standard error of the estimate of the coefficient. More sophisticated errors are also available.\n",
    "    t\t   The t-statistic value. This is a measure of how statistically significant the coefficient is.\n",
    "P > |t|\t   P-value that the null-hypothesis that the coefficient = 0 is true. \n",
    "           If it is less than the confidence level, often 0.05, it indicates that there \n",
    "           is a statistically significant relationship between the term and the response.\n",
    "           \n",
    "[95.0% \n",
    "Conf. Interval]\t\n",
    "The lower and upper values of the 95% confidence interval\n",
    "\n",
    " "
   ]
  },
  {
   "cell_type": "raw",
   "metadata": {},
   "source": [
    "When vars are standardized:\n",
    "\n",
    "                       coef    std err          t      P>|t|      [0.025      0.975]\n",
    "d3_2                0.1914      0.053      3.631      0.000       0.088       0.295\n",
    "d3_3                0.0871      0.024      3.602      0.000       0.040       0.135\n",
    "d3_4                0.2052      0.044      4.674      0.000       0.119       0.291\n",
    "\n",
    "There is a statistically significant relationship between qxadvocacy01_1 and the variables above which speak to employment status [employed,retired, off market] -- a proxy for income. All of these have a positive impact on qxadvocacy01_1. d1_2 (a binary variable indicating female was not found to be statistically significant.\n",
    "\n",
    "qxcurrentxos_2\t-0.45490\t0.00000\t-4.73408\t-0.64332\t-0.26648\n",
    "        d7_4\t-0.23336\t0.00935\t-2.60109\t-0.40928\t-0.05744\n",
    "qxcurrentxos_4\t-0.17830\t0.00598\t-2.75127\t-0.30538\t-0.05122\n",
    "qxcurrentxos_3\t-0.17369\t0.00670\t-2.71379\t-0.29919\t-0.04819\n",
    "qxcurrentxos_8\t0.14243\t    0.00479\t2.82322\t    0.04350\t0.24135\n",
    "qxcurrentxos_5\t0.31460  \t0.00000\t6.08572\t    0.21323\t0.41596\n",
    "        d3_2\t0.43646  \t0.00009\t3.92300\t    0.21830\t0.65462\n",
    "        d3_4\t0.58659 \t0.00000\t4.65909\t    0.33971\t0.83347\n",
    "        d3_3\t0.70233 \t0.00020\t3.72242\t    0.33236\t1.07230\n",
    "\n",
    "\n",
    "When vars aren't standardized:\n",
    "qxcurrentxos_[2,3,4,5,8] and d7_4 (Asian American) also have an impact\n",
    "\n",
    "Android 7.1\n",
    "Android 8.0\t\n",
    " Android 8.1\t\n",
    "Android 9.0\t\n",
    " iOS 12\n",
    "\n",
    "Not:\n",
    "Android 7.0\t\n",
    "Other (specify)\t\n",
    " iOS 10\n",
    " iOS 11"
   ]
  },
  {
   "cell_type": "raw",
   "metadata": {},
   "source": []
  },
  {
   "cell_type": "code",
   "execution_count": null,
   "metadata": {},
   "outputs": [],
   "source": [
    "# coeff_df = pd.DataFrame(regressor.coef_[0], varlist_X, columns=['Coefficient'])  "
   ]
  },
  {
   "cell_type": "code",
   "execution_count": null,
   "metadata": {},
   "outputs": [],
   "source": [
    "# y_pred = regressor.predict(X_test)"
   ]
  },
  {
   "cell_type": "code",
   "execution_count": null,
   "metadata": {},
   "outputs": [],
   "source": [
    "# y_test_list = [item for sublist in y_test for item in sublist]\n",
    "# len(y_test_list)"
   ]
  },
  {
   "cell_type": "code",
   "execution_count": null,
   "metadata": {},
   "outputs": [],
   "source": [
    "# y_pred_list = [item for sublist in y_pred for item in sublist]\n",
    "# len(y_pred_list)"
   ]
  },
  {
   "cell_type": "code",
   "execution_count": null,
   "metadata": {},
   "outputs": [],
   "source": [
    "# df = pd.DataFrame({'Actual': y_test, 'Predicted': y_pred})\n",
    "# df1 = df.head(25)"
   ]
  },
  {
   "cell_type": "code",
   "execution_count": null,
   "metadata": {},
   "outputs": [],
   "source": [
    "# df1.plot(kind='bar',figsize=(10,8))\n",
    "# plt.grid(which='major', linestyle='-', linewidth='0.5', color='green')\n",
    "# plt.grid(which='minor', linestyle=':', linewidth='0.5', color='black')\n",
    "# plt.show()\n"
   ]
  },
  {
   "cell_type": "code",
   "execution_count": null,
   "metadata": {},
   "outputs": [],
   "source": [
    "# print('Mean Absolute Error:', metrics.mean_absolute_error(y_test, y_pred))  \n",
    "# print('Mean Squared Error:', metrics.mean_squared_error(y_test, y_pred))  \n",
    "# print('Root Mean Squared Error:', np.sqrt(metrics.mean_squared_error(y_test, y_pred)))"
   ]
  },
  {
   "cell_type": "code",
   "execution_count": null,
   "metadata": {},
   "outputs": [],
   "source": [
    "# r_sq = regressor.score(X, Y)\n",
    "# print('coefficient of determination:', r_sq)"
   ]
  },
  {
   "cell_type": "code",
   "execution_count": null,
   "metadata": {},
   "outputs": [],
   "source": [
    "print('intercept:', regressor.intercept_)\n",
    "print('slope:', regressor.coef_)"
   ]
  },
  {
   "cell_type": "markdown",
   "metadata": {},
   "source": [
    "# Poly regression"
   ]
  },
  {
   "cell_type": "code",
   "execution_count": null,
   "metadata": {},
   "outputs": [],
   "source": [
    "# PolynomialFeatures (prepreprocessing)\n",
    "poly = PolynomialFeatures(degree=2)\n",
    "X_ = poly.fit_transform(X)\n",
    "X_train_ = poly.fit_transform(X_train)\n",
    "X_test_ = poly.fit_transform(X_test)"
   ]
  },
  {
   "cell_type": "code",
   "execution_count": null,
   "metadata": {},
   "outputs": [],
   "source": [
    "# Instantiate\n",
    "lg = LinearRegression()\n",
    "\n",
    "# Fit\n",
    "lg.fit(X_train_, y_train)\n",
    "\n",
    "# Obtain coefficients\n",
    "# lg.coef_"
   ]
  },
  {
   "cell_type": "code",
   "execution_count": null,
   "metadata": {},
   "outputs": [],
   "source": [
    "X_train_2 = sm.add_constant(X_train_)\n",
    "est_poly = sm.OLS(y_train, X_train_2)\n",
    "est_poly2 = est_poly.fit()\n",
    "df_est_poly2 = results_summary_to_dataframe(est_poly2)\n",
    "df_est_poly2.index = poly.get_feature_names(X.columns)\n"
   ]
  },
  {
   "cell_type": "code",
   "execution_count": null,
   "metadata": {},
   "outputs": [],
   "source": [
    "df_est_poly2[(df_est_poly2.pvals<.05)].sort_values('coeff')"
   ]
  },
  {
   "cell_type": "raw",
   "metadata": {},
   "source": [
    "After addng interaction terms between the variables (up to 2nd order), we see that there is a statistically significant relationship between qxadvocacy01_1 and the variables above. "
   ]
  },
  {
   "cell_type": "code",
   "execution_count": null,
   "metadata": {},
   "outputs": [],
   "source": [
    "df_est_poly2[(df_est_poly2.index.str.contains('d1_2'))&(df_est_poly2.pvals<.05)]"
   ]
  },
  {
   "cell_type": "raw",
   "metadata": {},
   "source": [
    "When combined with qxcurrentxos_9 (Other (specify)) and d4_4 ( 2-year college/technical degree), d1_2 (female indicator) is statistically significant. has a small stat sig effect "
   ]
  },
  {
   "cell_type": "markdown",
   "metadata": {},
   "source": [
    "# Decision Trees"
   ]
  },
  {
   "cell_type": "code",
   "execution_count": null,
   "metadata": {},
   "outputs": [],
   "source": [
    "from sklearn import tree\n",
    "\n",
    "clf = tree.DecisionTreeRegressor()\n",
    "clf = clf.fit(X_train,y_train)"
   ]
  },
  {
   "cell_type": "code",
   "execution_count": null,
   "metadata": {},
   "outputs": [],
   "source": [
    "import graphviz \n",
    "dot_data = tree.export_graphviz(clf, out_file='../data/output/tree.dot',\n",
    "                                feature_names=X_train.columns,\n",
    "                               filled=True, rounded= True, max_depth = 5) "
   ]
  },
  {
   "cell_type": "code",
   "execution_count": null,
   "metadata": {},
   "outputs": [],
   "source": [
    "!dot -Tpng ../data/output/tree.dot -o ../data/output/tree.png"
   ]
  },
  {
   "cell_type": "code",
   "execution_count": null,
   "metadata": {},
   "outputs": [],
   "source": [
    "![title](\"../data/output/tree.png\")"
   ]
  },
  {
   "cell_type": "code",
   "execution_count": null,
   "metadata": {},
   "outputs": [],
   "source": []
  }
 ],
 "metadata": {
  "kernelspec": {
   "display_name": "Python 3",
   "language": "python",
   "name": "python3"
  },
  "language_info": {
   "codemirror_mode": {
    "name": "ipython",
    "version": 3
   },
   "file_extension": ".py",
   "mimetype": "text/x-python",
   "name": "python",
   "nbconvert_exporter": "python",
   "pygments_lexer": "ipython3",
   "version": "3.7.3"
  }
 },
 "nbformat": 4,
 "nbformat_minor": 2
}
