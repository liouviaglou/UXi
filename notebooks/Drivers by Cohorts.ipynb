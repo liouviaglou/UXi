{
 "cells": [
  {
   "cell_type": "markdown",
   "metadata": {},
   "source": [
    "# High Level Overview\n",
    "\n",
    "Examine variable importance of drivers to loyalty for segments/cohorts (instead of ALL DATA, as was used in the UX Index calculation). Ultimately, this taps into segment/cohort driven differences in UXIndex and UX_Loyalty. UX_Loyalty is an individual metric, calculated directly from individual answeres to questions. UXIndex was calculated based on weighting of drivers with the weights determined based on variable importance to UX_Loyalty at an aggregate level ( for ALL DATA) (refered to as **universal weights**). As such, we imagine tht for some cohorts/segements where the aggregate mapping does not match, UX_index would be a worse approximationthan for cohorts segemnts where the aggregate mapping does match."
   ]
  },
  {
   "cell_type": "code",
   "execution_count": 1,
   "metadata": {},
   "outputs": [],
   "source": [
    "import pandas as pd\n",
    "import matplotlib\n",
    "import numpy as np\n",
    "import matplotlib.pyplot as plt\n",
    "import matplotlib.backends.backend_pdf\n",
    "from matplotlib.backends.backend_pdf import PdfPages\n",
    "\n",
    "%matplotlib inline \n",
    "\n",
    "import seaborn as sns\n",
    "\n",
    "from sklearn.preprocessing import StandardScaler\n",
    "from sklearn.datasets.samples_generator import make_blobs\n",
    "from sklearn.cluster import KMeans\n",
    "\n",
    "\n",
    "from sklearn.linear_model import LogisticRegression\n",
    "\n",
    "import scipy"
   ]
  },
  {
   "cell_type": "code",
   "execution_count": 3,
   "metadata": {},
   "outputs": [],
   "source": [
    "pd.set_option('display.max_columns', 1000)\n",
    "pd.options.display.max_rows=1000\n",
    "\n",
    "pd.set_option('display.width', 1000)\n",
    "pd.set_option('display.max_colwidth', 1000)\n",
    "\n",
    "plt.rcParams.update({'figure.max_open_warning': 0})"
   ]
  },
  {
   "cell_type": "code",
   "execution_count": null,
   "metadata": {},
   "outputs": [],
   "source": []
  },
  {
   "cell_type": "code",
   "execution_count": 2,
   "metadata": {},
   "outputs": [
    {
     "name": "stderr",
     "output_type": "stream",
     "text": [
      "/usr/local/lib/python3.7/site-packages/IPython/core/interactiveshell.py:3057: DtypeWarning: Columns (1218) have mixed types. Specify dtype option on import or set low_memory=False.\n",
      "  interactivity=interactivity, compiler=compiler, result=result)\n"
     ]
    }
   ],
   "source": [
    "root = r\"../data/input/07 Samsung UX Index - Web App Implementation/\"\n",
    "\n",
    "fname_data = root + r\"Samsung UX Index Survey_Data.csv\"\n",
    "df_data = pd.read_csv(fname_data)\n",
    "\n",
    "fname_vaxmap = root + r\"Samsung UX Index Survey_Datamap.xlsx\"\n",
    "df_varmap = pd.read_excel(fname_vaxmap, header=1, sheet_name=0)\n",
    "df_valmap = pd.read_excel(fname_vaxmap, header=1, sheet_name=1)"
   ]
  },
  {
   "cell_type": "markdown",
   "metadata": {},
   "source": [
    "# 0A. Confirm Loyalty Calc\n",
    "\n",
    "There are two advocacy metrics in the survey. We calculated the mean value of the two metrics for all survey respondents.\n",
    "The calculated advocacy value was then averaged with the other two loyalty metrics: retention and enrichment.\n",
    "These values were then used to create a Loyalty Index value for all individual survey respondents.\n",
    "Each respondent in the dataset was assigned a Loyalty Index score (this is stored in the “UX_Loyalty” variable)."
   ]
  },
  {
   "cell_type": "code",
   "execution_count": 6,
   "metadata": {},
   "outputs": [],
   "source": [
    "cols_loyalty = ['qxadvocacy01_1', 'qxadvocacy02_1', 'qxretention_1', 'qxenrichment_1','UX_Loyalty']\n",
    "df_loyalty =  df_data[cols_loyalty]"
   ]
  },
  {
   "cell_type": "code",
   "execution_count": 7,
   "metadata": {},
   "outputs": [
    {
     "data": {
      "text/html": [
       "<div>\n",
       "<style scoped>\n",
       "    .dataframe tbody tr th:only-of-type {\n",
       "        vertical-align: middle;\n",
       "    }\n",
       "\n",
       "    .dataframe tbody tr th {\n",
       "        vertical-align: top;\n",
       "    }\n",
       "\n",
       "    .dataframe thead th {\n",
       "        text-align: right;\n",
       "    }\n",
       "</style>\n",
       "<table border=\"1\" class=\"dataframe\">\n",
       "  <thead>\n",
       "    <tr style=\"text-align: right;\">\n",
       "      <th></th>\n",
       "      <th>qxadvocacy01_1</th>\n",
       "      <th>qxadvocacy02_1</th>\n",
       "      <th>qxretention_1</th>\n",
       "      <th>qxenrichment_1</th>\n",
       "      <th>UX_Loyalty</th>\n",
       "    </tr>\n",
       "  </thead>\n",
       "  <tbody>\n",
       "    <tr>\n",
       "      <th>0</th>\n",
       "      <td>4</td>\n",
       "      <td>4</td>\n",
       "      <td>4</td>\n",
       "      <td>4</td>\n",
       "      <td>4.000000</td>\n",
       "    </tr>\n",
       "    <tr>\n",
       "      <th>1</th>\n",
       "      <td>6</td>\n",
       "      <td>5</td>\n",
       "      <td>4</td>\n",
       "      <td>5</td>\n",
       "      <td>4.833333</td>\n",
       "    </tr>\n",
       "    <tr>\n",
       "      <th>2</th>\n",
       "      <td>6</td>\n",
       "      <td>6</td>\n",
       "      <td>4</td>\n",
       "      <td>6</td>\n",
       "      <td>5.333333</td>\n",
       "    </tr>\n",
       "    <tr>\n",
       "      <th>3</th>\n",
       "      <td>6</td>\n",
       "      <td>4</td>\n",
       "      <td>6</td>\n",
       "      <td>5</td>\n",
       "      <td>5.333333</td>\n",
       "    </tr>\n",
       "    <tr>\n",
       "      <th>4</th>\n",
       "      <td>7</td>\n",
       "      <td>1</td>\n",
       "      <td>5</td>\n",
       "      <td>7</td>\n",
       "      <td>5.333333</td>\n",
       "    </tr>\n",
       "  </tbody>\n",
       "</table>\n",
       "</div>"
      ],
      "text/plain": [
       "   qxadvocacy01_1  qxadvocacy02_1  qxretention_1  qxenrichment_1  UX_Loyalty\n",
       "0               4               4              4               4    4.000000\n",
       "1               6               5              4               5    4.833333\n",
       "2               6               6              4               6    5.333333\n",
       "3               6               4              6               5    5.333333\n",
       "4               7               1              5               7    5.333333"
      ]
     },
     "execution_count": 7,
     "metadata": {},
     "output_type": "execute_result"
    }
   ],
   "source": [
    "df_loyalty.head()"
   ]
  },
  {
   "cell_type": "code",
   "execution_count": 16,
   "metadata": {},
   "outputs": [
    {
     "data": {
      "text/plain": [
       "[0       4.000000\n",
       " 1       4.833333\n",
       " 2       5.333333\n",
       " 3       5.333333\n",
       " 4       5.333333\n",
       "           ...   \n",
       " 3249    5.500000\n",
       " 3250    5.500000\n",
       " 3251    7.000000\n",
       " 3252    5.333333\n",
       " 3253    7.000000\n",
       " Length: 3254, dtype: float64]"
      ]
     },
     "execution_count": 16,
     "metadata": {},
     "output_type": "execute_result"
    }
   ],
   "source": [
    "driver_calc = [((df_loyalty.qxadvocacy01_1+df_loyalty.qxadvocacy02_1)/2 +\n",
    "           df_loyalty.qxretention_1+df_loyalty.qxenrichment_1)/3] \n",
    "\n",
    "driver_calc"
   ]
  },
  {
   "cell_type": "code",
   "execution_count": 20,
   "metadata": {},
   "outputs": [
    {
     "data": {
      "text/plain": [
       "[3.333333333, 7.0, 7.0, 7.0, 7.0, 5.5, 5.5, 7.0, 5.333333333, 7.0]"
      ]
     },
     "execution_count": 20,
     "metadata": {},
     "output_type": "execute_result"
    }
   ],
   "source": [
    "df_loyalty.UX_Loyalty.to_list()[-10:]"
   ]
  },
  {
   "cell_type": "markdown",
   "metadata": {},
   "source": [
    "# 0B. Confirm UXIndex Calc\n",
    "\n",
    "Shapley Value Regression derives the relationship between the quality indicators (feeling, trust, simplicity and function) and the Loyalty Index. This relationship is represented by the relative importance scores that sum up to 100%.  These scores are used as universal weights for the UX Index calculation throughout the survey (including the UX Index scores of different activities). \n",
    "\n",
    "Using the weighting from previous steps, individual survey responses to the four quality indicator questions were transformed into a single UX Index score for each survey respondent. (Note: Relative Importance coefficients are the same for each respondents, while Quality Indicator scores are different for each respondent). Weighting was used in order to assign more weight to more important quality indicators. The following algorithm was used:\n",
    "Transform the quality indicator question responses from 1-7-point scale to 0-100 scale using the following formula: (x-1)x(100/6) \n",
    "\n",
    "The 0-100 scores for each quality indicator were multiplied by the quality indicator weight from the first step.\n",
    "\n",
    "The squared score from the previous step, divided by 100, was used as a final UX Index score. This adjustment was made in order to provide a better differentiation across the UXI scores for different respondent groups, since a large proportion of responses in the quality indicator questions were focused in the “Top 3” bucket (i.e., a 5, 6 or 7 on the seven-point scale).\n"
   ]
  },
  {
   "cell_type": "code",
   "execution_count": null,
   "metadata": {},
   "outputs": [],
   "source": []
  }
 ],
 "metadata": {
  "kernelspec": {
   "display_name": "Python 3",
   "language": "python",
   "name": "python3"
  },
  "language_info": {
   "codemirror_mode": {
    "name": "ipython",
    "version": 3
   },
   "file_extension": ".py",
   "mimetype": "text/x-python",
   "name": "python",
   "nbconvert_exporter": "python",
   "pygments_lexer": "ipython3",
   "version": "3.7.3"
  }
 },
 "nbformat": 4,
 "nbformat_minor": 2
}
