{
 "cells": [
  {
   "cell_type": "markdown",
   "metadata": {},
   "source": [
    "# Idea:\n",
    "\n",
    "An implimentation of user segmentation (clustering) on drivers.\n",
    "\n",
    "A) Examine variable importance (drivers) of cluster membership.\n",
    "\n",
    "    0. Brand trust & love:\n",
    "        - Q_Brand_Trust_Drivers. Transparent in its actions \n",
    "        - Q_Brand_Trust_Drivers. Ethical \n",
    "        - Q_Brand_Trust_Drivers. Respectful \n",
    "        - Q_Brand_Trust_Drivers. Honest \n",
    "        - Q_BrandxLove.(agree or disagree) [BRAND] is a brand I love\n",
    "\n",
    "    1. Loyalty metrics: \\['qxadvocacy01_1',\t'qxadvocacy02_1',\t\n",
    "    'qxretention_1',\t'qxenrichment_1']\n",
    "        - Q_Advocacy01. likely to recommend  [MODEL] or another [BRAND] smartphone\n",
    "        - Q_Advocacy02. likely to leave a positive online review for [MODEL]\n",
    "        - Q_Retention.  likely to select [BRAND] the next time (smertphone) \n",
    "        - Q_Enrichment. likely to consider [BRAND] products (other electronic product)\n",
    "\n",
    "    2. Usage variables: \\[ 'qxtime',\t\n",
    "    'qxactivitiesxrecency_1 to qxactivitiesxrecency_25',\t\n",
    "    'qxcurrentxos',\t'qxcurrentxstorage',\t'qxcurrentxcarrier',\t\n",
    "    'qxunlocking',\t'qxotherxdevices_1_1 to qxotherxdevices_9_6',\t\n",
    "    'qxpreviousxbrand',\t'qxtransition_1',\t'qxupgrade01_1 to qxupgrade01_9'\\]\n",
    "    \n",
    "    3. Driver statements: \\[ qxdrivers_1 to qxdrivers_34\\]\n",
    "    \n",
    "    4. Total Quality Indicators\t\\[ qxoverallxqualityxindicators_1 to qxoverallxqualityxindicators_4\\] : \n",
    "        - Q_Overall_Quality_Indicators. [Brand] is trustworthy \n",
    "        - Q_Overall_Quality_Indicators. When I use my [MODEL] , I feel good/positive \n",
    "        - Q_Overall_Quality_Indicators. My [MODEL]  meets my needs/ performs well \n",
    "        - Q_Overall_Quality_Indicators. My [MODEL]  is simple/easy to use \n",
    "\n",
    "B) Examine statistical significant differences in demographics amongst segments. \n",
    "\n",
    "    1. Demographic Columns \\[ 'd1',\t'd3_1',\t'd3_2',\t'd3_3',\t'd3_4',\t'd4', 'd6',\t'd7_1',\t'd7_2',\t'd7_3',\t'd7_4',\t'd7_5',\t'd7_97',\t'd7_99',\t'd7_97_other' \\]\n",
    "    -- convert d4[7] to dummy variable\n",
    "\n",
    "C) Subsequently, we analyse difference between UX_index and UX_Loyalty for the clusters. We'll see a large difference in these two metrics for clusters which relationship between the quality indicators (feeling, trust, simplicity and function) and Loyalty differs. \n",
    "\n",
    "This will enable us to make infer things like:\n",
    "Individuals who feel that [\"Uing my [MODEL] doesn't require a lot of effort\"] \n"
   ]
  },
  {
   "cell_type": "markdown",
   "metadata": {},
   "source": [
    "# Summary \n",
    "\n",
    "#### Total Quality Indicators\n",
    "#### 3 clusters\n",
    "\n",
    "### Important Features in Defining Cluster 2:\n",
    "Variable\tLabel\timp_rank\timp\tcoefficient\tcoef_rank\n",
    "\n",
    "qxoverallxqualityxindicators_4\tsimple/easy to use (#1.0, 0.422396)\t(#1,-3.192037)\n",
    "\n",
    "qxoverallxqualityxindicators_3\tmeets my needs/ performs well (#2.0, 0.256557) (#2,-2.780032)\n",
    "\n",
    "<br>\n",
    "\n",
    "### statistically significant differences in demographics between groups \n",
    "driven by **Total Quality** are in employment status. If a user is a student, they unlikely to be in cluster 0 and are mor elikley to be in cluster 2 than cluster 1. If they are not currently employed or in school, they are more likely to be in cluster 2 than cluster 0. If they are mployed, ther are more likley to be in cluster 2 han cluster 0."
   ]
  },
  {
   "cell_type": "markdown",
   "metadata": {},
   "source": [
    "# Housekeeping"
   ]
  },
  {
   "cell_type": "code",
   "execution_count": 1,
   "metadata": {},
   "outputs": [],
   "source": [
    "import pandas as pd\n",
    "import matplotlib\n",
    "import numpy as np\n",
    "import matplotlib.pyplot as plt\n",
    "import matplotlib.backends.backend_pdf\n",
    "from matplotlib.backends.backend_pdf import PdfPages\n",
    "\n",
    "%matplotlib inline \n",
    "\n",
    "\n",
    "# Seaborn visualization library\n",
    "import seaborn as sns\n",
    "\n",
    "from sklearn.preprocessing import StandardScaler\n",
    "from sklearn.datasets.samples_generator import make_blobs\n",
    "from sklearn.cluster import KMeans\n",
    "\n",
    "from sklearn.feature_selection import RFE\n",
    "from sklearn.linear_model import LogisticRegression\n",
    "\n",
    "\n",
    "from sklearn.feature_selection import SelectFromModel\n",
    "from sklearn.linear_model import LassoCV\n",
    "from sklearn.ensemble import RandomForestClassifier\n",
    "\n",
    "import scipy"
   ]
  },
  {
   "cell_type": "code",
   "execution_count": 2,
   "metadata": {},
   "outputs": [],
   "source": [
    "pd.set_option('display.max_columns', 1000)\n",
    "pd.options.display.max_rows=1000\n",
    "\n",
    "pd.set_option('display.width', 1000)\n",
    "pd.set_option('display.max_colwidth', 1000)\n",
    "\n",
    "plt.rcParams.update({'figure.max_open_warning': 0})\n"
   ]
  },
  {
   "cell_type": "code",
   "execution_count": 3,
   "metadata": {},
   "outputs": [],
   "source": [
    "import random\n",
    "random.seed( 0 )"
   ]
  },
  {
   "cell_type": "markdown",
   "metadata": {},
   "source": [
    "# Load in Data"
   ]
  },
  {
   "cell_type": "code",
   "execution_count": 4,
   "metadata": {},
   "outputs": [
    {
     "name": "stderr",
     "output_type": "stream",
     "text": [
      "/usr/local/lib/python3.7/site-packages/IPython/core/interactiveshell.py:3057: DtypeWarning: Columns (1218) have mixed types. Specify dtype option on import or set low_memory=False.\n",
      "  interactivity=interactivity, compiler=compiler, result=result)\n"
     ]
    }
   ],
   "source": [
    "root = r\"../data/input/07 Samsung UX Index - Web App Implementation/\"\n",
    "\n",
    "fname_data = root + r\"Samsung UX Index Survey_Data.csv\"\n",
    "df_data = pd.read_csv(fname_data)\n",
    "\n",
    "fname_vaxmap = root + r\"Samsung UX Index Survey_Datamap.xlsx\"\n",
    "df_varmap = pd.read_excel(fname_vaxmap, header=1, sheet_name=0)\n",
    "df_valmap = pd.read_excel(fname_vaxmap, header=1, sheet_name=1)"
   ]
  },
  {
   "cell_type": "markdown",
   "metadata": {},
   "source": [
    "# Modify d4 column"
   ]
  },
  {
   "cell_type": "code",
   "execution_count": 5,
   "metadata": {},
   "outputs": [],
   "source": [
    "df_data['d4_X'] = np.where(df_data['d4']==7, '', df_data['d4'])\n",
    "df_data['d4_7']  = np.where(df_data['d4']==7, df_data['d4'], '')"
   ]
  },
  {
   "cell_type": "markdown",
   "metadata": {},
   "source": [
    "# Modify d1 column"
   ]
  },
  {
   "cell_type": "raw",
   "metadata": {},
   "source": [
    "d1\t1\tMale\n",
    "d1\t2\tFemale\n",
    "d1\t3\tNon-binary\n",
    "d1\t4\tWould rather not say"
   ]
  },
  {
   "cell_type": "code",
   "execution_count": 6,
   "metadata": {},
   "outputs": [],
   "source": [
    "df_data['d1_1'] = np.where(df_data['d1']==1, '', df_data['d1'])\n",
    "df_data['d1_2']  = np.where(df_data['d1']==2, df_data['d1'], '')\n",
    "df_data['d1_3'] = np.where(df_data['d1']==3, '', df_data['d1'])\n",
    "df_data['d1_4']  = np.where(df_data['d1']==4, df_data['d1'], '')"
   ]
  },
  {
   "cell_type": "markdown",
   "metadata": {},
   "source": [
    "# Modify Hidage column"
   ]
  },
  {
   "cell_type": "raw",
   "metadata": {},
   "source": [
    "hidagemodels\t1\tGen Z\n",
    "hidagemodels\t2\tYounger millennials\n",
    "hidagemodels\t3\tOlder millennials"
   ]
  },
  {
   "cell_type": "code",
   "execution_count": 7,
   "metadata": {},
   "outputs": [],
   "source": [
    "df_data['hidagemodels_1'] = np.where(df_data['hidagemodels']==1, '', df_data['hidagemodels'])\n",
    "df_data['hidagemodels_2']  = np.where(df_data['hidagemodels']==2, df_data['hidagemodels'], '')\n",
    "df_data['hidagemodels_3'] = np.where(df_data['hidagemodels']==3, '', df_data['hidagemodels'])"
   ]
  },
  {
   "cell_type": "markdown",
   "metadata": {},
   "source": [
    "# Driver Columns"
   ]
  },
  {
   "cell_type": "code",
   "execution_count": 8,
   "metadata": {},
   "outputs": [
    {
     "data": {
      "text/plain": [
       "['qxoverallxqualityxindicators_1',\n",
       " 'qxoverallxqualityxindicators_2',\n",
       " 'qxoverallxqualityxindicators_3',\n",
       " 'qxoverallxqualityxindicators_4']"
      ]
     },
     "execution_count": 8,
     "metadata": {},
     "output_type": "execute_result"
    }
   ],
   "source": [
    "lst = ['qxoverallxqualityxindicators_'+str(i+1) for i in range(4)]\n",
    "lst"
   ]
  },
  {
   "cell_type": "code",
   "execution_count": 9,
   "metadata": {},
   "outputs": [
    {
     "name": "stdout",
     "output_type": "stream",
     "text": [
      "4\n"
     ]
    },
    {
     "data": {
      "text/plain": [
       "['qxoverallxqualityxindicators_1',\n",
       " 'qxoverallxqualityxindicators_2',\n",
       " 'qxoverallxqualityxindicators_3',\n",
       " 'qxoverallxqualityxindicators_4']"
      ]
     },
     "execution_count": 9,
     "metadata": {},
     "output_type": "execute_result"
    }
   ],
   "source": [
    "qx_list = lst\n",
    "print(len(qx_list))\n",
    "qx_list\n"
   ]
  },
  {
   "cell_type": "code",
   "execution_count": 10,
   "metadata": {},
   "outputs": [],
   "source": [
    "df_data_sub = df_data[qx_list]"
   ]
  },
  {
   "cell_type": "code",
   "execution_count": 11,
   "metadata": {},
   "outputs": [],
   "source": [
    "# list non  integer columns  to be coerced into ints\n",
    "coerce_cols = df_data_sub.dtypes[df_data_sub.dtypes!='int64'].index.to_list()\n",
    "df_data_sub[coerce_cols] = df_data_sub[coerce_cols].apply(pd.to_numeric, errors='coerce')"
   ]
  },
  {
   "cell_type": "code",
   "execution_count": 12,
   "metadata": {},
   "outputs": [
    {
     "name": "stdout",
     "output_type": "stream",
     "text": [
      "['qxoverallxqualityxindicators_1' 'qxoverallxqualityxindicators_2'\n",
      " 'qxoverallxqualityxindicators_3' 'qxoverallxqualityxindicators_4']\n",
      "\n",
      "[dtype('int64')]\n",
      "\n",
      "(3254, 4)\n"
     ]
    },
    {
     "data": {
      "text/html": [
       "<div>\n",
       "<style scoped>\n",
       "    .dataframe tbody tr th:only-of-type {\n",
       "        vertical-align: middle;\n",
       "    }\n",
       "\n",
       "    .dataframe tbody tr th {\n",
       "        vertical-align: top;\n",
       "    }\n",
       "\n",
       "    .dataframe thead th {\n",
       "        text-align: right;\n",
       "    }\n",
       "</style>\n",
       "<table border=\"1\" class=\"dataframe\">\n",
       "  <thead>\n",
       "    <tr style=\"text-align: right;\">\n",
       "      <th></th>\n",
       "      <th>qxoverallxqualityxindicators_1</th>\n",
       "      <th>qxoverallxqualityxindicators_2</th>\n",
       "      <th>qxoverallxqualityxindicators_3</th>\n",
       "      <th>qxoverallxqualityxindicators_4</th>\n",
       "    </tr>\n",
       "  </thead>\n",
       "  <tbody>\n",
       "    <tr>\n",
       "      <th>count</th>\n",
       "      <td>3254.000000</td>\n",
       "      <td>3254.000000</td>\n",
       "      <td>3254.000000</td>\n",
       "      <td>3254.000000</td>\n",
       "    </tr>\n",
       "    <tr>\n",
       "      <th>mean</th>\n",
       "      <td>5.744007</td>\n",
       "      <td>5.775661</td>\n",
       "      <td>5.905040</td>\n",
       "      <td>6.094960</td>\n",
       "    </tr>\n",
       "    <tr>\n",
       "      <th>std</th>\n",
       "      <td>1.269394</td>\n",
       "      <td>1.220311</td>\n",
       "      <td>1.207067</td>\n",
       "      <td>1.095453</td>\n",
       "    </tr>\n",
       "    <tr>\n",
       "      <th>min</th>\n",
       "      <td>1.000000</td>\n",
       "      <td>1.000000</td>\n",
       "      <td>1.000000</td>\n",
       "      <td>1.000000</td>\n",
       "    </tr>\n",
       "    <tr>\n",
       "      <th>25%</th>\n",
       "      <td>5.000000</td>\n",
       "      <td>5.000000</td>\n",
       "      <td>5.000000</td>\n",
       "      <td>6.000000</td>\n",
       "    </tr>\n",
       "    <tr>\n",
       "      <th>50%</th>\n",
       "      <td>6.000000</td>\n",
       "      <td>6.000000</td>\n",
       "      <td>6.000000</td>\n",
       "      <td>6.000000</td>\n",
       "    </tr>\n",
       "    <tr>\n",
       "      <th>75%</th>\n",
       "      <td>7.000000</td>\n",
       "      <td>7.000000</td>\n",
       "      <td>7.000000</td>\n",
       "      <td>7.000000</td>\n",
       "    </tr>\n",
       "    <tr>\n",
       "      <th>max</th>\n",
       "      <td>7.000000</td>\n",
       "      <td>7.000000</td>\n",
       "      <td>7.000000</td>\n",
       "      <td>7.000000</td>\n",
       "    </tr>\n",
       "  </tbody>\n",
       "</table>\n",
       "</div>"
      ],
      "text/plain": [
       "       qxoverallxqualityxindicators_1  qxoverallxqualityxindicators_2  qxoverallxqualityxindicators_3  qxoverallxqualityxindicators_4\n",
       "count                     3254.000000                     3254.000000                     3254.000000                     3254.000000\n",
       "mean                         5.744007                        5.775661                        5.905040                        6.094960\n",
       "std                          1.269394                        1.220311                        1.207067                        1.095453\n",
       "min                          1.000000                        1.000000                        1.000000                        1.000000\n",
       "25%                          5.000000                        5.000000                        5.000000                        6.000000\n",
       "50%                          6.000000                        6.000000                        6.000000                        6.000000\n",
       "75%                          7.000000                        7.000000                        7.000000                        7.000000\n",
       "max                          7.000000                        7.000000                        7.000000                        7.000000"
      ]
     },
     "execution_count": 12,
     "metadata": {},
     "output_type": "execute_result"
    }
   ],
   "source": [
    "# list all column types\n",
    "print( np.unique( df_data_sub.columns))\n",
    "print()\n",
    "# confirm all are numeric types\n",
    "print(np.unique(df_data_sub.dtypes.to_frame()[0].to_list()))\n",
    "print()\n",
    "print(df_data_sub.shape)\n",
    "df_data_sub.describe()"
   ]
  },
  {
   "cell_type": "code",
   "execution_count": 13,
   "metadata": {},
   "outputs": [
    {
     "data": {
      "text/plain": [
       "Series([], dtype: int64)"
      ]
     },
     "execution_count": 13,
     "metadata": {},
     "output_type": "execute_result"
    }
   ],
   "source": [
    "# Count Na values\n",
    "df_data_sub.isna().sum()[df_data_sub.isna().sum()>0].sort_values(ascending=False)"
   ]
  },
  {
   "cell_type": "code",
   "execution_count": 14,
   "metadata": {},
   "outputs": [
    {
     "name": "stdout",
     "output_type": "stream",
     "text": [
      "[]\n",
      "(3254, 4)\n",
      "(3254, 4)\n"
     ]
    }
   ],
   "source": [
    "# drop columns where are values are missing \n",
    "# qxactivitiesxdrivers_2_1\n",
    "cols_allmissing = df_data_sub.isna().sum()[df_data_sub.isna().sum()==3254].index.to_list()\n",
    "print(cols_allmissing)\n",
    "print(df_data_sub.shape)\n",
    "df_data_sub = df_data_sub.drop(cols_allmissing, axis = 1) \n",
    "print(df_data_sub.shape)"
   ]
  },
  {
   "cell_type": "code",
   "execution_count": 15,
   "metadata": {},
   "outputs": [
    {
     "data": {
      "text/html": [
       "<div>\n",
       "<style scoped>\n",
       "    .dataframe tbody tr th:only-of-type {\n",
       "        vertical-align: middle;\n",
       "    }\n",
       "\n",
       "    .dataframe tbody tr th {\n",
       "        vertical-align: top;\n",
       "    }\n",
       "\n",
       "    .dataframe thead th {\n",
       "        text-align: right;\n",
       "    }\n",
       "</style>\n",
       "<table border=\"1\" class=\"dataframe\">\n",
       "  <thead>\n",
       "    <tr style=\"text-align: right;\">\n",
       "      <th></th>\n",
       "      <th>qxoverallxqualityxindicators_1</th>\n",
       "      <th>qxoverallxqualityxindicators_2</th>\n",
       "      <th>qxoverallxqualityxindicators_3</th>\n",
       "      <th>qxoverallxqualityxindicators_4</th>\n",
       "    </tr>\n",
       "  </thead>\n",
       "  <tbody>\n",
       "    <tr>\n",
       "      <th>count</th>\n",
       "      <td>3.254000e+03</td>\n",
       "      <td>3.254000e+03</td>\n",
       "      <td>3.254000e+03</td>\n",
       "      <td>3.254000e+03</td>\n",
       "    </tr>\n",
       "    <tr>\n",
       "      <th>mean</th>\n",
       "      <td>-1.572190e-16</td>\n",
       "      <td>2.358286e-16</td>\n",
       "      <td>2.183598e-16</td>\n",
       "      <td>-2.445630e-16</td>\n",
       "    </tr>\n",
       "    <tr>\n",
       "      <th>std</th>\n",
       "      <td>1.000154e+00</td>\n",
       "      <td>1.000154e+00</td>\n",
       "      <td>1.000154e+00</td>\n",
       "      <td>1.000154e+00</td>\n",
       "    </tr>\n",
       "    <tr>\n",
       "      <th>min</th>\n",
       "      <td>-3.737796e+00</td>\n",
       "      <td>-3.914081e+00</td>\n",
       "      <td>-4.064226e+00</td>\n",
       "      <td>-4.651722e+00</td>\n",
       "    </tr>\n",
       "    <tr>\n",
       "      <th>25%</th>\n",
       "      <td>-5.862023e-01</td>\n",
       "      <td>-6.357232e-01</td>\n",
       "      <td>-7.498995e-01</td>\n",
       "      <td>-8.669895e-02</td>\n",
       "    </tr>\n",
       "    <tr>\n",
       "      <th>50%</th>\n",
       "      <td>2.016962e-01</td>\n",
       "      <td>1.838661e-01</td>\n",
       "      <td>7.868215e-02</td>\n",
       "      <td>-8.669895e-02</td>\n",
       "    </tr>\n",
       "    <tr>\n",
       "      <th>75%</th>\n",
       "      <td>9.895947e-01</td>\n",
       "      <td>1.003455e+00</td>\n",
       "      <td>9.072638e-01</td>\n",
       "      <td>8.263056e-01</td>\n",
       "    </tr>\n",
       "    <tr>\n",
       "      <th>max</th>\n",
       "      <td>9.895947e-01</td>\n",
       "      <td>1.003455e+00</td>\n",
       "      <td>9.072638e-01</td>\n",
       "      <td>8.263056e-01</td>\n",
       "    </tr>\n",
       "  </tbody>\n",
       "</table>\n",
       "</div>"
      ],
      "text/plain": [
       "       qxoverallxqualityxindicators_1  qxoverallxqualityxindicators_2  qxoverallxqualityxindicators_3  qxoverallxqualityxindicators_4\n",
       "count                    3.254000e+03                    3.254000e+03                    3.254000e+03                    3.254000e+03\n",
       "mean                    -1.572190e-16                    2.358286e-16                    2.183598e-16                   -2.445630e-16\n",
       "std                      1.000154e+00                    1.000154e+00                    1.000154e+00                    1.000154e+00\n",
       "min                     -3.737796e+00                   -3.914081e+00                   -4.064226e+00                   -4.651722e+00\n",
       "25%                     -5.862023e-01                   -6.357232e-01                   -7.498995e-01                   -8.669895e-02\n",
       "50%                      2.016962e-01                    1.838661e-01                    7.868215e-02                   -8.669895e-02\n",
       "75%                      9.895947e-01                    1.003455e+00                    9.072638e-01                    8.263056e-01\n",
       "max                      9.895947e-01                    1.003455e+00                    9.072638e-01                    8.263056e-01"
      ]
     },
     "execution_count": 15,
     "metadata": {},
     "output_type": "execute_result"
    }
   ],
   "source": [
    "# Standardize the qx_list columns\n",
    "scaler = StandardScaler().fit(df_data_sub)\n",
    "df_data_sub_std = df_data_sub.copy()\n",
    "df_data_sub_std[df_data_sub.columns] = scaler.transform(df_data_sub)\n",
    "df_data_sub_std.describe()"
   ]
  },
  {
   "cell_type": "code",
   "execution_count": 16,
   "metadata": {},
   "outputs": [
    {
     "data": {
      "text/plain": [
       "Series([], dtype: int64)"
      ]
     },
     "execution_count": 16,
     "metadata": {},
     "output_type": "execute_result"
    }
   ],
   "source": [
    "# Count all Na values, now that they're scaled... \n",
    "# did scaling generate nans for columns with *some* missing values? NO\n",
    "df_data_sub_std.isna().sum()[df_data_sub_std.isna().sum()>0].sort_values(ascending=False)"
   ]
  },
  {
   "cell_type": "code",
   "execution_count": 17,
   "metadata": {},
   "outputs": [],
   "source": [
    "# fill NA's with 0\n",
    "df_data_sub_std.fillna(0, inplace=True)"
   ]
  },
  {
   "cell_type": "code",
   "execution_count": 18,
   "metadata": {},
   "outputs": [
    {
     "data": {
      "text/plain": [
       "0"
      ]
     },
     "execution_count": 18,
     "metadata": {},
     "output_type": "execute_result"
    }
   ],
   "source": [
    "# Count Na values... should totall to 0 across the board\n",
    "sum(df_data_sub_std.isna().sum()[df_data_sub.isna().sum()>0])"
   ]
  },
  {
   "cell_type": "code",
   "execution_count": 19,
   "metadata": {},
   "outputs": [
    {
     "data": {
      "image/png": "[encoded data removed]",
      "text/plain": [
       "<Figure size 432x288 with 1 Axes>"
      ]
     },
     "metadata": {
      "needs_background": "light"
     },
     "output_type": "display_data"
    }
   ],
   "source": [
    "# Using WCSS-based (sum of dists b/w centroids & points for all clusters)...\n",
    "# ... Elbow Method to find optimal number of clusters\n",
    "wcss = []\n",
    "for i in range(1, 11):\n",
    "    kmeans = KMeans(n_clusters=i, init='k-means++', max_iter=300, n_init=10, random_state=0)\n",
    "    kmeans.fit(df_data_sub_std)\n",
    "    wcss.append(kmeans.inertia_)\n",
    "plt.plot(range(1, 11), wcss)\n",
    "plt.title('Elbow Method')\n",
    "plt.xlabel('Number of clusters')\n",
    "plt.ylabel('WCSS')\n",
    "plt.show()"
   ]
  },
  {
   "cell_type": "code",
   "execution_count": 20,
   "metadata": {},
   "outputs": [],
   "source": [
    "# Fitting KMeans w/ Optimal number of Clusters\n",
    "kmeans = KMeans(n_clusters=3, init='k-means++', max_iter=300, n_init=10, random_state=0)\n",
    "pred_y = kmeans.fit_predict(df_data_sub_std)"
   ]
  },
  {
   "cell_type": "code",
   "execution_count": 21,
   "metadata": {},
   "outputs": [
    {
     "name": "stderr",
     "output_type": "stream",
     "text": [
      "/usr/local/lib/python3.7/site-packages/ipykernel_launcher.py:1: FutureWarning: \n",
      ".ix is deprecated. Please use\n",
      ".loc for label based indexing or\n",
      ".iloc for positional indexing\n",
      "\n",
      "See the documentation here:\n",
      "http://pandas.pydata.org/pandas-docs/stable/user_guide/indexing.html#ix-indexer-is-deprecated\n",
      "  \"\"\"Entry point for launching an IPython kernel.\n"
     ]
    },
    {
     "data": {
      "image/png": "[encoded data removed]",
      "text/plain": [
       "<Figure size 432x288 with 1 Axes>"
      ]
     },
     "metadata": {
      "needs_background": "light"
     },
     "output_type": "display_data"
    }
   ],
   "source": [
    "plt.scatter(df_data_sub_std.ix[:,0], df_data_sub_std.ix[:,1], c=pred_y)\n",
    "plt.scatter(kmeans.cluster_centers_[:, 0], kmeans.cluster_centers_[:, 1], s=300, c='red')\n",
    "plt.show()"
   ]
  },
  {
   "cell_type": "code",
   "execution_count": 22,
   "metadata": {},
   "outputs": [
    {
     "data": {
      "text/html": [
       "<div>\n",
       "<style scoped>\n",
       "    .dataframe tbody tr th:only-of-type {\n",
       "        vertical-align: middle;\n",
       "    }\n",
       "\n",
       "    .dataframe tbody tr th {\n",
       "        vertical-align: top;\n",
       "    }\n",
       "\n",
       "    .dataframe thead tr th {\n",
       "        text-align: left;\n",
       "    }\n",
       "\n",
       "    .dataframe thead tr:last-of-type th {\n",
       "        text-align: right;\n",
       "    }\n",
       "</style>\n",
       "<table border=\"1\" class=\"dataframe\">\n",
       "  <thead>\n",
       "    <tr>\n",
       "      <th></th>\n",
       "      <th colspan=\"8\" halign=\"left\">qxoverallxqualityxindicators_1</th>\n",
       "      <th colspan=\"8\" halign=\"left\">qxoverallxqualityxindicators_2</th>\n",
       "      <th colspan=\"8\" halign=\"left\">qxoverallxqualityxindicators_3</th>\n",
       "      <th colspan=\"8\" halign=\"left\">qxoverallxqualityxindicators_4</th>\n",
       "    </tr>\n",
       "    <tr>\n",
       "      <th></th>\n",
       "      <th>count</th>\n",
       "      <th>mean</th>\n",
       "      <th>std</th>\n",
       "      <th>min</th>\n",
       "      <th>25%</th>\n",
       "      <th>50%</th>\n",
       "      <th>75%</th>\n",
       "      <th>max</th>\n",
       "      <th>count</th>\n",
       "      <th>mean</th>\n",
       "      <th>std</th>\n",
       "      <th>min</th>\n",
       "      <th>25%</th>\n",
       "      <th>50%</th>\n",
       "      <th>75%</th>\n",
       "      <th>max</th>\n",
       "      <th>count</th>\n",
       "      <th>mean</th>\n",
       "      <th>std</th>\n",
       "      <th>min</th>\n",
       "      <th>25%</th>\n",
       "      <th>50%</th>\n",
       "      <th>75%</th>\n",
       "      <th>max</th>\n",
       "      <th>count</th>\n",
       "      <th>mean</th>\n",
       "      <th>std</th>\n",
       "      <th>min</th>\n",
       "      <th>25%</th>\n",
       "      <th>50%</th>\n",
       "      <th>75%</th>\n",
       "      <th>max</th>\n",
       "    </tr>\n",
       "    <tr>\n",
       "      <th>pred</th>\n",
       "      <th></th>\n",
       "      <th></th>\n",
       "      <th></th>\n",
       "      <th></th>\n",
       "      <th></th>\n",
       "      <th></th>\n",
       "      <th></th>\n",
       "      <th></th>\n",
       "      <th></th>\n",
       "      <th></th>\n",
       "      <th></th>\n",
       "      <th></th>\n",
       "      <th></th>\n",
       "      <th></th>\n",
       "      <th></th>\n",
       "      <th></th>\n",
       "      <th></th>\n",
       "      <th></th>\n",
       "      <th></th>\n",
       "      <th></th>\n",
       "      <th></th>\n",
       "      <th></th>\n",
       "      <th></th>\n",
       "      <th></th>\n",
       "      <th></th>\n",
       "      <th></th>\n",
       "      <th></th>\n",
       "      <th></th>\n",
       "      <th></th>\n",
       "      <th></th>\n",
       "      <th></th>\n",
       "      <th></th>\n",
       "    </tr>\n",
       "  </thead>\n",
       "  <tbody>\n",
       "    <tr>\n",
       "      <th>0</th>\n",
       "      <td>1497.0</td>\n",
       "      <td>0.672225</td>\n",
       "      <td>0.538998</td>\n",
       "      <td>-1.374101</td>\n",
       "      <td>0.201696</td>\n",
       "      <td>0.989595</td>\n",
       "      <td>0.989595</td>\n",
       "      <td>0.989595</td>\n",
       "      <td>1497.0</td>\n",
       "      <td>0.726974</td>\n",
       "      <td>0.474127</td>\n",
       "      <td>-1.455313</td>\n",
       "      <td>0.183866</td>\n",
       "      <td>1.003455</td>\n",
       "      <td>1.003455</td>\n",
       "      <td>1.003455</td>\n",
       "      <td>1497.0</td>\n",
       "      <td>0.677563</td>\n",
       "      <td>0.437959</td>\n",
       "      <td>-1.578481</td>\n",
       "      <td>0.907264</td>\n",
       "      <td>0.907264</td>\n",
       "      <td>0.907264</td>\n",
       "      <td>0.907264</td>\n",
       "      <td>1497.0</td>\n",
       "      <td>0.627482</td>\n",
       "      <td>0.421607</td>\n",
       "      <td>-1.912708</td>\n",
       "      <td>0.826306</td>\n",
       "      <td>0.826306</td>\n",
       "      <td>0.826306</td>\n",
       "      <td>0.826306</td>\n",
       "    </tr>\n",
       "    <tr>\n",
       "      <th>1</th>\n",
       "      <td>1302.0</td>\n",
       "      <td>-0.316308</td>\n",
       "      <td>0.782497</td>\n",
       "      <td>-3.737796</td>\n",
       "      <td>-0.586202</td>\n",
       "      <td>-0.586202</td>\n",
       "      <td>0.201696</td>\n",
       "      <td>0.989595</td>\n",
       "      <td>1302.0</td>\n",
       "      <td>-0.332312</td>\n",
       "      <td>0.713346</td>\n",
       "      <td>-3.094491</td>\n",
       "      <td>-0.635723</td>\n",
       "      <td>-0.635723</td>\n",
       "      <td>0.183866</td>\n",
       "      <td>1.003455</td>\n",
       "      <td>1302.0</td>\n",
       "      <td>-0.244605</td>\n",
       "      <td>0.739322</td>\n",
       "      <td>-4.064226</td>\n",
       "      <td>-0.749899</td>\n",
       "      <td>0.078682</td>\n",
       "      <td>0.078682</td>\n",
       "      <td>0.907264</td>\n",
       "      <td>1302.0</td>\n",
       "      <td>-0.159627</td>\n",
       "      <td>0.709513</td>\n",
       "      <td>-2.825713</td>\n",
       "      <td>-0.999703</td>\n",
       "      <td>-0.086699</td>\n",
       "      <td>-0.086699</td>\n",
       "      <td>0.826306</td>\n",
       "    </tr>\n",
       "    <tr>\n",
       "      <th>2</th>\n",
       "      <td>455.0</td>\n",
       "      <td>-1.306567</td>\n",
       "      <td>0.983680</td>\n",
       "      <td>-3.737796</td>\n",
       "      <td>-1.374101</td>\n",
       "      <td>-1.374101</td>\n",
       "      <td>-0.586202</td>\n",
       "      <td>0.989595</td>\n",
       "      <td>455.0</td>\n",
       "      <td>-1.440902</td>\n",
       "      <td>0.910139</td>\n",
       "      <td>-3.914081</td>\n",
       "      <td>-1.455313</td>\n",
       "      <td>-1.455313</td>\n",
       "      <td>-0.635723</td>\n",
       "      <td>1.003455</td>\n",
       "      <td>455.0</td>\n",
       "      <td>-1.529313</td>\n",
       "      <td>0.969376</td>\n",
       "      <td>-4.064226</td>\n",
       "      <td>-2.407063</td>\n",
       "      <td>-1.578481</td>\n",
       "      <td>-0.749899</td>\n",
       "      <td>0.907264</td>\n",
       "      <td>455.0</td>\n",
       "      <td>-1.607704</td>\n",
       "      <td>1.085049</td>\n",
       "      <td>-4.651722</td>\n",
       "      <td>-1.912708</td>\n",
       "      <td>-1.912708</td>\n",
       "      <td>-0.999703</td>\n",
       "      <td>0.826306</td>\n",
       "    </tr>\n",
       "  </tbody>\n",
       "</table>\n",
       "</div>"
      ],
      "text/plain": [
       "     qxoverallxqualityxindicators_1                                                                       qxoverallxqualityxindicators_2                                                                       qxoverallxqualityxindicators_3                                                                       qxoverallxqualityxindicators_4                                                                      \n",
       "                              count      mean       std       min       25%       50%       75%       max                          count      mean       std       min       25%       50%       75%       max                          count      mean       std       min       25%       50%       75%       max                          count      mean       std       min       25%       50%       75%       max\n",
       "pred                                                                                                                                                                                                                                                                                                                                                                                                                    \n",
       "0                            1497.0  0.672225  0.538998 -1.374101  0.201696  0.989595  0.989595  0.989595                         1497.0  0.726974  0.474127 -1.455313  0.183866  1.003455  1.003455  1.003455                         1497.0  0.677563  0.437959 -1.578481  0.907264  0.907264  0.907264  0.907264                         1497.0  0.627482  0.421607 -1.912708  0.826306  0.826306  0.826306  0.826306\n",
       "1                            1302.0 -0.316308  0.782497 -3.737796 -0.586202 -0.586202  0.201696  0.989595                         1302.0 -0.332312  0.713346 -3.094491 -0.635723 -0.635723  0.183866  1.003455                         1302.0 -0.244605  0.739322 -4.064226 -0.749899  0.078682  0.078682  0.907264                         1302.0 -0.159627  0.709513 -2.825713 -0.999703 -0.086699 -0.086699  0.826306\n",
       "2                             455.0 -1.306567  0.983680 -3.737796 -1.374101 -1.374101 -0.586202  0.989595                          455.0 -1.440902  0.910139 -3.914081 -1.455313 -1.455313 -0.635723  1.003455                          455.0 -1.529313  0.969376 -4.064226 -2.407063 -1.578481 -0.749899  0.907264                          455.0 -1.607704  1.085049 -4.651722 -1.912708 -1.912708 -0.999703  0.826306"
      ]
     },
     "execution_count": 22,
     "metadata": {},
     "output_type": "execute_result"
    }
   ],
   "source": [
    "df_data_sub_std['pred'] = pred_y\n",
    "df_data_sub_std.groupby('pred').describe()"
   ]
  },
  {
   "cell_type": "code",
   "execution_count": 23,
   "metadata": {},
   "outputs": [
    {
     "data": {
      "image/png": "[encoded data removed]",
      "text/plain": [
       "<Figure size 1296x432 with 1 Axes>"
      ]
     },
     "metadata": {
      "needs_background": "light"
     },
     "output_type": "display_data"
    }
   ],
   "source": [
    "fig, ax = plt.subplots(figsize=(18,6))\n",
    "  \n",
    "for name, group in df_data_sub_std.groupby('pred'):\n",
    "    group[qx_list[0]].plot( kind='kde', ax=ax, title=qx_list[0], label=name, legend=True)\n",
    "\n",
    "plt.show()"
   ]
  },
  {
   "cell_type": "markdown",
   "metadata": {},
   "source": [
    "# Save Each Plot to PDF "
   ]
  },
  {
   "cell_type": "code",
   "execution_count": 24,
   "metadata": {
    "scrolled": false
   },
   "outputs": [
    {
     "data": {
      "image/png": "[encoded data removed]",
      "text/plain": [
       "<Figure size 432x288 with 1 Axes>"
      ]
     },
     "metadata": {
      "needs_background": "light"
     },
     "output_type": "display_data"
    },
    {
     "data": {
      "image/png": "[encoded data removed]",
      "text/plain": [
       "<Figure size 432x288 with 1 Axes>"
      ]
     },
     "metadata": {
      "needs_background": "light"
     },
     "output_type": "display_data"
    },
    {
     "data": {
      "image/png": "[encoded data removed]",
      "text/plain": [
       "<Figure size 432x288 with 1 Axes>"
      ]
     },
     "metadata": {
      "needs_background": "light"
     },
     "output_type": "display_data"
    },
    {
     "data": {
      "image/png": "[encoded data removed]",
      "text/plain": [
       "<Figure size 432x288 with 1 Axes>"
      ]
     },
     "metadata": {
      "needs_background": "light"
     },
     "output_type": "display_data"
    }
   ],
   "source": [
    "with PdfPages('../data/output/Seg1_KNN3_bytotalqual.pdf') as pdf:\n",
    "    plt.ioff()\n",
    "    for col in df_data_sub_std.columns.drop(['pred']):\n",
    "        plt.figure()\n",
    "        fig=df_data_sub_std.groupby('pred')[col].plot(kind='kde', title=col, legend=True)[0].get_figure()\n",
    "        pdf.savefig(fig)\n"
   ]
  },
  {
   "cell_type": "markdown",
   "metadata": {},
   "source": [
    "# Variable Importance - Cluster 2"
   ]
  },
  {
   "cell_type": "code",
   "execution_count": 25,
   "metadata": {},
   "outputs": [],
   "source": [
    "df_data_sub_std['pred_2'] = np.where(df_data_sub_std['pred']==2, 1, 0)\n",
    "\n",
    "df_data_sub_std_vars=df_data_sub_std.columns.values.tolist()\n",
    "\n",
    "y = df_data_sub_std['pred_2']\n",
    "\n",
    "X = df_data_sub_std\n",
    "X = X.drop(columns=['pred','pred_2'])"
   ]
  },
  {
   "cell_type": "markdown",
   "metadata": {},
   "source": [
    "## Logistic Regression"
   ]
  },
  {
   "cell_type": "code",
   "execution_count": 26,
   "metadata": {},
   "outputs": [
    {
     "name": "stderr",
     "output_type": "stream",
     "text": [
      "/usr/local/lib/python3.7/site-packages/sklearn/linear_model/logistic.py:432: FutureWarning: Default solver will be changed to 'lbfgs' in 0.22. Specify a solver to silence this warning.\n",
      "  FutureWarning)\n"
     ]
    },
    {
     "data": {
      "text/plain": [
       "LogisticRegression(C=1.0, class_weight=None, dual=False, fit_intercept=True,\n",
       "                   intercept_scaling=1, l1_ratio=None, max_iter=100,\n",
       "                   multi_class='warn', n_jobs=None, penalty='l2',\n",
       "                   random_state=None, solver='warn', tol=0.0001, verbose=0,\n",
       "                   warm_start=False)"
      ]
     },
     "execution_count": 26,
     "metadata": {},
     "output_type": "execute_result"
    }
   ],
   "source": [
    "m = LogisticRegression()\n",
    "m.fit(X, y)"
   ]
  },
  {
   "cell_type": "code",
   "execution_count": 27,
   "metadata": {},
   "outputs": [
    {
     "data": {
      "text/html": [
       "<div>\n",
       "<style scoped>\n",
       "    .dataframe tbody tr th:only-of-type {\n",
       "        vertical-align: middle;\n",
       "    }\n",
       "\n",
       "    .dataframe tbody tr th {\n",
       "        vertical-align: top;\n",
       "    }\n",
       "\n",
       "    .dataframe thead th {\n",
       "        text-align: right;\n",
       "    }\n",
       "</style>\n",
       "<table border=\"1\" class=\"dataframe\">\n",
       "  <thead>\n",
       "    <tr style=\"text-align: right;\">\n",
       "      <th></th>\n",
       "      <th>Variable</th>\n",
       "      <th>coefficient</th>\n",
       "      <th>Label</th>\n",
       "    </tr>\n",
       "  </thead>\n",
       "  <tbody>\n",
       "    <tr>\n",
       "      <th>0</th>\n",
       "      <td>qxoverallxqualityxindicators_1</td>\n",
       "      <td>-2.260238</td>\n",
       "      <td>Q_Overall_Quality_Indicators. [Brand] is trustworthy - How much do you agree or disagree with the following about your [MODEL]?</td>\n",
       "    </tr>\n",
       "    <tr>\n",
       "      <th>1</th>\n",
       "      <td>qxoverallxqualityxindicators_2</td>\n",
       "      <td>-2.398464</td>\n",
       "      <td>Q_Overall_Quality_Indicators. When I use my [MODEL] , I feel good/positive - How much do you agree or disagree with the following about your [MODEL]?</td>\n",
       "    </tr>\n",
       "    <tr>\n",
       "      <th>2</th>\n",
       "      <td>qxoverallxqualityxindicators_3</td>\n",
       "      <td>-2.780032</td>\n",
       "      <td>Q_Overall_Quality_Indicators. My [MODEL]  meets my needs/ performs well - How much do you agree or disagree with the following about your [MODEL]?</td>\n",
       "    </tr>\n",
       "    <tr>\n",
       "      <th>3</th>\n",
       "      <td>qxoverallxqualityxindicators_4</td>\n",
       "      <td>-3.192037</td>\n",
       "      <td>Q_Overall_Quality_Indicators. My [MODEL]  is simple/easy to use - How much do you agree or disagree with the following about your [MODEL]?</td>\n",
       "    </tr>\n",
       "  </tbody>\n",
       "</table>\n",
       "</div>"
      ],
      "text/plain": [
       "                         Variable  coefficient                                                                                                                                                  Label\n",
       "0  qxoverallxqualityxindicators_1    -2.260238                        Q_Overall_Quality_Indicators. [Brand] is trustworthy - How much do you agree or disagree with the following about your [MODEL]?\n",
       "1  qxoverallxqualityxindicators_2    -2.398464  Q_Overall_Quality_Indicators. When I use my [MODEL] , I feel good/positive - How much do you agree or disagree with the following about your [MODEL]?\n",
       "2  qxoverallxqualityxindicators_3    -2.780032     Q_Overall_Quality_Indicators. My [MODEL]  meets my needs/ performs well - How much do you agree or disagree with the following about your [MODEL]?\n",
       "3  qxoverallxqualityxindicators_4    -3.192037             Q_Overall_Quality_Indicators. My [MODEL]  is simple/easy to use - How much do you agree or disagree with the following about your [MODEL]?"
      ]
     },
     "execution_count": 27,
     "metadata": {},
     "output_type": "execute_result"
    }
   ],
   "source": [
    "# The estimated coefficients will all be around 1:\n",
    "coefs = pd.DataFrame(list(zip(X.columns, m.coef_[0])))\n",
    "coefs.columns = ['Variable', 'coefficient']\n",
    "coefs = coefs.sort_values(['coefficient'], ascending=False)\n",
    "coefs = coefs.merge(df_varmap[['Variable', 'Label']], on='Variable', how='left')\n",
    "coefs.head(20)"
   ]
  },
  {
   "cell_type": "code",
   "execution_count": 28,
   "metadata": {},
   "outputs": [
    {
     "data": {
      "text/html": [
       "<div>\n",
       "<style scoped>\n",
       "    .dataframe tbody tr th:only-of-type {\n",
       "        vertical-align: middle;\n",
       "    }\n",
       "\n",
       "    .dataframe tbody tr th {\n",
       "        vertical-align: top;\n",
       "    }\n",
       "\n",
       "    .dataframe thead th {\n",
       "        text-align: right;\n",
       "    }\n",
       "</style>\n",
       "<table border=\"1\" class=\"dataframe\">\n",
       "  <thead>\n",
       "    <tr style=\"text-align: right;\">\n",
       "      <th></th>\n",
       "      <th>Variable</th>\n",
       "      <th>Metric</th>\n",
       "      <th>pred</th>\n",
       "      <th>value</th>\n",
       "    </tr>\n",
       "  </thead>\n",
       "  <tbody>\n",
       "    <tr>\n",
       "      <th>0</th>\n",
       "      <td>qxoverallxqualityxindicators_1</td>\n",
       "      <td>count</td>\n",
       "      <td>0</td>\n",
       "      <td>1497.000000</td>\n",
       "    </tr>\n",
       "    <tr>\n",
       "      <th>1</th>\n",
       "      <td>qxoverallxqualityxindicators_1</td>\n",
       "      <td>count</td>\n",
       "      <td>1</td>\n",
       "      <td>1302.000000</td>\n",
       "    </tr>\n",
       "    <tr>\n",
       "      <th>2</th>\n",
       "      <td>qxoverallxqualityxindicators_1</td>\n",
       "      <td>count</td>\n",
       "      <td>2</td>\n",
       "      <td>455.000000</td>\n",
       "    </tr>\n",
       "    <tr>\n",
       "      <th>3</th>\n",
       "      <td>qxoverallxqualityxindicators_1</td>\n",
       "      <td>mean</td>\n",
       "      <td>0</td>\n",
       "      <td>0.672225</td>\n",
       "    </tr>\n",
       "    <tr>\n",
       "      <th>4</th>\n",
       "      <td>qxoverallxqualityxindicators_1</td>\n",
       "      <td>mean</td>\n",
       "      <td>1</td>\n",
       "      <td>-0.316308</td>\n",
       "    </tr>\n",
       "  </tbody>\n",
       "</table>\n",
       "</div>"
      ],
      "text/plain": [
       "                         Variable Metric  pred        value\n",
       "0  qxoverallxqualityxindicators_1  count     0  1497.000000\n",
       "1  qxoverallxqualityxindicators_1  count     1  1302.000000\n",
       "2  qxoverallxqualityxindicators_1  count     2   455.000000\n",
       "3  qxoverallxqualityxindicators_1   mean     0     0.672225\n",
       "4  qxoverallxqualityxindicators_1   mean     1    -0.316308"
      ]
     },
     "execution_count": 28,
     "metadata": {},
     "output_type": "execute_result"
    }
   ],
   "source": [
    "desc_df = df_data_sub_std.groupby('pred').describe()\n",
    "desc_df = desc_df.unstack().reset_index()\n",
    "desc_df.columns = ['Variable','Metric','pred','value']\n",
    "desc_df.head()"
   ]
  },
  {
   "cell_type": "markdown",
   "metadata": {},
   "source": [
    "## RFE"
   ]
  },
  {
   "cell_type": "code",
   "execution_count": 29,
   "metadata": {},
   "outputs": [
    {
     "name": "stderr",
     "output_type": "stream",
     "text": [
      "/usr/local/lib/python3.7/site-packages/sklearn/linear_model/logistic.py:432: FutureWarning: Default solver will be changed to 'lbfgs' in 0.22. Specify a solver to silence this warning.\n",
      "  FutureWarning)\n",
      "/usr/local/lib/python3.7/site-packages/sklearn/linear_model/logistic.py:432: FutureWarning: Default solver will be changed to 'lbfgs' in 0.22. Specify a solver to silence this warning.\n",
      "  FutureWarning)\n",
      "/usr/local/lib/python3.7/site-packages/sklearn/linear_model/logistic.py:432: FutureWarning: Default solver will be changed to 'lbfgs' in 0.22. Specify a solver to silence this warning.\n",
      "  FutureWarning)\n"
     ]
    }
   ],
   "source": [
    "# Identifying top 2 variables our of 4\n",
    "model = LogisticRegression()\n",
    "rfe_model = RFE(model, 2)\n",
    "rfe_fit = rfe_model.fit(X, y)"
   ]
  },
  {
   "cell_type": "code",
   "execution_count": 30,
   "metadata": {},
   "outputs": [
    {
     "name": "stdout",
     "output_type": "stream",
     "text": [
      "qxoverallxqualityxindicators_2\n",
      "qxoverallxqualityxindicators_4\n"
     ]
    }
   ],
   "source": [
    "# Print the names of the most important features\n",
    "for feature_list_index in rfe_fit.get_support(indices=True):\n",
    "    print(df_data_sub_std.columns[feature_list_index])"
   ]
  },
  {
   "cell_type": "markdown",
   "metadata": {},
   "source": [
    "## Random Forest"
   ]
  },
  {
   "cell_type": "code",
   "execution_count": 31,
   "metadata": {},
   "outputs": [
    {
     "name": "stderr",
     "output_type": "stream",
     "text": [
      "/usr/local/lib/python3.7/site-packages/sklearn/ensemble/forest.py:245: FutureWarning: The default value of n_estimators will change from 10 in version 0.20 to 100 in 0.22.\n",
      "  \"10 in version 0.20 to 100 in 0.22.\", FutureWarning)\n"
     ]
    },
    {
     "name": "stdout",
     "output_type": "stream",
     "text": [
      "('qxoverallxqualityxindicators_1', 0.13499002934806711)\n",
      "('qxoverallxqualityxindicators_2', 0.1860570104007332)\n",
      "('qxoverallxqualityxindicators_3', 0.25655669191700387)\n",
      "('qxoverallxqualityxindicators_4', 0.4223962683341959)\n"
     ]
    }
   ],
   "source": [
    "# Create a random forest classifier\n",
    "rfc = RandomForestClassifier(random_state = 0, n_jobs = -1)\n",
    " \n",
    "# Fitting the classifier\n",
    "rfc.fit(X, y)\n",
    " \n",
    "# Printing the name of each feature along with the gini value\n",
    "for feature in zip(df_data_sub_std.columns, rfc.feature_importances_):\n",
    "    print(feature)"
   ]
  },
  {
   "cell_type": "code",
   "execution_count": 32,
   "metadata": {},
   "outputs": [
    {
     "name": "stdout",
     "output_type": "stream",
     "text": [
      "qxoverallxqualityxindicators_2\n",
      "qxoverallxqualityxindicators_3\n",
      "qxoverallxqualityxindicators_4\n"
     ]
    }
   ],
   "source": [
    "# Finally selecting the most important features\n",
    "sfm = SelectFromModel(rfc, threshold=0.15)\n",
    "sfm.fit(X, y)\n",
    " \n",
    "# Printing the names of the most important features\n",
    "for feature_list_index in sfm.get_support(indices=True):\n",
    "    print(df_data_sub_std.columns[feature_list_index])"
   ]
  },
  {
   "cell_type": "markdown",
   "metadata": {},
   "source": [
    "## Extra Trees"
   ]
  },
  {
   "cell_type": "code",
   "execution_count": 33,
   "metadata": {},
   "outputs": [
    {
     "name": "stderr",
     "output_type": "stream",
     "text": [
      "/usr/local/lib/python3.7/site-packages/sklearn/ensemble/forest.py:245: FutureWarning: The default value of n_estimators will change from 10 in version 0.20 to 100 in 0.22.\n",
      "  \"10 in version 0.20 to 100 in 0.22.\", FutureWarning)\n"
     ]
    },
    {
     "data": {
      "text/plain": [
       "SelectFromModel(estimator=ExtraTreesClassifier(bootstrap=False,\n",
       "                                               class_weight=None,\n",
       "                                               criterion='gini', max_depth=None,\n",
       "                                               max_features='auto',\n",
       "                                               max_leaf_nodes=None,\n",
       "                                               min_impurity_decrease=0.0,\n",
       "                                               min_impurity_split=None,\n",
       "                                               min_samples_leaf=1,\n",
       "                                               min_samples_split=2,\n",
       "                                               min_weight_fraction_leaf=0.0,\n",
       "                                               n_estimators=10, n_jobs=None,\n",
       "                                               oob_score=False,\n",
       "                                               random_state=None, verbose=0,\n",
       "                                               warm_start=False),\n",
       "                max_features=None, norm_order=1, prefit=False, threshold=0.15)"
      ]
     },
     "execution_count": 33,
     "metadata": {},
     "output_type": "execute_result"
    }
   ],
   "source": [
    "from sklearn.ensemble import ExtraTreesClassifier\n",
    " \n",
    "# fit an Extra Trees model to the data\n",
    "etc = ExtraTreesClassifier()\n",
    "etc.fit(X, y)\n",
    " \n",
    "# Finally selecting the most important features\n",
    "sfm = SelectFromModel(etc, threshold=0.15)\n",
    "sfm.fit(X, y)\n"
   ]
  },
  {
   "cell_type": "code",
   "execution_count": 34,
   "metadata": {},
   "outputs": [
    {
     "data": {
      "text/html": [
       "<div>\n",
       "<style scoped>\n",
       "    .dataframe tbody tr th:only-of-type {\n",
       "        vertical-align: middle;\n",
       "    }\n",
       "\n",
       "    .dataframe tbody tr th {\n",
       "        vertical-align: top;\n",
       "    }\n",
       "\n",
       "    .dataframe thead th {\n",
       "        text-align: right;\n",
       "    }\n",
       "</style>\n",
       "<table border=\"1\" class=\"dataframe\">\n",
       "  <thead>\n",
       "    <tr style=\"text-align: right;\">\n",
       "      <th></th>\n",
       "      <th>Variable</th>\n",
       "      <th>Label</th>\n",
       "      <th>imp_rank</th>\n",
       "      <th>imp</th>\n",
       "      <th>coefficient</th>\n",
       "      <th>coef_rank</th>\n",
       "    </tr>\n",
       "  </thead>\n",
       "  <tbody>\n",
       "    <tr>\n",
       "      <th>0</th>\n",
       "      <td>qxoverallxqualityxindicators_4</td>\n",
       "      <td>Q_Overall_Quality_Indicators. My [MODEL]  is simple/easy to use - How much do you agree or disagree with the following about your [MODEL]?</td>\n",
       "      <td>1.0</td>\n",
       "      <td>0.422396</td>\n",
       "      <td>-3.192037</td>\n",
       "      <td>1.0</td>\n",
       "    </tr>\n",
       "    <tr>\n",
       "      <th>1</th>\n",
       "      <td>qxoverallxqualityxindicators_3</td>\n",
       "      <td>Q_Overall_Quality_Indicators. My [MODEL]  meets my needs/ performs well - How much do you agree or disagree with the following about your [MODEL]?</td>\n",
       "      <td>2.0</td>\n",
       "      <td>0.256557</td>\n",
       "      <td>-2.780032</td>\n",
       "      <td>2.0</td>\n",
       "    </tr>\n",
       "    <tr>\n",
       "      <th>2</th>\n",
       "      <td>qxoverallxqualityxindicators_2</td>\n",
       "      <td>Q_Overall_Quality_Indicators. When I use my [MODEL] , I feel good/positive - How much do you agree or disagree with the following about your [MODEL]?</td>\n",
       "      <td>3.0</td>\n",
       "      <td>0.186057</td>\n",
       "      <td>-2.398464</td>\n",
       "      <td>3.0</td>\n",
       "    </tr>\n",
       "    <tr>\n",
       "      <th>3</th>\n",
       "      <td>qxoverallxqualityxindicators_1</td>\n",
       "      <td>Q_Overall_Quality_Indicators. [Brand] is trustworthy - How much do you agree or disagree with the following about your [MODEL]?</td>\n",
       "      <td>4.0</td>\n",
       "      <td>0.134990</td>\n",
       "      <td>-2.260238</td>\n",
       "      <td>4.0</td>\n",
       "    </tr>\n",
       "  </tbody>\n",
       "</table>\n",
       "</div>"
      ],
      "text/plain": [
       "                         Variable                                                                                                                                                  Label  imp_rank       imp  coefficient  coef_rank\n",
       "0  qxoverallxqualityxindicators_4             Q_Overall_Quality_Indicators. My [MODEL]  is simple/easy to use - How much do you agree or disagree with the following about your [MODEL]?       1.0  0.422396    -3.192037        1.0\n",
       "1  qxoverallxqualityxindicators_3     Q_Overall_Quality_Indicators. My [MODEL]  meets my needs/ performs well - How much do you agree or disagree with the following about your [MODEL]?       2.0  0.256557    -2.780032        2.0\n",
       "2  qxoverallxqualityxindicators_2  Q_Overall_Quality_Indicators. When I use my [MODEL] , I feel good/positive - How much do you agree or disagree with the following about your [MODEL]?       3.0  0.186057    -2.398464        3.0\n",
       "3  qxoverallxqualityxindicators_1                        Q_Overall_Quality_Indicators. [Brand] is trustworthy - How much do you agree or disagree with the following about your [MODEL]?       4.0  0.134990    -2.260238        4.0"
      ]
     },
     "execution_count": 34,
     "metadata": {},
     "output_type": "execute_result"
    }
   ],
   "source": [
    "varimp = pd.DataFrame({'Variable':df_data_sub_std.columns.drop('pred').drop('pred_2'),\n",
    "              'imp': list(rfc.feature_importances_)}).sort_values('imp', ascending=False)\n",
    "\n",
    "varimp = varimp.merge(df_varmap[['Variable', 'Label']], \n",
    "                      on='Variable', how='left')\n",
    "\n",
    "\n",
    "varimp = varimp.merge(coefs[['Variable','coefficient']], on='Variable', how='left')\n",
    "\n",
    "varimp['imp_rank'] = varimp['imp'].rank(ascending=False)\n",
    "varimp['coef_rank'] = [abs(x) for x in varimp['coefficient']]\n",
    "varimp['coef_rank'] = varimp['coef_rank'].rank(ascending=False)\n",
    "\n",
    "varimp = varimp[['Variable','Label','imp_rank','imp','coefficient','coef_rank']]\n",
    "\n",
    "varimp[varimp.imp_rank<10].sort_values('coefficient',ascending=True)"
   ]
  },
  {
   "cell_type": "markdown",
   "metadata": {},
   "source": [
    "# Examine statistical significant differences in demographics amongst segments. "
   ]
  },
  {
   "cell_type": "code",
   "execution_count": 37,
   "metadata": {},
   "outputs": [],
   "source": [
    "df_data['pred'] = pred_y"
   ]
  },
  {
   "cell_type": "code",
   "execution_count": 38,
   "metadata": {},
   "outputs": [
    {
     "data": {
      "text/plain": [
       "['d1_1',\n",
       " 'd1_2',\n",
       " 'd1_3',\n",
       " 'd1_4',\n",
       " 'd3_1',\n",
       " 'd3_2',\n",
       " 'd3_3',\n",
       " 'd3_4',\n",
       " 'd4_X',\n",
       " 'd4_7',\n",
       " 'd6',\n",
       " 'd7_1',\n",
       " 'd7_2',\n",
       " 'd7_3',\n",
       " 'd7_4',\n",
       " 'd7_5',\n",
       " 'd7_97',\n",
       " 'd7_99',\n",
       " 'd7_97_other',\n",
       " 'hidagemodels_1',\n",
       " 'hidagemodels_2',\n",
       " 'hidagemodels_3']"
      ]
     },
     "execution_count": 38,
     "metadata": {},
     "output_type": "execute_result"
    }
   ],
   "source": [
    "# get columns not in df_data_sub_std\n",
    "att_cols = [ 'd1_1', 'd1_2', 'd1_3', 'd1_4', \n",
    "            'd3_1',\t'd3_2',\t'd3_3',\t'd3_4',\t'd4_X', 'd4_7', 'd6',\n",
    "            'd7_1',\t'd7_2',\t'd7_3',\t'd7_4',\t'd7_5',\t'd7_97',\t'd7_99',\n",
    "            'd7_97_other', 'hidagemodels_1',  'hidagemodels_2',  'hidagemodels_3', ]\n",
    "att_cols"
   ]
  },
  {
   "cell_type": "code",
   "execution_count": 41,
   "metadata": {},
   "outputs": [
    {
     "data": {
      "image/png": "[encoded data removed]",
      "text/plain": [
       "<Figure size 432x288 with 1 Axes>"
      ]
     },
     "metadata": {
      "needs_background": "light"
     },
     "output_type": "display_data"
    },
    {
     "data": {
      "image/png": "[encoded data removed]",
      "text/plain": [
       "<Figure size 432x288 with 1 Axes>"
      ]
     },
     "metadata": {
      "needs_background": "light"
     },
     "output_type": "display_data"
    },
    {
     "data": {
      "image/png": "[encoded data removed]",
      "text/plain": [
       "<Figure size 432x288 with 1 Axes>"
      ]
     },
     "metadata": {
      "needs_background": "light"
     },
     "output_type": "display_data"
    },
    {
     "data": {
      "image/png": "[encoded data removed]",
      "text/plain": [
       "<Figure size 432x288 with 1 Axes>"
      ]
     },
     "metadata": {
      "needs_background": "light"
     },
     "output_type": "display_data"
    }
   ],
   "source": [
    "with PdfPages('../data/output/Seg1_KNN3_bytotalqual_demog.pdf') as pdf:\n",
    "    plt.ioff()\n",
    "    for col in att_cols:\n",
    "        if pd.api.types.is_numeric_dtype(df_data[col]):\n",
    "            plt.figure()\n",
    "            fig=df_data.groupby('pred')[col].plot(kind='kde', title=col, legend=True)[0].get_figure()\n",
    "            pdf.savefig(fig)\n"
   ]
  },
  {
   "cell_type": "code",
   "execution_count": 42,
   "metadata": {},
   "outputs": [],
   "source": [
    "# Testing whether the populations have statistically sig diff in means (assuming N distr)\n",
    "# For two independent samples w/ potentially !=  variance, use Welch's t-test\n",
    "\n",
    "# scipy.stats.ttest_ind(cat1['values'], cat2['values'], equal_var=False)\n",
    "\n",
    "t_test_results = {}\n",
    "for col in att_cols:\n",
    "    if pd.api.types.is_numeric_dtype(df_data[col]):\n",
    "        g0 = df_data.where(df_data.pred==0).dropna()[col]\n",
    "        g1 = df_data.where(df_data.pred==1).dropna()[col]\n",
    "        g2 = df_data.where(df_data.pred==2).dropna()[col]\n",
    "        \n",
    "        t_test_results[col+\"_01\"] = scipy.stats.ttest_ind(g0,g1, equal_var=False)\n",
    "        t_test_results[col+\"_02\"] = scipy.stats.ttest_ind(g0,g2, equal_var=False)\n",
    "        t_test_results[col+\"_12\"] = scipy.stats.ttest_ind(g1,g2, equal_var=False)"
   ]
  },
  {
   "cell_type": "code",
   "execution_count": 43,
   "metadata": {},
   "outputs": [],
   "source": [
    "results_df = pd.DataFrame.from_dict(t_test_results,orient='Index')\n",
    "results_df.columns = ['statistic','pvalue']\n",
    "results_df = results_df.sort_values('pvalue', ascending=True)"
   ]
  },
  {
   "cell_type": "code",
   "execution_count": 44,
   "metadata": {},
   "outputs": [
    {
     "data": {
      "text/html": [
       "<div>\n",
       "<style scoped>\n",
       "    .dataframe tbody tr th:only-of-type {\n",
       "        vertical-align: middle;\n",
       "    }\n",
       "\n",
       "    .dataframe tbody tr th {\n",
       "        vertical-align: top;\n",
       "    }\n",
       "\n",
       "    .dataframe thead th {\n",
       "        text-align: right;\n",
       "    }\n",
       "</style>\n",
       "<table border=\"1\" class=\"dataframe\">\n",
       "  <thead>\n",
       "    <tr style=\"text-align: right;\">\n",
       "      <th></th>\n",
       "      <th>statistic</th>\n",
       "      <th>pvalue</th>\n",
       "    </tr>\n",
       "  </thead>\n",
       "  <tbody>\n",
       "    <tr>\n",
       "      <th>d3_1_02</th>\n",
       "      <td>-5.426042</td>\n",
       "      <td>8.214203e-08</td>\n",
       "    </tr>\n",
       "    <tr>\n",
       "      <th>d3_4_02</th>\n",
       "      <td>3.719734</td>\n",
       "      <td>2.118732e-04</td>\n",
       "    </tr>\n",
       "    <tr>\n",
       "      <th>d3_1_01</th>\n",
       "      <td>-3.496404</td>\n",
       "      <td>4.794346e-04</td>\n",
       "    </tr>\n",
       "    <tr>\n",
       "      <th>d3_1_12</th>\n",
       "      <td>-3.103481</td>\n",
       "      <td>1.988061e-03</td>\n",
       "    </tr>\n",
       "    <tr>\n",
       "      <th>d3_2_02</th>\n",
       "      <td>2.790992</td>\n",
       "      <td>5.396949e-03</td>\n",
       "    </tr>\n",
       "    <tr>\n",
       "      <th>d3_4_01</th>\n",
       "      <td>2.420235</td>\n",
       "      <td>1.557455e-02</td>\n",
       "    </tr>\n",
       "    <tr>\n",
       "      <th>d3_2_12</th>\n",
       "      <td>1.916524</td>\n",
       "      <td>5.567646e-02</td>\n",
       "    </tr>\n",
       "    <tr>\n",
       "      <th>d3_4_12</th>\n",
       "      <td>1.833136</td>\n",
       "      <td>6.712534e-02</td>\n",
       "    </tr>\n",
       "    <tr>\n",
       "      <th>d3_3_01</th>\n",
       "      <td>1.821854</td>\n",
       "      <td>6.858667e-02</td>\n",
       "    </tr>\n",
       "    <tr>\n",
       "      <th>d3_2_01</th>\n",
       "      <td>1.222027</td>\n",
       "      <td>2.218040e-01</td>\n",
       "    </tr>\n",
       "  </tbody>\n",
       "</table>\n",
       "</div>"
      ],
      "text/plain": [
       "         statistic        pvalue\n",
       "d3_1_02  -5.426042  8.214203e-08\n",
       "d3_4_02   3.719734  2.118732e-04\n",
       "d3_1_01  -3.496404  4.794346e-04\n",
       "d3_1_12  -3.103481  1.988061e-03\n",
       "d3_2_02   2.790992  5.396949e-03\n",
       "d3_4_01   2.420235  1.557455e-02\n",
       "d3_2_12   1.916524  5.567646e-02\n",
       "d3_4_12   1.833136  6.712534e-02\n",
       "d3_3_01   1.821854  6.858667e-02\n",
       "d3_2_01   1.222027  2.218040e-01"
      ]
     },
     "execution_count": 44,
     "metadata": {},
     "output_type": "execute_result"
    }
   ],
   "source": [
    "results_df.head(10)"
   ]
  },
  {
   "cell_type": "code",
   "execution_count": 45,
   "metadata": {},
   "outputs": [
    {
     "data": {
      "text/html": [
       "<div>\n",
       "<style scoped>\n",
       "    .dataframe tbody tr th:only-of-type {\n",
       "        vertical-align: middle;\n",
       "    }\n",
       "\n",
       "    .dataframe tbody tr th {\n",
       "        vertical-align: top;\n",
       "    }\n",
       "\n",
       "    .dataframe thead th {\n",
       "        text-align: right;\n",
       "    }\n",
       "</style>\n",
       "<table border=\"1\" class=\"dataframe\">\n",
       "  <thead>\n",
       "    <tr style=\"text-align: right;\">\n",
       "      <th></th>\n",
       "      <th>statistic</th>\n",
       "      <th>pvalue</th>\n",
       "      <th>Variable_Grp</th>\n",
       "      <th>Variable</th>\n",
       "      <th>Label</th>\n",
       "    </tr>\n",
       "  </thead>\n",
       "  <tbody>\n",
       "    <tr>\n",
       "      <th>0</th>\n",
       "      <td>-5.426042</td>\n",
       "      <td>8.214203e-08</td>\n",
       "      <td>d3_1_02</td>\n",
       "      <td>d3_1</td>\n",
       "      <td>D3. Student (part-or full-time) - Which of the following best describes your current employment status?</td>\n",
       "    </tr>\n",
       "    <tr>\n",
       "      <th>1</th>\n",
       "      <td>3.719734</td>\n",
       "      <td>2.118732e-04</td>\n",
       "      <td>d3_4_02</td>\n",
       "      <td>d3_4</td>\n",
       "      <td>D3. Not currently employed or in school  - Which of the following best describes your current employment status?</td>\n",
       "    </tr>\n",
       "    <tr>\n",
       "      <th>2</th>\n",
       "      <td>-3.496404</td>\n",
       "      <td>4.794346e-04</td>\n",
       "      <td>d3_1_01</td>\n",
       "      <td>d3_1</td>\n",
       "      <td>D3. Student (part-or full-time) - Which of the following best describes your current employment status?</td>\n",
       "    </tr>\n",
       "    <tr>\n",
       "      <th>3</th>\n",
       "      <td>-3.103481</td>\n",
       "      <td>1.988061e-03</td>\n",
       "      <td>d3_1_12</td>\n",
       "      <td>d3_1</td>\n",
       "      <td>D3. Student (part-or full-time) - Which of the following best describes your current employment status?</td>\n",
       "    </tr>\n",
       "    <tr>\n",
       "      <th>4</th>\n",
       "      <td>2.790992</td>\n",
       "      <td>5.396949e-03</td>\n",
       "      <td>d3_2_02</td>\n",
       "      <td>d3_2</td>\n",
       "      <td>D3. Employed - Which of the following best describes your current employment status?</td>\n",
       "    </tr>\n",
       "  </tbody>\n",
       "</table>\n",
       "</div>"
      ],
      "text/plain": [
       "   statistic        pvalue Variable_Grp Variable                                                                                                             Label\n",
       "0  -5.426042  8.214203e-08      d3_1_02     d3_1           D3. Student (part-or full-time) - Which of the following best describes your current employment status?\n",
       "1   3.719734  2.118732e-04      d3_4_02     d3_4  D3. Not currently employed or in school  - Which of the following best describes your current employment status?\n",
       "2  -3.496404  4.794346e-04      d3_1_01     d3_1           D3. Student (part-or full-time) - Which of the following best describes your current employment status?\n",
       "3  -3.103481  1.988061e-03      d3_1_12     d3_1           D3. Student (part-or full-time) - Which of the following best describes your current employment status?\n",
       "4   2.790992  5.396949e-03      d3_2_02     d3_2                              D3. Employed - Which of the following best describes your current employment status?"
      ]
     },
     "execution_count": 45,
     "metadata": {},
     "output_type": "execute_result"
    }
   ],
   "source": [
    "results_df['Variable_Grp'] = results_df.index\n",
    "results_df['Variable'] = results_df.Variable_Grp.replace(\"_01|_02|_12\",\"\", regex=True)\n",
    "results_df_p01 = results_df[results_df.pvalue<=.01].merge(df_varmap[['Variable', 'Label']], \n",
    "                                         on='Variable', how='left')\n",
    "results_df_p01"
   ]
  },
  {
   "cell_type": "markdown",
   "metadata": {},
   "source": []
  },
  {
   "cell_type": "code",
   "execution_count": 48,
   "metadata": {},
   "outputs": [
    {
     "data": {
      "text/html": [
       "<div>\n",
       "<style scoped>\n",
       "    .dataframe tbody tr th:only-of-type {\n",
       "        vertical-align: middle;\n",
       "    }\n",
       "\n",
       "    .dataframe tbody tr th {\n",
       "        vertical-align: top;\n",
       "    }\n",
       "\n",
       "    .dataframe thead th {\n",
       "        text-align: right;\n",
       "    }\n",
       "</style>\n",
       "<table border=\"1\" class=\"dataframe\">\n",
       "  <thead>\n",
       "    <tr style=\"text-align: right;\">\n",
       "      <th></th>\n",
       "      <th>statistic</th>\n",
       "      <th>pvalue</th>\n",
       "      <th>Variable_Grp</th>\n",
       "      <th>Variable</th>\n",
       "      <th>Label</th>\n",
       "      <th>pvalue_1t</th>\n",
       "    </tr>\n",
       "  </thead>\n",
       "  <tbody>\n",
       "    <tr>\n",
       "      <th>0</th>\n",
       "      <td>-5.426042</td>\n",
       "      <td>8.214203e-08</td>\n",
       "      <td>d3_1_02</td>\n",
       "      <td>d3_1</td>\n",
       "      <td>D3. Student (part-or full-time) - Which of the following best describes your current employment status?</td>\n",
       "      <td>4.107102e-08</td>\n",
       "    </tr>\n",
       "    <tr>\n",
       "      <th>1</th>\n",
       "      <td>3.719734</td>\n",
       "      <td>2.118732e-04</td>\n",
       "      <td>d3_4_02</td>\n",
       "      <td>d3_4</td>\n",
       "      <td>D3. Not currently employed or in school  - Which of the following best describes your current employment status?</td>\n",
       "      <td>1.059366e-04</td>\n",
       "    </tr>\n",
       "    <tr>\n",
       "      <th>2</th>\n",
       "      <td>-3.496404</td>\n",
       "      <td>4.794346e-04</td>\n",
       "      <td>d3_1_01</td>\n",
       "      <td>d3_1</td>\n",
       "      <td>D3. Student (part-or full-time) - Which of the following best describes your current employment status?</td>\n",
       "      <td>2.397173e-04</td>\n",
       "    </tr>\n",
       "    <tr>\n",
       "      <th>3</th>\n",
       "      <td>-3.103481</td>\n",
       "      <td>1.988061e-03</td>\n",
       "      <td>d3_1_12</td>\n",
       "      <td>d3_1</td>\n",
       "      <td>D3. Student (part-or full-time) - Which of the following best describes your current employment status?</td>\n",
       "      <td>9.940305e-04</td>\n",
       "    </tr>\n",
       "    <tr>\n",
       "      <th>4</th>\n",
       "      <td>2.790992</td>\n",
       "      <td>5.396949e-03</td>\n",
       "      <td>d3_2_02</td>\n",
       "      <td>d3_2</td>\n",
       "      <td>D3. Employed - Which of the following best describes your current employment status?</td>\n",
       "      <td>2.698474e-03</td>\n",
       "    </tr>\n",
       "  </tbody>\n",
       "</table>\n",
       "</div>"
      ],
      "text/plain": [
       "   statistic        pvalue Variable_Grp Variable                                                                                                             Label     pvalue_1t\n",
       "0  -5.426042  8.214203e-08      d3_1_02     d3_1           D3. Student (part-or full-time) - Which of the following best describes your current employment status?  4.107102e-08\n",
       "1   3.719734  2.118732e-04      d3_4_02     d3_4  D3. Not currently employed or in school  - Which of the following best describes your current employment status?  1.059366e-04\n",
       "2  -3.496404  4.794346e-04      d3_1_01     d3_1           D3. Student (part-or full-time) - Which of the following best describes your current employment status?  2.397173e-04\n",
       "3  -3.103481  1.988061e-03      d3_1_12     d3_1           D3. Student (part-or full-time) - Which of the following best describes your current employment status?  9.940305e-04\n",
       "4   2.790992  5.396949e-03      d3_2_02     d3_2                              D3. Employed - Which of the following best describes your current employment status?  2.698474e-03"
      ]
     },
     "execution_count": 48,
     "metadata": {},
     "output_type": "execute_result"
    }
   ],
   "source": [
    "# for our null Hypothesis: P1>=P2 (one tailed test) , use pvalue/2\n",
    "results_df_p01['pvalue_1t'] = results_df_p01['pvalue']/2\n",
    "results_df_p01\n",
    "# reject if p/2 < alpha (.01)"
   ]
  },
  {
   "cell_type": "code",
   "execution_count": 49,
   "metadata": {},
   "outputs": [],
   "source": [
    "results_df_p01.to_csv('../data/output/Seg1_KNN3_bytotalqual_demog_statsig.csv', index=False)"
   ]
  },
  {
   "cell_type": "markdown",
   "metadata": {},
   "source": [
    "### In summary,"
   ]
  },
  {
   "cell_type": "markdown",
   "metadata": {},
   "source": [
    "If a user is a student, they unlikely to be in cluster 0 and are mor elikley to be in cluster 2 than cluster 1. If they are not currently employed or in school, they are more likely to be in cluster 2 than cluster 0. If they are mployed, ther are more likley to be in cluster 2 han cluster 0."
   ]
  },
  {
   "cell_type": "code",
   "execution_count": null,
   "metadata": {},
   "outputs": [],
   "source": []
  }
 ],
 "metadata": {
  "kernelspec": {
   "display_name": "Python 3",
   "language": "python",
   "name": "python3"
  },
  "language_info": {
   "codemirror_mode": {
    "name": "ipython",
    "version": 3
   },
   "file_extension": ".py",
   "mimetype": "text/x-python",
   "name": "python",
   "nbconvert_exporter": "python",
   "pygments_lexer": "ipython3",
   "version": "3.7.3"
  }
 },
 "nbformat": 4,
 "nbformat_minor": 2
}
